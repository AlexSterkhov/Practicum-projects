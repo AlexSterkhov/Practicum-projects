{
 "cells": [
  {
   "cell_type": "markdown",
   "metadata": {},
   "source": [
    "# Защита персональных данных клиентов"
   ]
  },
  {
   "cell_type": "markdown",
   "metadata": {},
   "source": [
    "Вам нужно защитить данные клиентов страховой компании «Хоть потоп». Разработайте такой метод преобразования данных, чтобы по ним было сложно восстановить персональную информацию. Обоснуйте корректность его работы.\n",
    "\n",
    "Нужно защитить данные, чтобы при преобразовании качество моделей машинного обучения не ухудшилось. Подбирать наилучшую модель не требуется."
   ]
  },
  {
   "cell_type": "markdown",
   "metadata": {
    "toc": true
   },
   "source": [
    "<h1>Содержание<span class=\"tocSkip\"></span></h1>\n",
    "<div class=\"toc\"><ul class=\"toc-item\"><li><span><a href=\"#Загрузка-данных\" data-toc-modified-id=\"Загрузка-данных-1\"><span class=\"toc-item-num\">1&nbsp;&nbsp;</span>Загрузка данных</a></span></li><li><span><a href=\"#Умножение-матриц\" data-toc-modified-id=\"Умножение-матриц-2\"><span class=\"toc-item-num\">2&nbsp;&nbsp;</span>Умножение матриц</a></span></li><li><span><a href=\"#Алгоритм-преобразования\" data-toc-modified-id=\"Алгоритм-преобразования-3\"><span class=\"toc-item-num\">3&nbsp;&nbsp;</span>Алгоритм преобразования</a></span></li><li><span><a href=\"#Проверка-алгоритма\" data-toc-modified-id=\"Проверка-алгоритма-4\"><span class=\"toc-item-num\">4&nbsp;&nbsp;</span>Проверка алгоритма</a></span><ul class=\"toc-item\"><li><span><a href=\"#Вывод:\" data-toc-modified-id=\"Вывод:-4.1\"><span class=\"toc-item-num\">4.1&nbsp;&nbsp;</span>Вывод:</a></span></li></ul></li></ul></div>"
   ]
  },
  {
   "cell_type": "markdown",
   "metadata": {},
   "source": [
    "## Загрузка данных"
   ]
  },
  {
   "cell_type": "code",
   "execution_count": 1,
   "metadata": {},
   "outputs": [
    {
     "data": {
      "text/html": [
       "<div>\n",
       "<style scoped>\n",
       "    .dataframe tbody tr th:only-of-type {\n",
       "        vertical-align: middle;\n",
       "    }\n",
       "\n",
       "    .dataframe tbody tr th {\n",
       "        vertical-align: top;\n",
       "    }\n",
       "\n",
       "    .dataframe thead th {\n",
       "        text-align: right;\n",
       "    }\n",
       "</style>\n",
       "<table border=\"1\" class=\"dataframe\">\n",
       "  <thead>\n",
       "    <tr style=\"text-align: right;\">\n",
       "      <th></th>\n",
       "      <th>Пол</th>\n",
       "      <th>Возраст</th>\n",
       "      <th>Зарплата</th>\n",
       "      <th>Члены семьи</th>\n",
       "      <th>Страховые выплаты</th>\n",
       "    </tr>\n",
       "  </thead>\n",
       "  <tbody>\n",
       "    <tr>\n",
       "      <th>0</th>\n",
       "      <td>1</td>\n",
       "      <td>41.0</td>\n",
       "      <td>49600.0</td>\n",
       "      <td>1</td>\n",
       "      <td>0</td>\n",
       "    </tr>\n",
       "    <tr>\n",
       "      <th>1</th>\n",
       "      <td>0</td>\n",
       "      <td>46.0</td>\n",
       "      <td>38000.0</td>\n",
       "      <td>1</td>\n",
       "      <td>1</td>\n",
       "    </tr>\n",
       "    <tr>\n",
       "      <th>2</th>\n",
       "      <td>0</td>\n",
       "      <td>29.0</td>\n",
       "      <td>21000.0</td>\n",
       "      <td>0</td>\n",
       "      <td>0</td>\n",
       "    </tr>\n",
       "    <tr>\n",
       "      <th>3</th>\n",
       "      <td>0</td>\n",
       "      <td>21.0</td>\n",
       "      <td>41700.0</td>\n",
       "      <td>2</td>\n",
       "      <td>0</td>\n",
       "    </tr>\n",
       "    <tr>\n",
       "      <th>4</th>\n",
       "      <td>1</td>\n",
       "      <td>28.0</td>\n",
       "      <td>26100.0</td>\n",
       "      <td>0</td>\n",
       "      <td>0</td>\n",
       "    </tr>\n",
       "  </tbody>\n",
       "</table>\n",
       "</div>"
      ],
      "text/plain": [
       "   Пол  Возраст  Зарплата  Члены семьи  Страховые выплаты\n",
       "0    1     41.0   49600.0            1                  0\n",
       "1    0     46.0   38000.0            1                  1\n",
       "2    0     29.0   21000.0            0                  0\n",
       "3    0     21.0   41700.0            2                  0\n",
       "4    1     28.0   26100.0            0                  0"
      ]
     },
     "execution_count": 1,
     "metadata": {},
     "output_type": "execute_result"
    }
   ],
   "source": [
    "import pandas as pd\n",
    "import numpy as np\n",
    "from sklearn.linear_model import LinearRegression\n",
    "from sklearn.metrics import r2_score\n",
    "\n",
    "\n",
    "df = pd.read_csv('/Users/alex/Desktop/питон/тетрадки jupiter notebook/Проект по линейной алгебре/insurance.csv')\n",
    "df.head()"
   ]
  },
  {
   "cell_type": "markdown",
   "metadata": {},
   "source": [
    "## Умножение матриц"
   ]
  },
  {
   "cell_type": "markdown",
   "metadata": {},
   "source": [
    "Формула предсказания модели:\n",
    "\n",
    "$$\n",
    "a = Xw\n",
    "$$\n",
    "\n",
    "Формула для нахождения вектора весов:\n",
    "$$\n",
    "w = (X^T X)^{-1} X^T y\n",
    "$$\n"
   ]
  },
  {
   "cell_type": "markdown",
   "metadata": {},
   "source": [
    "Обозначения:\n",
    "\n",
    "- $X$ — матрица признаков (нулевой столбец состоит из единиц)\n",
    "\n",
    "- $R$ - рандомная обратимая матрица\n",
    "\n",
    "- $y$ — вектор целевого признака\n",
    "\n",
    "- $P$ — обратимая квадратная матрица, на которую умножаются признаки\n",
    "\n",
    "- $w$ — вектор весов линейной регрессии (нулевой элемент равен сдвигу)"
   ]
  },
  {
   "cell_type": "markdown",
   "metadata": {},
   "source": [
    "Предсказания модели домноженные на обратимую матрицу:\n",
    "$${a}' = XR{w}'$$\n",
    "\n",
    "Вектор весов домноженный на обратимую матрицу:\n",
    "$$\n",
    "{w}' = ((XR)^T (XR))^{-1} (XR)^T y = $$\n",
    "\n",
    "$$(R^TX^TXR)^{-1} R^TX^T y = $$\n",
    "\n",
    "$$R^{-1}(X^TX)^{-1}(R^T)^{-1} R^TX^T y =$$\n",
    "\n",
    "(R^T)^{-1} и R^T сокращаются,так как являются обратными друг другу\n",
    "\n",
    "$$R^{-1}(X^TX)^{-1} X^T y$$\n",
    "\n",
    "*Подставляем полученный вектор весов в формулу предсказания модели помноженную на обратимую матрицу:*\n",
    "\n",
    "$${a}' = XR{w}'= $$\n",
    "\n",
    "$$XRR^{-1}(X^TX)^{-1} X^T y = $$\n",
    "\n",
    "$$X(X^TX)^{-1} X^T y$$\n",
    "\n",
    "Итого: \n",
    "\n",
    "$$a = {a}'$$\n"
   ]
  },
  {
   "cell_type": "markdown",
   "metadata": {},
   "source": [
    "**Ответ:** Результаты преобразований показали, что качество предсказания модели после умножения на обратимую матрицу не изменится."
   ]
  },
  {
   "cell_type": "markdown",
   "metadata": {},
   "source": [
    "## Алгоритм преобразования"
   ]
  },
  {
   "cell_type": "markdown",
   "metadata": {},
   "source": [
    "**Алгоритм такой**\n",
    "\n",
    "- 1. Обучаем модель на исходном датасете\n",
    "- 2. Предсказываем таргет на обучающих данных\n",
    "- 3. Снимем метрику R2\n",
    "- 4. Сгенерируем обратимую(определитель не равен нулю) матрицу при помощи np.random.sample() и проверим её на обратимость при помощи np.linalg.inv()\n",
    "- 5. Умножим фичи на рандомную обратимую матрицу \n",
    "- 6. Снова предскажем таргет и снимем метрику\n",
    "- 7. Сравниваем метрики и делаем выводы относительно нашей гипотезы\n"
   ]
  },
  {
   "cell_type": "markdown",
   "metadata": {},
   "source": [
    "## Проверка алгоритма"
   ]
  },
  {
   "cell_type": "code",
   "execution_count": 2,
   "metadata": {},
   "outputs": [
    {
     "name": "stdout",
     "output_type": "stream",
     "text": [
      "   Пол  Возраст  Зарплата  Члены семьи\n",
      "0    1     41.0   49600.0            1\n",
      "1    0     46.0   38000.0            1\n",
      "2    0     29.0   21000.0            0\n",
      "3    0     21.0   41700.0            2\n",
      "4    1     28.0   26100.0            0\n",
      "0    0\n",
      "1    1\n",
      "2    0\n",
      "3    0\n",
      "4    0\n",
      "Name: Страховые выплаты, dtype: int64\n"
     ]
    }
   ],
   "source": [
    "#Запишем фичи и таргет для сравнения в виде таблиц в переменные и выведем\n",
    "features = df.drop(['Страховые выплаты'], axis=1)\n",
    "target = df['Страховые выплаты']\n",
    "print(features.head())\n",
    "print(target.head())"
   ]
  },
  {
   "cell_type": "code",
   "execution_count": 3,
   "metadata": {},
   "outputs": [
    {
     "name": "stdout",
     "output_type": "stream",
     "text": [
      "[[1.00e+00 4.10e+01 4.96e+04 1.00e+00]\n",
      " [0.00e+00 4.60e+01 3.80e+04 1.00e+00]\n",
      " [0.00e+00 2.90e+01 2.10e+04 0.00e+00]\n",
      " ...\n",
      " [0.00e+00 2.80e+01 5.13e+04 1.00e+00]\n",
      " [0.00e+00 3.20e+01 3.25e+04 1.00e+00]\n",
      " [1.00e+00 2.80e+01 4.09e+04 1.00e+00]]\n",
      "[0 1 0 ... 0 0 0]\n"
     ]
    }
   ],
   "source": [
    "#Запишем фичи и таргет в виде массивов в переменные и выведем для ознакомления\n",
    "features_X = np.array(df.drop(['Страховые выплаты'], axis=1))\n",
    "target_y = np.array(df['Страховые выплаты'])\n",
    "print(features_X[:-10])\n",
    "print(target_y[:-10])"
   ]
  },
  {
   "cell_type": "markdown",
   "metadata": {},
   "source": [
    "- **В виде массивов опознать данные уже непросто, пеперь посмотрим как данные будут выглядеть после умножения на обратимую матрицу и как изменится качество модели после преобразования фич**"
   ]
  },
  {
   "cell_type": "code",
   "execution_count": 4,
   "metadata": {},
   "outputs": [
    {
     "data": {
      "text/plain": [
       "array([[0.10392036, 0.25570617, 0.27751921, 0.92966219],\n",
       "       [0.7456977 , 0.43353655, 0.01044546, 0.45215144],\n",
       "       [0.4520888 , 0.34682784, 0.77799184, 0.85838344],\n",
       "       [0.72402161, 0.26579167, 0.59116691, 0.13026917]])"
      ]
     },
     "metadata": {},
     "output_type": "display_data"
    },
    {
     "data": {
      "text/plain": [
       "array([[ 15.27231795,  -4.77463741, -16.18216046,  14.21104644],\n",
       "       [-37.60896014,  14.07919248,  38.32933685, -33.03595917],\n",
       "       [ -4.21278482,   0.27115085,   4.82789548,  -2.68920134],\n",
       "       [ 10.97050834,  -3.4197409 , -10.17490604,   8.30084991]])"
      ]
     },
     "metadata": {},
     "output_type": "display_data"
    }
   ],
   "source": [
    "#Создадим обратимую квадратную матрицу с количеством строк равным количеству столбцов в features_X и выведем для ознакомления\n",
    "R = np.random.sample([features_X.shape[1],features_X.shape[1]])\n",
    "display(R)\n",
    "#Проверим получившуюся матрицу на обратимость\n",
    "display(np.linalg.inv(R))"
   ]
  },
  {
   "cell_type": "markdown",
   "metadata": {},
   "source": [
    "- **Отлично, матрица обратима, можно преобразовывать фичи!**"
   ]
  },
  {
   "cell_type": "code",
   "execution_count": 5,
   "metadata": {
    "scrolled": true
   },
   "outputs": [
    {
     "data": {
      "text/plain": [
       "array([[22455.00580189, 17220.95728942, 38589.69209685, 42595.41698857],\n",
       "       [17214.40034282, 13199.66633867, 29564.76148831, 32639.50012711],\n",
       "       [ 9515.4899377 ,  7295.95716996, 16338.13150874, 18039.16472664],\n",
       "       ...,\n",
       "       [15342.17216291, 11766.6660418 , 26375.31453897, 29108.50233637],\n",
       "       [14801.98494575, 11351.86120646, 25442.61391084, 28080.40643718],\n",
       "       [18376.51257277, 14093.87076712, 31587.62976713, 34864.08801919]])"
      ]
     },
     "metadata": {},
     "output_type": "display_data"
    }
   ],
   "source": [
    "#Домножим исходную матрицу с фичами на нашу новую обратимую матрицу\n",
    "features_X_new = features_X.dot(R)\n",
    "display(features_X_new)"
   ]
  },
  {
   "cell_type": "markdown",
   "metadata": {},
   "source": [
    "- **Вид даных, конечно, изменился до неузнаваемости, \"сотрудники сбербанка\" таким данным думаю нестрашны:)!**"
   ]
  },
  {
   "cell_type": "markdown",
   "metadata": {},
   "source": [
    "Ну всё, в бой!!!!\n",
    "Обучаем, прдсказываем, снимаем метрики до и после преобразования и сравниваем что получилось на выходе."
   ]
  },
  {
   "cell_type": "code",
   "execution_count": 6,
   "metadata": {
    "scrolled": true
   },
   "outputs": [
    {
     "name": "stdout",
     "output_type": "stream",
     "text": [
      "0.4249455028666801\n"
     ]
    }
   ],
   "source": [
    "model_1 = LinearRegression()\n",
    "model_1.fit(features_X, target_y)\n",
    "predictions = model_1.predict(features_X)\n",
    "print(r2_score(target_y, predictions))"
   ]
  },
  {
   "cell_type": "code",
   "execution_count": 7,
   "metadata": {},
   "outputs": [
    {
     "name": "stdout",
     "output_type": "stream",
     "text": [
      "0.4249455028667112\n"
     ]
    }
   ],
   "source": [
    "model_2 = LinearRegression()\n",
    "model_2.fit(features_X_new, target_y)\n",
    "predictions_2 = model_2.predict(features_X_new)\n",
    "print(r2_score(target_y, predictions_2))"
   ]
  },
  {
   "cell_type": "markdown",
   "metadata": {},
   "source": [
    "### Вывод: \n",
    "Качество предсказаний модели после умнижения на обратимую матрицу не ухудшилось."
   ]
  }
 ],
 "metadata": {
  "ExecuteTimeLog": [
   {
    "duration": 1467,
    "start_time": "2022-06-24T15:13:22.594Z"
   },
   {
    "duration": 8,
    "start_time": "2022-06-24T15:13:24.062Z"
   },
   {
    "duration": 92,
    "start_time": "2022-06-24T15:13:24.071Z"
   },
   {
    "duration": 0,
    "start_time": "2022-06-24T15:13:24.165Z"
   },
   {
    "duration": 0,
    "start_time": "2022-06-24T15:13:24.166Z"
   },
   {
    "duration": 0,
    "start_time": "2022-06-24T15:13:24.167Z"
   },
   {
    "duration": 0,
    "start_time": "2022-06-24T15:13:24.168Z"
   },
   {
    "duration": 49,
    "start_time": "2022-06-25T03:44:36.324Z"
   },
   {
    "duration": 1217,
    "start_time": "2022-06-26T13:04:00.637Z"
   },
   {
    "duration": 9,
    "start_time": "2022-06-26T13:04:01.856Z"
   },
   {
    "duration": 8,
    "start_time": "2022-06-26T13:04:01.867Z"
   },
   {
    "duration": 9,
    "start_time": "2022-06-26T13:04:01.878Z"
   },
   {
    "duration": 41,
    "start_time": "2022-06-26T13:04:01.889Z"
   },
   {
    "duration": 15,
    "start_time": "2022-06-26T13:04:01.932Z"
   },
   {
    "duration": 105,
    "start_time": "2022-06-26T13:04:02.027Z"
   }
  ],
  "kernelspec": {
   "display_name": "Python 3 (ipykernel)",
   "language": "python",
   "name": "python3"
  },
  "language_info": {
   "codemirror_mode": {
    "name": "ipython",
    "version": 3
   },
   "file_extension": ".py",
   "mimetype": "text/x-python",
   "name": "python",
   "nbconvert_exporter": "python",
   "pygments_lexer": "ipython3",
   "version": "3.9.7"
  },
  "toc": {
   "base_numbering": 1,
   "nav_menu": {},
   "number_sections": true,
   "sideBar": true,
   "skip_h1_title": true,
   "title_cell": "Содержание",
   "title_sidebar": "Contents",
   "toc_cell": true,
   "toc_position": {},
   "toc_section_display": true,
   "toc_window_display": true
  }
 },
 "nbformat": 4,
 "nbformat_minor": 2
}
