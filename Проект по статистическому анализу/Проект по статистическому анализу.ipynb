{
 "cells": [
  {
   "cell_type": "markdown",
   "id": "b38e8e12",
   "metadata": {},
   "source": [
    "# Предварительный анализ тарифов Мегалайна"
   ]
  },
  {
   "cell_type": "markdown",
   "id": "344f07c3",
   "metadata": {},
   "source": [
    "В данном проекте мы провели анализ двух тарифов федерального оператора сотовой связи «Мегалайн» для с целью корректировки рекламного бюджета. Клиентам предлагают два тарифных плана: «Смарт» и «Ультра». Чтобы скорректировать рекламный бюджет, коммерческий департамент просит выяснить, какой тариф приносит больше денег.\n",
    "Нам предстоит сделать предварительный анализ тарифов на небольшой выборке клиентов. В вашем распоряжении данные 500 пользователей «Мегалайна»: кто они, откуда, каким тарифом пользуются, сколько звонков и сообщений каждый отправил за 2018 год. Нужно проанализировать поведение клиентов и сделать вывод — какой тариф лучше.\n"
   ]
  },
  {
   "cell_type": "markdown",
   "id": "7dc6b1e3",
   "metadata": {},
   "source": [
    "1. [Обзор данных](#first)\n",
    "2. [Подготовка данных](#second) \n",
    "3. [Анализ данных](#third)\n",
    "4. [Проверка гипотез](#fourth)\n",
    "5. [Общий вывод](#fifth)"
   ]
  },
  {
   "cell_type": "markdown",
   "id": "8207994c",
   "metadata": {},
   "source": [
    "## 1.Обзор данных <a id=\"first\"></a>"
   ]
  },
  {
   "cell_type": "markdown",
   "id": "24744b33",
   "metadata": {},
   "source": [
    "Импортируем требуемые для выполнения проекта библиотеки и открываем датасеты. Так же зараннее отключим предупреждения об ошибках."
   ]
  },
  {
   "cell_type": "code",
   "execution_count": 18,
   "id": "fc89b1a3",
   "metadata": {},
   "outputs": [],
   "source": [
    "import pandas as pd \n",
    "import numpy as np\n",
    "from scipy import stats as st\n",
    "import warnings\n",
    "calls = pd.read_csv('/datasets/calls.csv')\n",
    "internet = pd.read_csv('/datasets/internet.csv')\n",
    "messages = pd.read_csv('/datasets/messages.csv')\n",
    "tariffs = pd.read_csv('/datasets/tariffs.csv')\n",
    "users = pd.read_csv('/datasets/users.csv')\n",
    "warnings.filterwarnings(\"ignore\") "
   ]
  },
  {
   "cell_type": "markdown",
   "id": "c4420c5b",
   "metadata": {},
   "source": [
    "Выведем сразу названия всех столбцов всех датасетов для того чтобы посмотреть нет ли среди них непопитоньи написанных"
   ]
  },
  {
   "cell_type": "code",
   "execution_count": 19,
   "id": "74fdb3fe",
   "metadata": {
    "scrolled": true
   },
   "outputs": [
    {
     "data": {
      "text/plain": [
       "Index(['id', 'call_date', 'duration', 'user_id'], dtype='object')"
      ]
     },
     "metadata": {},
     "output_type": "display_data"
    },
    {
     "data": {
      "text/plain": [
       "Index(['Unnamed: 0', 'id', 'mb_used', 'session_date', 'user_id'], dtype='object')"
      ]
     },
     "metadata": {},
     "output_type": "display_data"
    },
    {
     "data": {
      "text/plain": [
       "Index(['id', 'message_date', 'user_id'], dtype='object')"
      ]
     },
     "metadata": {},
     "output_type": "display_data"
    },
    {
     "data": {
      "text/plain": [
       "Index(['messages_included', 'mb_per_month_included', 'minutes_included',\n",
       "       'rub_monthly_fee', 'rub_per_gb', 'rub_per_message', 'rub_per_minute',\n",
       "       'tariff_name'],\n",
       "      dtype='object')"
      ]
     },
     "metadata": {},
     "output_type": "display_data"
    },
    {
     "data": {
      "text/plain": [
       "Index(['user_id', 'age', 'churn_date', 'city', 'first_name', 'last_name',\n",
       "       'reg_date', 'tariff'],\n",
       "      dtype='object')"
      ]
     },
     "metadata": {},
     "output_type": "display_data"
    }
   ],
   "source": [
    "display(calls.columns)\n",
    "display(internet.columns)\n",
    "display(messages.columns)\n",
    "display(tariffs.columns)\n",
    "display(users.columns)"
   ]
  },
  {
   "cell_type": "markdown",
   "id": "e4a23ef3",
   "metadata": {},
   "source": [
    "## 2. Подготовка данных<a id=\"second\"></a>"
   ]
  },
  {
   "cell_type": "markdown",
   "id": "70286896",
   "metadata": {},
   "source": [
    "Мне показалось удобнее обозревать датасет рядышком с его подготовкой, дабы не скролить постоянно туда-сюда всю тетрадку, и посему методы info, head, describe будут применяться в разделе подготовки данных."
   ]
  },
  {
   "cell_type": "code",
   "execution_count": 20,
   "id": "a18787e8",
   "metadata": {},
   "outputs": [
    {
     "name": "stdout",
     "output_type": "stream",
     "text": [
      "<class 'pandas.core.frame.DataFrame'>\n",
      "RangeIndex: 500 entries, 0 to 499\n",
      "Data columns (total 8 columns):\n",
      " #   Column      Non-Null Count  Dtype \n",
      "---  ------      --------------  ----- \n",
      " 0   user_id     500 non-null    int64 \n",
      " 1   age         500 non-null    int64 \n",
      " 2   churn_date  38 non-null     object\n",
      " 3   city        500 non-null    object\n",
      " 4   first_name  500 non-null    object\n",
      " 5   last_name   500 non-null    object\n",
      " 6   reg_date    500 non-null    object\n",
      " 7   tariff      500 non-null    object\n",
      "dtypes: int64(2), object(6)\n",
      "memory usage: 31.4+ KB\n",
      "None\n",
      "   user_id  age churn_date              city first_name  last_name  \\\n",
      "0     1000   52        NaN         Краснодар     Рафаил  Верещагин   \n",
      "1     1001   41        NaN            Москва       Иван       Ежов   \n",
      "2     1002   59        NaN       Стерлитамак    Евгений  Абрамович   \n",
      "3     1003   23        NaN            Москва      Белла   Белякова   \n",
      "4     1004   68        NaN       Новокузнецк    Татьяна   Авдеенко   \n",
      "5     1005   67        NaN  Набережные Челны   Афанасий     Горлов   \n",
      "6     1006   21        NaN         Ульяновск     Леонид   Ермолаев   \n",
      "7     1007   65        NaN            Москва        Юна   Березина   \n",
      "8     1008   63        NaN         Челябинск     Рустэм  Пономарёв   \n",
      "9     1009   24        NaN             Пермь   Василиса    Блинова   \n",
      "\n",
      "     reg_date tariff  \n",
      "0  2018-05-25  ultra  \n",
      "1  2018-11-01  smart  \n",
      "2  2018-06-17  smart  \n",
      "3  2018-08-17  ultra  \n",
      "4  2018-05-14  ultra  \n",
      "5  2018-01-25  smart  \n",
      "6  2018-02-26  smart  \n",
      "7  2018-04-19  smart  \n",
      "8  2018-12-19  smart  \n",
      "9  2018-03-22  smart  \n"
     ]
    }
   ],
   "source": [
    "print(users.info()) #Выводим общую информацию о датасете\n",
    "print(users.head(10)) #Выводим первые 10 строк датасета"
   ]
  },
  {
   "cell_type": "markdown",
   "id": "e3b07cf6",
   "metadata": {},
   "source": [
    "Видим пропуски в столбце \"churn_date \", но для нашего исследования нам этот столбец не требуется, потому убирать эти пропуски мы не будем."
   ]
  },
  {
   "cell_type": "code",
   "execution_count": 21,
   "id": "96d931f4",
   "metadata": {
    "scrolled": true
   },
   "outputs": [
    {
     "name": "stdout",
     "output_type": "stream",
     "text": [
      "<class 'pandas.core.frame.DataFrame'>\n",
      "RangeIndex: 202607 entries, 0 to 202606\n",
      "Data columns (total 4 columns):\n",
      " #   Column     Non-Null Count   Dtype  \n",
      "---  ------     --------------   -----  \n",
      " 0   id         202607 non-null  object \n",
      " 1   call_date  202607 non-null  object \n",
      " 2   duration   202607 non-null  float64\n",
      " 3   user_id    202607 non-null  int64  \n",
      "dtypes: float64(1), int64(1), object(2)\n",
      "memory usage: 6.2+ MB\n"
     ]
    },
    {
     "data": {
      "text/plain": [
       "None"
      ]
     },
     "metadata": {},
     "output_type": "display_data"
    },
    {
     "data": {
      "text/html": [
       "<div>\n",
       "<style scoped>\n",
       "    .dataframe tbody tr th:only-of-type {\n",
       "        vertical-align: middle;\n",
       "    }\n",
       "\n",
       "    .dataframe tbody tr th {\n",
       "        vertical-align: top;\n",
       "    }\n",
       "\n",
       "    .dataframe thead th {\n",
       "        text-align: right;\n",
       "    }\n",
       "</style>\n",
       "<table border=\"1\" class=\"dataframe\">\n",
       "  <thead>\n",
       "    <tr style=\"text-align: right;\">\n",
       "      <th></th>\n",
       "      <th>id</th>\n",
       "      <th>call_date</th>\n",
       "      <th>duration</th>\n",
       "      <th>user_id</th>\n",
       "    </tr>\n",
       "  </thead>\n",
       "  <tbody>\n",
       "    <tr>\n",
       "      <th>0</th>\n",
       "      <td>1000_0</td>\n",
       "      <td>2018-07-25</td>\n",
       "      <td>0.00</td>\n",
       "      <td>1000</td>\n",
       "    </tr>\n",
       "    <tr>\n",
       "      <th>1</th>\n",
       "      <td>1000_1</td>\n",
       "      <td>2018-08-17</td>\n",
       "      <td>0.00</td>\n",
       "      <td>1000</td>\n",
       "    </tr>\n",
       "    <tr>\n",
       "      <th>2</th>\n",
       "      <td>1000_2</td>\n",
       "      <td>2018-06-11</td>\n",
       "      <td>2.85</td>\n",
       "      <td>1000</td>\n",
       "    </tr>\n",
       "    <tr>\n",
       "      <th>3</th>\n",
       "      <td>1000_3</td>\n",
       "      <td>2018-09-21</td>\n",
       "      <td>13.80</td>\n",
       "      <td>1000</td>\n",
       "    </tr>\n",
       "    <tr>\n",
       "      <th>4</th>\n",
       "      <td>1000_4</td>\n",
       "      <td>2018-12-15</td>\n",
       "      <td>5.18</td>\n",
       "      <td>1000</td>\n",
       "    </tr>\n",
       "    <tr>\n",
       "      <th>5</th>\n",
       "      <td>1000_5</td>\n",
       "      <td>2018-11-02</td>\n",
       "      <td>0.00</td>\n",
       "      <td>1000</td>\n",
       "    </tr>\n",
       "    <tr>\n",
       "      <th>6</th>\n",
       "      <td>1000_6</td>\n",
       "      <td>2018-10-18</td>\n",
       "      <td>0.00</td>\n",
       "      <td>1000</td>\n",
       "    </tr>\n",
       "    <tr>\n",
       "      <th>7</th>\n",
       "      <td>1000_7</td>\n",
       "      <td>2018-08-22</td>\n",
       "      <td>18.31</td>\n",
       "      <td>1000</td>\n",
       "    </tr>\n",
       "    <tr>\n",
       "      <th>8</th>\n",
       "      <td>1000_8</td>\n",
       "      <td>2018-09-15</td>\n",
       "      <td>18.44</td>\n",
       "      <td>1000</td>\n",
       "    </tr>\n",
       "    <tr>\n",
       "      <th>9</th>\n",
       "      <td>1000_9</td>\n",
       "      <td>2018-08-15</td>\n",
       "      <td>0.00</td>\n",
       "      <td>1000</td>\n",
       "    </tr>\n",
       "  </tbody>\n",
       "</table>\n",
       "</div>"
      ],
      "text/plain": [
       "       id   call_date  duration  user_id\n",
       "0  1000_0  2018-07-25      0.00     1000\n",
       "1  1000_1  2018-08-17      0.00     1000\n",
       "2  1000_2  2018-06-11      2.85     1000\n",
       "3  1000_3  2018-09-21     13.80     1000\n",
       "4  1000_4  2018-12-15      5.18     1000\n",
       "5  1000_5  2018-11-02      0.00     1000\n",
       "6  1000_6  2018-10-18      0.00     1000\n",
       "7  1000_7  2018-08-22     18.31     1000\n",
       "8  1000_8  2018-09-15     18.44     1000\n",
       "9  1000_9  2018-08-15      0.00     1000"
      ]
     },
     "metadata": {},
     "output_type": "display_data"
    },
    {
     "data": {
      "text/plain": [
       "id           0\n",
       "call_date    0\n",
       "duration     0\n",
       "user_id      0\n",
       "dtype: int64"
      ]
     },
     "metadata": {},
     "output_type": "display_data"
    },
    {
     "data": {
      "text/plain": [
       "0"
      ]
     },
     "metadata": {},
     "output_type": "display_data"
    },
    {
     "data": {
      "text/plain": [
       "492"
      ]
     },
     "metadata": {},
     "output_type": "display_data"
    },
    {
     "data": {
      "text/html": [
       "<div>\n",
       "<style scoped>\n",
       "    .dataframe tbody tr th:only-of-type {\n",
       "        vertical-align: middle;\n",
       "    }\n",
       "\n",
       "    .dataframe tbody tr th {\n",
       "        vertical-align: top;\n",
       "    }\n",
       "\n",
       "    .dataframe thead th {\n",
       "        text-align: right;\n",
       "    }\n",
       "</style>\n",
       "<table border=\"1\" class=\"dataframe\">\n",
       "  <thead>\n",
       "    <tr style=\"text-align: right;\">\n",
       "      <th></th>\n",
       "      <th>user_id</th>\n",
       "      <th>month</th>\n",
       "      <th>calls</th>\n",
       "      <th>minutes_sum</th>\n",
       "    </tr>\n",
       "  </thead>\n",
       "  <tbody>\n",
       "    <tr>\n",
       "      <th>0</th>\n",
       "      <td>1000</td>\n",
       "      <td>5</td>\n",
       "      <td>22</td>\n",
       "      <td>159</td>\n",
       "    </tr>\n",
       "    <tr>\n",
       "      <th>1</th>\n",
       "      <td>1000</td>\n",
       "      <td>6</td>\n",
       "      <td>43</td>\n",
       "      <td>172</td>\n",
       "    </tr>\n",
       "    <tr>\n",
       "      <th>2</th>\n",
       "      <td>1000</td>\n",
       "      <td>7</td>\n",
       "      <td>47</td>\n",
       "      <td>340</td>\n",
       "    </tr>\n",
       "    <tr>\n",
       "      <th>3</th>\n",
       "      <td>1000</td>\n",
       "      <td>8</td>\n",
       "      <td>52</td>\n",
       "      <td>408</td>\n",
       "    </tr>\n",
       "    <tr>\n",
       "      <th>4</th>\n",
       "      <td>1000</td>\n",
       "      <td>9</td>\n",
       "      <td>58</td>\n",
       "      <td>466</td>\n",
       "    </tr>\n",
       "    <tr>\n",
       "      <th>...</th>\n",
       "      <td>...</td>\n",
       "      <td>...</td>\n",
       "      <td>...</td>\n",
       "      <td>...</td>\n",
       "    </tr>\n",
       "    <tr>\n",
       "      <th>3169</th>\n",
       "      <td>1498</td>\n",
       "      <td>10</td>\n",
       "      <td>41</td>\n",
       "      <td>247</td>\n",
       "    </tr>\n",
       "    <tr>\n",
       "      <th>3170</th>\n",
       "      <td>1499</td>\n",
       "      <td>9</td>\n",
       "      <td>9</td>\n",
       "      <td>70</td>\n",
       "    </tr>\n",
       "    <tr>\n",
       "      <th>3171</th>\n",
       "      <td>1499</td>\n",
       "      <td>10</td>\n",
       "      <td>68</td>\n",
       "      <td>449</td>\n",
       "    </tr>\n",
       "    <tr>\n",
       "      <th>3172</th>\n",
       "      <td>1499</td>\n",
       "      <td>11</td>\n",
       "      <td>74</td>\n",
       "      <td>612</td>\n",
       "    </tr>\n",
       "    <tr>\n",
       "      <th>3173</th>\n",
       "      <td>1499</td>\n",
       "      <td>12</td>\n",
       "      <td>69</td>\n",
       "      <td>492</td>\n",
       "    </tr>\n",
       "  </tbody>\n",
       "</table>\n",
       "<p>3174 rows × 4 columns</p>\n",
       "</div>"
      ],
      "text/plain": [
       "      user_id  month  calls  minutes_sum\n",
       "0        1000      5     22          159\n",
       "1        1000      6     43          172\n",
       "2        1000      7     47          340\n",
       "3        1000      8     52          408\n",
       "4        1000      9     58          466\n",
       "...       ...    ...    ...          ...\n",
       "3169     1498     10     41          247\n",
       "3170     1499      9      9           70\n",
       "3171     1499     10     68          449\n",
       "3172     1499     11     74          612\n",
       "3173     1499     12     69          492\n",
       "\n",
       "[3174 rows x 4 columns]"
      ]
     },
     "execution_count": 21,
     "metadata": {},
     "output_type": "execute_result"
    }
   ],
   "source": [
    "display(calls.info()) #Выводим общую информацию о датасете\n",
    "display(calls.head(10)) #Выводим первые 10 строк датасета\n",
    "\n",
    "calls['duration'] = np.ceil(calls['duration'])#округляем длительности звонков в большую сторону\n",
    "calls['call_date'] = pd.to_datetime(calls['call_date'], format='%Y-%m-%d') #Меняем формат данных в столбце \"call_date\" на datetime\n",
    "display(calls.isna().sum()) #смотрим есть ли пропуски в датасете\n",
    "display(calls.duplicated().sum()) #проверяем на наличие явных дубликатов\n",
    "display(calls['user_id'].value_counts().count())#смотрим количество уникальных значений в столбце \"user_id\"\n",
    "calls['month'] = calls['call_date'].dt.month #создаем столбец с месяцами звонков\n",
    "calls_groupied = calls.pivot_table(index=['user_id','month'], values= 'duration',aggfunc=['count','sum']).reset_index() #группируем данные столбца \"duration\" по столбцам \"user_id\" и \"month\" и считаем количество звонков в месяц и сумму длительностей в месяц\n",
    "calls_groupied.columns = ['user_id','month','calls','minutes_sum'] #меняем названия столбцов получившегося датасета\n",
    "calls_groupied['minutes_sum'] = calls_groupied['minutes_sum'].astype('int') #меняем тип данных на целочисленный в столбце \"minutes_sum\"\n",
    "calls_groupied"
   ]
  },
  {
   "cell_type": "markdown",
   "id": "f2ba5441",
   "metadata": {},
   "source": [
    "проделываем всё то же самое с таблицей \"internet\""
   ]
  },
  {
   "cell_type": "code",
   "execution_count": 22,
   "id": "6f4f1d72",
   "metadata": {
    "scrolled": true
   },
   "outputs": [
    {
     "name": "stdout",
     "output_type": "stream",
     "text": [
      "<class 'pandas.core.frame.DataFrame'>\n",
      "RangeIndex: 149396 entries, 0 to 149395\n",
      "Data columns (total 5 columns):\n",
      " #   Column        Non-Null Count   Dtype  \n",
      "---  ------        --------------   -----  \n",
      " 0   Unnamed: 0    149396 non-null  int64  \n",
      " 1   id            149396 non-null  object \n",
      " 2   mb_used       149396 non-null  float64\n",
      " 3   session_date  149396 non-null  object \n",
      " 4   user_id       149396 non-null  int64  \n",
      "dtypes: float64(1), int64(2), object(2)\n",
      "memory usage: 5.7+ MB\n"
     ]
    },
    {
     "data": {
      "text/plain": [
       "None"
      ]
     },
     "metadata": {},
     "output_type": "display_data"
    },
    {
     "data": {
      "text/html": [
       "<div>\n",
       "<style scoped>\n",
       "    .dataframe tbody tr th:only-of-type {\n",
       "        vertical-align: middle;\n",
       "    }\n",
       "\n",
       "    .dataframe tbody tr th {\n",
       "        vertical-align: top;\n",
       "    }\n",
       "\n",
       "    .dataframe thead th {\n",
       "        text-align: right;\n",
       "    }\n",
       "</style>\n",
       "<table border=\"1\" class=\"dataframe\">\n",
       "  <thead>\n",
       "    <tr style=\"text-align: right;\">\n",
       "      <th></th>\n",
       "      <th>Unnamed: 0</th>\n",
       "      <th>id</th>\n",
       "      <th>mb_used</th>\n",
       "      <th>session_date</th>\n",
       "      <th>user_id</th>\n",
       "    </tr>\n",
       "  </thead>\n",
       "  <tbody>\n",
       "    <tr>\n",
       "      <th>0</th>\n",
       "      <td>0</td>\n",
       "      <td>1000_0</td>\n",
       "      <td>112.95</td>\n",
       "      <td>2018-11-25</td>\n",
       "      <td>1000</td>\n",
       "    </tr>\n",
       "    <tr>\n",
       "      <th>1</th>\n",
       "      <td>1</td>\n",
       "      <td>1000_1</td>\n",
       "      <td>1052.81</td>\n",
       "      <td>2018-09-07</td>\n",
       "      <td>1000</td>\n",
       "    </tr>\n",
       "    <tr>\n",
       "      <th>2</th>\n",
       "      <td>2</td>\n",
       "      <td>1000_2</td>\n",
       "      <td>1197.26</td>\n",
       "      <td>2018-06-25</td>\n",
       "      <td>1000</td>\n",
       "    </tr>\n",
       "    <tr>\n",
       "      <th>3</th>\n",
       "      <td>3</td>\n",
       "      <td>1000_3</td>\n",
       "      <td>550.27</td>\n",
       "      <td>2018-08-22</td>\n",
       "      <td>1000</td>\n",
       "    </tr>\n",
       "    <tr>\n",
       "      <th>4</th>\n",
       "      <td>4</td>\n",
       "      <td>1000_4</td>\n",
       "      <td>302.56</td>\n",
       "      <td>2018-09-24</td>\n",
       "      <td>1000</td>\n",
       "    </tr>\n",
       "    <tr>\n",
       "      <th>5</th>\n",
       "      <td>5</td>\n",
       "      <td>1000_5</td>\n",
       "      <td>399.97</td>\n",
       "      <td>2018-10-02</td>\n",
       "      <td>1000</td>\n",
       "    </tr>\n",
       "    <tr>\n",
       "      <th>6</th>\n",
       "      <td>6</td>\n",
       "      <td>1000_6</td>\n",
       "      <td>540.08</td>\n",
       "      <td>2018-09-07</td>\n",
       "      <td>1000</td>\n",
       "    </tr>\n",
       "    <tr>\n",
       "      <th>7</th>\n",
       "      <td>7</td>\n",
       "      <td>1000_7</td>\n",
       "      <td>415.70</td>\n",
       "      <td>2018-07-11</td>\n",
       "      <td>1000</td>\n",
       "    </tr>\n",
       "    <tr>\n",
       "      <th>8</th>\n",
       "      <td>8</td>\n",
       "      <td>1000_8</td>\n",
       "      <td>505.40</td>\n",
       "      <td>2018-10-08</td>\n",
       "      <td>1000</td>\n",
       "    </tr>\n",
       "    <tr>\n",
       "      <th>9</th>\n",
       "      <td>9</td>\n",
       "      <td>1000_9</td>\n",
       "      <td>345.54</td>\n",
       "      <td>2018-09-03</td>\n",
       "      <td>1000</td>\n",
       "    </tr>\n",
       "  </tbody>\n",
       "</table>\n",
       "</div>"
      ],
      "text/plain": [
       "   Unnamed: 0      id  mb_used session_date  user_id\n",
       "0           0  1000_0   112.95   2018-11-25     1000\n",
       "1           1  1000_1  1052.81   2018-09-07     1000\n",
       "2           2  1000_2  1197.26   2018-06-25     1000\n",
       "3           3  1000_3   550.27   2018-08-22     1000\n",
       "4           4  1000_4   302.56   2018-09-24     1000\n",
       "5           5  1000_5   399.97   2018-10-02     1000\n",
       "6           6  1000_6   540.08   2018-09-07     1000\n",
       "7           7  1000_7   415.70   2018-07-11     1000\n",
       "8           8  1000_8   505.40   2018-10-08     1000\n",
       "9           9  1000_9   345.54   2018-09-03     1000"
      ]
     },
     "metadata": {},
     "output_type": "display_data"
    },
    {
     "data": {
      "text/html": [
       "<div>\n",
       "<style scoped>\n",
       "    .dataframe tbody tr th:only-of-type {\n",
       "        vertical-align: middle;\n",
       "    }\n",
       "\n",
       "    .dataframe tbody tr th {\n",
       "        vertical-align: top;\n",
       "    }\n",
       "\n",
       "    .dataframe thead th {\n",
       "        text-align: right;\n",
       "    }\n",
       "</style>\n",
       "<table border=\"1\" class=\"dataframe\">\n",
       "  <thead>\n",
       "    <tr style=\"text-align: right;\">\n",
       "      <th></th>\n",
       "      <th>id</th>\n",
       "      <th>mb_used</th>\n",
       "      <th>session_date</th>\n",
       "      <th>user_id</th>\n",
       "      <th>month</th>\n",
       "    </tr>\n",
       "  </thead>\n",
       "  <tbody>\n",
       "    <tr>\n",
       "      <th>0</th>\n",
       "      <td>1000_0</td>\n",
       "      <td>112.95</td>\n",
       "      <td>2018-11-25</td>\n",
       "      <td>1000</td>\n",
       "      <td>11</td>\n",
       "    </tr>\n",
       "    <tr>\n",
       "      <th>1</th>\n",
       "      <td>1000_1</td>\n",
       "      <td>1052.81</td>\n",
       "      <td>2018-09-07</td>\n",
       "      <td>1000</td>\n",
       "      <td>9</td>\n",
       "    </tr>\n",
       "    <tr>\n",
       "      <th>2</th>\n",
       "      <td>1000_2</td>\n",
       "      <td>1197.26</td>\n",
       "      <td>2018-06-25</td>\n",
       "      <td>1000</td>\n",
       "      <td>6</td>\n",
       "    </tr>\n",
       "    <tr>\n",
       "      <th>3</th>\n",
       "      <td>1000_3</td>\n",
       "      <td>550.27</td>\n",
       "      <td>2018-08-22</td>\n",
       "      <td>1000</td>\n",
       "      <td>8</td>\n",
       "    </tr>\n",
       "    <tr>\n",
       "      <th>4</th>\n",
       "      <td>1000_4</td>\n",
       "      <td>302.56</td>\n",
       "      <td>2018-09-24</td>\n",
       "      <td>1000</td>\n",
       "      <td>9</td>\n",
       "    </tr>\n",
       "    <tr>\n",
       "      <th>5</th>\n",
       "      <td>1000_5</td>\n",
       "      <td>399.97</td>\n",
       "      <td>2018-10-02</td>\n",
       "      <td>1000</td>\n",
       "      <td>10</td>\n",
       "    </tr>\n",
       "    <tr>\n",
       "      <th>6</th>\n",
       "      <td>1000_6</td>\n",
       "      <td>540.08</td>\n",
       "      <td>2018-09-07</td>\n",
       "      <td>1000</td>\n",
       "      <td>9</td>\n",
       "    </tr>\n",
       "    <tr>\n",
       "      <th>7</th>\n",
       "      <td>1000_7</td>\n",
       "      <td>415.70</td>\n",
       "      <td>2018-07-11</td>\n",
       "      <td>1000</td>\n",
       "      <td>7</td>\n",
       "    </tr>\n",
       "    <tr>\n",
       "      <th>8</th>\n",
       "      <td>1000_8</td>\n",
       "      <td>505.40</td>\n",
       "      <td>2018-10-08</td>\n",
       "      <td>1000</td>\n",
       "      <td>10</td>\n",
       "    </tr>\n",
       "    <tr>\n",
       "      <th>9</th>\n",
       "      <td>1000_9</td>\n",
       "      <td>345.54</td>\n",
       "      <td>2018-09-03</td>\n",
       "      <td>1000</td>\n",
       "      <td>9</td>\n",
       "    </tr>\n",
       "  </tbody>\n",
       "</table>\n",
       "</div>"
      ],
      "text/plain": [
       "       id  mb_used session_date  user_id  month\n",
       "0  1000_0   112.95   2018-11-25     1000     11\n",
       "1  1000_1  1052.81   2018-09-07     1000      9\n",
       "2  1000_2  1197.26   2018-06-25     1000      6\n",
       "3  1000_3   550.27   2018-08-22     1000      8\n",
       "4  1000_4   302.56   2018-09-24     1000      9\n",
       "5  1000_5   399.97   2018-10-02     1000     10\n",
       "6  1000_6   540.08   2018-09-07     1000      9\n",
       "7  1000_7   415.70   2018-07-11     1000      7\n",
       "8  1000_8   505.40   2018-10-08     1000     10\n",
       "9  1000_9   345.54   2018-09-03     1000      9"
      ]
     },
     "metadata": {},
     "output_type": "display_data"
    },
    {
     "data": {
      "text/plain": [
       "id              0\n",
       "mb_used         0\n",
       "session_date    0\n",
       "user_id         0\n",
       "month           0\n",
       "dtype: int64"
      ]
     },
     "metadata": {},
     "output_type": "display_data"
    },
    {
     "data": {
      "text/plain": [
       "497"
      ]
     },
     "metadata": {},
     "output_type": "display_data"
    },
    {
     "data": {
      "text/plain": [
       "0"
      ]
     },
     "metadata": {},
     "output_type": "display_data"
    },
    {
     "data": {
      "text/html": [
       "<div>\n",
       "<style scoped>\n",
       "    .dataframe tbody tr th:only-of-type {\n",
       "        vertical-align: middle;\n",
       "    }\n",
       "\n",
       "    .dataframe tbody tr th {\n",
       "        vertical-align: top;\n",
       "    }\n",
       "\n",
       "    .dataframe thead th {\n",
       "        text-align: right;\n",
       "    }\n",
       "</style>\n",
       "<table border=\"1\" class=\"dataframe\">\n",
       "  <thead>\n",
       "    <tr style=\"text-align: right;\">\n",
       "      <th></th>\n",
       "      <th></th>\n",
       "      <th>mb_used</th>\n",
       "    </tr>\n",
       "    <tr>\n",
       "      <th>user_id</th>\n",
       "      <th>month</th>\n",
       "      <th></th>\n",
       "    </tr>\n",
       "  </thead>\n",
       "  <tbody>\n",
       "    <tr>\n",
       "      <th rowspan=\"5\" valign=\"top\">1000</th>\n",
       "      <th>5</th>\n",
       "      <td>2253.49</td>\n",
       "    </tr>\n",
       "    <tr>\n",
       "      <th>6</th>\n",
       "      <td>23233.77</td>\n",
       "    </tr>\n",
       "    <tr>\n",
       "      <th>7</th>\n",
       "      <td>14003.64</td>\n",
       "    </tr>\n",
       "    <tr>\n",
       "      <th>8</th>\n",
       "      <td>14055.93</td>\n",
       "    </tr>\n",
       "    <tr>\n",
       "      <th>9</th>\n",
       "      <td>14568.91</td>\n",
       "    </tr>\n",
       "    <tr>\n",
       "      <th>...</th>\n",
       "      <th>...</th>\n",
       "      <td>...</td>\n",
       "    </tr>\n",
       "    <tr>\n",
       "      <th>1498</th>\n",
       "      <th>10</th>\n",
       "      <td>20579.36</td>\n",
       "    </tr>\n",
       "    <tr>\n",
       "      <th rowspan=\"4\" valign=\"top\">1499</th>\n",
       "      <th>9</th>\n",
       "      <td>1845.75</td>\n",
       "    </tr>\n",
       "    <tr>\n",
       "      <th>10</th>\n",
       "      <td>17788.51</td>\n",
       "    </tr>\n",
       "    <tr>\n",
       "      <th>11</th>\n",
       "      <td>17963.31</td>\n",
       "    </tr>\n",
       "    <tr>\n",
       "      <th>12</th>\n",
       "      <td>13055.58</td>\n",
       "    </tr>\n",
       "  </tbody>\n",
       "</table>\n",
       "<p>3203 rows × 1 columns</p>\n",
       "</div>"
      ],
      "text/plain": [
       "                mb_used\n",
       "user_id month          \n",
       "1000    5       2253.49\n",
       "        6      23233.77\n",
       "        7      14003.64\n",
       "        8      14055.93\n",
       "        9      14568.91\n",
       "...                 ...\n",
       "1498    10     20579.36\n",
       "1499    9       1845.75\n",
       "        10     17788.51\n",
       "        11     17963.31\n",
       "        12     13055.58\n",
       "\n",
       "[3203 rows x 1 columns]"
      ]
     },
     "execution_count": 22,
     "metadata": {},
     "output_type": "execute_result"
    }
   ],
   "source": [
    "display(internet.info())\n",
    "display(internet.head(10))\n",
    "internet = internet.loc[:, 'id':'user_id']\n",
    "internet['session_date'] = pd.to_datetime(internet['session_date'], format='%Y-%m-%d')\n",
    "internet['month'] = internet['session_date'].dt.month\n",
    "display(internet.head(10))\n",
    "display(internet.isna().sum())\n",
    "display(internet['user_id'].value_counts().count())\n",
    "display(calls.duplicated().sum())\n",
    "internet_groupied = internet.pivot_table(index=['user_id','month'], values='mb_used', aggfunc='sum')\n",
    "internet_groupied"
   ]
  },
  {
   "cell_type": "markdown",
   "id": "145e5d0c",
   "metadata": {},
   "source": [
    "проделываем всё то же самое с таблицей \"messeges\""
   ]
  },
  {
   "cell_type": "code",
   "execution_count": 23,
   "id": "6ffe163f",
   "metadata": {
    "scrolled": true
   },
   "outputs": [
    {
     "name": "stdout",
     "output_type": "stream",
     "text": [
      "<class 'pandas.core.frame.DataFrame'>\n",
      "RangeIndex: 123036 entries, 0 to 123035\n",
      "Data columns (total 3 columns):\n",
      " #   Column        Non-Null Count   Dtype \n",
      "---  ------        --------------   ----- \n",
      " 0   id            123036 non-null  object\n",
      " 1   message_date  123036 non-null  object\n",
      " 2   user_id       123036 non-null  int64 \n",
      "dtypes: int64(1), object(2)\n",
      "memory usage: 2.8+ MB\n",
      "None\n",
      "              id message_date        user_id\n",
      "count     123036       123036  123036.000000\n",
      "unique    123036          364            NaN\n",
      "top     1477_290   2018-12-31            NaN\n",
      "freq           1          859            NaN\n",
      "mean         NaN          NaN    1256.989410\n",
      "std          NaN          NaN     143.523967\n",
      "min          NaN          NaN    1000.000000\n",
      "25%          NaN          NaN    1134.000000\n",
      "50%          NaN          NaN    1271.000000\n",
      "75%          NaN          NaN    1381.000000\n",
      "max          NaN          NaN    1499.000000\n",
      "       id message_date  user_id\n",
      "0  1000_0   2018-06-27     1000\n",
      "1  1000_1   2018-10-08     1000\n",
      "2  1000_2   2018-08-04     1000\n",
      "3  1000_3   2018-06-16     1000\n",
      "4  1000_4   2018-12-05     1000\n",
      "5  1000_5   2018-06-20     1000\n",
      "6  1000_6   2018-11-19     1000\n",
      "7  1000_7   2018-10-29     1000\n",
      "8  1000_8   2018-06-25     1000\n",
      "9  1000_9   2018-12-18     1000\n"
     ]
    },
    {
     "data": {
      "text/plain": [
       "1277    1463\n",
       "1089    1408\n",
       "1231    1384\n",
       "1385    1380\n",
       "1356    1224\n",
       "        ... \n",
       "1111       6\n",
       "1279       5\n",
       "1074       3\n",
       "1159       2\n",
       "1141       1\n",
       "Name: user_id, Length: 426, dtype: int64"
      ]
     },
     "metadata": {},
     "output_type": "display_data"
    },
    {
     "data": {
      "text/html": [
       "<div>\n",
       "<style scoped>\n",
       "    .dataframe tbody tr th:only-of-type {\n",
       "        vertical-align: middle;\n",
       "    }\n",
       "\n",
       "    .dataframe tbody tr th {\n",
       "        vertical-align: top;\n",
       "    }\n",
       "\n",
       "    .dataframe thead th {\n",
       "        text-align: right;\n",
       "    }\n",
       "</style>\n",
       "<table border=\"1\" class=\"dataframe\">\n",
       "  <thead>\n",
       "    <tr style=\"text-align: right;\">\n",
       "      <th></th>\n",
       "      <th></th>\n",
       "      <th>messages_count</th>\n",
       "    </tr>\n",
       "    <tr>\n",
       "      <th>user_id</th>\n",
       "      <th>month</th>\n",
       "      <th></th>\n",
       "    </tr>\n",
       "  </thead>\n",
       "  <tbody>\n",
       "    <tr>\n",
       "      <th rowspan=\"5\" valign=\"top\">1000</th>\n",
       "      <th>5</th>\n",
       "      <td>22</td>\n",
       "    </tr>\n",
       "    <tr>\n",
       "      <th>6</th>\n",
       "      <td>60</td>\n",
       "    </tr>\n",
       "    <tr>\n",
       "      <th>7</th>\n",
       "      <td>75</td>\n",
       "    </tr>\n",
       "    <tr>\n",
       "      <th>8</th>\n",
       "      <td>81</td>\n",
       "    </tr>\n",
       "    <tr>\n",
       "      <th>9</th>\n",
       "      <td>57</td>\n",
       "    </tr>\n",
       "    <tr>\n",
       "      <th>...</th>\n",
       "      <th>...</th>\n",
       "      <td>...</td>\n",
       "    </tr>\n",
       "    <tr>\n",
       "      <th>1498</th>\n",
       "      <th>10</th>\n",
       "      <td>42</td>\n",
       "    </tr>\n",
       "    <tr>\n",
       "      <th rowspan=\"4\" valign=\"top\">1499</th>\n",
       "      <th>9</th>\n",
       "      <td>11</td>\n",
       "    </tr>\n",
       "    <tr>\n",
       "      <th>10</th>\n",
       "      <td>48</td>\n",
       "    </tr>\n",
       "    <tr>\n",
       "      <th>11</th>\n",
       "      <td>59</td>\n",
       "    </tr>\n",
       "    <tr>\n",
       "      <th>12</th>\n",
       "      <td>66</td>\n",
       "    </tr>\n",
       "  </tbody>\n",
       "</table>\n",
       "<p>2717 rows × 1 columns</p>\n",
       "</div>"
      ],
      "text/plain": [
       "               messages_count\n",
       "user_id month                \n",
       "1000    5                  22\n",
       "        6                  60\n",
       "        7                  75\n",
       "        8                  81\n",
       "        9                  57\n",
       "...                       ...\n",
       "1498    10                 42\n",
       "1499    9                  11\n",
       "        10                 48\n",
       "        11                 59\n",
       "        12                 66\n",
       "\n",
       "[2717 rows x 1 columns]"
      ]
     },
     "metadata": {},
     "output_type": "display_data"
    }
   ],
   "source": [
    "print(messages.info())\n",
    "print(messages.describe(include='all'))\n",
    "print(messages.head(10))\n",
    "messages['message_date'] = pd.to_datetime(messages['message_date'])\n",
    "messages['month'] = messages['message_date'].dt.month\n",
    "messages_groupied = messages.pivot_table(index=['user_id','month'], values='id',aggfunc='count')\n",
    "messages_groupied.columns = ['messages_count']\n",
    "display(messages['user_id'].value_counts())\n",
    "display(messages_groupied)"
   ]
  },
  {
   "cell_type": "markdown",
   "id": "d166fe5c",
   "metadata": {},
   "source": [
    "Выводим на экран таблицу \"tariffs\", просто для сподручности."
   ]
  },
  {
   "cell_type": "code",
   "execution_count": 24,
   "id": "47ed96b8",
   "metadata": {
    "scrolled": true
   },
   "outputs": [
    {
     "name": "stdout",
     "output_type": "stream",
     "text": [
      "<class 'pandas.core.frame.DataFrame'>\n",
      "RangeIndex: 2 entries, 0 to 1\n",
      "Data columns (total 8 columns):\n",
      " #   Column                 Non-Null Count  Dtype \n",
      "---  ------                 --------------  ----- \n",
      " 0   messages_included      2 non-null      int64 \n",
      " 1   mb_per_month_included  2 non-null      int64 \n",
      " 2   minutes_included       2 non-null      int64 \n",
      " 3   rub_monthly_fee        2 non-null      int64 \n",
      " 4   rub_per_gb             2 non-null      int64 \n",
      " 5   rub_per_message        2 non-null      int64 \n",
      " 6   rub_per_minute         2 non-null      int64 \n",
      " 7   tariff_name            2 non-null      object\n",
      "dtypes: int64(7), object(1)\n",
      "memory usage: 256.0+ bytes\n",
      "None\n",
      "   messages_included  mb_per_month_included  minutes_included  \\\n",
      "0                 50                  15360               500   \n",
      "1               1000                  30720              3000   \n",
      "\n",
      "   rub_monthly_fee  rub_per_gb  rub_per_message  rub_per_minute tariff_name  \n",
      "0              550         200                3               3       smart  \n",
      "1             1950         150                1               1       ultra  \n"
     ]
    }
   ],
   "source": [
    "print(tariffs.info())\n",
    "print(tariffs)"
   ]
  },
  {
   "cell_type": "markdown",
   "id": "2b5f0fd6",
   "metadata": {},
   "source": [
    "Теперь объединим получившиеся таблицы в один датасет со всеми нужными для исследования данными"
   ]
  },
  {
   "cell_type": "code",
   "execution_count": 25,
   "id": "b965696c",
   "metadata": {
    "scrolled": true
   },
   "outputs": [
    {
     "name": "stdout",
     "output_type": "stream",
     "text": [
      "<class 'pandas.core.frame.DataFrame'>\n",
      "Int64Index: 3214 entries, 0 to 3213\n",
      "Data columns (total 13 columns):\n",
      " #   Column          Non-Null Count  Dtype  \n",
      "---  ------          --------------  -----  \n",
      " 0   user_id         3214 non-null   int64  \n",
      " 1   month           3214 non-null   int64  \n",
      " 2   calls           3174 non-null   float64\n",
      " 3   minutes_sum     3214 non-null   int64  \n",
      " 4   mb_used         3214 non-null   float64\n",
      " 5   messages_count  3214 non-null   int64  \n",
      " 6   age             3214 non-null   int64  \n",
      " 7   churn_date      187 non-null    object \n",
      " 8   city            3214 non-null   object \n",
      " 9   first_name      3214 non-null   object \n",
      " 10  last_name       3214 non-null   object \n",
      " 11  reg_date        3214 non-null   object \n",
      " 12  tariff          3214 non-null   object \n",
      "dtypes: float64(2), int64(5), object(6)\n",
      "memory usage: 351.5+ KB\n"
     ]
    },
    {
     "data": {
      "text/html": [
       "<div>\n",
       "<style scoped>\n",
       "    .dataframe tbody tr th:only-of-type {\n",
       "        vertical-align: middle;\n",
       "    }\n",
       "\n",
       "    .dataframe tbody tr th {\n",
       "        vertical-align: top;\n",
       "    }\n",
       "\n",
       "    .dataframe thead th {\n",
       "        text-align: right;\n",
       "    }\n",
       "</style>\n",
       "<table border=\"1\" class=\"dataframe\">\n",
       "  <thead>\n",
       "    <tr style=\"text-align: right;\">\n",
       "      <th></th>\n",
       "      <th>user_id</th>\n",
       "      <th>month</th>\n",
       "      <th>calls</th>\n",
       "      <th>minutes_sum</th>\n",
       "      <th>mb_used</th>\n",
       "      <th>messages_count</th>\n",
       "      <th>age</th>\n",
       "      <th>churn_date</th>\n",
       "      <th>city</th>\n",
       "      <th>first_name</th>\n",
       "      <th>last_name</th>\n",
       "      <th>reg_date</th>\n",
       "      <th>tariff</th>\n",
       "    </tr>\n",
       "  </thead>\n",
       "  <tbody>\n",
       "    <tr>\n",
       "      <th>0</th>\n",
       "      <td>1000</td>\n",
       "      <td>5</td>\n",
       "      <td>22.0</td>\n",
       "      <td>159</td>\n",
       "      <td>2253.49</td>\n",
       "      <td>22</td>\n",
       "      <td>52</td>\n",
       "      <td>NaN</td>\n",
       "      <td>Краснодар</td>\n",
       "      <td>Рафаил</td>\n",
       "      <td>Верещагин</td>\n",
       "      <td>2018-05-25</td>\n",
       "      <td>ultra</td>\n",
       "    </tr>\n",
       "    <tr>\n",
       "      <th>1</th>\n",
       "      <td>1000</td>\n",
       "      <td>6</td>\n",
       "      <td>43.0</td>\n",
       "      <td>172</td>\n",
       "      <td>23233.77</td>\n",
       "      <td>60</td>\n",
       "      <td>52</td>\n",
       "      <td>NaN</td>\n",
       "      <td>Краснодар</td>\n",
       "      <td>Рафаил</td>\n",
       "      <td>Верещагин</td>\n",
       "      <td>2018-05-25</td>\n",
       "      <td>ultra</td>\n",
       "    </tr>\n",
       "    <tr>\n",
       "      <th>2</th>\n",
       "      <td>1000</td>\n",
       "      <td>7</td>\n",
       "      <td>47.0</td>\n",
       "      <td>340</td>\n",
       "      <td>14003.64</td>\n",
       "      <td>75</td>\n",
       "      <td>52</td>\n",
       "      <td>NaN</td>\n",
       "      <td>Краснодар</td>\n",
       "      <td>Рафаил</td>\n",
       "      <td>Верещагин</td>\n",
       "      <td>2018-05-25</td>\n",
       "      <td>ultra</td>\n",
       "    </tr>\n",
       "    <tr>\n",
       "      <th>3</th>\n",
       "      <td>1000</td>\n",
       "      <td>8</td>\n",
       "      <td>52.0</td>\n",
       "      <td>408</td>\n",
       "      <td>14055.93</td>\n",
       "      <td>81</td>\n",
       "      <td>52</td>\n",
       "      <td>NaN</td>\n",
       "      <td>Краснодар</td>\n",
       "      <td>Рафаил</td>\n",
       "      <td>Верещагин</td>\n",
       "      <td>2018-05-25</td>\n",
       "      <td>ultra</td>\n",
       "    </tr>\n",
       "    <tr>\n",
       "      <th>4</th>\n",
       "      <td>1000</td>\n",
       "      <td>9</td>\n",
       "      <td>58.0</td>\n",
       "      <td>466</td>\n",
       "      <td>14568.91</td>\n",
       "      <td>57</td>\n",
       "      <td>52</td>\n",
       "      <td>NaN</td>\n",
       "      <td>Краснодар</td>\n",
       "      <td>Рафаил</td>\n",
       "      <td>Верещагин</td>\n",
       "      <td>2018-05-25</td>\n",
       "      <td>ultra</td>\n",
       "    </tr>\n",
       "  </tbody>\n",
       "</table>\n",
       "</div>"
      ],
      "text/plain": [
       "   user_id  month  calls  minutes_sum   mb_used  messages_count  age  \\\n",
       "0     1000      5   22.0          159   2253.49              22   52   \n",
       "1     1000      6   43.0          172  23233.77              60   52   \n",
       "2     1000      7   47.0          340  14003.64              75   52   \n",
       "3     1000      8   52.0          408  14055.93              81   52   \n",
       "4     1000      9   58.0          466  14568.91              57   52   \n",
       "\n",
       "  churn_date       city first_name  last_name    reg_date tariff  \n",
       "0        NaN  Краснодар     Рафаил  Верещагин  2018-05-25  ultra  \n",
       "1        NaN  Краснодар     Рафаил  Верещагин  2018-05-25  ultra  \n",
       "2        NaN  Краснодар     Рафаил  Верещагин  2018-05-25  ultra  \n",
       "3        NaN  Краснодар     Рафаил  Верещагин  2018-05-25  ultra  \n",
       "4        NaN  Краснодар     Рафаил  Верещагин  2018-05-25  ultra  "
      ]
     },
     "metadata": {},
     "output_type": "display_data"
    }
   ],
   "source": [
    "calls_groupied = calls_groupied.merge(internet_groupied, on=['user_id','month'], how='outer')#Объединение таблиц \"calls_groupied\" и \"internet_groupied\" по столбцам ['user_id','month'] и всем значениям, а не только совпадающим\n",
    "calls_groupied = calls_groupied.merge(messages_groupied, on=['user_id','month'], how='outer')#Объединение таблиц \"calls_groupied\" и \"messages_groupied\" по столбцам ['user_id','month'] и всем значениям, а не только совпадающим\n",
    "calls_groupied = calls_groupied.merge(users, on=['user_id'], how='inner')#Объединение таблиц \"calls_groupied\" и \"users\" по столбцу 'user_id' только по совпадающим значениям\n",
    "calls_groupied['minutes_sum'] = calls_groupied['minutes_sum'].fillna(0)# Заполняем пропуски нулями в столбце \"minutes_sum\"\n",
    "calls_groupied['minutes_sum'] = calls_groupied['minutes_sum'].astype('int')# Меняем формат данных на целочисленный в \"minutes_sum\"\n",
    "calls_groupied['messages_count'] = calls_groupied['messages_count'].fillna(0)# Заполняем пропуски нулями в столбце \"messages_count\"\n",
    "calls_groupied['messages_count'] = calls_groupied['messages_count'].astype('int')# Меняем формат данных на целочисленный в \"messages_count\"\n",
    "calls_groupied['mb_used'] = calls_groupied['mb_used'].fillna(0)# Заполняем пропуски нулями в столбце \"mb_used\"\n",
    "\n",
    "calls_groupied.info()#Проверяем что получилось\n",
    "display(calls_groupied.head())\n"
   ]
  },
  {
   "cell_type": "markdown",
   "id": "9061c364",
   "metadata": {},
   "source": [
    "Отлично, все данные требуемые для исследования собраны, теперь можно анализировать."
   ]
  },
  {
   "cell_type": "markdown",
   "id": "1936ad67",
   "metadata": {},
   "source": [
    "## 3. Анализ данных<a id=\"third\"></a>"
   ]
  },
  {
   "cell_type": "markdown",
   "id": "46a9db85",
   "metadata": {},
   "source": [
    "Напишем функция подсчитывающую выбросы, границы межквартального интервала и \"ящик с усами\""
   ]
  },
  {
   "cell_type": "code",
   "execution_count": 26,
   "id": "d8f9d47a",
   "metadata": {},
   "outputs": [],
   "source": [
    "def filter_quantile(data, column, plot=False):\n",
    "    Q1 = data[column].quantile(0.25)\n",
    "    Q3 = data[column].quantile(0.75)\n",
    "    IQR = Q3-Q1\n",
    "    high_treshold = Q3+1.5*IQR\n",
    "    low_treshold = Q1-1.5*IQR\n",
    "    filtered_data = data[(data[column] <= high_treshold) &\n",
    "                         (data[column] >= low_treshold) ]\n",
    "    \n",
    "    #boxplot\n",
    "    if plot:\n",
    "        filtered_data[column].plot(kind='box')\n",
    "        print(f'Процент выбросов: {1-filtered_data.shape[0]/data[column].shape[0]:.2%}')\n",
    "        print(f'Верхний порог: {high_treshold}')\n",
    "        print(f'Нижний порог: {low_treshold}')\n",
    "    else:\n",
    "        return filtered_data"
   ]
  },
  {
   "cell_type": "markdown",
   "id": "e8b39337",
   "metadata": {},
   "source": [
    "Теперь можно выводить и анализировать данные "
   ]
  },
  {
   "cell_type": "code",
   "execution_count": 27,
   "id": "9f173b92",
   "metadata": {
    "scrolled": true
   },
   "outputs": [
    {
     "name": "stdout",
     "output_type": "stream",
     "text": [
      "Процент выбросов: 1.96%\n",
      "Верхний порог: 1049.5\n",
      "Нижний порог: -178.5\n",
      "Среднее количество минут использоавнное пользователями тарифа smart: 417.9349484073576\n",
      "Среднее количество минут использоавнное пользователями тарифа \"ultra\": 526.6233502538071\n",
      "Медиана: 443.0\n",
      "Дисперсия: 58520.43768761048\n",
      "Стандартное отклонение: 241.9099784787938\n",
      "Минимум: 0\n",
      "Максимум: 1673\n",
      "count    3214.000000\n",
      "mean      451.244866\n",
      "std       241.909978\n",
      "min         0.000000\n",
      "25%       282.000000\n",
      "50%       443.000000\n",
      "75%       589.000000\n",
      "max      1673.000000\n",
      "Name: minutes_sum, dtype: float64\n",
      "month           1           2           3           4           5   \\\n",
      "tariff                                                               \n",
      "smart   203.852941  298.689655  390.051948  367.133929  387.361702   \n",
      "ultra   428.111111  297.125000  489.648649  458.018182  510.328358   \n",
      "\n",
      "month           6           7           8           9           10  \\\n",
      "tariff                                                               \n",
      "smart   395.640244  408.353234  421.468085  428.611538  426.136054   \n",
      "ultra   479.702381  545.791209  510.775701  539.443478  558.081301   \n",
      "\n",
      "month           11          12  \n",
      "tariff                          \n",
      "smart   435.265823  478.560831  \n",
      "ultra   541.380597  592.805755  \n"
     ]
    },
    {
     "data": {
      "image/png": "[encoded data removed]",
      "text/plain": [
       "<Figure size 432x288 with 1 Axes>"
      ]
     },
     "metadata": {
      "needs_background": "light"
     },
     "output_type": "display_data"
    }
   ],
   "source": [
    "filter_quantile(calls_groupied,'minutes_sum', plot=True)#выводим \"ящик с усами\" и границы межквартильного интервала\n",
    "\n",
    "print(f'Среднее количество минут использоавнное пользователями тарифа smart: {calls_groupied[calls_groupied[\"tariff\"] == \"smart\"][\"minutes_sum\"].mean()}')#Среднее\n",
    "print(f'Среднее количество минут использоавнное пользователями тарифа \"ultra\": {calls_groupied[calls_groupied[\"tariff\"] == \"ultra\"][\"minutes_sum\"].mean()}')#Среднее\n",
    "print(f'Медиана: {calls_groupied[\"minutes_sum\"].median()}')#Медиана\n",
    "print(f'Дисперсия: {np.var(calls_groupied[\"minutes_sum\"], ddof=1)}')# Дисперсия\n",
    "print(f'Стандартное отклонение: {np.std(calls_groupied[\"minutes_sum\"], ddof=1)}')#Стандартное отклонение\n",
    "print(f'Минимум: {calls_groupied[\"minutes_sum\"].min()}')#Минимальное значение \n",
    "print(f'Максимум: {calls_groupied[\"minutes_sum\"].max()}')#Максимальное значение \n",
    "print(calls_groupied[\"minutes_sum\"].describe())#Проверяем другим способом, чисто попробовать как работает к столбцу \n",
    "print(calls_groupied.pivot_table(index='tariff', columns='month', values='minutes_sum',aggfunc='mean'))#Выводим сводную таблицу средних количеств минут для каждого тарифа по месяцам "
   ]
  },
  {
   "cell_type": "code",
   "execution_count": 28,
   "id": "b2b806ce",
   "metadata": {
    "scrolled": true
   },
   "outputs": [
    {
     "name": "stdout",
     "output_type": "stream",
     "text": [
      "AxesSubplot(0.125,0.125;0.775x0.755)\n"
     ]
    },
    {
     "data": {
      "image/png": "[encoded data removed]",
      "text/plain": [
       "<Figure size 432x288 with 1 Axes>"
      ]
     },
     "metadata": {
      "needs_background": "light"
     },
     "output_type": "display_data"
    }
   ],
   "source": [
    "print(calls_groupied[\"minutes_sum\"].hist(bins=50))#Строим гистограмму для визуализации использования сотовой связи "
   ]
  },
  {
   "cell_type": "markdown",
   "id": "3a339393",
   "metadata": {},
   "source": [
    "В целом, данные распределены нормально.\n",
    "\n",
    "Средний пользователь тарифа smart использует в месяц 400 минут сотовой связи\n",
    "\n",
    "Средний пользователь тарифа ultra использует в месяц 500 минут сотовой связи\n",
    "\n",
    "\n",
    "Теперь проделаем всё тоже самое для остальных интересующих нас столбцов"
   ]
  },
  {
   "cell_type": "code",
   "execution_count": 38,
   "id": "0a6fef11",
   "metadata": {
    "scrolled": true
   },
   "outputs": [
    {
     "name": "stdout",
     "output_type": "stream",
     "text": [
      "Процент выбросов: 2.83%\n",
      "Верхний порог: 129.0\n",
      "Нижний порог: -63.0\n",
      "Среднее количество минут использоавнное пользователями тарифа smart: 33.384028712427096\n",
      "Среднее количество минут использоавнное пользователями тарифа \"ultra\": 49.36345177664975\n",
      "Медиана: 30.0\n",
      "Дисперсия: 1306.7014417742482\n",
      "Стандартное отклонение: 36.14832557358982\n",
      "Минимум: 0\n",
      "Максимум: 224\n",
      "count    3214.000000\n",
      "mean       38.281269\n",
      "std        36.148326\n",
      "min         0.000000\n",
      "25%         9.000000\n",
      "50%        30.000000\n",
      "75%        57.000000\n",
      "max       224.000000\n",
      "Name: messages_count, dtype: float64\n"
     ]
    },
    {
     "data": {
      "text/html": [
       "<div>\n",
       "<style scoped>\n",
       "    .dataframe tbody tr th:only-of-type {\n",
       "        vertical-align: middle;\n",
       "    }\n",
       "\n",
       "    .dataframe tbody tr th {\n",
       "        vertical-align: top;\n",
       "    }\n",
       "\n",
       "    .dataframe thead th {\n",
       "        text-align: right;\n",
       "    }\n",
       "</style>\n",
       "<table border=\"1\" class=\"dataframe\">\n",
       "  <thead>\n",
       "    <tr style=\"text-align: right;\">\n",
       "      <th>month</th>\n",
       "      <th>1</th>\n",
       "      <th>2</th>\n",
       "      <th>3</th>\n",
       "      <th>4</th>\n",
       "      <th>5</th>\n",
       "      <th>6</th>\n",
       "      <th>7</th>\n",
       "      <th>8</th>\n",
       "      <th>9</th>\n",
       "      <th>10</th>\n",
       "      <th>11</th>\n",
       "      <th>12</th>\n",
       "    </tr>\n",
       "    <tr>\n",
       "      <th>tariff</th>\n",
       "      <th></th>\n",
       "      <th></th>\n",
       "      <th></th>\n",
       "      <th></th>\n",
       "      <th></th>\n",
       "      <th></th>\n",
       "      <th></th>\n",
       "      <th></th>\n",
       "      <th></th>\n",
       "      <th></th>\n",
       "      <th></th>\n",
       "      <th></th>\n",
       "    </tr>\n",
       "  </thead>\n",
       "  <tbody>\n",
       "    <tr>\n",
       "      <th>smart</th>\n",
       "      <td>18.235294</td>\n",
       "      <td>24.086207</td>\n",
       "      <td>31.857143</td>\n",
       "      <td>30.741071</td>\n",
       "      <td>33.773050</td>\n",
       "      <td>33.402439</td>\n",
       "      <td>33.751244</td>\n",
       "      <td>33.638298</td>\n",
       "      <td>33.638462</td>\n",
       "      <td>33.765306</td>\n",
       "      <td>34.075949</td>\n",
       "      <td>35.994065</td>\n",
       "    </tr>\n",
       "    <tr>\n",
       "      <th>ultra</th>\n",
       "      <td>33.777778</td>\n",
       "      <td>21.958333</td>\n",
       "      <td>32.297297</td>\n",
       "      <td>31.563636</td>\n",
       "      <td>37.850746</td>\n",
       "      <td>41.726190</td>\n",
       "      <td>49.846154</td>\n",
       "      <td>48.439252</td>\n",
       "      <td>52.286957</td>\n",
       "      <td>58.430894</td>\n",
       "      <td>55.791045</td>\n",
       "      <td>60.611511</td>\n",
       "    </tr>\n",
       "  </tbody>\n",
       "</table>\n",
       "</div>"
      ],
      "text/plain": [
       "month          1          2          3          4          5          6   \\\n",
       "tariff                                                                     \n",
       "smart   18.235294  24.086207  31.857143  30.741071  33.773050  33.402439   \n",
       "ultra   33.777778  21.958333  32.297297  31.563636  37.850746  41.726190   \n",
       "\n",
       "month          7          8          9          10         11         12  \n",
       "tariff                                                                    \n",
       "smart   33.751244  33.638298  33.638462  33.765306  34.075949  35.994065  \n",
       "ultra   49.846154  48.439252  52.286957  58.430894  55.791045  60.611511  "
      ]
     },
     "metadata": {},
     "output_type": "display_data"
    },
    {
     "data": {
      "image/png": "[encoded data removed]",
      "text/plain": [
       "<Figure size 432x288 with 1 Axes>"
      ]
     },
     "metadata": {
      "needs_background": "light"
     },
     "output_type": "display_data"
    }
   ],
   "source": [
    "filter_quantile(calls_groupied,\"messages_count\", plot=True)\n",
    "print(f'Среднее количество минут использоавнное пользователями тарифа smart: {calls_groupied[calls_groupied[\"tariff\"] == \"smart\"][\"messages_count\"].mean()}')#Среднее\n",
    "print(f'Среднее количество минут использоавнное пользователями тарифа \"ultra\": {calls_groupied[calls_groupied[\"tariff\"] == \"ultra\"][\"messages_count\"].mean()}')#Среднее\n",
    "print(f'Медиана: {calls_groupied[\"messages_count\"].median()}')\n",
    "print(f'Дисперсия: {np.var(calls_groupied[\"messages_count\"], ddof=1)}')\n",
    "print(f'Стандартное отклонение: {np.std(calls_groupied[\"messages_count\"], ddof=1)}')\n",
    "print(f'Минимум: {calls_groupied[\"messages_count\"].min()}')\n",
    "print(f'Максимум: {calls_groupied[\"messages_count\"].max()}')\n",
    "print(calls_groupied[\"messages_count\"].describe())\n",
    "display(calls_groupied.pivot_table(index='tariff', columns='month', values='messages_count',aggfunc='mean'))"
   ]
  },
  {
   "cell_type": "code",
   "execution_count": 30,
   "id": "dc2438a6",
   "metadata": {},
   "outputs": [
    {
     "name": "stdout",
     "output_type": "stream",
     "text": [
      "AxesSubplot(0.125,0.125;0.775x0.755)\n"
     ]
    },
    {
     "data": {
      "image/png": "[encoded data removed]",
      "text/plain": [
       "<Figure size 432x288 with 1 Axes>"
      ]
     },
     "metadata": {
      "needs_background": "light"
     },
     "output_type": "display_data"
    }
   ],
   "source": [
    "print(calls_groupied[\"messages_count\"].hist(bins=50))"
   ]
  },
  {
   "cell_type": "markdown",
   "id": "4f5058a4",
   "metadata": {},
   "source": [
    "Количество нулевых занчений я бы объяснил отсутствием интереса к смс из-за обилия мессенджеров, ну и замена пропусков на нули.\n",
    "\n",
    "В остальном распределение нормальное, ярко выраженного колокола нет из-за большого разброса данных.\n",
    "\n",
    "\n",
    "Средний пользователь тарифа smart использует в месяц не более 35 смс.\n",
    "\n",
    "Средний пользователь тарифа ultra использует в месяц не более 50 смс."
   ]
  },
  {
   "cell_type": "code",
   "execution_count": 40,
   "id": "a4025f26",
   "metadata": {},
   "outputs": [
    {
     "name": "stdout",
     "output_type": "stream",
     "text": [
      "Процент выбросов: 2.40%\n",
      "Верхний порог: 34823.72749999999\n",
      "Нижний порог: -907.2124999999924\n",
      "Среднее количество мегабайт интернет трафика использоавнное пользователями тарифа smart: 16208.386989681472\n",
      "Среднее количество мегабайт интернет трафика использоавнное пользователями тарифа \"ultra\": 19468.805208121827\n",
      "Медиана: 16943.175000000003\n",
      "Дисперсия: 57319416.719624914\n",
      "Стандартное отклонение: 7570.958771491555\n",
      "Минимум: 0.0\n",
      "Максимум: 49745.69000000001\n",
      "count     3214.000000\n",
      "mean     17207.612859\n",
      "std       7570.958771\n",
      "min          0.000000\n",
      "25%      12491.890000\n",
      "50%      16943.175000\n",
      "75%      21424.625000\n",
      "max      49745.690000\n",
      "Name: mb_used, dtype: float64\n",
      "month             1            2             3             4             5   \\\n",
      "tariff                                                                        \n",
      "smart    8513.717647  11597.05431  15104.159091  13462.180625  15805.184326   \n",
      "ultra   13140.681111  11775.93750  17535.550270  16828.134364  19363.152985   \n",
      "\n",
      "month             6             7             8             9             10  \\\n",
      "tariff                                                                         \n",
      "smart   15794.647988  15743.150348  16610.720085  16303.578808  16757.122891   \n",
      "ultra   18924.939286  20495.665165  19576.054673  19204.277130  20045.337317   \n",
      "\n",
      "month             11            12  \n",
      "tariff                              \n",
      "smart   16895.696646  18113.662047  \n",
      "ultra   19786.812463  21793.172590  \n"
     ]
    },
    {
     "data": {
      "image/png": "[encoded data removed]",
      "text/plain": [
       "<Figure size 432x288 with 1 Axes>"
      ]
     },
     "metadata": {
      "needs_background": "light"
     },
     "output_type": "display_data"
    }
   ],
   "source": [
    "filter_quantile(calls_groupied,'mb_used', plot=True)\n",
    "print(f'Среднее количество мегабайт интернет трафика использоавнное пользователями тарифа smart: {calls_groupied[calls_groupied[\"tariff\"] == \"smart\"][\"mb_used\"].mean()}')#Среднее\n",
    "print(f'Среднее количество мегабайт интернет трафика использоавнное пользователями тарифа \"ultra\": {calls_groupied[calls_groupied[\"tariff\"] == \"ultra\"][\"mb_used\"].mean()}')#Среднее\n",
    "print(f'Медиана: {calls_groupied[\"mb_used\"].median()}')\n",
    "print(f'Дисперсия: {np.var(calls_groupied[\"mb_used\"], ddof=1)}')\n",
    "print(f'Стандартное отклонение: {np.std(calls_groupied[\"mb_used\"], ddof=1)}')\n",
    "print(f'Минимум: {calls_groupied[\"mb_used\"].min()}')\n",
    "print(f'Максимум: {calls_groupied[\"mb_used\"].max()}')\n",
    "print(calls_groupied[\"mb_used\"].describe())\n",
    "print(calls_groupied.pivot_table(index='tariff', columns='month', values='mb_used',aggfunc='mean'))\n"
   ]
  },
  {
   "cell_type": "code",
   "execution_count": 32,
   "id": "eeb66601",
   "metadata": {},
   "outputs": [
    {
     "name": "stdout",
     "output_type": "stream",
     "text": [
      "AxesSubplot(0.125,0.125;0.775x0.755)\n"
     ]
    },
    {
     "data": {
      "image/png": "[encoded data removed]",
      "text/plain": [
       "<Figure size 432x288 with 1 Axes>"
      ]
     },
     "metadata": {
      "needs_background": "light"
     },
     "output_type": "display_data"
    }
   ],
   "source": [
    "print(calls_groupied[\"mb_used\"].hist(bins=50))"
   ]
  },
  {
   "cell_type": "markdown",
   "id": "29b5caee",
   "metadata": {},
   "source": [
    "Распределение нормальное.\n",
    "\n",
    "Средний пользователь тарифа smart использует в месяц около 16000 мегабайт интернет трафика\n",
    "\n",
    "Средний пользователь тарифа ultra использует в месяц около 20000 мегабайт интернет трафика"
   ]
  },
  {
   "cell_type": "code",
   "execution_count": 43,
   "id": "09af8075",
   "metadata": {},
   "outputs": [
    {
     "data": {
      "image/png": "[encoded data removed]",
      "text/plain": [
       "<Figure size 720x432 with 1 Axes>"
      ]
     },
     "metadata": {
      "needs_background": "light"
     },
     "output_type": "display_data"
    }
   ],
   "source": [
    "\n",
    "from matplotlib import pyplot as plt\n",
    "\n",
    "plt.figure(figsize=(10, 6))\n",
    "calls_groupied['minutes_sum'][calls_groupied['tariff'] == 'smart'].plot(kind='hist', alpha=0.5, bins=30)\n",
    "calls_groupied['minutes_sum'][calls_groupied['tariff'] == 'ultra'].plot(kind='hist', alpha=0.5, bins=30)\n",
    "plt.title('Гистограмма распределения продолжительности звонков по 2-м тарифам'+ \"\\n\")\n",
    "plt.xlabel('Минуты')\n",
    "plt.ylabel('Частотность')\n",
    "plt.legend(['smart', 'ultra'])\n",
    "plt.show()"
   ]
  },
  {
   "cell_type": "code",
   "execution_count": 47,
   "id": "434d80dc",
   "metadata": {},
   "outputs": [
    {
     "data": {
      "image/png": "[encoded data removed]",
      "text/plain": [
       "<Figure size 720x432 with 1 Axes>"
      ]
     },
     "metadata": {
      "needs_background": "light"
     },
     "output_type": "display_data"
    }
   ],
   "source": [
    "plt.figure(figsize=(10, 6))\n",
    "calls_groupied['messages_count'][calls_groupied['tariff'] == 'smart'].plot(kind='hist', alpha=0.5, bins=30)\n",
    "calls_groupied['messages_count'][calls_groupied['tariff'] == 'ultra'].plot(kind='hist', alpha=0.5, bins=30)\n",
    "plt.title('Гистограмма распределения количества смс по 2-м тарифам'+ \"\\n\")\n",
    "plt.xlabel('Минуты')\n",
    "plt.ylabel('Частотность')\n",
    "plt.legend(['smart', 'ultra'])\n",
    "plt.show()"
   ]
  },
  {
   "cell_type": "code",
   "execution_count": 46,
   "id": "27563610",
   "metadata": {},
   "outputs": [
    {
     "data": {
      "image/png": "[encoded data removed]",
      "text/plain": [
       "<Figure size 720x432 with 1 Axes>"
      ]
     },
     "metadata": {
      "needs_background": "light"
     },
     "output_type": "display_data"
    }
   ],
   "source": [
    "plt.figure(figsize=(10, 6))\n",
    "calls_groupied['mb_used'][calls_groupied['tariff'] == 'smart'].plot(kind='hist', alpha=0.5, bins=30)\n",
    "calls_groupied['mb_used'][calls_groupied['tariff'] == 'ultra'].plot(kind='hist', alpha=0.5, bins=30)\n",
    "plt.title('Гистограмма распределения использования интернет трафика по 2-м тарифам'+ \"\\n\")\n",
    "plt.xlabel('Минуты')\n",
    "plt.ylabel('Частотность')\n",
    "plt.legend(['smart', 'ultra'])\n",
    "plt.show()"
   ]
  },
  {
   "cell_type": "markdown",
   "id": "029f9fda",
   "metadata": {},
   "source": [
    "Пишем функцию для подсчёта выручки."
   ]
  },
  {
   "cell_type": "code",
   "execution_count": 33,
   "id": "9669893e",
   "metadata": {},
   "outputs": [],
   "source": [
    "def calc_profit(data):\n",
    "    if data['tariff'] == 'smart':\n",
    "        smart_minutes_extra = data['minutes_sum'] - tariffs.loc[0, 'minutes_included']\n",
    "        smart_messages_extra = data['messages_count'] - tariffs.loc[0, 'messages_included']\n",
    "        smart_gb_used = data['mb_used'] / 1024\n",
    "        smart_gb_extra = smart_gb_used - (tariffs.loc[0, 'mb_per_month_included'] / 1024)\n",
    "        if smart_gb_extra > 0:\n",
    "            smart_user_profit_for_internet = np.ceil(smart_gb_extra) * tariffs.loc[0, 'rub_per_gb']\n",
    "        else:\n",
    "            smart_user_profit_for_internet = 0\n",
    "        if smart_minutes_extra > 0:\n",
    "            smart_user_profit_for_calls = smart_minutes_extra * tariffs.loc[0,'rub_per_minute']\n",
    "        else:\n",
    "            smart_user_profit_for_calls = 0\n",
    "        if smart_messages_extra > 0:\n",
    "            smart_user_profit_for_messages = smart_minutes_extra * tariffs.loc[0,'rub_per_message']\n",
    "        else:\n",
    "            smart_user_profit_for_messages = 0\n",
    "        return tariffs.loc[0,'rub_monthly_fee'] + smart_user_profit_for_internet + smart_user_profit_for_calls + smart_user_profit_for_messages\n",
    "            \n",
    "        \n",
    "    else:\n",
    "        ultra_minutes_extra = data['minutes_sum'] - tariffs.loc[1, 'minutes_included']\n",
    "        ultra_messages_extra = data['messages_count'] - tariffs.loc[1, 'messages_included']\n",
    "        ultra_gb_used = data['mb_used'] / 1024\n",
    "        ultra_gb_extra = ultra_gb_used - (tariffs.loc[1, 'mb_per_month_included'] / 1024)\n",
    "        if ultra_gb_extra > 0:\n",
    "            ultra_user_profit_for_internet = np.ceil(ultra_gb_extra) * tariffs.loc[0, 'rub_per_gb']\n",
    "        else:\n",
    "            ultra_user_profit_for_internet = 0\n",
    "        if ultra_minutes_extra > 0:\n",
    "            ultra_user_profit_for_calls = ultra_minutes_extra * tariffs.loc[1,'rub_per_minute']\n",
    "        else:\n",
    "            ultra_user_profit_for_calls = 0\n",
    "        if ultra_messages_extra > 0:\n",
    "            ultra_user_profit_for_messages = ultra_minutes_extra * tariffs.loc[1,'rub_per_message']\n",
    "        else:\n",
    "            ultra_user_profit_for_messages = 0\n",
    "        return tariffs.loc[1,'rub_monthly_fee'] + ultra_user_profit_for_internet + ultra_user_profit_for_calls + ultra_user_profit_for_messages"
   ]
  },
  {
   "cell_type": "markdown",
   "id": "5d84fd0e",
   "metadata": {},
   "source": [
    "Применяем её к нашей сборной таблице методом apply и сохраняем в новом столбце"
   ]
  },
  {
   "cell_type": "code",
   "execution_count": 34,
   "id": "60d2d375",
   "metadata": {},
   "outputs": [
    {
     "data": {
      "text/html": [
       "<div>\n",
       "<style scoped>\n",
       "    .dataframe tbody tr th:only-of-type {\n",
       "        vertical-align: middle;\n",
       "    }\n",
       "\n",
       "    .dataframe tbody tr th {\n",
       "        vertical-align: top;\n",
       "    }\n",
       "\n",
       "    .dataframe thead th {\n",
       "        text-align: right;\n",
       "    }\n",
       "</style>\n",
       "<table border=\"1\" class=\"dataframe\">\n",
       "  <thead>\n",
       "    <tr style=\"text-align: right;\">\n",
       "      <th></th>\n",
       "      <th>user_id</th>\n",
       "      <th>month</th>\n",
       "      <th>calls</th>\n",
       "      <th>minutes_sum</th>\n",
       "      <th>mb_used</th>\n",
       "      <th>messages_count</th>\n",
       "      <th>age</th>\n",
       "      <th>churn_date</th>\n",
       "      <th>city</th>\n",
       "      <th>first_name</th>\n",
       "      <th>last_name</th>\n",
       "      <th>reg_date</th>\n",
       "      <th>tariff</th>\n",
       "      <th>profit_for_user</th>\n",
       "    </tr>\n",
       "  </thead>\n",
       "  <tbody>\n",
       "    <tr>\n",
       "      <th>3164</th>\n",
       "      <td>1496</td>\n",
       "      <td>12</td>\n",
       "      <td>80.0</td>\n",
       "      <td>518</td>\n",
       "      <td>20736.15</td>\n",
       "      <td>51</td>\n",
       "      <td>36</td>\n",
       "      <td>NaN</td>\n",
       "      <td>Вологда</td>\n",
       "      <td>Трифон</td>\n",
       "      <td>Блохин</td>\n",
       "      <td>2018-01-27</td>\n",
       "      <td>smart</td>\n",
       "      <td>1858.0</td>\n",
       "    </tr>\n",
       "    <tr>\n",
       "      <th>3165</th>\n",
       "      <td>1497</td>\n",
       "      <td>10</td>\n",
       "      <td>66.0</td>\n",
       "      <td>490</td>\n",
       "      <td>11500.29</td>\n",
       "      <td>20</td>\n",
       "      <td>32</td>\n",
       "      <td>NaN</td>\n",
       "      <td>Челябинск</td>\n",
       "      <td>Каролина</td>\n",
       "      <td>Агеева</td>\n",
       "      <td>2018-10-09</td>\n",
       "      <td>smart</td>\n",
       "      <td>550.0</td>\n",
       "    </tr>\n",
       "    <tr>\n",
       "      <th>3166</th>\n",
       "      <td>1497</td>\n",
       "      <td>11</td>\n",
       "      <td>64.0</td>\n",
       "      <td>371</td>\n",
       "      <td>14156.08</td>\n",
       "      <td>14</td>\n",
       "      <td>32</td>\n",
       "      <td>NaN</td>\n",
       "      <td>Челябинск</td>\n",
       "      <td>Каролина</td>\n",
       "      <td>Агеева</td>\n",
       "      <td>2018-10-09</td>\n",
       "      <td>smart</td>\n",
       "      <td>550.0</td>\n",
       "    </tr>\n",
       "    <tr>\n",
       "      <th>3167</th>\n",
       "      <td>1497</td>\n",
       "      <td>12</td>\n",
       "      <td>71.0</td>\n",
       "      <td>545</td>\n",
       "      <td>19918.60</td>\n",
       "      <td>17</td>\n",
       "      <td>32</td>\n",
       "      <td>NaN</td>\n",
       "      <td>Челябинск</td>\n",
       "      <td>Каролина</td>\n",
       "      <td>Агеева</td>\n",
       "      <td>2018-10-09</td>\n",
       "      <td>smart</td>\n",
       "      <td>1685.0</td>\n",
       "    </tr>\n",
       "    <tr>\n",
       "      <th>3168</th>\n",
       "      <td>1498</td>\n",
       "      <td>7</td>\n",
       "      <td>23.0</td>\n",
       "      <td>175</td>\n",
       "      <td>7476.24</td>\n",
       "      <td>20</td>\n",
       "      <td>68</td>\n",
       "      <td>2018-10-25</td>\n",
       "      <td>Владикавказ</td>\n",
       "      <td>Всеволод</td>\n",
       "      <td>Акимчин</td>\n",
       "      <td>2018-07-19</td>\n",
       "      <td>smart</td>\n",
       "      <td>550.0</td>\n",
       "    </tr>\n",
       "    <tr>\n",
       "      <th>3169</th>\n",
       "      <td>1498</td>\n",
       "      <td>8</td>\n",
       "      <td>57.0</td>\n",
       "      <td>400</td>\n",
       "      <td>24235.21</td>\n",
       "      <td>62</td>\n",
       "      <td>68</td>\n",
       "      <td>2018-10-25</td>\n",
       "      <td>Владикавказ</td>\n",
       "      <td>Всеволод</td>\n",
       "      <td>Акимчин</td>\n",
       "      <td>2018-07-19</td>\n",
       "      <td>smart</td>\n",
       "      <td>2050.0</td>\n",
       "    </tr>\n",
       "    <tr>\n",
       "      <th>3170</th>\n",
       "      <td>1498</td>\n",
       "      <td>9</td>\n",
       "      <td>59.0</td>\n",
       "      <td>471</td>\n",
       "      <td>22134.41</td>\n",
       "      <td>44</td>\n",
       "      <td>68</td>\n",
       "      <td>2018-10-25</td>\n",
       "      <td>Владикавказ</td>\n",
       "      <td>Всеволод</td>\n",
       "      <td>Акимчин</td>\n",
       "      <td>2018-07-19</td>\n",
       "      <td>smart</td>\n",
       "      <td>1950.0</td>\n",
       "    </tr>\n",
       "    <tr>\n",
       "      <th>3171</th>\n",
       "      <td>1498</td>\n",
       "      <td>10</td>\n",
       "      <td>41.0</td>\n",
       "      <td>247</td>\n",
       "      <td>20579.36</td>\n",
       "      <td>42</td>\n",
       "      <td>68</td>\n",
       "      <td>2018-10-25</td>\n",
       "      <td>Владикавказ</td>\n",
       "      <td>Всеволод</td>\n",
       "      <td>Акимчин</td>\n",
       "      <td>2018-07-19</td>\n",
       "      <td>smart</td>\n",
       "      <td>1750.0</td>\n",
       "    </tr>\n",
       "    <tr>\n",
       "      <th>3172</th>\n",
       "      <td>1499</td>\n",
       "      <td>9</td>\n",
       "      <td>9.0</td>\n",
       "      <td>70</td>\n",
       "      <td>1845.75</td>\n",
       "      <td>11</td>\n",
       "      <td>35</td>\n",
       "      <td>NaN</td>\n",
       "      <td>Пермь</td>\n",
       "      <td>Гектор</td>\n",
       "      <td>Корнилов</td>\n",
       "      <td>2018-09-27</td>\n",
       "      <td>smart</td>\n",
       "      <td>550.0</td>\n",
       "    </tr>\n",
       "    <tr>\n",
       "      <th>3173</th>\n",
       "      <td>1499</td>\n",
       "      <td>10</td>\n",
       "      <td>68.0</td>\n",
       "      <td>449</td>\n",
       "      <td>17788.51</td>\n",
       "      <td>48</td>\n",
       "      <td>35</td>\n",
       "      <td>NaN</td>\n",
       "      <td>Пермь</td>\n",
       "      <td>Гектор</td>\n",
       "      <td>Корнилов</td>\n",
       "      <td>2018-09-27</td>\n",
       "      <td>smart</td>\n",
       "      <td>1150.0</td>\n",
       "    </tr>\n",
       "    <tr>\n",
       "      <th>3174</th>\n",
       "      <td>1499</td>\n",
       "      <td>11</td>\n",
       "      <td>74.0</td>\n",
       "      <td>612</td>\n",
       "      <td>17963.31</td>\n",
       "      <td>59</td>\n",
       "      <td>35</td>\n",
       "      <td>NaN</td>\n",
       "      <td>Пермь</td>\n",
       "      <td>Гектор</td>\n",
       "      <td>Корнилов</td>\n",
       "      <td>2018-09-27</td>\n",
       "      <td>smart</td>\n",
       "      <td>1822.0</td>\n",
       "    </tr>\n",
       "    <tr>\n",
       "      <th>3175</th>\n",
       "      <td>1499</td>\n",
       "      <td>12</td>\n",
       "      <td>69.0</td>\n",
       "      <td>492</td>\n",
       "      <td>13055.58</td>\n",
       "      <td>66</td>\n",
       "      <td>35</td>\n",
       "      <td>NaN</td>\n",
       "      <td>Пермь</td>\n",
       "      <td>Гектор</td>\n",
       "      <td>Корнилов</td>\n",
       "      <td>2018-09-27</td>\n",
       "      <td>smart</td>\n",
       "      <td>526.0</td>\n",
       "    </tr>\n",
       "    <tr>\n",
       "      <th>3176</th>\n",
       "      <td>1091</td>\n",
       "      <td>5</td>\n",
       "      <td>NaN</td>\n",
       "      <td>0</td>\n",
       "      <td>10703.37</td>\n",
       "      <td>30</td>\n",
       "      <td>36</td>\n",
       "      <td>NaN</td>\n",
       "      <td>Набережные Челны</td>\n",
       "      <td>Вера</td>\n",
       "      <td>Суслова</td>\n",
       "      <td>2018-05-08</td>\n",
       "      <td>ultra</td>\n",
       "      <td>1950.0</td>\n",
       "    </tr>\n",
       "    <tr>\n",
       "      <th>3177</th>\n",
       "      <td>1091</td>\n",
       "      <td>6</td>\n",
       "      <td>NaN</td>\n",
       "      <td>0</td>\n",
       "      <td>10236.19</td>\n",
       "      <td>30</td>\n",
       "      <td>36</td>\n",
       "      <td>NaN</td>\n",
       "      <td>Набережные Челны</td>\n",
       "      <td>Вера</td>\n",
       "      <td>Суслова</td>\n",
       "      <td>2018-05-08</td>\n",
       "      <td>ultra</td>\n",
       "      <td>1950.0</td>\n",
       "    </tr>\n",
       "    <tr>\n",
       "      <th>3178</th>\n",
       "      <td>1091</td>\n",
       "      <td>7</td>\n",
       "      <td>NaN</td>\n",
       "      <td>0</td>\n",
       "      <td>16444.98</td>\n",
       "      <td>35</td>\n",
       "      <td>36</td>\n",
       "      <td>NaN</td>\n",
       "      <td>Набережные Челны</td>\n",
       "      <td>Вера</td>\n",
       "      <td>Суслова</td>\n",
       "      <td>2018-05-08</td>\n",
       "      <td>ultra</td>\n",
       "      <td>1950.0</td>\n",
       "    </tr>\n",
       "    <tr>\n",
       "      <th>3179</th>\n",
       "      <td>1091</td>\n",
       "      <td>8</td>\n",
       "      <td>NaN</td>\n",
       "      <td>0</td>\n",
       "      <td>12633.88</td>\n",
       "      <td>31</td>\n",
       "      <td>36</td>\n",
       "      <td>NaN</td>\n",
       "      <td>Набережные Челны</td>\n",
       "      <td>Вера</td>\n",
       "      <td>Суслова</td>\n",
       "      <td>2018-05-08</td>\n",
       "      <td>ultra</td>\n",
       "      <td>1950.0</td>\n",
       "    </tr>\n",
       "    <tr>\n",
       "      <th>3180</th>\n",
       "      <td>1091</td>\n",
       "      <td>9</td>\n",
       "      <td>NaN</td>\n",
       "      <td>0</td>\n",
       "      <td>16597.11</td>\n",
       "      <td>32</td>\n",
       "      <td>36</td>\n",
       "      <td>NaN</td>\n",
       "      <td>Набережные Челны</td>\n",
       "      <td>Вера</td>\n",
       "      <td>Суслова</td>\n",
       "      <td>2018-05-08</td>\n",
       "      <td>ultra</td>\n",
       "      <td>1950.0</td>\n",
       "    </tr>\n",
       "    <tr>\n",
       "      <th>3181</th>\n",
       "      <td>1091</td>\n",
       "      <td>10</td>\n",
       "      <td>NaN</td>\n",
       "      <td>0</td>\n",
       "      <td>15644.73</td>\n",
       "      <td>44</td>\n",
       "      <td>36</td>\n",
       "      <td>NaN</td>\n",
       "      <td>Набережные Челны</td>\n",
       "      <td>Вера</td>\n",
       "      <td>Суслова</td>\n",
       "      <td>2018-05-08</td>\n",
       "      <td>ultra</td>\n",
       "      <td>1950.0</td>\n",
       "    </tr>\n",
       "    <tr>\n",
       "      <th>3182</th>\n",
       "      <td>1091</td>\n",
       "      <td>11</td>\n",
       "      <td>NaN</td>\n",
       "      <td>0</td>\n",
       "      <td>11864.25</td>\n",
       "      <td>28</td>\n",
       "      <td>36</td>\n",
       "      <td>NaN</td>\n",
       "      <td>Набережные Челны</td>\n",
       "      <td>Вера</td>\n",
       "      <td>Суслова</td>\n",
       "      <td>2018-05-08</td>\n",
       "      <td>ultra</td>\n",
       "      <td>1950.0</td>\n",
       "    </tr>\n",
       "    <tr>\n",
       "      <th>3183</th>\n",
       "      <td>1091</td>\n",
       "      <td>12</td>\n",
       "      <td>NaN</td>\n",
       "      <td>0</td>\n",
       "      <td>13280.45</td>\n",
       "      <td>42</td>\n",
       "      <td>36</td>\n",
       "      <td>NaN</td>\n",
       "      <td>Набережные Челны</td>\n",
       "      <td>Вера</td>\n",
       "      <td>Суслова</td>\n",
       "      <td>2018-05-08</td>\n",
       "      <td>ultra</td>\n",
       "      <td>1950.0</td>\n",
       "    </tr>\n",
       "    <tr>\n",
       "      <th>3184</th>\n",
       "      <td>1106</td>\n",
       "      <td>4</td>\n",
       "      <td>NaN</td>\n",
       "      <td>0</td>\n",
       "      <td>2923.49</td>\n",
       "      <td>9</td>\n",
       "      <td>67</td>\n",
       "      <td>NaN</td>\n",
       "      <td>Калуга</td>\n",
       "      <td>Исаак</td>\n",
       "      <td>Костин</td>\n",
       "      <td>2018-04-26</td>\n",
       "      <td>ultra</td>\n",
       "      <td>1950.0</td>\n",
       "    </tr>\n",
       "    <tr>\n",
       "      <th>3185</th>\n",
       "      <td>1106</td>\n",
       "      <td>5</td>\n",
       "      <td>NaN</td>\n",
       "      <td>0</td>\n",
       "      <td>16573.01</td>\n",
       "      <td>28</td>\n",
       "      <td>67</td>\n",
       "      <td>NaN</td>\n",
       "      <td>Калуга</td>\n",
       "      <td>Исаак</td>\n",
       "      <td>Костин</td>\n",
       "      <td>2018-04-26</td>\n",
       "      <td>ultra</td>\n",
       "      <td>1950.0</td>\n",
       "    </tr>\n",
       "    <tr>\n",
       "      <th>3186</th>\n",
       "      <td>1106</td>\n",
       "      <td>6</td>\n",
       "      <td>NaN</td>\n",
       "      <td>0</td>\n",
       "      <td>20016.74</td>\n",
       "      <td>30</td>\n",
       "      <td>67</td>\n",
       "      <td>NaN</td>\n",
       "      <td>Калуга</td>\n",
       "      <td>Исаак</td>\n",
       "      <td>Костин</td>\n",
       "      <td>2018-04-26</td>\n",
       "      <td>ultra</td>\n",
       "      <td>1950.0</td>\n",
       "    </tr>\n",
       "    <tr>\n",
       "      <th>3187</th>\n",
       "      <td>1106</td>\n",
       "      <td>7</td>\n",
       "      <td>NaN</td>\n",
       "      <td>0</td>\n",
       "      <td>21626.86</td>\n",
       "      <td>24</td>\n",
       "      <td>67</td>\n",
       "      <td>NaN</td>\n",
       "      <td>Калуга</td>\n",
       "      <td>Исаак</td>\n",
       "      <td>Костин</td>\n",
       "      <td>2018-04-26</td>\n",
       "      <td>ultra</td>\n",
       "      <td>1950.0</td>\n",
       "    </tr>\n",
       "    <tr>\n",
       "      <th>3188</th>\n",
       "      <td>1106</td>\n",
       "      <td>8</td>\n",
       "      <td>NaN</td>\n",
       "      <td>0</td>\n",
       "      <td>19088.67</td>\n",
       "      <td>25</td>\n",
       "      <td>67</td>\n",
       "      <td>NaN</td>\n",
       "      <td>Калуга</td>\n",
       "      <td>Исаак</td>\n",
       "      <td>Костин</td>\n",
       "      <td>2018-04-26</td>\n",
       "      <td>ultra</td>\n",
       "      <td>1950.0</td>\n",
       "    </tr>\n",
       "    <tr>\n",
       "      <th>3189</th>\n",
       "      <td>1106</td>\n",
       "      <td>9</td>\n",
       "      <td>NaN</td>\n",
       "      <td>0</td>\n",
       "      <td>21934.03</td>\n",
       "      <td>23</td>\n",
       "      <td>67</td>\n",
       "      <td>NaN</td>\n",
       "      <td>Калуга</td>\n",
       "      <td>Исаак</td>\n",
       "      <td>Костин</td>\n",
       "      <td>2018-04-26</td>\n",
       "      <td>ultra</td>\n",
       "      <td>1950.0</td>\n",
       "    </tr>\n",
       "    <tr>\n",
       "      <th>3190</th>\n",
       "      <td>1106</td>\n",
       "      <td>10</td>\n",
       "      <td>NaN</td>\n",
       "      <td>0</td>\n",
       "      <td>14010.32</td>\n",
       "      <td>33</td>\n",
       "      <td>67</td>\n",
       "      <td>NaN</td>\n",
       "      <td>Калуга</td>\n",
       "      <td>Исаак</td>\n",
       "      <td>Костин</td>\n",
       "      <td>2018-04-26</td>\n",
       "      <td>ultra</td>\n",
       "      <td>1950.0</td>\n",
       "    </tr>\n",
       "    <tr>\n",
       "      <th>3191</th>\n",
       "      <td>1106</td>\n",
       "      <td>11</td>\n",
       "      <td>NaN</td>\n",
       "      <td>0</td>\n",
       "      <td>21289.27</td>\n",
       "      <td>29</td>\n",
       "      <td>67</td>\n",
       "      <td>NaN</td>\n",
       "      <td>Калуга</td>\n",
       "      <td>Исаак</td>\n",
       "      <td>Костин</td>\n",
       "      <td>2018-04-26</td>\n",
       "      <td>ultra</td>\n",
       "      <td>1950.0</td>\n",
       "    </tr>\n",
       "    <tr>\n",
       "      <th>3192</th>\n",
       "      <td>1106</td>\n",
       "      <td>12</td>\n",
       "      <td>NaN</td>\n",
       "      <td>0</td>\n",
       "      <td>18701.51</td>\n",
       "      <td>24</td>\n",
       "      <td>67</td>\n",
       "      <td>NaN</td>\n",
       "      <td>Калуга</td>\n",
       "      <td>Исаак</td>\n",
       "      <td>Костин</td>\n",
       "      <td>2018-04-26</td>\n",
       "      <td>ultra</td>\n",
       "      <td>1950.0</td>\n",
       "    </tr>\n",
       "    <tr>\n",
       "      <th>3193</th>\n",
       "      <td>1231</td>\n",
       "      <td>5</td>\n",
       "      <td>NaN</td>\n",
       "      <td>0</td>\n",
       "      <td>10858.89</td>\n",
       "      <td>55</td>\n",
       "      <td>63</td>\n",
       "      <td>NaN</td>\n",
       "      <td>Чебоксары</td>\n",
       "      <td>Касьян</td>\n",
       "      <td>Авдюков</td>\n",
       "      <td>2018-05-23</td>\n",
       "      <td>ultra</td>\n",
       "      <td>1950.0</td>\n",
       "    </tr>\n",
       "    <tr>\n",
       "      <th>3194</th>\n",
       "      <td>1231</td>\n",
       "      <td>6</td>\n",
       "      <td>NaN</td>\n",
       "      <td>0</td>\n",
       "      <td>27825.92</td>\n",
       "      <td>201</td>\n",
       "      <td>63</td>\n",
       "      <td>NaN</td>\n",
       "      <td>Чебоксары</td>\n",
       "      <td>Касьян</td>\n",
       "      <td>Авдюков</td>\n",
       "      <td>2018-05-23</td>\n",
       "      <td>ultra</td>\n",
       "      <td>1950.0</td>\n",
       "    </tr>\n",
       "    <tr>\n",
       "      <th>3195</th>\n",
       "      <td>1231</td>\n",
       "      <td>7</td>\n",
       "      <td>NaN</td>\n",
       "      <td>0</td>\n",
       "      <td>27695.83</td>\n",
       "      <td>211</td>\n",
       "      <td>63</td>\n",
       "      <td>NaN</td>\n",
       "      <td>Чебоксары</td>\n",
       "      <td>Касьян</td>\n",
       "      <td>Авдюков</td>\n",
       "      <td>2018-05-23</td>\n",
       "      <td>ultra</td>\n",
       "      <td>1950.0</td>\n",
       "    </tr>\n",
       "    <tr>\n",
       "      <th>3196</th>\n",
       "      <td>1231</td>\n",
       "      <td>8</td>\n",
       "      <td>NaN</td>\n",
       "      <td>0</td>\n",
       "      <td>32045.70</td>\n",
       "      <td>180</td>\n",
       "      <td>63</td>\n",
       "      <td>NaN</td>\n",
       "      <td>Чебоксары</td>\n",
       "      <td>Касьян</td>\n",
       "      <td>Авдюков</td>\n",
       "      <td>2018-05-23</td>\n",
       "      <td>ultra</td>\n",
       "      <td>2350.0</td>\n",
       "    </tr>\n",
       "    <tr>\n",
       "      <th>3197</th>\n",
       "      <td>1231</td>\n",
       "      <td>9</td>\n",
       "      <td>NaN</td>\n",
       "      <td>0</td>\n",
       "      <td>33189.47</td>\n",
       "      <td>188</td>\n",
       "      <td>63</td>\n",
       "      <td>NaN</td>\n",
       "      <td>Чебоксары</td>\n",
       "      <td>Касьян</td>\n",
       "      <td>Авдюков</td>\n",
       "      <td>2018-05-23</td>\n",
       "      <td>ultra</td>\n",
       "      <td>2550.0</td>\n",
       "    </tr>\n",
       "    <tr>\n",
       "      <th>3198</th>\n",
       "      <td>1231</td>\n",
       "      <td>10</td>\n",
       "      <td>NaN</td>\n",
       "      <td>0</td>\n",
       "      <td>31032.93</td>\n",
       "      <td>185</td>\n",
       "      <td>63</td>\n",
       "      <td>NaN</td>\n",
       "      <td>Чебоксары</td>\n",
       "      <td>Касьян</td>\n",
       "      <td>Авдюков</td>\n",
       "      <td>2018-05-23</td>\n",
       "      <td>ultra</td>\n",
       "      <td>2150.0</td>\n",
       "    </tr>\n",
       "    <tr>\n",
       "      <th>3199</th>\n",
       "      <td>1231</td>\n",
       "      <td>11</td>\n",
       "      <td>NaN</td>\n",
       "      <td>0</td>\n",
       "      <td>27431.63</td>\n",
       "      <td>173</td>\n",
       "      <td>63</td>\n",
       "      <td>NaN</td>\n",
       "      <td>Чебоксары</td>\n",
       "      <td>Касьян</td>\n",
       "      <td>Авдюков</td>\n",
       "      <td>2018-05-23</td>\n",
       "      <td>ultra</td>\n",
       "      <td>1950.0</td>\n",
       "    </tr>\n",
       "    <tr>\n",
       "      <th>3200</th>\n",
       "      <td>1231</td>\n",
       "      <td>12</td>\n",
       "      <td>NaN</td>\n",
       "      <td>0</td>\n",
       "      <td>32448.00</td>\n",
       "      <td>191</td>\n",
       "      <td>63</td>\n",
       "      <td>NaN</td>\n",
       "      <td>Чебоксары</td>\n",
       "      <td>Касьян</td>\n",
       "      <td>Авдюков</td>\n",
       "      <td>2018-05-23</td>\n",
       "      <td>ultra</td>\n",
       "      <td>2350.0</td>\n",
       "    </tr>\n",
       "    <tr>\n",
       "      <th>3201</th>\n",
       "      <td>1328</td>\n",
       "      <td>10</td>\n",
       "      <td>NaN</td>\n",
       "      <td>0</td>\n",
       "      <td>22427.98</td>\n",
       "      <td>6</td>\n",
       "      <td>44</td>\n",
       "      <td>NaN</td>\n",
       "      <td>Мурманск</td>\n",
       "      <td>Рауль</td>\n",
       "      <td>Аркадьев</td>\n",
       "      <td>2018-10-16</td>\n",
       "      <td>ultra</td>\n",
       "      <td>1950.0</td>\n",
       "    </tr>\n",
       "    <tr>\n",
       "      <th>3202</th>\n",
       "      <td>1328</td>\n",
       "      <td>11</td>\n",
       "      <td>NaN</td>\n",
       "      <td>0</td>\n",
       "      <td>35525.58</td>\n",
       "      <td>8</td>\n",
       "      <td>44</td>\n",
       "      <td>NaN</td>\n",
       "      <td>Мурманск</td>\n",
       "      <td>Рауль</td>\n",
       "      <td>Аркадьев</td>\n",
       "      <td>2018-10-16</td>\n",
       "      <td>ultra</td>\n",
       "      <td>2950.0</td>\n",
       "    </tr>\n",
       "    <tr>\n",
       "      <th>3203</th>\n",
       "      <td>1328</td>\n",
       "      <td>12</td>\n",
       "      <td>NaN</td>\n",
       "      <td>0</td>\n",
       "      <td>39419.73</td>\n",
       "      <td>7</td>\n",
       "      <td>44</td>\n",
       "      <td>NaN</td>\n",
       "      <td>Мурманск</td>\n",
       "      <td>Рауль</td>\n",
       "      <td>Аркадьев</td>\n",
       "      <td>2018-10-16</td>\n",
       "      <td>ultra</td>\n",
       "      <td>3750.0</td>\n",
       "    </tr>\n",
       "    <tr>\n",
       "      <th>3204</th>\n",
       "      <td>1473</td>\n",
       "      <td>8</td>\n",
       "      <td>NaN</td>\n",
       "      <td>0</td>\n",
       "      <td>12905.40</td>\n",
       "      <td>17</td>\n",
       "      <td>18</td>\n",
       "      <td>NaN</td>\n",
       "      <td>Красноярск</td>\n",
       "      <td>Николай</td>\n",
       "      <td>Лебедев</td>\n",
       "      <td>2018-08-05</td>\n",
       "      <td>ultra</td>\n",
       "      <td>1950.0</td>\n",
       "    </tr>\n",
       "    <tr>\n",
       "      <th>3205</th>\n",
       "      <td>1473</td>\n",
       "      <td>9</td>\n",
       "      <td>NaN</td>\n",
       "      <td>0</td>\n",
       "      <td>17289.85</td>\n",
       "      <td>19</td>\n",
       "      <td>18</td>\n",
       "      <td>NaN</td>\n",
       "      <td>Красноярск</td>\n",
       "      <td>Николай</td>\n",
       "      <td>Лебедев</td>\n",
       "      <td>2018-08-05</td>\n",
       "      <td>ultra</td>\n",
       "      <td>1950.0</td>\n",
       "    </tr>\n",
       "    <tr>\n",
       "      <th>3206</th>\n",
       "      <td>1473</td>\n",
       "      <td>10</td>\n",
       "      <td>NaN</td>\n",
       "      <td>0</td>\n",
       "      <td>13688.65</td>\n",
       "      <td>20</td>\n",
       "      <td>18</td>\n",
       "      <td>NaN</td>\n",
       "      <td>Красноярск</td>\n",
       "      <td>Николай</td>\n",
       "      <td>Лебедев</td>\n",
       "      <td>2018-08-05</td>\n",
       "      <td>ultra</td>\n",
       "      <td>1950.0</td>\n",
       "    </tr>\n",
       "    <tr>\n",
       "      <th>3207</th>\n",
       "      <td>1473</td>\n",
       "      <td>11</td>\n",
       "      <td>NaN</td>\n",
       "      <td>0</td>\n",
       "      <td>21673.80</td>\n",
       "      <td>14</td>\n",
       "      <td>18</td>\n",
       "      <td>NaN</td>\n",
       "      <td>Красноярск</td>\n",
       "      <td>Николай</td>\n",
       "      <td>Лебедев</td>\n",
       "      <td>2018-08-05</td>\n",
       "      <td>ultra</td>\n",
       "      <td>1950.0</td>\n",
       "    </tr>\n",
       "    <tr>\n",
       "      <th>3208</th>\n",
       "      <td>1473</td>\n",
       "      <td>12</td>\n",
       "      <td>NaN</td>\n",
       "      <td>0</td>\n",
       "      <td>18418.26</td>\n",
       "      <td>20</td>\n",
       "      <td>18</td>\n",
       "      <td>NaN</td>\n",
       "      <td>Красноярск</td>\n",
       "      <td>Николай</td>\n",
       "      <td>Лебедев</td>\n",
       "      <td>2018-08-05</td>\n",
       "      <td>ultra</td>\n",
       "      <td>1950.0</td>\n",
       "    </tr>\n",
       "    <tr>\n",
       "      <th>3209</th>\n",
       "      <td>1489</td>\n",
       "      <td>8</td>\n",
       "      <td>NaN</td>\n",
       "      <td>0</td>\n",
       "      <td>11050.56</td>\n",
       "      <td>17</td>\n",
       "      <td>35</td>\n",
       "      <td>NaN</td>\n",
       "      <td>Санкт-Петербург</td>\n",
       "      <td>Павел</td>\n",
       "      <td>Гончаров</td>\n",
       "      <td>2018-08-15</td>\n",
       "      <td>smart</td>\n",
       "      <td>550.0</td>\n",
       "    </tr>\n",
       "    <tr>\n",
       "      <th>3210</th>\n",
       "      <td>1489</td>\n",
       "      <td>9</td>\n",
       "      <td>NaN</td>\n",
       "      <td>0</td>\n",
       "      <td>17206.30</td>\n",
       "      <td>32</td>\n",
       "      <td>35</td>\n",
       "      <td>NaN</td>\n",
       "      <td>Санкт-Петербург</td>\n",
       "      <td>Павел</td>\n",
       "      <td>Гончаров</td>\n",
       "      <td>2018-08-15</td>\n",
       "      <td>smart</td>\n",
       "      <td>950.0</td>\n",
       "    </tr>\n",
       "    <tr>\n",
       "      <th>3211</th>\n",
       "      <td>1489</td>\n",
       "      <td>10</td>\n",
       "      <td>NaN</td>\n",
       "      <td>0</td>\n",
       "      <td>19559.44</td>\n",
       "      <td>21</td>\n",
       "      <td>35</td>\n",
       "      <td>NaN</td>\n",
       "      <td>Санкт-Петербург</td>\n",
       "      <td>Павел</td>\n",
       "      <td>Гончаров</td>\n",
       "      <td>2018-08-15</td>\n",
       "      <td>smart</td>\n",
       "      <td>1550.0</td>\n",
       "    </tr>\n",
       "    <tr>\n",
       "      <th>3212</th>\n",
       "      <td>1489</td>\n",
       "      <td>11</td>\n",
       "      <td>NaN</td>\n",
       "      <td>0</td>\n",
       "      <td>17491.56</td>\n",
       "      <td>20</td>\n",
       "      <td>35</td>\n",
       "      <td>NaN</td>\n",
       "      <td>Санкт-Петербург</td>\n",
       "      <td>Павел</td>\n",
       "      <td>Гончаров</td>\n",
       "      <td>2018-08-15</td>\n",
       "      <td>smart</td>\n",
       "      <td>1150.0</td>\n",
       "    </tr>\n",
       "    <tr>\n",
       "      <th>3213</th>\n",
       "      <td>1489</td>\n",
       "      <td>12</td>\n",
       "      <td>NaN</td>\n",
       "      <td>0</td>\n",
       "      <td>17322.51</td>\n",
       "      <td>35</td>\n",
       "      <td>35</td>\n",
       "      <td>NaN</td>\n",
       "      <td>Санкт-Петербург</td>\n",
       "      <td>Павел</td>\n",
       "      <td>Гончаров</td>\n",
       "      <td>2018-08-15</td>\n",
       "      <td>smart</td>\n",
       "      <td>950.0</td>\n",
       "    </tr>\n",
       "  </tbody>\n",
       "</table>\n",
       "</div>"
      ],
      "text/plain": [
       "      user_id  month  calls  minutes_sum   mb_used  messages_count  age  \\\n",
       "3164     1496     12   80.0          518  20736.15              51   36   \n",
       "3165     1497     10   66.0          490  11500.29              20   32   \n",
       "3166     1497     11   64.0          371  14156.08              14   32   \n",
       "3167     1497     12   71.0          545  19918.60              17   32   \n",
       "3168     1498      7   23.0          175   7476.24              20   68   \n",
       "3169     1498      8   57.0          400  24235.21              62   68   \n",
       "3170     1498      9   59.0          471  22134.41              44   68   \n",
       "3171     1498     10   41.0          247  20579.36              42   68   \n",
       "3172     1499      9    9.0           70   1845.75              11   35   \n",
       "3173     1499     10   68.0          449  17788.51              48   35   \n",
       "3174     1499     11   74.0          612  17963.31              59   35   \n",
       "3175     1499     12   69.0          492  13055.58              66   35   \n",
       "3176     1091      5    NaN            0  10703.37              30   36   \n",
       "3177     1091      6    NaN            0  10236.19              30   36   \n",
       "3178     1091      7    NaN            0  16444.98              35   36   \n",
       "3179     1091      8    NaN            0  12633.88              31   36   \n",
       "3180     1091      9    NaN            0  16597.11              32   36   \n",
       "3181     1091     10    NaN            0  15644.73              44   36   \n",
       "3182     1091     11    NaN            0  11864.25              28   36   \n",
       "3183     1091     12    NaN            0  13280.45              42   36   \n",
       "3184     1106      4    NaN            0   2923.49               9   67   \n",
       "3185     1106      5    NaN            0  16573.01              28   67   \n",
       "3186     1106      6    NaN            0  20016.74              30   67   \n",
       "3187     1106      7    NaN            0  21626.86              24   67   \n",
       "3188     1106      8    NaN            0  19088.67              25   67   \n",
       "3189     1106      9    NaN            0  21934.03              23   67   \n",
       "3190     1106     10    NaN            0  14010.32              33   67   \n",
       "3191     1106     11    NaN            0  21289.27              29   67   \n",
       "3192     1106     12    NaN            0  18701.51              24   67   \n",
       "3193     1231      5    NaN            0  10858.89              55   63   \n",
       "3194     1231      6    NaN            0  27825.92             201   63   \n",
       "3195     1231      7    NaN            0  27695.83             211   63   \n",
       "3196     1231      8    NaN            0  32045.70             180   63   \n",
       "3197     1231      9    NaN            0  33189.47             188   63   \n",
       "3198     1231     10    NaN            0  31032.93             185   63   \n",
       "3199     1231     11    NaN            0  27431.63             173   63   \n",
       "3200     1231     12    NaN            0  32448.00             191   63   \n",
       "3201     1328     10    NaN            0  22427.98               6   44   \n",
       "3202     1328     11    NaN            0  35525.58               8   44   \n",
       "3203     1328     12    NaN            0  39419.73               7   44   \n",
       "3204     1473      8    NaN            0  12905.40              17   18   \n",
       "3205     1473      9    NaN            0  17289.85              19   18   \n",
       "3206     1473     10    NaN            0  13688.65              20   18   \n",
       "3207     1473     11    NaN            0  21673.80              14   18   \n",
       "3208     1473     12    NaN            0  18418.26              20   18   \n",
       "3209     1489      8    NaN            0  11050.56              17   35   \n",
       "3210     1489      9    NaN            0  17206.30              32   35   \n",
       "3211     1489     10    NaN            0  19559.44              21   35   \n",
       "3212     1489     11    NaN            0  17491.56              20   35   \n",
       "3213     1489     12    NaN            0  17322.51              35   35   \n",
       "\n",
       "      churn_date              city first_name last_name    reg_date tariff  \\\n",
       "3164         NaN           Вологда     Трифон    Блохин  2018-01-27  smart   \n",
       "3165         NaN         Челябинск   Каролина    Агеева  2018-10-09  smart   \n",
       "3166         NaN         Челябинск   Каролина    Агеева  2018-10-09  smart   \n",
       "3167         NaN         Челябинск   Каролина    Агеева  2018-10-09  smart   \n",
       "3168  2018-10-25       Владикавказ   Всеволод   Акимчин  2018-07-19  smart   \n",
       "3169  2018-10-25       Владикавказ   Всеволод   Акимчин  2018-07-19  smart   \n",
       "3170  2018-10-25       Владикавказ   Всеволод   Акимчин  2018-07-19  smart   \n",
       "3171  2018-10-25       Владикавказ   Всеволод   Акимчин  2018-07-19  smart   \n",
       "3172         NaN             Пермь     Гектор  Корнилов  2018-09-27  smart   \n",
       "3173         NaN             Пермь     Гектор  Корнилов  2018-09-27  smart   \n",
       "3174         NaN             Пермь     Гектор  Корнилов  2018-09-27  smart   \n",
       "3175         NaN             Пермь     Гектор  Корнилов  2018-09-27  smart   \n",
       "3176         NaN  Набережные Челны       Вера   Суслова  2018-05-08  ultra   \n",
       "3177         NaN  Набережные Челны       Вера   Суслова  2018-05-08  ultra   \n",
       "3178         NaN  Набережные Челны       Вера   Суслова  2018-05-08  ultra   \n",
       "3179         NaN  Набережные Челны       Вера   Суслова  2018-05-08  ultra   \n",
       "3180         NaN  Набережные Челны       Вера   Суслова  2018-05-08  ultra   \n",
       "3181         NaN  Набережные Челны       Вера   Суслова  2018-05-08  ultra   \n",
       "3182         NaN  Набережные Челны       Вера   Суслова  2018-05-08  ultra   \n",
       "3183         NaN  Набережные Челны       Вера   Суслова  2018-05-08  ultra   \n",
       "3184         NaN            Калуга      Исаак    Костин  2018-04-26  ultra   \n",
       "3185         NaN            Калуга      Исаак    Костин  2018-04-26  ultra   \n",
       "3186         NaN            Калуга      Исаак    Костин  2018-04-26  ultra   \n",
       "3187         NaN            Калуга      Исаак    Костин  2018-04-26  ultra   \n",
       "3188         NaN            Калуга      Исаак    Костин  2018-04-26  ultra   \n",
       "3189         NaN            Калуга      Исаак    Костин  2018-04-26  ultra   \n",
       "3190         NaN            Калуга      Исаак    Костин  2018-04-26  ultra   \n",
       "3191         NaN            Калуга      Исаак    Костин  2018-04-26  ultra   \n",
       "3192         NaN            Калуга      Исаак    Костин  2018-04-26  ultra   \n",
       "3193         NaN         Чебоксары     Касьян   Авдюков  2018-05-23  ultra   \n",
       "3194         NaN         Чебоксары     Касьян   Авдюков  2018-05-23  ultra   \n",
       "3195         NaN         Чебоксары     Касьян   Авдюков  2018-05-23  ultra   \n",
       "3196         NaN         Чебоксары     Касьян   Авдюков  2018-05-23  ultra   \n",
       "3197         NaN         Чебоксары     Касьян   Авдюков  2018-05-23  ultra   \n",
       "3198         NaN         Чебоксары     Касьян   Авдюков  2018-05-23  ultra   \n",
       "3199         NaN         Чебоксары     Касьян   Авдюков  2018-05-23  ultra   \n",
       "3200         NaN         Чебоксары     Касьян   Авдюков  2018-05-23  ultra   \n",
       "3201         NaN          Мурманск      Рауль  Аркадьев  2018-10-16  ultra   \n",
       "3202         NaN          Мурманск      Рауль  Аркадьев  2018-10-16  ultra   \n",
       "3203         NaN          Мурманск      Рауль  Аркадьев  2018-10-16  ultra   \n",
       "3204         NaN        Красноярск    Николай   Лебедев  2018-08-05  ultra   \n",
       "3205         NaN        Красноярск    Николай   Лебедев  2018-08-05  ultra   \n",
       "3206         NaN        Красноярск    Николай   Лебедев  2018-08-05  ultra   \n",
       "3207         NaN        Красноярск    Николай   Лебедев  2018-08-05  ultra   \n",
       "3208         NaN        Красноярск    Николай   Лебедев  2018-08-05  ultra   \n",
       "3209         NaN   Санкт-Петербург      Павел  Гончаров  2018-08-15  smart   \n",
       "3210         NaN   Санкт-Петербург      Павел  Гончаров  2018-08-15  smart   \n",
       "3211         NaN   Санкт-Петербург      Павел  Гончаров  2018-08-15  smart   \n",
       "3212         NaN   Санкт-Петербург      Павел  Гончаров  2018-08-15  smart   \n",
       "3213         NaN   Санкт-Петербург      Павел  Гончаров  2018-08-15  smart   \n",
       "\n",
       "      profit_for_user  \n",
       "3164           1858.0  \n",
       "3165            550.0  \n",
       "3166            550.0  \n",
       "3167           1685.0  \n",
       "3168            550.0  \n",
       "3169           2050.0  \n",
       "3170           1950.0  \n",
       "3171           1750.0  \n",
       "3172            550.0  \n",
       "3173           1150.0  \n",
       "3174           1822.0  \n",
       "3175            526.0  \n",
       "3176           1950.0  \n",
       "3177           1950.0  \n",
       "3178           1950.0  \n",
       "3179           1950.0  \n",
       "3180           1950.0  \n",
       "3181           1950.0  \n",
       "3182           1950.0  \n",
       "3183           1950.0  \n",
       "3184           1950.0  \n",
       "3185           1950.0  \n",
       "3186           1950.0  \n",
       "3187           1950.0  \n",
       "3188           1950.0  \n",
       "3189           1950.0  \n",
       "3190           1950.0  \n",
       "3191           1950.0  \n",
       "3192           1950.0  \n",
       "3193           1950.0  \n",
       "3194           1950.0  \n",
       "3195           1950.0  \n",
       "3196           2350.0  \n",
       "3197           2550.0  \n",
       "3198           2150.0  \n",
       "3199           1950.0  \n",
       "3200           2350.0  \n",
       "3201           1950.0  \n",
       "3202           2950.0  \n",
       "3203           3750.0  \n",
       "3204           1950.0  \n",
       "3205           1950.0  \n",
       "3206           1950.0  \n",
       "3207           1950.0  \n",
       "3208           1950.0  \n",
       "3209            550.0  \n",
       "3210            950.0  \n",
       "3211           1550.0  \n",
       "3212           1150.0  \n",
       "3213            950.0  "
      ]
     },
     "metadata": {},
     "output_type": "display_data"
    }
   ],
   "source": [
    "calls_groupied['profit_for_user'] = calls_groupied.apply(calc_profit, axis=1)\n",
    "display(calls_groupied.tail(50))\n"
   ]
  },
  {
   "cell_type": "markdown",
   "id": "15b3cbd6",
   "metadata": {},
   "source": [
    "Выведем средние количества потраченных минут, смс, мегабайт по каждому тарифу за год"
   ]
  },
  {
   "cell_type": "code",
   "execution_count": 35,
   "id": "08db62a2",
   "metadata": {},
   "outputs": [
    {
     "data": {
      "text/plain": [
       "2110.203045685279"
      ]
     },
     "metadata": {},
     "output_type": "display_data"
    },
    {
     "data": {
      "text/plain": [
       "1256.2157918349035"
      ]
     },
     "metadata": {},
     "output_type": "display_data"
    },
    {
     "data": {
      "text/plain": [
       "526.6233502538071"
      ]
     },
     "metadata": {},
     "output_type": "display_data"
    },
    {
     "data": {
      "text/plain": [
       "417.9349484073576"
      ]
     },
     "metadata": {},
     "output_type": "display_data"
    },
    {
     "data": {
      "text/plain": [
       "19468.805208121827"
      ]
     },
     "metadata": {},
     "output_type": "display_data"
    },
    {
     "data": {
      "text/plain": [
       "16208.386989681472"
      ]
     },
     "metadata": {},
     "output_type": "display_data"
    },
    {
     "data": {
      "text/plain": [
       "49.36345177664975"
      ]
     },
     "metadata": {},
     "output_type": "display_data"
    },
    {
     "data": {
      "text/plain": [
       "33.384028712427096"
      ]
     },
     "metadata": {},
     "output_type": "display_data"
    }
   ],
   "source": [
    "display(calls_groupied[calls_groupied['tariff'] == 'ultra']['profit_for_user'].mean())\n",
    "display(calls_groupied[calls_groupied['tariff'] == 'smart']['profit_for_user'].mean())\n",
    "display(calls_groupied[calls_groupied['tariff'] == 'ultra']['minutes_sum'].mean())\n",
    "display(calls_groupied[calls_groupied['tariff'] == 'smart']['minutes_sum'].mean())\n",
    "display(calls_groupied[calls_groupied['tariff'] == 'ultra']['mb_used'].mean())\n",
    "display(calls_groupied[calls_groupied['tariff'] == 'smart']['mb_used'].mean())\n",
    "display(calls_groupied[calls_groupied['tariff'] == 'ultra']['messages_count'].mean())\n",
    "display(calls_groupied[calls_groupied['tariff'] == 'smart']['messages_count'].mean())"
   ]
  },
  {
   "cell_type": "markdown",
   "id": "b2d1e916",
   "metadata": {},
   "source": [
    "## 4. Проверка гипотез<a id=\"fourth\"></a>"
   ]
  },
  {
   "cell_type": "markdown",
   "id": "ee465590",
   "metadata": {},
   "source": [
    "### Проверка первой гипотезы о равности средних выручек обоих тарифов"
   ]
  },
  {
   "cell_type": "markdown",
   "id": "0a57a04b",
   "metadata": {},
   "source": [
    "Формулируем нулевую и альтернативную гипотезу:"
   ]
  },
  {
   "cell_type": "markdown",
   "id": "28418693",
   "metadata": {},
   "source": [
    "Н0 = Средняя выручка пользователей тарифа «Ультра» равна средней выручке пользователей траифа «Смарт»\n",
    "\n",
    "H1 = Средняя выручка пользователей тарифа «Ультра» отличается от средней выручки пользователей траифа «Смарт»"
   ]
  },
  {
   "cell_type": "code",
   "execution_count": 36,
   "id": "a3bdadf9",
   "metadata": {},
   "outputs": [
    {
     "name": "stdout",
     "output_type": "stream",
     "text": [
      "Размер выборки средней выручки пользователей тарифа \"Ультра\": 985\n",
      "Размер выборки средней выручки пользователей тарифа \"Смарт\": 2229\n",
      "p-value: 3.7773690876612094e-220\n",
      "Отвергаем нулевую гипотезу.\n"
     ]
    }
   ],
   "source": [
    "sample_users_smart_count = int(calls_groupied[calls_groupied['tariff'] == 'smart']['profit_for_user'].count())#смторим размер выборки из средних выручек пользователей траифа «Смарт»\n",
    "sample_users_ultra_count = int(calls_groupied[calls_groupied['tariff'] == 'ultra']['profit_for_user'].count())#смторим размер выборки из средних выручек пользователей траифа «Ультра»\n",
    "print(f'Размер выборки средней выручки пользователей тарифа \"Ультра\": {sample_users_ultra_count}')#Выводим результат\n",
    "print(f'Размер выборки средней выручки пользователей тарифа \"Смарт\": {sample_users_smart_count}')#Выводим результат\n",
    "\n",
    "\n",
    "alpha = 0.05# коэффициент значимости установим в 5%\n",
    "\n",
    "\n",
    "\n",
    "results = st.ttest_ind(\n",
    "    calls_groupied[calls_groupied['tariff'] == 'ultra']['profit_for_user'],\n",
    "    calls_groupied[calls_groupied['tariff'] == 'smart']['profit_for_user'],\n",
    "    equal_var = False\n",
    ")#Проводим ttest между двумя выборками разных размеров\n",
    "\n",
    "print('p-value:', results.pvalue)#Гипотеза двусторонняя, p-value целое\n",
    "\n",
    "if results.pvalue < alpha:\n",
    "    print('Отвергаем нулевую гипотезу.')\n",
    "else:\n",
    "    print('Не получилось отвергнуть нулевую гипотезу')"
   ]
  },
  {
   "cell_type": "markdown",
   "id": "84b3da04",
   "metadata": {},
   "source": [
    "### Проверка второй гипотезы об отличии средней выручки пользователей из москвы Москвы от средней выручки пользователей из других регионов"
   ]
  },
  {
   "cell_type": "markdown",
   "id": "59708851",
   "metadata": {},
   "source": [
    "Формулируем нулевую и альтернативную гипотезу:"
   ]
  },
  {
   "cell_type": "markdown",
   "id": "4ff38c50",
   "metadata": {},
   "source": [
    "Н0 = Средняя выручка пользователей из Москвы равна средней выручке пользователей из других регионов\n",
    "\n",
    "H1 = Средняя выручка пользователей из Москвы отличается от средней выручки пользователей из других регионов"
   ]
  },
  {
   "cell_type": "code",
   "execution_count": 37,
   "id": "32f4ba38",
   "metadata": {},
   "outputs": [
    {
     "name": "stdout",
     "output_type": "stream",
     "text": [
      "Размер выборки срейдней выручки пользователей из Москвы: 611\n",
      "Размер выборки срейдней выручки пользователей из других регионов: 2603\n",
      "p-value: 0.24937605834631194\n",
      "Не удалось отвергнуть нулевую гипотезу\n"
     ]
    }
   ],
   "source": [
    "sample_users_moscow_count = calls_groupied[calls_groupied['city'] == 'Москва']['profit_for_user'].count()#смторим размер выборки из средних выручек пользователей из Москвы \n",
    "sample_users_not_from_moscow_count = calls_groupied[calls_groupied['city'] != 'Москва']['profit_for_user'].count()#смторим размер выборки из средних выручек пользователей не из Москвы\n",
    "print('Размер выборки срейдней выручки пользователей из Москвы:', sample_users_moscow_count)#выводим результаты\n",
    "print('Размер выборки срейдней выручки пользователей из других регионов:', sample_users_not_from_moscow_count)#выводим результаты\n",
    "\n",
    "alpha = .05# коэффициент значимости установим в 5%\n",
    "\n",
    "result = st.ttest_ind(\n",
    "    calls_groupied[calls_groupied['city'] == 'Москва']['profit_for_user'],\n",
    "    calls_groupied[calls_groupied['city'] != 'Москва']['profit_for_user'],\n",
    "    equal_var=False\n",
    ")#Проводим ttest между двумя выборками разных размеров\n",
    "\n",
    "print('p-value:', result.pvalue)#Гипотеза двусторонняя, p-value целое\n",
    "\n",
    "if result.pvalue < alpha:\n",
    "    print('Отвергаем нулевую гипотезу')\n",
    "else:\n",
    "    print('Не удалось отвергнуть нулевую гипотезу')"
   ]
  },
  {
   "cell_type": "markdown",
   "id": "b4c085cb",
   "metadata": {},
   "source": [
    "Нулевая гипотеза подбиралась из соображений наличия знака \"равно\".\n",
    "\n",
    "Альтернативные гипотезы в обоих случаях двусторонние, потому p-value не делится на 2.\n",
    "\n",
    "Параметр equal_var=False прописывался из-за того, что выборки разные по размеру.\n",
    "\n"
   ]
  },
  {
   "cell_type": "markdown",
   "id": "ceddff19",
   "metadata": {},
   "source": [
    "## Общий вывод<a id=\"fifth\"></a>\n"
   ]
  },
  {
   "cell_type": "markdown",
   "id": "ec29bf7d",
   "metadata": {},
   "source": [
    "Исходя из полученных данных можно сказать, что сообщения нынче отправлять не в моде, видимо в силу наличия мессенджеров и соцсетей с чатами. В звонках тоже были пропуски(нули), видмо эти люди брали сим-карты для планшетов. Интернетом пользуются практически все.\n",
    "Средний пользователь тарифа ultra приносит 2110 рублей\n",
    "Средний пользователь тарифа smart приносит 1256 рублей\n",
    "Средний пользователь тарифа ultra использует в месяц 526 минут сотовой связи\n",
    "Средний пользователь тарифа smart использует в месяц 417 минут сотовой связи\n",
    "Средний пользователь тарифа ultra использует в месяц 19468 мегабайт интернета\n",
    "Средний пользователь тарифа smart использует в месяц 16208 мегабайт интернета\n",
    "Средний пользователь тарифа ultra отправляет в месяц 49 сообщения\n",
    "Средний пользователь тарифа smart отправляет в месяц 33 сообщения\n",
    "\n",
    "Средние выборочные выручки тарифов отличаются достаточно существенно: smart - 1256 рублей, ultra - 2110 рублей.\n",
    "Проверка гипотез показала, что:\n",
    "1. Генеральные средние выручки тарифов smart и ultra скорей всего не равны (p-value 3.78)\n",
    "2. Генеральные средние выручки пользователей из Москвы вероятнее всего не отличаются от генеральной средней выручки других регионов(нулевая гипотеза о их равенстве отвергнута на основании p-value 0.25 при alpha 5%)\n",
    "\n",
    "\n",
    "**Тариф ultra приносит больше денег, заказчику рекомендуем больший упор в рекламе сделать на него!**"
   ]
  }
 ],
 "metadata": {
  "ExecuteTimeLog": [
   {
    "duration": 22,
    "start_time": "2022-04-16T09:29:16.081Z"
   },
   {
    "duration": 0,
    "start_time": "2022-04-16T09:29:16.106Z"
   },
   {
    "duration": 0,
    "start_time": "2022-04-16T09:29:16.107Z"
   },
   {
    "duration": 0,
    "start_time": "2022-04-16T09:29:16.109Z"
   },
   {
    "duration": 0,
    "start_time": "2022-04-16T09:29:16.110Z"
   },
   {
    "duration": 0,
    "start_time": "2022-04-16T09:29:16.111Z"
   },
   {
    "duration": 0,
    "start_time": "2022-04-16T09:29:16.113Z"
   },
   {
    "duration": 0,
    "start_time": "2022-04-16T09:29:16.114Z"
   },
   {
    "duration": 0,
    "start_time": "2022-04-16T09:29:16.115Z"
   },
   {
    "duration": 0,
    "start_time": "2022-04-16T09:29:16.116Z"
   },
   {
    "duration": 0,
    "start_time": "2022-04-16T09:29:16.118Z"
   },
   {
    "duration": 66,
    "start_time": "2022-04-16T09:29:16.122Z"
   },
   {
    "duration": 0,
    "start_time": "2022-04-16T09:29:16.191Z"
   },
   {
    "duration": 0,
    "start_time": "2022-04-16T09:29:16.192Z"
   },
   {
    "duration": 0,
    "start_time": "2022-04-16T09:29:16.194Z"
   },
   {
    "duration": 0,
    "start_time": "2022-04-16T09:29:16.195Z"
   },
   {
    "duration": 0,
    "start_time": "2022-04-16T09:29:16.196Z"
   },
   {
    "duration": 0,
    "start_time": "2022-04-16T09:29:16.198Z"
   },
   {
    "duration": 0,
    "start_time": "2022-04-16T09:29:16.199Z"
   },
   {
    "duration": 0,
    "start_time": "2022-04-16T09:29:16.201Z"
   },
   {
    "duration": 1237,
    "start_time": "2022-04-16T21:27:58.506Z"
   },
   {
    "duration": 423,
    "start_time": "2022-04-16T21:28:05.970Z"
   },
   {
    "duration": 13,
    "start_time": "2022-04-16T21:28:06.395Z"
   },
   {
    "duration": 26,
    "start_time": "2022-04-16T21:28:06.410Z"
   },
   {
    "duration": 266,
    "start_time": "2022-04-16T21:28:06.437Z"
   },
   {
    "duration": 245,
    "start_time": "2022-04-16T21:28:06.705Z"
   },
   {
    "duration": 227,
    "start_time": "2022-04-16T21:28:06.952Z"
   },
   {
    "duration": 13,
    "start_time": "2022-04-16T21:28:07.181Z"
   },
   {
    "duration": 39,
    "start_time": "2022-04-16T21:28:07.196Z"
   },
   {
    "duration": 4,
    "start_time": "2022-04-16T21:28:07.237Z"
   },
   {
    "duration": 605,
    "start_time": "2022-04-16T21:28:07.243Z"
   },
   {
    "duration": 194,
    "start_time": "2022-04-16T21:28:07.850Z"
   },
   {
    "duration": 138,
    "start_time": "2022-04-16T21:28:08.045Z"
   },
   {
    "duration": 168,
    "start_time": "2022-04-16T21:28:08.185Z"
   },
   {
    "duration": 136,
    "start_time": "2022-04-16T21:28:08.356Z"
   },
   {
    "duration": 187,
    "start_time": "2022-04-16T21:28:08.493Z"
   },
   {
    "duration": 6,
    "start_time": "2022-04-16T21:28:08.682Z"
   },
   {
    "duration": 215,
    "start_time": "2022-04-16T21:28:08.689Z"
   },
   {
    "duration": 25,
    "start_time": "2022-04-16T21:28:08.906Z"
   },
   {
    "duration": 10,
    "start_time": "2022-04-16T21:28:08.933Z"
   },
   {
    "duration": 13,
    "start_time": "2022-04-16T21:28:08.973Z"
   },
   {
    "duration": 1595,
    "start_time": "2022-04-17T09:25:55.919Z"
   },
   {
    "duration": 16,
    "start_time": "2022-04-17T09:25:57.516Z"
   },
   {
    "duration": 15,
    "start_time": "2022-04-17T09:25:57.533Z"
   },
   {
    "duration": 261,
    "start_time": "2022-04-17T09:25:57.549Z"
   },
   {
    "duration": 228,
    "start_time": "2022-04-17T09:25:57.812Z"
   },
   {
    "duration": 197,
    "start_time": "2022-04-17T09:25:58.042Z"
   },
   {
    "duration": 11,
    "start_time": "2022-04-17T09:25:58.248Z"
   },
   {
    "duration": 33,
    "start_time": "2022-04-17T09:25:58.261Z"
   },
   {
    "duration": 4,
    "start_time": "2022-04-17T09:25:58.295Z"
   },
   {
    "duration": 880,
    "start_time": "2022-04-17T09:25:58.301Z"
   },
   {
    "duration": 302,
    "start_time": "2022-04-17T09:25:59.184Z"
   },
   {
    "duration": 205,
    "start_time": "2022-04-17T09:25:59.488Z"
   },
   {
    "duration": 264,
    "start_time": "2022-04-17T09:25:59.695Z"
   },
   {
    "duration": 132,
    "start_time": "2022-04-17T09:25:59.962Z"
   },
   {
    "duration": 174,
    "start_time": "2022-04-17T09:26:00.096Z"
   },
   {
    "duration": 7,
    "start_time": "2022-04-17T09:26:00.271Z"
   },
   {
    "duration": 188,
    "start_time": "2022-04-17T09:26:00.280Z"
   },
   {
    "duration": 28,
    "start_time": "2022-04-17T09:26:00.471Z"
   },
   {
    "duration": 11,
    "start_time": "2022-04-17T09:26:00.501Z"
   },
   {
    "duration": 42,
    "start_time": "2022-04-17T09:26:00.514Z"
   },
   {
    "duration": 111,
    "start_time": "2022-04-17T15:38:52.303Z"
   },
   {
    "duration": 109,
    "start_time": "2022-04-17T15:48:16.642Z"
   },
   {
    "duration": 134,
    "start_time": "2022-04-17T15:49:26.785Z"
   },
   {
    "duration": 117,
    "start_time": "2022-04-17T15:49:59.520Z"
   },
   {
    "duration": 114,
    "start_time": "2022-04-17T15:50:48.444Z"
   },
   {
    "duration": 44,
    "start_time": "2022-04-17T15:51:14.250Z"
   },
   {
    "duration": 1203,
    "start_time": "2022-04-17T15:51:24.087Z"
   },
   {
    "duration": 13,
    "start_time": "2022-04-17T15:51:25.291Z"
   },
   {
    "duration": 17,
    "start_time": "2022-04-17T15:51:25.306Z"
   },
   {
    "duration": 271,
    "start_time": "2022-04-17T15:51:25.324Z"
   },
   {
    "duration": 237,
    "start_time": "2022-04-17T15:51:25.597Z"
   },
   {
    "duration": 204,
    "start_time": "2022-04-17T15:51:25.836Z"
   },
   {
    "duration": 13,
    "start_time": "2022-04-17T15:51:26.042Z"
   },
   {
    "duration": 37,
    "start_time": "2022-04-17T15:51:26.074Z"
   },
   {
    "duration": 5,
    "start_time": "2022-04-17T15:51:26.113Z"
   },
   {
    "duration": 2342,
    "start_time": "2022-04-17T15:51:26.120Z"
   },
   {
    "duration": 0,
    "start_time": "2022-04-17T15:51:28.464Z"
   },
   {
    "duration": 0,
    "start_time": "2022-04-17T15:51:28.465Z"
   },
   {
    "duration": 0,
    "start_time": "2022-04-17T15:51:28.466Z"
   },
   {
    "duration": 0,
    "start_time": "2022-04-17T15:51:28.466Z"
   },
   {
    "duration": 0,
    "start_time": "2022-04-17T15:51:28.467Z"
   },
   {
    "duration": 0,
    "start_time": "2022-04-17T15:51:28.468Z"
   },
   {
    "duration": 0,
    "start_time": "2022-04-17T15:51:28.469Z"
   },
   {
    "duration": 0,
    "start_time": "2022-04-17T15:51:28.470Z"
   },
   {
    "duration": 0,
    "start_time": "2022-04-17T15:51:28.471Z"
   },
   {
    "duration": 0,
    "start_time": "2022-04-17T15:51:28.472Z"
   },
   {
    "duration": 115,
    "start_time": "2022-04-17T15:52:12.284Z"
   },
   {
    "duration": 425,
    "start_time": "2022-04-17T15:54:23.479Z"
   },
   {
    "duration": 9,
    "start_time": "2022-04-17T15:54:23.906Z"
   },
   {
    "duration": 13,
    "start_time": "2022-04-17T15:54:23.917Z"
   },
   {
    "duration": 258,
    "start_time": "2022-04-17T15:54:23.932Z"
   },
   {
    "duration": 226,
    "start_time": "2022-04-17T15:54:24.192Z"
   },
   {
    "duration": 216,
    "start_time": "2022-04-17T15:54:24.419Z"
   },
   {
    "duration": 12,
    "start_time": "2022-04-17T15:54:24.637Z"
   },
   {
    "duration": 51,
    "start_time": "2022-04-17T15:54:24.651Z"
   },
   {
    "duration": 4,
    "start_time": "2022-04-17T15:54:24.704Z"
   },
   {
    "duration": 139,
    "start_time": "2022-04-17T15:54:24.711Z"
   },
   {
    "duration": 211,
    "start_time": "2022-04-17T15:54:24.852Z"
   },
   {
    "duration": 139,
    "start_time": "2022-04-17T15:54:25.072Z"
   },
   {
    "duration": 174,
    "start_time": "2022-04-17T15:54:25.213Z"
   },
   {
    "duration": 132,
    "start_time": "2022-04-17T15:54:25.388Z"
   },
   {
    "duration": 180,
    "start_time": "2022-04-17T15:54:25.522Z"
   },
   {
    "duration": 7,
    "start_time": "2022-04-17T15:54:25.704Z"
   },
   {
    "duration": 214,
    "start_time": "2022-04-17T15:54:25.712Z"
   },
   {
    "duration": 23,
    "start_time": "2022-04-17T15:54:25.927Z"
   },
   {
    "duration": 30,
    "start_time": "2022-04-17T15:54:25.952Z"
   },
   {
    "duration": 13,
    "start_time": "2022-04-17T15:54:25.983Z"
   },
   {
    "duration": 127,
    "start_time": "2022-04-17T15:57:32.247Z"
   },
   {
    "duration": 219,
    "start_time": "2022-04-17T16:01:31.544Z"
   },
   {
    "duration": 117,
    "start_time": "2022-04-17T16:02:55.298Z"
   },
   {
    "duration": 14,
    "start_time": "2022-04-17T16:56:29.720Z"
   },
   {
    "duration": 1934,
    "start_time": "2022-04-17T16:57:23.462Z"
   },
   {
    "duration": 255,
    "start_time": "2022-04-17T16:58:25.957Z"
   },
   {
    "duration": 260,
    "start_time": "2022-04-17T16:59:52.636Z"
   },
   {
    "duration": 246,
    "start_time": "2022-04-17T16:59:55.893Z"
   },
   {
    "duration": 346,
    "start_time": "2022-04-17T17:00:51.507Z"
   },
   {
    "duration": 262,
    "start_time": "2022-04-17T17:01:19.861Z"
   }
  ],
  "kernelspec": {
   "display_name": "Python 3 (ipykernel)",
   "language": "python",
   "name": "python3"
  },
  "language_info": {
   "codemirror_mode": {
    "name": "ipython",
    "version": 3
   },
   "file_extension": ".py",
   "mimetype": "text/x-python",
   "name": "python",
   "nbconvert_exporter": "python",
   "pygments_lexer": "ipython3",
   "version": "3.9.7"
  },
  "toc": {
   "base_numbering": 1,
   "nav_menu": {},
   "number_sections": true,
   "sideBar": true,
   "skip_h1_title": true,
   "title_cell": "Table of Contents",
   "title_sidebar": "Contents",
   "toc_cell": false,
   "toc_position": {},
   "toc_section_display": true,
   "toc_window_display": false
  }
 },
 "nbformat": 4,
 "nbformat_minor": 5
}
