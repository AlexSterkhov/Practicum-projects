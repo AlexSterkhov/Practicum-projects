{
 "cells": [
  {
   "cell_type": "markdown",
   "metadata": {},
   "source": [
    "# Выбор локации для скважины"
   ]
  },
  {
   "cell_type": "markdown",
   "metadata": {},
   "source": [
    "Мы работаем в добывающей компании «ГлавРосГосНефть». Нужно решить, где бурить новую скважину.\n",
    "\n",
    "Нам предоставлены пробы нефти в трёх регионах: в каждом 10 000 месторождений, где измерили качество нефти и объём её запасов. Требуется построить модель машинного обучения, которая поможет определить регион, где добыча принесёт наибольшую прибыль. Проанализируем возможную прибыль и риски техникой *Bootstrap.*\n",
    "\n",
    "Шаги для выбора локации:\n",
    "\n",
    "- В избранном регионе ищут месторождения, для каждого определяют значения признаков;\n",
    "- Строят модель и оценивают объём запасов;\n",
    "- Выбирают месторождения с самым высокими оценками значений. Количество месторождений зависит от бюджета компании и стоимости разработки одной скважины;\n",
    "- Прибыль равна суммарной прибыли отобранных месторождений."
   ]
  },
  {
   "cell_type": "markdown",
   "metadata": {},
   "source": [
    "## Загрузка и подготовка данных"
   ]
  },
  {
   "cell_type": "code",
   "execution_count": 1,
   "metadata": {},
   "outputs": [],
   "source": [
    "#Импортируем требуемые для выполнения проекта библиотеки\n",
    "import pandas as pd\n",
    "from sklearn.model_selection import train_test_split\n",
    "from sklearn.linear_model import LinearRegression\n",
    "from sklearn.metrics import mean_squared_error\n",
    "import numpy as np\n",
    "import math"
   ]
  },
  {
   "cell_type": "code",
   "execution_count": 2,
   "metadata": {},
   "outputs": [
    {
     "name": "stdout",
     "output_type": "stream",
     "text": [
      "      id        f0        f1        f2     product\n",
      "0  txEyH  0.705745 -0.497823  1.221170  105.280062\n",
      "1  2acmU  1.334711 -0.340164  4.365080   73.037750\n",
      "2  409Wp  1.022732  0.151990  1.419926   85.265647\n",
      "3  iJLyR -0.032172  0.139033  2.978566  168.620776\n",
      "4  Xdl7t  1.988431  0.155413  4.751769  154.036647\n",
      "      id         f0         f1        f2     product\n",
      "0  kBEdx -15.001348  -8.276000 -0.005876    3.179103\n",
      "1  62mP7  14.272088  -3.475083  0.999183   26.953261\n",
      "2  vyE1P   6.263187  -5.948386  5.001160  134.766305\n",
      "3  KcrkZ -13.081196 -11.506057  4.999415  137.945408\n",
      "4  AHL4O  12.702195  -8.147433  5.004363  134.766305\n",
      "      id        f0        f1        f2     product\n",
      "0  fwXo0 -1.146987  0.963328 -0.828965   27.758673\n",
      "1  WJtFt  0.262778  0.269839 -2.530187   56.069697\n",
      "2  ovLUW  0.194587  0.289035 -5.586433   62.871910\n",
      "3  q6cA6  2.236060 -0.553760  0.930038  114.572842\n",
      "4  WPMUX -0.515993  1.716266  5.899011  149.600746\n"
     ]
    }
   ],
   "source": [
    "#Помещаем датасеты в переменные и выводим первые пять строк для ознакомления \n",
    "data_1 = pd.read_csv('/datasets/geo_data_0.csv')\n",
    "data_2 = pd.read_csv('/datasets/geo_data_1.csv')\n",
    "data_3 = pd.read_csv('/datasets/geo_data_2.csv')\n",
    "print(data_1.head())\n",
    "print(data_2.head())\n",
    "print(data_3.head())\n",
    "\n"
   ]
  },
  {
   "cell_type": "code",
   "execution_count": 3,
   "metadata": {},
   "outputs": [
    {
     "name": "stdout",
     "output_type": "stream",
     "text": [
      "<class 'pandas.core.frame.DataFrame'>\n",
      "RangeIndex: 100000 entries, 0 to 99999\n",
      "Data columns (total 5 columns):\n",
      " #   Column   Non-Null Count   Dtype  \n",
      "---  ------   --------------   -----  \n",
      " 0   id       100000 non-null  object \n",
      " 1   f0       100000 non-null  float64\n",
      " 2   f1       100000 non-null  float64\n",
      " 3   f2       100000 non-null  float64\n",
      " 4   product  100000 non-null  float64\n",
      "dtypes: float64(4), object(1)\n",
      "memory usage: 3.8+ MB\n",
      "None\n",
      "<class 'pandas.core.frame.DataFrame'>\n",
      "RangeIndex: 100000 entries, 0 to 99999\n",
      "Data columns (total 5 columns):\n",
      " #   Column   Non-Null Count   Dtype  \n",
      "---  ------   --------------   -----  \n",
      " 0   id       100000 non-null  object \n",
      " 1   f0       100000 non-null  float64\n",
      " 2   f1       100000 non-null  float64\n",
      " 3   f2       100000 non-null  float64\n",
      " 4   product  100000 non-null  float64\n",
      "dtypes: float64(4), object(1)\n",
      "memory usage: 3.8+ MB\n",
      "None\n",
      "<class 'pandas.core.frame.DataFrame'>\n",
      "RangeIndex: 100000 entries, 0 to 99999\n",
      "Data columns (total 5 columns):\n",
      " #   Column   Non-Null Count   Dtype  \n",
      "---  ------   --------------   -----  \n",
      " 0   id       100000 non-null  object \n",
      " 1   f0       100000 non-null  float64\n",
      " 2   f1       100000 non-null  float64\n",
      " 3   f2       100000 non-null  float64\n",
      " 4   product  100000 non-null  float64\n",
      "dtypes: float64(4), object(1)\n",
      "memory usage: 3.8+ MB\n",
      "None\n"
     ]
    }
   ],
   "source": [
    "#Посмотрим общую информацию о датасетах\n",
    "print(data_1.info())\n",
    "print(data_2.info())\n",
    "print(data_3.info())"
   ]
  },
  {
   "cell_type": "code",
   "execution_count": 4,
   "metadata": {},
   "outputs": [
    {
     "name": "stdout",
     "output_type": "stream",
     "text": [
      "                  f0             f1             f2        product\n",
      "count  100000.000000  100000.000000  100000.000000  100000.000000\n",
      "mean        0.500419       0.250143       2.502647      92.500000\n",
      "std         0.871832       0.504433       3.248248      44.288691\n",
      "min        -1.408605      -0.848218     -12.088328       0.000000\n",
      "25%        -0.072580      -0.200881       0.287748      56.497507\n",
      "50%         0.502360       0.250252       2.515969      91.849972\n",
      "75%         1.073581       0.700646       4.715088     128.564089\n",
      "max         2.362331       1.343769      16.003790     185.364347\n",
      "                  f0             f1             f2        product\n",
      "count  100000.000000  100000.000000  100000.000000  100000.000000\n",
      "mean        1.141296      -4.796579       2.494541      68.825000\n",
      "std         8.965932       5.119872       1.703572      45.944423\n",
      "min       -31.609576     -26.358598      -0.018144       0.000000\n",
      "25%        -6.298551      -8.267985       1.000021      26.953261\n",
      "50%         1.153055      -4.813172       2.011479      57.085625\n",
      "75%         8.621015      -1.332816       3.999904     107.813044\n",
      "max        29.421755      18.734063       5.019721     137.945408\n",
      "                  f0             f1             f2        product\n",
      "count  100000.000000  100000.000000  100000.000000  100000.000000\n",
      "mean        0.002023      -0.002081       2.495128      95.000000\n",
      "std         1.732045       1.730417       3.473445      44.749921\n",
      "min        -8.760004      -7.084020     -11.970335       0.000000\n",
      "25%        -1.162288      -1.174820       0.130359      59.450441\n",
      "50%         0.009424      -0.009482       2.484236      94.925613\n",
      "75%         1.158535       1.163678       4.858794     130.595027\n",
      "max         7.238262       7.844801      16.739402     190.029838\n"
     ]
    }
   ],
   "source": [
    "#Посмотрим описательные статистики, квантили\n",
    "print(data_1.describe())\n",
    "print(data_2.describe())\n",
    "print(data_3.describe())"
   ]
  },
  {
   "cell_type": "markdown",
   "metadata": {},
   "source": [
    "Посмотрим как коррелируют друг с другом данные внутри датасетов"
   ]
  },
  {
   "cell_type": "code",
   "execution_count": 5,
   "metadata": {},
   "outputs": [
    {
     "name": "stdout",
     "output_type": "stream",
     "text": [
      "               f0        f1        f2   product\n",
      "f0       1.000000 -0.440723 -0.003153  0.143536\n",
      "f1      -0.440723  1.000000  0.001724 -0.192356\n",
      "f2      -0.003153  0.001724  1.000000  0.483663\n",
      "product  0.143536 -0.192356  0.483663  1.000000\n"
     ]
    }
   ],
   "source": [
    "print(data_1.drop(['id'], axis=1).corr())"
   ]
  },
  {
   "cell_type": "code",
   "execution_count": 6,
   "metadata": {},
   "outputs": [
    {
     "name": "stdout",
     "output_type": "stream",
     "text": [
      "               f0        f1        f2   product\n",
      "f0       1.000000  0.182287 -0.001777 -0.030491\n",
      "f1       0.182287  1.000000 -0.002595 -0.010155\n",
      "f2      -0.001777 -0.002595  1.000000  0.999397\n",
      "product -0.030491 -0.010155  0.999397  1.000000\n"
     ]
    }
   ],
   "source": [
    "print(data_2.drop(['id'], axis=1).corr())"
   ]
  },
  {
   "cell_type": "code",
   "execution_count": 7,
   "metadata": {},
   "outputs": [
    {
     "name": "stdout",
     "output_type": "stream",
     "text": [
      "               f0        f1        f2   product\n",
      "f0       1.000000  0.000528 -0.000448 -0.001987\n",
      "f1       0.000528  1.000000  0.000779 -0.001012\n",
      "f2      -0.000448  0.000779  1.000000  0.445871\n",
      "product -0.001987 -0.001012  0.445871  1.000000\n"
     ]
    }
   ],
   "source": [
    "print(data_3.drop(['id'], axis=1).corr())"
   ]
  },
  {
   "cell_type": "markdown",
   "metadata": {},
   "source": [
    "**Промежуточный вывод:**\n",
    "\n",
    "Пропусков нет, размеры датасетов одинаковы, есть некоторые корреляции между столбцами датасетов, но поскольку данные синтетические нас это особо волновать не должно. В общем данные готовы, можно начинать в ML!!!"
   ]
  },
  {
   "cell_type": "markdown",
   "metadata": {},
   "source": [
    "## Обучение и проверка модели"
   ]
  },
  {
   "cell_type": "code",
   "execution_count": 8,
   "metadata": {},
   "outputs": [],
   "source": [
    "#Создадим список из датасетов для последующей передачи его в цикл\n",
    "df_list = [data_1,data_2,data_3]"
   ]
  },
  {
   "cell_type": "markdown",
   "metadata": {},
   "source": [
    "Поделим данные, обучим ЛинейнуюРегрессию и сделаем предсказания на для каждого датасета"
   ]
  },
  {
   "cell_type": "code",
   "execution_count": 9,
   "metadata": {},
   "outputs": [
    {
     "name": "stdout",
     "output_type": "stream",
     "text": [
      "Средний запас предсказанного сырья в 0 регионе  - 92.43045952558441, rmse - 37.562394183637785\n",
      "Средний запас предсказанного сырья в 1 регионе  - 68.80248249798366, rmse - 0.8939344738117703\n",
      "Средний запас предсказанного сырья в 2 регионе  - 94.91573817913459, rmse - 40.10318099258418\n"
     ]
    }
   ],
   "source": [
    "#Объявим переменные для последующего сохранения в них целевых признаков и предстказаний\n",
    "targets = []\n",
    "predictions = []\n",
    "\n",
    "#пройдемся цикклом по списку датасетов\n",
    "for index, data in enumerate(df_list):\n",
    "    \n",
    "    #Складываем фичи в переменную\n",
    "    features = data.drop(['id','product'], axis=1)\n",
    "    \n",
    "    #Кладем таргет\n",
    "    target = data['product']\n",
    "    \n",
    "    #Делим датасет на обучающую и валидационную выборки\n",
    "    features_train, features_valid, target_train, target_valid = train_test_split(features, target, test_size = .25, random_state=1234)\n",
    "    \n",
    "    #Сразу сохраняем таргет\n",
    "    targets.append(target_valid)\n",
    "    \n",
    "    #Кладем алгоритм в переменную\n",
    "    model = LinearRegression()\n",
    "    \n",
    "    #Обучаем\n",
    "    model.fit(features_train, target_train)\n",
    "    \n",
    "    #Предсказываем на валидационных фичах\n",
    "    predicted_valid = model.predict(features_valid)\n",
    "    \n",
    "    #Сохраняем предсказания\n",
    "    predictions.append(predicted_valid)\n",
    "    \n",
    "    #Считаем среднеквадратическую ошибку\n",
    "    rmse = mean_squared_error(target_valid, predicted_valid)**0.5\n",
    "    \n",
    "    #Выводим интересующие нас метрики в печать\n",
    "    print(f'Средний запас предсказанного сырья в {index} регионе  - {predicted_valid.mean()}, rmse - {rmse}')\n",
    "\n",
    "#Переформатируем переменные target и predictions в dataframe, транспонируем чтобы было привычней и меняем названия столбцов для удобства\n",
    "targets = pd.DataFrame(targets).T.reset_index(drop=True)\n",
    "targets.columns = [0,1,2]\n",
    "predictions = pd.DataFrame(predictions).T"
   ]
  },
  {
   "cell_type": "code",
   "execution_count": 10,
   "metadata": {},
   "outputs": [
    {
     "data": {
      "text/html": [
       "<div>\n",
       "<style scoped>\n",
       "    .dataframe tbody tr th:only-of-type {\n",
       "        vertical-align: middle;\n",
       "    }\n",
       "\n",
       "    .dataframe tbody tr th {\n",
       "        vertical-align: top;\n",
       "    }\n",
       "\n",
       "    .dataframe thead th {\n",
       "        text-align: right;\n",
       "    }\n",
       "</style>\n",
       "<table border=\"1\" class=\"dataframe\">\n",
       "  <thead>\n",
       "    <tr style=\"text-align: right;\">\n",
       "      <th></th>\n",
       "      <th>0</th>\n",
       "      <th>1</th>\n",
       "      <th>2</th>\n",
       "    </tr>\n",
       "  </thead>\n",
       "  <tbody>\n",
       "    <tr>\n",
       "      <th>0</th>\n",
       "      <td>82.940945</td>\n",
       "      <td>53.906522</td>\n",
       "      <td>77.366205</td>\n",
       "    </tr>\n",
       "    <tr>\n",
       "      <th>1</th>\n",
       "      <td>43.963568</td>\n",
       "      <td>110.992147</td>\n",
       "      <td>40.588032</td>\n",
       "    </tr>\n",
       "    <tr>\n",
       "      <th>2</th>\n",
       "      <td>125.408598</td>\n",
       "      <td>0.000000</td>\n",
       "      <td>57.820983</td>\n",
       "    </tr>\n",
       "    <tr>\n",
       "      <th>3</th>\n",
       "      <td>98.067233</td>\n",
       "      <td>137.945408</td>\n",
       "      <td>89.209380</td>\n",
       "    </tr>\n",
       "    <tr>\n",
       "      <th>4</th>\n",
       "      <td>64.533441</td>\n",
       "      <td>26.953261</td>\n",
       "      <td>120.450829</td>\n",
       "    </tr>\n",
       "  </tbody>\n",
       "</table>\n",
       "</div>"
      ],
      "text/plain": [
       "            0           1           2\n",
       "0   82.940945   53.906522   77.366205\n",
       "1   43.963568  110.992147   40.588032\n",
       "2  125.408598    0.000000   57.820983\n",
       "3   98.067233  137.945408   89.209380\n",
       "4   64.533441   26.953261  120.450829"
      ]
     },
     "execution_count": 10,
     "metadata": {},
     "output_type": "execute_result"
    }
   ],
   "source": [
    "#Выведем для проверки первые строки получившихся таблиц \n",
    "targets.head()"
   ]
  },
  {
   "cell_type": "code",
   "execution_count": 11,
   "metadata": {},
   "outputs": [
    {
     "data": {
      "text/html": [
       "<div>\n",
       "<style scoped>\n",
       "    .dataframe tbody tr th:only-of-type {\n",
       "        vertical-align: middle;\n",
       "    }\n",
       "\n",
       "    .dataframe tbody tr th {\n",
       "        vertical-align: top;\n",
       "    }\n",
       "\n",
       "    .dataframe thead th {\n",
       "        text-align: right;\n",
       "    }\n",
       "</style>\n",
       "<table border=\"1\" class=\"dataframe\">\n",
       "  <thead>\n",
       "    <tr style=\"text-align: right;\">\n",
       "      <th></th>\n",
       "      <th>0</th>\n",
       "      <th>1</th>\n",
       "      <th>2</th>\n",
       "    </tr>\n",
       "  </thead>\n",
       "  <tbody>\n",
       "    <tr>\n",
       "      <th>0</th>\n",
       "      <td>82.780945</td>\n",
       "      <td>53.253264</td>\n",
       "      <td>72.536223</td>\n",
       "    </tr>\n",
       "    <tr>\n",
       "      <th>1</th>\n",
       "      <td>41.891741</td>\n",
       "      <td>109.796493</td>\n",
       "      <td>66.579868</td>\n",
       "    </tr>\n",
       "    <tr>\n",
       "      <th>2</th>\n",
       "      <td>137.356107</td>\n",
       "      <td>-0.244098</td>\n",
       "      <td>80.751463</td>\n",
       "    </tr>\n",
       "    <tr>\n",
       "      <th>3</th>\n",
       "      <td>105.695487</td>\n",
       "      <td>137.133124</td>\n",
       "      <td>97.802814</td>\n",
       "    </tr>\n",
       "    <tr>\n",
       "      <th>4</th>\n",
       "      <td>99.545704</td>\n",
       "      <td>28.252534</td>\n",
       "      <td>113.885918</td>\n",
       "    </tr>\n",
       "  </tbody>\n",
       "</table>\n",
       "</div>"
      ],
      "text/plain": [
       "            0           1           2\n",
       "0   82.780945   53.253264   72.536223\n",
       "1   41.891741  109.796493   66.579868\n",
       "2  137.356107   -0.244098   80.751463\n",
       "3  105.695487  137.133124   97.802814\n",
       "4   99.545704   28.252534  113.885918"
      ]
     },
     "execution_count": 11,
     "metadata": {},
     "output_type": "execute_result"
    }
   ],
   "source": [
    "predictions.head()"
   ]
  },
  {
   "cell_type": "markdown",
   "metadata": {},
   "source": [
    "**2-ой промежуточный вывод:**\n",
    "\n",
    "На трэйн-валид разбили, обучили/спрогнозировали, таргет и предсказания засэйвили, средний запас предсказанного сырья и rmse посчитали. Касательно rmse - e 0-го и 2-го датасета присудствует ощутимая СКО, скорей всего это означает то, что в данных имеются выбросы"
   ]
  },
  {
   "cell_type": "markdown",
   "metadata": {},
   "source": [
    "## Подготовка к расчёту прибыли"
   ]
  },
  {
   "cell_type": "markdown",
   "metadata": {},
   "source": [
    "Запишем основные величины в свои переменные и посчитаем **достаточный объём сырья для безубыточной разработки новой скважины** и сравним со средним запасом в каждой скважине."
   ]
  },
  {
   "cell_type": "code",
   "execution_count": 12,
   "metadata": {},
   "outputs": [],
   "source": [
    "#Стоимость тысячи баррелей\n",
    "THOUSAND_BARREL_COST = 450000\n",
    "\n",
    "#Общий бюджет на разработку\n",
    "BUDGET= 10e9\n",
    "\n",
    "#Количество скважин планируемых к разработке\n",
    "POINTS = 200\n",
    "\n",
    "#Достаточный объём сырья для безубыточной разработки новой скважины\n",
    "QUANTITY_OF_PRODUCT_MIN =(BUDGET/THOUSAND_BARREL_COST)/POINTS\n"
   ]
  },
  {
   "cell_type": "markdown",
   "metadata": {},
   "source": [
    "Теперь выведем и сравним средние запасы в каждом регионе и достаточный для безубыточной разработки объем сырья"
   ]
  },
  {
   "cell_type": "code",
   "execution_count": 13,
   "metadata": {},
   "outputs": [
    {
     "name": "stdout",
     "output_type": "stream",
     "text": [
      "111.11111111111111\n",
      "92.50000000000001\n",
      "68.82500000000002\n",
      "95.00000000000004\n"
     ]
    }
   ],
   "source": [
    "print(QUANTITY_OF_PRODUCT_MIN)\n",
    "print(data_1['product'].mean())\n",
    "print(data_2['product'].mean())\n",
    "print(data_3['product'].mean())\n"
   ]
  },
  {
   "cell_type": "markdown",
   "metadata": {},
   "source": [
    "Да, без отбора самых прибыльных месторождений здесь никак."
   ]
  },
  {
   "cell_type": "markdown",
   "metadata": {},
   "source": [
    "Напишем функцию для подсчета суммарной прибыли с 200 самых прибыльных скважин"
   ]
  },
  {
   "cell_type": "code",
   "execution_count": 14,
   "metadata": {},
   "outputs": [],
   "source": [
    "def revenue(predictions:pd.Series, targets:pd.Series, cost:int, quantity:int):\n",
    "    #Ранжируем по убываню предсказанные объемы сырья\n",
    "    preds_sorted = predictions.sort_values(ascending=False)\n",
    "    \n",
    "    #Теперь отберем месторождения из реальных данных с теми же индексами что и у 200 самых прибыльных предсказаний\n",
    "    selected = targets[preds_sorted.index][:quantity]\n",
    "    \n",
    "    #Возвращаем суммарную прибыль с 200 самых прибыльных месторождений\n",
    "    return (selected.sum()*cost)"
   ]
  },
  {
   "cell_type": "markdown",
   "metadata": {},
   "source": [
    "**3-ий промежуточный вывод:** \n",
    "\n",
    "Без ранжирования по прибыльности в среднем запасы месторождений регионов убыточны.\n",
    "Теперь отберем потенциально лучшие месторождения(200) и найдем их суммарную прибыль с заданной(95%) вероятностью"
   ]
  },
  {
   "cell_type": "markdown",
   "metadata": {},
   "source": [
    "## Расчёт прибыли и рисков "
   ]
  },
  {
   "cell_type": "code",
   "execution_count": 15,
   "metadata": {
    "scrolled": false
   },
   "outputs": [],
   "source": [
    "state = np.random.RandomState(12345)\n",
    "\n",
    "\n",
    "#Напишем функцию в которой при помощи бутстрэпа найдем распределение прибыли, 95% доверительный интервал и риск не получить прибыль\n",
    "def bootstrap_rev(predictions, targets, cost, points):\n",
    "    \n",
    "    #Создадим переменную куда будем складывать полученные бутстрапом прибыли\n",
    "    values= []\n",
    "    \n",
    "    #Переменная для подсчета отрицательных значений прибыли\n",
    "    negative_values = 0\n",
    "    \n",
    "    #Создадим тысячу подвыборок\n",
    "    for i in range(1000):\n",
    "        \n",
    "        #Из каждой будет отобрано 500 случайных точек методом \"с заменой\"\n",
    "        target_subsample = targets.sample(\n",
    "            500, \n",
    "            random_state=state, \n",
    "            replace=True)\n",
    "        \n",
    "        #Выберем 500 месторождений с теми же индексами что и в target_subsample\n",
    "        predictions_subsample = predictions[target_subsample.index]\n",
    "        \n",
    "        #Подсчитаем для 200 самых прибыльных из них суммарную выручку\n",
    "        rev = revenue(predictions_subsample, target_subsample, cost, points)\n",
    "        \n",
    "        #Высчитываем прибыль и добавляем её в список\n",
    "        values.append(rev - BUDGET)\n",
    "        \n",
    "        #Счетчик отрицательных прибылей\n",
    "        if (rev - BUDGET) <= 0:\n",
    "            negative_values +=1\n",
    "    \n",
    "    #Переформатируем с листа на серию \n",
    "    values = pd.Series(values)\n",
    "    \n",
    "    #Подсчитаем. доверительный интервал\n",
    "    low_treshold = values.quantile(.025)\n",
    "    high_treshold = values.quantile(.975)\n",
    "    \n",
    "    #Подсчитаем среднюю прибыль\n",
    "    mean = values.mean()\n",
    "    \n",
    "    #Выведем в печать искомые переменные\n",
    "    print(f'Средняя выручка -  Средняя прибыль - {mean}, 95% доверительный интервал- ({low_treshold} - {high_treshold}), риск не получить прибыль - {negative_values/values.count()}')\n",
    "    print((values <0).mean())"
   ]
  },
  {
   "cell_type": "code",
   "execution_count": 16,
   "metadata": {},
   "outputs": [
    {
     "name": "stdout",
     "output_type": "stream",
     "text": [
      "Средняя выручка -  Средняя прибыль - 411854134.6693436, 95% доверительный интервал- (-153036113.10503387 - 909822726.6300966), риск не получить прибыль - 0.065\n",
      "0.065\n",
      "Средняя выручка -  Средняя прибыль - 475927344.6527976, 95% доверительный интервал- (74247290.95463678 - 906509048.4226353), риск не получить прибыль - 0.013\n",
      "0.013\n",
      "Средняя выручка -  Средняя прибыль - 382102491.8959889, 95% доверительный интервал- (-183916236.36915794 - 946554521.4354271), риск не получить прибыль - 0.097\n",
      "0.097\n"
     ]
    }
   ],
   "source": [
    "bootstrap_rev(predictions[0], targets[0], THOUSAND_BARREL_COST , POINTS)\n",
    "bootstrap_rev(predictions[1], targets[1], THOUSAND_BARREL_COST , POINTS)\n",
    "bootstrap_rev(predictions[2], targets[2], THOUSAND_BARREL_COST , POINTS)"
   ]
  },
  {
   "cell_type": "markdown",
   "metadata": {},
   "source": [
    "**Общий вывод:**\n",
    "\n",
    "Исходя из полученных данных с 95%-ной вероятностью можно заявить следующее: \n",
    "    Регион №2 обладает близкой к 100% вероятностью не получить убытки, в отличии от регионов №1 и №3, которые вероятнее всего принесут убытки. Рекомендуем регион №2."
   ]
  }
 ],
 "metadata": {
  "ExecuteTimeLog": [
   {
    "duration": 705,
    "start_time": "2022-05-24T16:51:27.440Z"
   },
   {
    "duration": 609,
    "start_time": "2022-05-24T16:51:59.289Z"
   },
   {
    "duration": 1313,
    "start_time": "2022-05-24T16:53:00.977Z"
   },
   {
    "duration": 378,
    "start_time": "2022-05-24T16:53:39.025Z"
   },
   {
    "duration": 43,
    "start_time": "2022-05-24T17:04:29.148Z"
   },
   {
    "duration": 122,
    "start_time": "2022-05-24T17:51:54.310Z"
   },
   {
    "duration": 855,
    "start_time": "2022-05-24T17:53:10.797Z"
   },
   {
    "duration": 29,
    "start_time": "2022-05-24T17:53:16.124Z"
   },
   {
    "duration": 45,
    "start_time": "2022-05-24T18:00:11.809Z"
   },
   {
    "duration": 82,
    "start_time": "2022-05-24T18:00:37.288Z"
   },
   {
    "duration": 15,
    "start_time": "2022-05-24T18:32:57.378Z"
   },
   {
    "duration": 902,
    "start_time": "2022-05-25T20:13:39.536Z"
   },
   {
    "duration": 2041,
    "start_time": "2022-05-25T20:13:40.440Z"
   },
   {
    "duration": 34,
    "start_time": "2022-05-25T20:13:42.482Z"
   },
   {
    "duration": 29,
    "start_time": "2022-05-25T20:13:42.517Z"
   },
   {
    "duration": 109,
    "start_time": "2022-05-25T20:13:42.548Z"
   },
   {
    "duration": 11,
    "start_time": "2022-05-25T20:46:49.446Z"
   },
   {
    "duration": 10,
    "start_time": "2022-05-25T20:47:12.791Z"
   },
   {
    "duration": 11,
    "start_time": "2022-05-25T21:25:08.408Z"
   },
   {
    "duration": 9,
    "start_time": "2022-05-25T21:25:19.584Z"
   },
   {
    "duration": 39,
    "start_time": "2022-05-25T21:25:27.308Z"
   },
   {
    "duration": 19,
    "start_time": "2022-05-25T21:32:59.024Z"
   },
   {
    "duration": 20,
    "start_time": "2022-05-25T21:33:02.660Z"
   },
   {
    "duration": 3,
    "start_time": "2022-05-25T21:36:27.509Z"
   },
   {
    "duration": 16,
    "start_time": "2022-05-25T21:38:22.789Z"
   },
   {
    "duration": 4,
    "start_time": "2022-05-25T21:44:41.988Z"
   },
   {
    "duration": 436,
    "start_time": "2022-05-25T21:45:29.278Z"
   },
   {
    "duration": 269,
    "start_time": "2022-05-25T21:46:04.125Z"
   },
   {
    "duration": 955,
    "start_time": "2022-05-26T19:40:12.907Z"
   },
   {
    "duration": 1186,
    "start_time": "2022-05-26T19:40:13.864Z"
   },
   {
    "duration": 47,
    "start_time": "2022-05-26T19:40:15.053Z"
   },
   {
    "duration": 38,
    "start_time": "2022-05-26T19:40:15.103Z"
   },
   {
    "duration": 20,
    "start_time": "2022-05-26T19:40:15.144Z"
   },
   {
    "duration": 558,
    "start_time": "2022-05-26T19:40:15.166Z"
   },
   {
    "duration": 5,
    "start_time": "2022-05-26T19:40:38.570Z"
   },
   {
    "duration": 758,
    "start_time": "2022-05-26T19:40:40.173Z"
   },
   {
    "duration": 18,
    "start_time": "2022-05-26T19:42:55.153Z"
   },
   {
    "duration": 6,
    "start_time": "2022-05-26T19:43:10.883Z"
   },
   {
    "duration": 150,
    "start_time": "2022-05-26T19:43:13.712Z"
   },
   {
    "duration": 1600,
    "start_time": "2022-05-26T19:46:17.757Z"
   },
   {
    "duration": 749,
    "start_time": "2022-05-26T19:46:35.694Z"
   },
   {
    "duration": 338,
    "start_time": "2022-05-26T19:46:48.531Z"
   },
   {
    "duration": 262,
    "start_time": "2022-05-26T19:47:01.251Z"
   },
   {
    "duration": 4,
    "start_time": "2022-05-26T19:47:16.265Z"
   },
   {
    "duration": 793,
    "start_time": "2022-05-26T19:47:16.271Z"
   },
   {
    "duration": 284,
    "start_time": "2022-05-26T19:47:17.067Z"
   },
   {
    "duration": 352,
    "start_time": "2022-05-26T19:47:17.354Z"
   },
   {
    "duration": 44,
    "start_time": "2022-05-26T19:47:17.709Z"
   },
   {
    "duration": 16,
    "start_time": "2022-05-26T19:47:17.756Z"
   },
   {
    "duration": 6,
    "start_time": "2022-05-26T19:47:17.774Z"
   },
   {
    "duration": 63,
    "start_time": "2022-05-26T19:47:17.782Z"
   },
   {
    "duration": 4,
    "start_time": "2022-05-26T19:47:32.567Z"
   },
   {
    "duration": 784,
    "start_time": "2022-05-26T19:47:32.574Z"
   },
   {
    "duration": 284,
    "start_time": "2022-05-26T19:47:33.360Z"
   },
   {
    "duration": 262,
    "start_time": "2022-05-26T19:47:33.646Z"
   },
   {
    "duration": 51,
    "start_time": "2022-05-26T19:47:33.910Z"
   },
   {
    "duration": 24,
    "start_time": "2022-05-26T19:47:33.963Z"
   },
   {
    "duration": 18,
    "start_time": "2022-05-26T19:47:33.989Z"
   },
   {
    "duration": 33,
    "start_time": "2022-05-26T19:47:34.009Z"
   },
   {
    "duration": 400,
    "start_time": "2022-05-26T20:43:26.549Z"
   },
   {
    "duration": 251,
    "start_time": "2022-05-26T20:43:46.652Z"
   },
   {
    "duration": 428,
    "start_time": "2022-05-26T20:46:47.946Z"
   },
   {
    "duration": 52,
    "start_time": "2022-05-26T20:47:41.887Z"
   },
   {
    "duration": 102,
    "start_time": "2022-05-26T20:47:45.637Z"
   },
   {
    "duration": 13,
    "start_time": "2022-05-26T20:53:11.574Z"
   },
   {
    "duration": 10,
    "start_time": "2022-05-26T20:53:39.911Z"
   },
   {
    "duration": 17,
    "start_time": "2022-05-26T20:53:57.238Z"
   },
   {
    "duration": 15,
    "start_time": "2022-05-26T20:53:58.971Z"
   },
   {
    "duration": 20,
    "start_time": "2022-05-26T20:54:01.067Z"
   },
   {
    "duration": 4,
    "start_time": "2022-05-26T21:11:05.249Z"
   },
   {
    "duration": 349,
    "start_time": "2022-05-26T21:11:07.493Z"
   },
   {
    "duration": 4,
    "start_time": "2022-05-26T22:28:40.977Z"
   },
   {
    "duration": 321,
    "start_time": "2022-05-26T22:28:43.310Z"
   },
   {
    "duration": 1010,
    "start_time": "2022-05-27T06:06:06.974Z"
   },
   {
    "duration": 896,
    "start_time": "2022-05-27T06:06:07.986Z"
   },
   {
    "duration": 54,
    "start_time": "2022-05-27T06:06:08.886Z"
   },
   {
    "duration": 144,
    "start_time": "2022-05-27T06:06:08.943Z"
   },
   {
    "duration": 18,
    "start_time": "2022-05-27T06:06:09.089Z"
   },
   {
    "duration": 20,
    "start_time": "2022-05-27T06:06:09.109Z"
   },
   {
    "duration": 47,
    "start_time": "2022-05-27T06:06:09.131Z"
   },
   {
    "duration": 5,
    "start_time": "2022-05-27T06:06:09.181Z"
   },
   {
    "duration": 485,
    "start_time": "2022-05-27T06:06:09.187Z"
   },
   {
    "duration": 90,
    "start_time": "2022-05-27T06:06:09.676Z"
   },
   {
    "duration": 6,
    "start_time": "2022-05-27T06:06:09.768Z"
   },
   {
    "duration": 111,
    "start_time": "2022-05-27T07:41:16.605Z"
   },
   {
    "duration": 986,
    "start_time": "2022-05-27T18:20:05.520Z"
   },
   {
    "duration": 980,
    "start_time": "2022-05-27T18:20:17.664Z"
   },
   {
    "duration": 2847,
    "start_time": "2022-05-27T18:20:18.650Z"
   },
   {
    "duration": 36,
    "start_time": "2022-05-27T18:20:21.499Z"
   },
   {
    "duration": 106,
    "start_time": "2022-05-27T18:20:21.536Z"
   },
   {
    "duration": 21,
    "start_time": "2022-05-27T18:20:21.655Z"
   },
   {
    "duration": 23,
    "start_time": "2022-05-27T18:20:21.679Z"
   },
   {
    "duration": 16,
    "start_time": "2022-05-27T18:20:21.704Z"
   },
   {
    "duration": 4,
    "start_time": "2022-05-27T18:20:21.722Z"
   },
   {
    "duration": 0,
    "start_time": "2022-05-27T18:20:21.728Z"
   },
   {
    "duration": 0,
    "start_time": "2022-05-27T18:20:21.729Z"
   },
   {
    "duration": 0,
    "start_time": "2022-05-27T18:20:21.730Z"
   },
   {
    "duration": 5,
    "start_time": "2022-05-27T18:45:24.822Z"
   },
   {
    "duration": 877,
    "start_time": "2022-05-28T15:49:39.719Z"
   },
   {
    "duration": 844,
    "start_time": "2022-05-28T15:49:40.598Z"
   },
   {
    "duration": 32,
    "start_time": "2022-05-28T15:49:41.444Z"
   },
   {
    "duration": 96,
    "start_time": "2022-05-28T15:49:41.478Z"
   },
   {
    "duration": 14,
    "start_time": "2022-05-28T15:49:41.576Z"
   },
   {
    "duration": 16,
    "start_time": "2022-05-28T15:49:41.591Z"
   },
   {
    "duration": 21,
    "start_time": "2022-05-28T15:49:41.632Z"
   },
   {
    "duration": 3,
    "start_time": "2022-05-28T15:49:41.665Z"
   },
   {
    "duration": 359,
    "start_time": "2022-05-28T15:49:41.670Z"
   },
   {
    "duration": 276,
    "start_time": "2022-05-28T15:49:42.031Z"
   },
   {
    "duration": 0,
    "start_time": "2022-05-28T15:49:42.309Z"
   },
   {
    "duration": 0,
    "start_time": "2022-05-28T15:49:42.310Z"
   },
   {
    "duration": 0,
    "start_time": "2022-05-28T15:49:42.323Z"
   },
   {
    "duration": 8,
    "start_time": "2022-05-28T15:49:54.459Z"
   },
   {
    "duration": 5,
    "start_time": "2022-05-28T15:50:13.220Z"
   },
   {
    "duration": 7,
    "start_time": "2022-05-28T15:50:25.231Z"
   },
   {
    "duration": 5,
    "start_time": "2022-05-28T15:50:49.300Z"
   },
   {
    "duration": 6,
    "start_time": "2022-05-28T15:50:53.377Z"
   },
   {
    "duration": 6,
    "start_time": "2022-05-28T15:50:55.821Z"
   },
   {
    "duration": 5,
    "start_time": "2022-05-28T15:51:08.095Z"
   },
   {
    "duration": 9,
    "start_time": "2022-05-28T15:51:15.780Z"
   },
   {
    "duration": 359,
    "start_time": "2022-05-28T15:52:19.865Z"
   },
   {
    "duration": 4,
    "start_time": "2022-05-28T15:52:46.084Z"
   },
   {
    "duration": 1746,
    "start_time": "2022-05-28T15:53:07.212Z"
   },
   {
    "duration": 6,
    "start_time": "2022-05-28T15:53:09.904Z"
   },
   {
    "duration": 5,
    "start_time": "2022-05-28T15:53:15.581Z"
   },
   {
    "duration": 28,
    "start_time": "2022-05-28T15:53:27.177Z"
   },
   {
    "duration": 1679,
    "start_time": "2022-05-28T15:53:44.807Z"
   },
   {
    "duration": 8,
    "start_time": "2022-05-28T15:53:47.326Z"
   },
   {
    "duration": 3,
    "start_time": "2022-05-28T16:21:28.201Z"
   },
   {
    "duration": 4,
    "start_time": "2022-05-28T16:21:37.920Z"
   },
   {
    "duration": 65,
    "start_time": "2022-05-28T20:08:27.840Z"
   },
   {
    "duration": 7,
    "start_time": "2022-05-28T20:08:34.819Z"
   },
   {
    "duration": 917,
    "start_time": "2022-05-28T20:09:43.687Z"
   },
   {
    "duration": 91,
    "start_time": "2022-05-28T20:09:56.922Z"
   },
   {
    "duration": 4,
    "start_time": "2022-05-28T20:10:22.256Z"
   },
   {
    "duration": 8,
    "start_time": "2022-05-28T20:10:24.057Z"
   },
   {
    "duration": 3,
    "start_time": "2022-05-28T20:10:43.356Z"
   },
   {
    "duration": 3,
    "start_time": "2022-05-28T20:10:45.691Z"
   },
   {
    "duration": 3,
    "start_time": "2022-05-28T20:10:53.395Z"
   },
   {
    "duration": 4,
    "start_time": "2022-05-28T20:10:54.830Z"
   },
   {
    "duration": 4,
    "start_time": "2022-05-28T20:13:35.259Z"
   },
   {
    "duration": 9,
    "start_time": "2022-05-28T20:14:45.725Z"
   },
   {
    "duration": 4,
    "start_time": "2022-05-28T20:15:01.523Z"
   },
   {
    "duration": 2252,
    "start_time": "2022-05-28T20:15:01.529Z"
   },
   {
    "duration": 36,
    "start_time": "2022-05-28T20:15:03.782Z"
   },
   {
    "duration": 111,
    "start_time": "2022-05-28T20:15:03.820Z"
   },
   {
    "duration": 29,
    "start_time": "2022-05-28T20:15:03.933Z"
   },
   {
    "duration": 15,
    "start_time": "2022-05-28T20:15:03.964Z"
   },
   {
    "duration": 13,
    "start_time": "2022-05-28T20:15:03.981Z"
   },
   {
    "duration": 3,
    "start_time": "2022-05-28T20:15:03.996Z"
   },
   {
    "duration": 1725,
    "start_time": "2022-05-28T20:15:04.000Z"
   },
   {
    "duration": 15,
    "start_time": "2022-05-28T20:15:05.728Z"
   },
   {
    "duration": 4,
    "start_time": "2022-05-28T20:15:05.745Z"
   },
   {
    "duration": 11,
    "start_time": "2022-05-28T20:15:05.751Z"
   },
   {
    "duration": 8,
    "start_time": "2022-05-28T20:15:05.764Z"
   },
   {
    "duration": 237,
    "start_time": "2022-05-28T20:15:05.775Z"
   },
   {
    "duration": 16,
    "start_time": "2022-05-28T20:15:06.015Z"
   },
   {
    "duration": 938,
    "start_time": "2022-05-29T09:54:58.399Z"
   },
   {
    "duration": 910,
    "start_time": "2022-05-29T09:54:59.339Z"
   },
   {
    "duration": 45,
    "start_time": "2022-05-29T09:55:00.251Z"
   },
   {
    "duration": 101,
    "start_time": "2022-05-29T09:55:00.298Z"
   },
   {
    "duration": 15,
    "start_time": "2022-05-29T09:55:00.401Z"
   },
   {
    "duration": 28,
    "start_time": "2022-05-29T09:55:00.418Z"
   },
   {
    "duration": 40,
    "start_time": "2022-05-29T09:55:00.448Z"
   },
   {
    "duration": 13,
    "start_time": "2022-05-29T09:55:00.490Z"
   },
   {
    "duration": 1773,
    "start_time": "2022-05-29T09:55:00.505Z"
   },
   {
    "duration": 14,
    "start_time": "2022-05-29T09:55:02.280Z"
   },
   {
    "duration": 8,
    "start_time": "2022-05-29T09:55:02.296Z"
   },
   {
    "duration": 14,
    "start_time": "2022-05-29T09:55:02.305Z"
   },
   {
    "duration": 8,
    "start_time": "2022-05-29T09:55:02.320Z"
   },
   {
    "duration": 12,
    "start_time": "2022-05-29T09:55:02.330Z"
   },
   {
    "duration": 137,
    "start_time": "2022-05-29T09:55:02.344Z"
   },
   {
    "duration": 3,
    "start_time": "2022-05-29T09:56:02.712Z"
   },
   {
    "duration": 10,
    "start_time": "2022-05-29T09:56:04.966Z"
   },
   {
    "duration": 3,
    "start_time": "2022-05-29T09:56:23.348Z"
   },
   {
    "duration": 9,
    "start_time": "2022-05-29T09:56:26.692Z"
   },
   {
    "duration": 4,
    "start_time": "2022-05-29T09:59:09.405Z"
   },
   {
    "duration": 4,
    "start_time": "2022-05-29T10:02:42.564Z"
   },
   {
    "duration": 12,
    "start_time": "2022-05-29T10:13:10.846Z"
   },
   {
    "duration": 6,
    "start_time": "2022-05-29T10:13:25.844Z"
   },
   {
    "duration": 59,
    "start_time": "2022-05-29T15:19:40.406Z"
   },
   {
    "duration": 1216,
    "start_time": "2022-05-29T15:19:56.762Z"
   },
   {
    "duration": 847,
    "start_time": "2022-05-29T15:19:57.980Z"
   },
   {
    "duration": 42,
    "start_time": "2022-05-29T15:19:58.828Z"
   },
   {
    "duration": 96,
    "start_time": "2022-05-29T15:19:58.871Z"
   },
   {
    "duration": 13,
    "start_time": "2022-05-29T15:19:58.969Z"
   },
   {
    "duration": 13,
    "start_time": "2022-05-29T15:19:58.984Z"
   },
   {
    "duration": 32,
    "start_time": "2022-05-29T15:19:58.998Z"
   },
   {
    "duration": 10,
    "start_time": "2022-05-29T15:19:59.033Z"
   },
   {
    "duration": 1610,
    "start_time": "2022-05-29T15:19:59.044Z"
   },
   {
    "duration": 12,
    "start_time": "2022-05-29T15:20:00.656Z"
   },
   {
    "duration": 18,
    "start_time": "2022-05-29T15:20:00.669Z"
   },
   {
    "duration": 12,
    "start_time": "2022-05-29T15:20:00.688Z"
   },
   {
    "duration": 21,
    "start_time": "2022-05-29T15:20:00.702Z"
   },
   {
    "duration": 89,
    "start_time": "2022-05-29T15:20:00.725Z"
   },
   {
    "duration": 22,
    "start_time": "2022-05-29T15:20:11.219Z"
   },
   {
    "duration": 11,
    "start_time": "2022-05-29T15:21:01.626Z"
   },
   {
    "duration": 5581,
    "start_time": "2022-05-29T15:21:03.566Z"
   },
   {
    "duration": 10618,
    "start_time": "2022-05-29T15:22:50.499Z"
   },
   {
    "duration": 10785,
    "start_time": "2022-05-29T15:23:27.156Z"
   },
   {
    "duration": 11048,
    "start_time": "2022-05-29T15:23:59.367Z"
   },
   {
    "duration": 25,
    "start_time": "2022-05-29T15:28:59.113Z"
   },
   {
    "duration": 466,
    "start_time": "2022-05-29T15:40:24.379Z"
   },
   {
    "duration": 22,
    "start_time": "2022-05-29T15:40:47.353Z"
   },
   {
    "duration": 28,
    "start_time": "2022-05-29T15:41:24.270Z"
   },
   {
    "duration": 22,
    "start_time": "2022-05-29T15:41:30.375Z"
   },
   {
    "duration": 19,
    "start_time": "2022-05-29T15:41:42.063Z"
   },
   {
    "duration": 4,
    "start_time": "2022-05-29T15:44:49.464Z"
   },
   {
    "duration": 4,
    "start_time": "2022-05-29T15:45:05.868Z"
   },
   {
    "duration": 3,
    "start_time": "2022-05-29T16:16:34.947Z"
   },
   {
    "duration": 4,
    "start_time": "2022-05-29T16:16:40.083Z"
   },
   {
    "duration": 3,
    "start_time": "2022-05-29T16:26:33.488Z"
   },
   {
    "duration": 12,
    "start_time": "2022-05-29T16:26:42.826Z"
   },
   {
    "duration": 1721,
    "start_time": "2022-05-29T16:38:45.340Z"
   },
   {
    "duration": 3,
    "start_time": "2022-05-29T16:41:46.522Z"
   },
   {
    "duration": 44,
    "start_time": "2022-05-29T16:41:51.225Z"
   },
   {
    "duration": 20,
    "start_time": "2022-05-29T16:42:09.862Z"
   },
   {
    "duration": 7,
    "start_time": "2022-05-29T16:49:01.357Z"
   },
   {
    "duration": 9,
    "start_time": "2022-05-29T16:51:23.952Z"
   },
   {
    "duration": 7,
    "start_time": "2022-05-29T16:51:27.894Z"
   },
   {
    "duration": 11,
    "start_time": "2022-05-29T16:51:41.124Z"
   },
   {
    "duration": 474,
    "start_time": "2022-05-29T16:52:36.389Z"
   },
   {
    "duration": 861,
    "start_time": "2022-05-29T16:54:31.919Z"
   },
   {
    "duration": 395,
    "start_time": "2022-05-29T17:01:10.319Z"
   },
   {
    "duration": 3,
    "start_time": "2022-05-29T17:01:38.184Z"
   },
   {
    "duration": 390,
    "start_time": "2022-05-29T17:01:43.751Z"
   },
   {
    "duration": 571,
    "start_time": "2022-05-29T17:04:06.504Z"
   },
   {
    "duration": 381,
    "start_time": "2022-05-29T17:11:04.987Z"
   },
   {
    "duration": 5,
    "start_time": "2022-05-29T17:11:44.541Z"
   },
   {
    "duration": 5,
    "start_time": "2022-05-29T17:11:52.939Z"
   },
   {
    "duration": 371,
    "start_time": "2022-05-29T17:12:43.470Z"
   },
   {
    "duration": 380,
    "start_time": "2022-05-29T19:30:35.749Z"
   },
   {
    "duration": 350,
    "start_time": "2022-05-29T19:38:01.683Z"
   },
   {
    "duration": 364,
    "start_time": "2022-05-29T19:38:37.952Z"
   },
   {
    "duration": 347,
    "start_time": "2022-05-29T19:43:36.226Z"
   },
   {
    "duration": 498,
    "start_time": "2022-05-29T20:11:26.090Z"
   },
   {
    "duration": 475,
    "start_time": "2022-05-29T20:11:59.458Z"
   },
   {
    "duration": 4,
    "start_time": "2022-05-29T20:15:15.340Z"
   },
   {
    "duration": 351,
    "start_time": "2022-05-29T20:15:40.178Z"
   },
   {
    "duration": 3,
    "start_time": "2022-05-29T20:16:25.347Z"
   },
   {
    "duration": 636,
    "start_time": "2022-05-29T20:16:25.352Z"
   },
   {
    "duration": 31,
    "start_time": "2022-05-29T20:16:25.990Z"
   },
   {
    "duration": 77,
    "start_time": "2022-05-29T20:16:26.026Z"
   },
   {
    "duration": 29,
    "start_time": "2022-05-29T20:16:26.104Z"
   },
   {
    "duration": 11,
    "start_time": "2022-05-29T20:16:26.135Z"
   },
   {
    "duration": 11,
    "start_time": "2022-05-29T20:16:26.147Z"
   },
   {
    "duration": 2,
    "start_time": "2022-05-29T20:16:26.159Z"
   },
   {
    "duration": 1562,
    "start_time": "2022-05-29T20:16:26.163Z"
   },
   {
    "duration": 8,
    "start_time": "2022-05-29T20:16:27.726Z"
   },
   {
    "duration": 11,
    "start_time": "2022-05-29T20:16:27.735Z"
   },
   {
    "duration": 10,
    "start_time": "2022-05-29T20:16:27.747Z"
   },
   {
    "duration": 4,
    "start_time": "2022-05-29T20:16:27.758Z"
   },
   {
    "duration": 324,
    "start_time": "2022-05-29T20:16:27.764Z"
   },
   {
    "duration": 339,
    "start_time": "2022-05-29T20:18:35.004Z"
   },
   {
    "duration": 388,
    "start_time": "2022-05-29T20:18:39.833Z"
   },
   {
    "duration": 563,
    "start_time": "2022-05-29T20:18:43.235Z"
   },
   {
    "duration": 33,
    "start_time": "2022-05-29T20:18:49.087Z"
   },
   {
    "duration": 21,
    "start_time": "2022-05-29T20:19:04.009Z"
   },
   {
    "duration": 27,
    "start_time": "2022-05-29T20:19:08.913Z"
   },
   {
    "duration": 20,
    "start_time": "2022-05-29T20:19:20.488Z"
   },
   {
    "duration": 25,
    "start_time": "2022-05-29T20:19:31.358Z"
   },
   {
    "duration": 20,
    "start_time": "2022-05-29T20:19:39.771Z"
   },
   {
    "duration": 503,
    "start_time": "2022-05-29T20:19:47.115Z"
   },
   {
    "duration": 418,
    "start_time": "2022-05-29T20:21:20.310Z"
   },
   {
    "duration": 352,
    "start_time": "2022-05-29T20:35:20.393Z"
   },
   {
    "duration": 328,
    "start_time": "2022-05-29T20:35:51.108Z"
   },
   {
    "duration": 550,
    "start_time": "2022-05-29T20:36:02.065Z"
   },
   {
    "duration": 388,
    "start_time": "2022-05-29T20:42:55.759Z"
   },
   {
    "duration": 6,
    "start_time": "2022-05-29T20:43:19.698Z"
   },
   {
    "duration": 4,
    "start_time": "2022-05-29T20:43:30.725Z"
   },
   {
    "duration": 3,
    "start_time": "2022-05-29T20:43:38.566Z"
   },
   {
    "duration": 304,
    "start_time": "2022-05-29T20:43:47.751Z"
   },
   {
    "duration": 308,
    "start_time": "2022-05-29T20:43:56.945Z"
   },
   {
    "duration": 9,
    "start_time": "2022-05-29T20:44:57.029Z"
   },
   {
    "duration": 1666,
    "start_time": "2022-05-29T20:45:43.736Z"
   },
   {
    "duration": 11,
    "start_time": "2022-05-29T20:45:47.338Z"
   },
   {
    "duration": 1542,
    "start_time": "2022-05-29T20:46:04.951Z"
   },
   {
    "duration": 8,
    "start_time": "2022-05-29T20:46:06.931Z"
   },
   {
    "duration": 307,
    "start_time": "2022-05-29T20:46:12.641Z"
   },
   {
    "duration": 7,
    "start_time": "2022-05-29T20:46:33.034Z"
   },
   {
    "duration": 8,
    "start_time": "2022-05-29T20:47:03.369Z"
   },
   {
    "duration": 7,
    "start_time": "2022-05-29T20:47:09.965Z"
   },
   {
    "duration": 7,
    "start_time": "2022-05-29T20:47:14.436Z"
   },
   {
    "duration": 7,
    "start_time": "2022-05-29T20:47:18.180Z"
   },
   {
    "duration": 1652,
    "start_time": "2022-05-29T20:48:02.265Z"
   },
   {
    "duration": 9,
    "start_time": "2022-05-29T20:48:08.684Z"
   },
   {
    "duration": 6,
    "start_time": "2022-05-29T20:48:19.213Z"
   },
   {
    "duration": 25,
    "start_time": "2022-05-29T20:48:27.522Z"
   },
   {
    "duration": 1447,
    "start_time": "2022-05-29T20:51:10.389Z"
   },
   {
    "duration": 8,
    "start_time": "2022-05-29T20:51:13.865Z"
   },
   {
    "duration": 3953,
    "start_time": "2022-05-29T20:51:22.373Z"
   },
   {
    "duration": 1394,
    "start_time": "2022-05-29T21:03:42.922Z"
   },
   {
    "duration": 30,
    "start_time": "2022-05-29T21:15:51.744Z"
   },
   {
    "duration": 70,
    "start_time": "2022-05-29T21:16:44.564Z"
   },
   {
    "duration": 4107,
    "start_time": "2022-05-29T21:16:59.861Z"
   },
   {
    "duration": 6,
    "start_time": "2022-05-29T21:35:27.240Z"
   },
   {
    "duration": 1910,
    "start_time": "2022-05-29T21:40:06.608Z"
   },
   {
    "duration": 3,
    "start_time": "2022-05-29T21:52:35.307Z"
   },
   {
    "duration": 3840,
    "start_time": "2022-05-29T21:52:41.419Z"
   },
   {
    "duration": 3,
    "start_time": "2022-05-30T06:18:56.015Z"
   },
   {
    "duration": 20,
    "start_time": "2022-05-30T06:19:11.139Z"
   },
   {
    "duration": 4011,
    "start_time": "2022-05-30T06:20:27.430Z"
   },
   {
    "duration": 4,
    "start_time": "2022-05-30T06:22:05.955Z"
   },
   {
    "duration": 4051,
    "start_time": "2022-05-30T06:22:08.844Z"
   },
   {
    "duration": 4,
    "start_time": "2022-05-30T12:24:09.502Z"
   },
   {
    "duration": 5229,
    "start_time": "2022-05-30T12:24:13.795Z"
   },
   {
    "duration": 4,
    "start_time": "2022-05-30T12:25:31.468Z"
   },
   {
    "duration": 4975,
    "start_time": "2022-05-30T12:25:33.373Z"
   },
   {
    "duration": 3,
    "start_time": "2022-05-30T12:27:05.466Z"
   },
   {
    "duration": 6046,
    "start_time": "2022-05-30T12:27:07.302Z"
   },
   {
    "duration": 891,
    "start_time": "2022-05-30T16:48:17.193Z"
   },
   {
    "duration": 790,
    "start_time": "2022-05-30T16:48:18.086Z"
   },
   {
    "duration": 33,
    "start_time": "2022-05-30T16:48:18.877Z"
   },
   {
    "duration": 103,
    "start_time": "2022-05-30T16:48:18.912Z"
   },
   {
    "duration": 19,
    "start_time": "2022-05-30T16:48:19.016Z"
   },
   {
    "duration": 21,
    "start_time": "2022-05-30T16:48:19.037Z"
   },
   {
    "duration": 15,
    "start_time": "2022-05-30T16:48:19.060Z"
   },
   {
    "duration": 3,
    "start_time": "2022-05-30T16:48:19.077Z"
   },
   {
    "duration": 1647,
    "start_time": "2022-05-30T16:48:19.081Z"
   },
   {
    "duration": 18,
    "start_time": "2022-05-30T16:48:20.732Z"
   },
   {
    "duration": 14,
    "start_time": "2022-05-30T16:48:20.752Z"
   },
   {
    "duration": 10,
    "start_time": "2022-05-30T16:48:20.767Z"
   },
   {
    "duration": 6,
    "start_time": "2022-05-30T16:48:20.779Z"
   },
   {
    "duration": 5818,
    "start_time": "2022-05-30T16:48:20.786Z"
   },
   {
    "duration": 3,
    "start_time": "2022-05-30T17:04:28.069Z"
   },
   {
    "duration": 3,
    "start_time": "2022-05-30T17:14:06.910Z"
   },
   {
    "duration": 3,
    "start_time": "2022-05-30T17:14:35.573Z"
   },
   {
    "duration": 3972,
    "start_time": "2022-05-30T17:14:38.257Z"
   },
   {
    "duration": 2,
    "start_time": "2022-05-30T17:27:31.402Z"
   },
   {
    "duration": 408,
    "start_time": "2022-05-30T17:28:14.947Z"
   },
   {
    "duration": 32,
    "start_time": "2022-05-30T17:28:46.549Z"
   },
   {
    "duration": 82,
    "start_time": "2022-05-30T17:38:38.832Z"
   },
   {
    "duration": 8,
    "start_time": "2022-05-30T17:40:10.659Z"
   },
   {
    "duration": 5,
    "start_time": "2022-05-30T17:52:05.125Z"
   },
   {
    "duration": 4418,
    "start_time": "2022-05-30T17:52:07.444Z"
   },
   {
    "duration": 133,
    "start_time": "2022-05-30T18:18:00.041Z"
   },
   {
    "duration": 4495,
    "start_time": "2022-05-30T18:18:28.263Z"
   },
   {
    "duration": 1946,
    "start_time": "2022-05-30T18:22:07.954Z"
   },
   {
    "duration": 19,
    "start_time": "2022-05-30T18:24:10.696Z"
   },
   {
    "duration": 12,
    "start_time": "2022-05-30T18:24:23.977Z"
   },
   {
    "duration": 55,
    "start_time": "2022-05-30T18:24:45.318Z"
   },
   {
    "duration": 31,
    "start_time": "2022-05-30T18:26:44.346Z"
   },
   {
    "duration": 21,
    "start_time": "2022-05-30T18:27:43.781Z"
   },
   {
    "duration": 18,
    "start_time": "2022-05-30T18:28:05.290Z"
   },
   {
    "duration": 5542,
    "start_time": "2022-05-30T18:29:14.515Z"
   },
   {
    "duration": 1631,
    "start_time": "2022-05-30T18:29:44.479Z"
   },
   {
    "duration": 5084,
    "start_time": "2022-05-30T18:29:59.718Z"
   },
   {
    "duration": 1734,
    "start_time": "2022-05-30T18:30:14.412Z"
   },
   {
    "duration": 59,
    "start_time": "2022-05-30T20:45:24.061Z"
   },
   {
    "duration": 978,
    "start_time": "2022-05-30T20:45:42.653Z"
   },
   {
    "duration": 1089,
    "start_time": "2022-05-30T20:45:43.633Z"
   },
   {
    "duration": 52,
    "start_time": "2022-05-30T20:45:44.724Z"
   },
   {
    "duration": 120,
    "start_time": "2022-05-30T20:45:44.779Z"
   },
   {
    "duration": 14,
    "start_time": "2022-05-30T20:45:44.901Z"
   },
   {
    "duration": 22,
    "start_time": "2022-05-30T20:45:44.927Z"
   },
   {
    "duration": 42,
    "start_time": "2022-05-30T20:45:44.951Z"
   },
   {
    "duration": 3,
    "start_time": "2022-05-30T20:45:44.995Z"
   },
   {
    "duration": 1881,
    "start_time": "2022-05-30T20:45:45.000Z"
   },
   {
    "duration": 14,
    "start_time": "2022-05-30T20:45:46.883Z"
   },
   {
    "duration": 7,
    "start_time": "2022-05-30T20:45:46.898Z"
   },
   {
    "duration": 27,
    "start_time": "2022-05-30T20:45:46.908Z"
   },
   {
    "duration": 36,
    "start_time": "2022-05-30T20:45:46.938Z"
   },
   {
    "duration": 4859,
    "start_time": "2022-05-30T20:45:46.976Z"
   },
   {
    "duration": 4755,
    "start_time": "2022-05-30T20:46:37.363Z"
   },
   {
    "duration": 4423,
    "start_time": "2022-05-30T21:01:21.723Z"
   },
   {
    "duration": 4470,
    "start_time": "2022-05-30T21:01:44.874Z"
   },
   {
    "duration": 4432,
    "start_time": "2022-05-30T21:04:48.169Z"
   },
   {
    "duration": 114,
    "start_time": "2022-05-31T06:26:05.266Z"
   },
   {
    "duration": 937,
    "start_time": "2022-05-31T06:26:17.874Z"
   },
   {
    "duration": 1374,
    "start_time": "2022-05-31T06:26:18.813Z"
   },
   {
    "duration": 68,
    "start_time": "2022-05-31T06:26:20.191Z"
   },
   {
    "duration": 132,
    "start_time": "2022-05-31T06:26:20.273Z"
   },
   {
    "duration": 20,
    "start_time": "2022-05-31T06:26:20.407Z"
   },
   {
    "duration": 33,
    "start_time": "2022-05-31T06:26:20.436Z"
   },
   {
    "duration": 51,
    "start_time": "2022-05-31T06:26:20.471Z"
   },
   {
    "duration": 48,
    "start_time": "2022-05-31T06:26:20.524Z"
   },
   {
    "duration": 1971,
    "start_time": "2022-05-31T06:26:20.580Z"
   },
   {
    "duration": 23,
    "start_time": "2022-05-31T06:26:22.554Z"
   },
   {
    "duration": 26,
    "start_time": "2022-05-31T06:26:22.579Z"
   },
   {
    "duration": 24,
    "start_time": "2022-05-31T06:26:22.606Z"
   },
   {
    "duration": 28,
    "start_time": "2022-05-31T06:26:22.634Z"
   },
   {
    "duration": 5086,
    "start_time": "2022-05-31T06:26:22.664Z"
   },
   {
    "duration": 2,
    "start_time": "2022-05-31T06:27:00.209Z"
   },
   {
    "duration": 14,
    "start_time": "2022-05-31T06:27:22.678Z"
   },
   {
    "duration": 13,
    "start_time": "2022-05-31T06:27:25.146Z"
   },
   {
    "duration": 4,
    "start_time": "2022-05-31T07:11:52.980Z"
   },
   {
    "duration": 8,
    "start_time": "2022-05-31T07:12:08.574Z"
   },
   {
    "duration": 6,
    "start_time": "2022-05-31T09:03:34.505Z"
   },
   {
    "duration": 5101,
    "start_time": "2022-05-31T09:21:32.310Z"
   },
   {
    "duration": 4979,
    "start_time": "2022-05-31T09:22:35.962Z"
   },
   {
    "duration": 4943,
    "start_time": "2022-05-31T09:30:28.745Z"
   },
   {
    "duration": 8,
    "start_time": "2022-05-31T09:34:05.220Z"
   },
   {
    "duration": 5034,
    "start_time": "2022-05-31T09:34:15.978Z"
   },
   {
    "duration": 819,
    "start_time": "2022-06-01T07:08:07.670Z"
   },
   {
    "duration": 797,
    "start_time": "2022-06-01T07:08:08.492Z"
   },
   {
    "duration": 30,
    "start_time": "2022-06-01T07:08:09.291Z"
   },
   {
    "duration": 89,
    "start_time": "2022-06-01T07:08:09.323Z"
   },
   {
    "duration": 13,
    "start_time": "2022-06-01T07:08:09.413Z"
   },
   {
    "duration": 12,
    "start_time": "2022-06-01T07:08:09.427Z"
   },
   {
    "duration": 11,
    "start_time": "2022-06-01T07:08:09.441Z"
   },
   {
    "duration": 3,
    "start_time": "2022-06-01T07:08:09.454Z"
   },
   {
    "duration": 1532,
    "start_time": "2022-06-01T07:08:09.492Z"
   },
   {
    "duration": 13,
    "start_time": "2022-06-01T07:08:11.026Z"
   },
   {
    "duration": 13,
    "start_time": "2022-06-01T07:08:11.040Z"
   },
   {
    "duration": 4,
    "start_time": "2022-06-01T07:08:11.055Z"
   },
   {
    "duration": 9,
    "start_time": "2022-06-01T07:08:11.060Z"
   },
   {
    "duration": 22,
    "start_time": "2022-06-01T07:08:11.070Z"
   },
   {
    "duration": 8,
    "start_time": "2022-06-01T07:08:11.094Z"
   },
   {
    "duration": 3615,
    "start_time": "2022-06-01T07:08:11.104Z"
   },
   {
    "duration": 855,
    "start_time": "2022-06-01T11:36:45.612Z"
   },
   {
    "duration": 812,
    "start_time": "2022-06-01T11:36:46.468Z"
   },
   {
    "duration": 33,
    "start_time": "2022-06-01T11:36:47.281Z"
   },
   {
    "duration": 91,
    "start_time": "2022-06-01T11:36:47.316Z"
   },
   {
    "duration": 25,
    "start_time": "2022-06-01T11:36:47.409Z"
   },
   {
    "duration": 15,
    "start_time": "2022-06-01T11:36:47.436Z"
   },
   {
    "duration": 13,
    "start_time": "2022-06-01T11:36:47.453Z"
   },
   {
    "duration": 6,
    "start_time": "2022-06-01T11:36:47.468Z"
   },
   {
    "duration": 1798,
    "start_time": "2022-06-01T11:36:47.476Z"
   },
   {
    "duration": 14,
    "start_time": "2022-06-01T11:36:49.276Z"
   },
   {
    "duration": 15,
    "start_time": "2022-06-01T11:36:49.292Z"
   },
   {
    "duration": 5,
    "start_time": "2022-06-01T11:36:49.308Z"
   },
   {
    "duration": 15,
    "start_time": "2022-06-01T11:36:49.314Z"
   },
   {
    "duration": 4,
    "start_time": "2022-06-01T11:36:49.331Z"
   },
   {
    "duration": 9,
    "start_time": "2022-06-01T11:36:49.337Z"
   },
   {
    "duration": 4164,
    "start_time": "2022-06-01T11:36:49.348Z"
   },
   {
    "duration": 5,
    "start_time": "2022-06-01T11:37:39.213Z"
   },
   {
    "duration": 4061,
    "start_time": "2022-06-01T11:37:41.320Z"
   },
   {
    "duration": 52,
    "start_time": "2022-06-02T08:23:56.454Z"
   },
   {
    "duration": 65,
    "start_time": "2022-06-03T07:06:08.705Z"
   },
   {
    "duration": 913,
    "start_time": "2022-06-03T07:06:15.785Z"
   },
   {
    "duration": 875,
    "start_time": "2022-06-03T07:06:16.700Z"
   },
   {
    "duration": 52,
    "start_time": "2022-06-03T07:06:17.577Z"
   },
   {
    "duration": 111,
    "start_time": "2022-06-03T07:06:17.630Z"
   },
   {
    "duration": 18,
    "start_time": "2022-06-03T07:06:17.743Z"
   },
   {
    "duration": 19,
    "start_time": "2022-06-03T07:06:17.763Z"
   },
   {
    "duration": 45,
    "start_time": "2022-06-03T07:06:17.784Z"
   },
   {
    "duration": 3,
    "start_time": "2022-06-03T07:06:17.831Z"
   },
   {
    "duration": 1759,
    "start_time": "2022-06-03T07:06:17.836Z"
   },
   {
    "duration": 14,
    "start_time": "2022-06-03T07:06:19.597Z"
   },
   {
    "duration": 54,
    "start_time": "2022-06-03T07:06:19.613Z"
   },
   {
    "duration": 15,
    "start_time": "2022-06-03T07:06:19.669Z"
   },
   {
    "duration": 18,
    "start_time": "2022-06-03T07:06:19.685Z"
   },
   {
    "duration": 10,
    "start_time": "2022-06-03T07:06:19.706Z"
   },
   {
    "duration": 18,
    "start_time": "2022-06-03T07:06:19.717Z"
   },
   {
    "duration": 4158,
    "start_time": "2022-06-03T07:06:19.737Z"
   }
  ],
  "kernelspec": {
   "display_name": "Python 3 (ipykernel)",
   "language": "python",
   "name": "python3"
  },
  "language_info": {
   "codemirror_mode": {
    "name": "ipython",
    "version": 3
   },
   "file_extension": ".py",
   "mimetype": "text/x-python",
   "name": "python",
   "nbconvert_exporter": "python",
   "pygments_lexer": "ipython3",
   "version": "3.9.7"
  },
  "toc": {
   "base_numbering": 1,
   "nav_menu": {},
   "number_sections": true,
   "sideBar": true,
   "skip_h1_title": true,
   "title_cell": "Table of Contents",
   "title_sidebar": "Contents",
   "toc_cell": false,
   "toc_position": {},
   "toc_section_display": true,
   "toc_window_display": false
  }
 },
 "nbformat": 4,
 "nbformat_minor": 2
}
