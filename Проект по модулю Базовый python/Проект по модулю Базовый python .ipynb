{
 "cells": [
  {
   "cell_type": "markdown",
   "metadata": {
    "id": "E0vqbgi9ay0H"
   },
   "source": [
    "# Яндекс.Музыка"
   ]
  },
  {
   "cell_type": "markdown",
   "metadata": {
    "id": "VUC88oWjTJw2"
   },
   "source": [
    "Сравнение Москвы и Петербурга окружено мифами. Например:\n",
    " * Москва — мегаполис, подчинённый жёсткому ритму рабочей недели;\n",
    " * Петербург — культурная столица, со своими вкусами.\n",
    "\n",
    "На данных Яндекс.Музыки вы сравните поведение пользователей двух столиц.\n",
    "\n",
    "**Цель исследования** — проверить три гипотезы:\n",
    "1. Активность пользователей зависит от дня недели. Причём в Москве и Петербурге это проявляется по-разному.\n",
    "2. В понедельник утром в Москве преобладают одни жанры, а в Петербурге — другие. Так же и вечером пятницы преобладают разные жанры — в зависимости от города. \n",
    "3. Москва и Петербург предпочитают разные жанры музыки. В Москве чаще слушают поп-музыку, в Петербурге — русский рэп.\n",
    "\n",
    "**Ход исследования**\n",
    "\n",
    "Данные о поведении пользователей получаем из файла `yandex_music_project.csv`. О качестве данных ничего не известно. Поэтому перед проверкой гипотез понадобится обзор данных. \n",
    "\n",
    "Проверим данные на ошибки и оценим их влияние на исследование. Затем, на этапе предобработки поищем возможность исправить самые критичные ошибки данных.\n",
    " \n",
    "Таким образом, исследование пройдёт в три этапа:\n",
    " 1. Обзор данных.\n",
    " 2. Предобработка данных.\n",
    " 3. Проверка гипотез.\n",
    "\n"
   ]
  },
  {
   "cell_type": "markdown",
   "metadata": {
    "id": "Ml1hmfXC_Zcs"
   },
   "source": [
    "## Обзор данных\n",
    "\n",
    "Составим первое представление о данных Яндекс.Музыки.\n",
    "\n",
    "\n"
   ]
  },
  {
   "cell_type": "code",
   "execution_count": 1,
   "metadata": {
    "id": "AXN7PHPN_Zcs"
   },
   "outputs": [],
   "source": [
    "# импорт библиотеки pandas\n",
    "import pandas as pd"
   ]
  },
  {
   "cell_type": "code",
   "execution_count": 2,
   "metadata": {
    "id": "fFVu7vqh_Zct",
    "scrolled": true
   },
   "outputs": [],
   "source": [
    "# чтение файла с данными и сохранение в df\n",
    "df = pd.read_csv('/Users/alex/Desktop/питон/тетрадки jupiter notebook/Проект по базовому питону/yandex_music_project.csv')"
   ]
  },
  {
   "cell_type": "code",
   "execution_count": 3,
   "metadata": {
    "id": "oWTVX3gW_Zct",
    "scrolled": true
   },
   "outputs": [
    {
     "data": {
      "text/html": [
       "<div>\n",
       "<style scoped>\n",
       "    .dataframe tbody tr th:only-of-type {\n",
       "        vertical-align: middle;\n",
       "    }\n",
       "\n",
       "    .dataframe tbody tr th {\n",
       "        vertical-align: top;\n",
       "    }\n",
       "\n",
       "    .dataframe thead th {\n",
       "        text-align: right;\n",
       "    }\n",
       "</style>\n",
       "<table border=\"1\" class=\"dataframe\">\n",
       "  <thead>\n",
       "    <tr style=\"text-align: right;\">\n",
       "      <th></th>\n",
       "      <th>userID</th>\n",
       "      <th>Track</th>\n",
       "      <th>artist</th>\n",
       "      <th>genre</th>\n",
       "      <th>City</th>\n",
       "      <th>time</th>\n",
       "      <th>Day</th>\n",
       "    </tr>\n",
       "  </thead>\n",
       "  <tbody>\n",
       "    <tr>\n",
       "      <th>0</th>\n",
       "      <td>FFB692EC</td>\n",
       "      <td>Kamigata To Boots</td>\n",
       "      <td>The Mass Missile</td>\n",
       "      <td>rock</td>\n",
       "      <td>Saint-Petersburg</td>\n",
       "      <td>20:28:33</td>\n",
       "      <td>Wednesday</td>\n",
       "    </tr>\n",
       "    <tr>\n",
       "      <th>1</th>\n",
       "      <td>55204538</td>\n",
       "      <td>Delayed Because of Accident</td>\n",
       "      <td>Andreas Rönnberg</td>\n",
       "      <td>rock</td>\n",
       "      <td>Moscow</td>\n",
       "      <td>14:07:09</td>\n",
       "      <td>Friday</td>\n",
       "    </tr>\n",
       "    <tr>\n",
       "      <th>2</th>\n",
       "      <td>20EC38</td>\n",
       "      <td>Funiculì funiculà</td>\n",
       "      <td>Mario Lanza</td>\n",
       "      <td>pop</td>\n",
       "      <td>Saint-Petersburg</td>\n",
       "      <td>20:58:07</td>\n",
       "      <td>Wednesday</td>\n",
       "    </tr>\n",
       "    <tr>\n",
       "      <th>3</th>\n",
       "      <td>A3DD03C9</td>\n",
       "      <td>Dragons in the Sunset</td>\n",
       "      <td>Fire + Ice</td>\n",
       "      <td>folk</td>\n",
       "      <td>Saint-Petersburg</td>\n",
       "      <td>08:37:09</td>\n",
       "      <td>Monday</td>\n",
       "    </tr>\n",
       "    <tr>\n",
       "      <th>4</th>\n",
       "      <td>E2DC1FAE</td>\n",
       "      <td>Soul People</td>\n",
       "      <td>Space Echo</td>\n",
       "      <td>dance</td>\n",
       "      <td>Moscow</td>\n",
       "      <td>08:34:34</td>\n",
       "      <td>Monday</td>\n",
       "    </tr>\n",
       "    <tr>\n",
       "      <th>5</th>\n",
       "      <td>842029A1</td>\n",
       "      <td>Преданная</td>\n",
       "      <td>IMPERVTOR</td>\n",
       "      <td>rusrap</td>\n",
       "      <td>Saint-Petersburg</td>\n",
       "      <td>13:09:41</td>\n",
       "      <td>Friday</td>\n",
       "    </tr>\n",
       "    <tr>\n",
       "      <th>6</th>\n",
       "      <td>4CB90AA5</td>\n",
       "      <td>True</td>\n",
       "      <td>Roman Messer</td>\n",
       "      <td>dance</td>\n",
       "      <td>Moscow</td>\n",
       "      <td>13:00:07</td>\n",
       "      <td>Wednesday</td>\n",
       "    </tr>\n",
       "    <tr>\n",
       "      <th>7</th>\n",
       "      <td>F03E1C1F</td>\n",
       "      <td>Feeling This Way</td>\n",
       "      <td>Polina Griffith</td>\n",
       "      <td>dance</td>\n",
       "      <td>Moscow</td>\n",
       "      <td>20:47:49</td>\n",
       "      <td>Wednesday</td>\n",
       "    </tr>\n",
       "    <tr>\n",
       "      <th>8</th>\n",
       "      <td>8FA1D3BE</td>\n",
       "      <td>И вновь продолжается бой</td>\n",
       "      <td>NaN</td>\n",
       "      <td>ruspop</td>\n",
       "      <td>Moscow</td>\n",
       "      <td>09:17:40</td>\n",
       "      <td>Friday</td>\n",
       "    </tr>\n",
       "    <tr>\n",
       "      <th>9</th>\n",
       "      <td>E772D5C0</td>\n",
       "      <td>Pessimist</td>\n",
       "      <td>NaN</td>\n",
       "      <td>dance</td>\n",
       "      <td>Saint-Petersburg</td>\n",
       "      <td>21:20:49</td>\n",
       "      <td>Wednesday</td>\n",
       "    </tr>\n",
       "  </tbody>\n",
       "</table>\n",
       "</div>"
      ],
      "text/plain": [
       "     userID                        Track            artist   genre  \\\n",
       "0  FFB692EC            Kamigata To Boots  The Mass Missile    rock   \n",
       "1  55204538  Delayed Because of Accident  Andreas Rönnberg    rock   \n",
       "2    20EC38            Funiculì funiculà       Mario Lanza     pop   \n",
       "3  A3DD03C9        Dragons in the Sunset        Fire + Ice    folk   \n",
       "4  E2DC1FAE                  Soul People        Space Echo   dance   \n",
       "5  842029A1                    Преданная         IMPERVTOR  rusrap   \n",
       "6  4CB90AA5                         True      Roman Messer   dance   \n",
       "7  F03E1C1F             Feeling This Way   Polina Griffith   dance   \n",
       "8  8FA1D3BE     И вновь продолжается бой               NaN  ruspop   \n",
       "9  E772D5C0                    Pessimist               NaN   dance   \n",
       "\n",
       "             City        time        Day  \n",
       "0  Saint-Petersburg  20:28:33  Wednesday  \n",
       "1            Moscow  14:07:09     Friday  \n",
       "2  Saint-Petersburg  20:58:07  Wednesday  \n",
       "3  Saint-Petersburg  08:37:09     Monday  \n",
       "4            Moscow  08:34:34     Monday  \n",
       "5  Saint-Petersburg  13:09:41     Friday  \n",
       "6            Moscow  13:00:07  Wednesday  \n",
       "7            Moscow  20:47:49  Wednesday  \n",
       "8            Moscow  09:17:40     Friday  \n",
       "9  Saint-Petersburg  21:20:49  Wednesday  "
      ]
     },
     "execution_count": 3,
     "metadata": {},
     "output_type": "execute_result"
    }
   ],
   "source": [
    "# получение первых 10 строк таблицы df\n",
    "df.head(10)"
   ]
  },
  {
   "cell_type": "code",
   "execution_count": 4,
   "metadata": {
    "id": "DSf2kIb-_Zct"
   },
   "outputs": [
    {
     "name": "stdout",
     "output_type": "stream",
     "text": [
      "<class 'pandas.core.frame.DataFrame'>\n",
      "RangeIndex: 65079 entries, 0 to 65078\n",
      "Data columns (total 7 columns):\n",
      " #   Column    Non-Null Count  Dtype \n",
      "---  ------    --------------  ----- \n",
      " 0     userID  65079 non-null  object\n",
      " 1   Track     63848 non-null  object\n",
      " 2   artist    57876 non-null  object\n",
      " 3   genre     63881 non-null  object\n",
      " 4     City    65079 non-null  object\n",
      " 5   time      65079 non-null  object\n",
      " 6   Day       65079 non-null  object\n",
      "dtypes: object(7)\n",
      "memory usage: 3.5+ MB\n"
     ]
    }
   ],
   "source": [
    "# получение общей информации о данных в таблице df\n",
    "df.info()"
   ]
  },
  {
   "cell_type": "markdown",
   "metadata": {
    "id": "TaQ2Iwbr_Zct"
   },
   "source": [
    "Итак, в таблице семь столбцов. Тип данных во всех столбцах — `object`.\n",
    "\n",
    "Согласно документации к данным:\n",
    "* `userID` — идентификатор пользователя;\n",
    "* `Track` — название трека;  \n",
    "* `artist` — имя исполнителя;\n",
    "* `genre` — название жанра;\n",
    "* `City` — город пользователя;\n",
    "* `time` — время начала прослушивания;\n",
    "* `Day` — день недели.\n",
    "\n",
    "В названиях колонок видны три нарушения стиля:\n",
    "1. Строчные буквы сочетаются с прописными.\n",
    "2. Встречаются пробелы.\n",
    "3. Найдите ещё одну проблему в названии колонок и опишите её в этом пункте.\n",
    "\n",
    "\n",
    "\n",
    "Количество значений в столбцах различается. Значит, в данных есть пропущенные значения.\n"
   ]
  },
  {
   "cell_type": "markdown",
   "metadata": {
    "id": "MCB6-dXG_Zct"
   },
   "source": [
    "**Выводы**\n",
    "\n",
    "В каждой строке таблицы — данные о прослушанном треке. Часть колонок описывает саму композицию: название, исполнителя и жанр. Остальные данные рассказывают о пользователе: из какого он города, когда он слушал музыку. \n",
    "\n",
    "Предварительно можно утверждать, что, данных достаточно для проверки гипотез. Но встречаются пропуски в данных, а в названиях колонок — расхождения с хорошим стилем.\n",
    "\n",
    "Чтобы двигаться дальше, нужно устранить проблемы в данных."
   ]
  },
  {
   "cell_type": "markdown",
   "metadata": {
    "id": "SjYF6Ub9_Zct"
   },
   "source": [
    "## Предобработка данных\n",
    "Исправим стиль в заголовках столбцов, исключим пропуски. Затем проверим данные на дубликаты."
   ]
  },
  {
   "cell_type": "code",
   "execution_count": 5,
   "metadata": {
    "id": "oKOTdF_Q_Zct"
   },
   "outputs": [
    {
     "data": {
      "text/plain": [
       "Index(['  userID', 'Track', 'artist', 'genre', '  City  ', 'time', 'Day'], dtype='object')"
      ]
     },
     "execution_count": 5,
     "metadata": {},
     "output_type": "execute_result"
    }
   ],
   "source": [
    "# перечень названий столбцов таблицы df\n",
    "df.columns"
   ]
  },
  {
   "cell_type": "markdown",
   "metadata": {
    "id": "zj5534cv_Zct"
   },
   "source": [
    "Приведем названия в соответствие с хорошим стилем:\n",
    "* змеинный_регистр,\n",
    "* все символы строчные,\n",
    "* отсутствие пробелов."
   ]
  },
  {
   "cell_type": "code",
   "execution_count": 6,
   "metadata": {
    "id": "ISlFqs5y_Zct"
   },
   "outputs": [],
   "source": [
    "# переименование столбцов\n",
    "df = df.rename(columns={\n",
    "    '  userID': 'user_id',\n",
    "    'Track': 'track',\n",
    "    '  City  ': 'city',\n",
    "    'Day': 'day'\n",
    "}\n",
    "              )"
   ]
  },
  {
   "cell_type": "markdown",
   "metadata": {
    "id": "1dqbh00J_Zct"
   },
   "source": [
    "Проверим результат"
   ]
  },
  {
   "cell_type": "code",
   "execution_count": 7,
   "metadata": {
    "id": "d4NOAmTW_Zct"
   },
   "outputs": [
    {
     "data": {
      "text/plain": [
       "Index(['user_id', 'track', 'artist', 'genre', 'city', 'time', 'day'], dtype='object')"
      ]
     },
     "execution_count": 7,
     "metadata": {},
     "output_type": "execute_result"
    }
   ],
   "source": [
    "# проверка результатов - перечень названий столбцов\n",
    "df.columns"
   ]
  },
  {
   "cell_type": "markdown",
   "metadata": {
    "id": "5ISfbcfY_Zct"
   },
   "source": [
    "### Пропуски значений\n",
    "Сначала посчитаем, сколько в таблице пропущенных значений:"
   ]
  },
  {
   "cell_type": "code",
   "execution_count": 8,
   "metadata": {
    "id": "RskX29qr_Zct"
   },
   "outputs": [
    {
     "data": {
      "text/plain": [
       "user_id       0\n",
       "track      1231\n",
       "artist     7203\n",
       "genre      1198\n",
       "city          0\n",
       "time          0\n",
       "day           0\n",
       "dtype: int64"
      ]
     },
     "execution_count": 8,
     "metadata": {},
     "output_type": "execute_result"
    }
   ],
   "source": [
    "# подсчёт пропусков\n",
    "df.isna().sum()"
   ]
  },
  {
   "cell_type": "markdown",
   "metadata": {
    "id": "qubhgnlO_Zct"
   },
   "source": [
    "Не все пропущенные значения влияют на исследование. Так в `track` и `artist` пропуски не важны для данной работы. Достаточно заменить их явными обозначениями.\n",
    "\n",
    "Но пропуски в `genre` могут помешать сравнению музыкальных вкусов в Москве и Санкт-Петербурге. На практике было бы правильно установить причину пропусков и восстановить данные. Такой возможности нет в учебном проекте. Придётся:\n",
    "* заполнить и эти пропуски явными обозначениями,\n",
    "* оценить, насколько они повредят расчётам. "
   ]
  },
  {
   "cell_type": "markdown",
   "metadata": {
    "id": "fSv2laPA_Zct"
   },
   "source": [
    "Заменим пропущенные значения в столбцах `track`, `artist` и `genre` на строку `'unknown'`. Для этого создадим список `columns_to_replace`, переберем его элементы циклом `for` и для каждого столбца выполним замену пропущенных значений:"
   ]
  },
  {
   "cell_type": "code",
   "execution_count": 9,
   "metadata": {
    "id": "KplB5qWs_Zct"
   },
   "outputs": [],
   "source": [
    "# перебор названий столбцов в цикле и замена пропущенных значений на 'unknown'\n",
    "columns_to_replace = ['track', 'artist', 'genre']\n",
    "for column in columns_to_replace:\n",
    "    df[column] = df[column].fillna('unknown')"
   ]
  },
  {
   "cell_type": "markdown",
   "metadata": {
    "id": "Ilsm-MZo_Zct"
   },
   "source": [
    "Убедимся, что в таблице не осталось пропусков. Для этого ещё раз посчитаем пропущенные значения."
   ]
  },
  {
   "cell_type": "code",
   "execution_count": 10,
   "metadata": {
    "id": "Tq4nYRX4_Zct"
   },
   "outputs": [
    {
     "data": {
      "text/plain": [
       "user_id    0\n",
       "track      0\n",
       "artist     0\n",
       "genre      0\n",
       "city       0\n",
       "time       0\n",
       "day        0\n",
       "dtype: int64"
      ]
     },
     "execution_count": 10,
     "metadata": {},
     "output_type": "execute_result"
    }
   ],
   "source": [
    "# подсчёт пропусков\n",
    "df.isna().sum()"
   ]
  },
  {
   "cell_type": "markdown",
   "metadata": {
    "id": "BWKRtBJ3_Zct"
   },
   "source": [
    "### Дубликаты\n",
    "Посчитаем явные дубликаты в таблице одной командой:"
   ]
  },
  {
   "cell_type": "code",
   "execution_count": 11,
   "metadata": {
    "id": "36eES_S0_Zct"
   },
   "outputs": [
    {
     "data": {
      "text/plain": [
       "3826"
      ]
     },
     "execution_count": 11,
     "metadata": {},
     "output_type": "execute_result"
    }
   ],
   "source": [
    "# подсчёт явных дубликатов\n",
    "df.duplicated().sum()"
   ]
  },
  {
   "cell_type": "markdown",
   "metadata": {
    "id": "Ot25h6XR_Zct"
   },
   "source": [
    "Удалим явные дубликаты:"
   ]
  },
  {
   "cell_type": "code",
   "execution_count": 12,
   "metadata": {
    "id": "exFHq6tt_Zct",
    "scrolled": true
   },
   "outputs": [],
   "source": [
    "# удаление явных дубликатов (с удалением старых индексов и формированием новых)\n",
    "df = df.drop_duplicates().reset_index(drop=True) "
   ]
  },
  {
   "cell_type": "markdown",
   "metadata": {
    "id": "Im2YwBEG_Zct"
   },
   "source": [
    "Ещё раз посчитаем явные дубликаты в таблице — убедимся, что полностью от них избавились:"
   ]
  },
  {
   "cell_type": "code",
   "execution_count": 13,
   "metadata": {
    "id": "-8PuNWQ0_Zct"
   },
   "outputs": [
    {
     "data": {
      "text/plain": [
       "0"
      ]
     },
     "execution_count": 13,
     "metadata": {},
     "output_type": "execute_result"
    }
   ],
   "source": [
    "# проверка на отсутствие дубликатов\n",
    "df.duplicated().sum()"
   ]
  },
  {
   "cell_type": "markdown",
   "metadata": {
    "id": "QlFBsxAr_Zct"
   },
   "source": [
    "Теперь избавимся от неявных дубликатов в колонке `genre`. Например, название одного и того же жанра может быть записано немного по-разному. Такие ошибки тоже повлияют на результат исследования."
   ]
  },
  {
   "cell_type": "markdown",
   "metadata": {
    "id": "eSjWwsOh_Zct"
   },
   "source": [
    "Выведите на экран список уникальных названий жанров, отсортированный в алфавитном порядке. Для этого:\n",
    "* извлечем нужный столбец датафрейма, \n",
    "* применим к нему метод сортировки,\n",
    "* для отсортированного столбца вызовем метод, который вернёт уникальные значения из столбца."
   ]
  },
  {
   "cell_type": "code",
   "execution_count": 14,
   "metadata": {
    "id": "JIUcqzZN_Zct",
    "scrolled": true
   },
   "outputs": [
    {
     "data": {
      "text/plain": [
       "array(['acid', 'acoustic', 'action', 'adult', 'africa', 'afrikaans',\n",
       "       'alternative', 'alternativepunk', 'ambient', 'americana',\n",
       "       'animated', 'anime', 'arabesk', 'arabic', 'arena',\n",
       "       'argentinetango', 'art', 'audiobook', 'author', 'avantgarde',\n",
       "       'axé', 'baile', 'balkan', 'beats', 'bigroom', 'black', 'bluegrass',\n",
       "       'blues', 'bollywood', 'bossa', 'brazilian', 'breakbeat', 'breaks',\n",
       "       'broadway', 'cantautori', 'cantopop', 'canzone', 'caribbean',\n",
       "       'caucasian', 'celtic', 'chamber', 'chanson', 'children', 'chill',\n",
       "       'chinese', 'choral', 'christian', 'christmas', 'classical',\n",
       "       'classicmetal', 'club', 'colombian', 'comedy', 'conjazz',\n",
       "       'contemporary', 'country', 'cuban', 'dance', 'dancehall',\n",
       "       'dancepop', 'dark', 'death', 'deep', 'deutschrock', 'deutschspr',\n",
       "       'dirty', 'disco', 'dnb', 'documentary', 'downbeat', 'downtempo',\n",
       "       'drum', 'dub', 'dubstep', 'eastern', 'easy', 'electronic',\n",
       "       'electropop', 'emo', 'entehno', 'epicmetal', 'estrada', 'ethnic',\n",
       "       'eurofolk', 'european', 'experimental', 'extrememetal', 'fado',\n",
       "       'fairytail', 'film', 'fitness', 'flamenco', 'folk', 'folklore',\n",
       "       'folkmetal', 'folkrock', 'folktronica', 'forró', 'frankreich',\n",
       "       'französisch', 'french', 'funk', 'future', 'gangsta', 'garage',\n",
       "       'german', 'ghazal', 'gitarre', 'glitch', 'gospel', 'gothic',\n",
       "       'grime', 'grunge', 'gypsy', 'handsup', \"hard'n'heavy\", 'hardcore',\n",
       "       'hardstyle', 'hardtechno', 'hip', 'hip-hop', 'hiphop',\n",
       "       'historisch', 'holiday', 'hop', 'horror', 'house', 'hymn', 'idm',\n",
       "       'independent', 'indian', 'indie', 'indipop', 'industrial',\n",
       "       'inspirational', 'instrumental', 'international', 'irish', 'jam',\n",
       "       'japanese', 'jazz', 'jewish', 'jpop', 'jungle', 'k-pop',\n",
       "       'karadeniz', 'karaoke', 'kayokyoku', 'korean', 'laiko', 'latin',\n",
       "       'latino', 'leftfield', 'local', 'lounge', 'loungeelectronic',\n",
       "       'lovers', 'malaysian', 'mandopop', 'marschmusik', 'meditative',\n",
       "       'mediterranean', 'melodic', 'metal', 'metalcore', 'mexican',\n",
       "       'middle', 'minimal', 'miscellaneous', 'modern', 'mood', 'mpb',\n",
       "       'muslim', 'native', 'neoklassik', 'neue', 'new', 'newage',\n",
       "       'newwave', 'nu', 'nujazz', 'numetal', 'oceania', 'old', 'opera',\n",
       "       'orchestral', 'other', 'piano', 'podcasts', 'pop', 'popdance',\n",
       "       'popelectronic', 'popeurodance', 'poprussian', 'post',\n",
       "       'posthardcore', 'postrock', 'power', 'progmetal', 'progressive',\n",
       "       'psychedelic', 'punjabi', 'punk', 'quebecois', 'ragga', 'ram',\n",
       "       'rancheras', 'rap', 'rave', 'reggae', 'reggaeton', 'regional',\n",
       "       'relax', 'religious', 'retro', 'rhythm', 'rnb', 'rnr', 'rock',\n",
       "       'rockabilly', 'rockalternative', 'rockindie', 'rockother',\n",
       "       'romance', 'roots', 'ruspop', 'rusrap', 'rusrock', 'russian',\n",
       "       'salsa', 'samba', 'scenic', 'schlager', 'self', 'sertanejo',\n",
       "       'shanson', 'shoegazing', 'showtunes', 'singer', 'ska', 'skarock',\n",
       "       'slow', 'smooth', 'soft', 'soul', 'soulful', 'sound', 'soundtrack',\n",
       "       'southern', 'specialty', 'speech', 'spiritual', 'sport',\n",
       "       'stonerrock', 'surf', 'swing', 'synthpop', 'synthrock',\n",
       "       'sängerportrait', 'tango', 'tanzorchester', 'taraftar', 'tatar',\n",
       "       'tech', 'techno', 'teen', 'thrash', 'top', 'traditional',\n",
       "       'tradjazz', 'trance', 'tribal', 'trip', 'triphop', 'tropical',\n",
       "       'türk', 'türkçe', 'ukrrock', 'unknown', 'urban', 'uzbek',\n",
       "       'variété', 'vi', 'videogame', 'vocal', 'western', 'world',\n",
       "       'worldbeat', 'ïîï', 'электроника'], dtype=object)"
      ]
     },
     "metadata": {},
     "output_type": "display_data"
    }
   ],
   "source": [
    "# Сортируем столбец genre\n",
    "df_sorted_by_genre = df['genre'].sort_values()\n",
    "# сохраним все уникальные значения столбца в переменную df_unique\n",
    "df_unique = df_sorted_by_genre.unique()\n",
    "# Просмотр уникальных названий жанров\n",
    "display(df_unique)"
   ]
  },
  {
   "cell_type": "markdown",
   "metadata": {
    "id": "qej-Qmuo_Zct"
   },
   "source": [
    "Посмотрим список и найдем неявные дубликаты названия `hiphop`. Это могут быть названия с ошибками или альтернативные названия того же жанра.\n",
    "\n",
    "Чтобы очистить от них таблицу, напишем функцию `replace_wrong_genres()` с двумя параметрами: \n",
    "* `wrong_genres` — список дубликатов,\n",
    "* `correct_genre` — строка с правильным значением.\n",
    "\n",
    "Функция исправляет колонку `genre` в таблице `df`: заменить каждое значение из списка `wrong_genres` на значение из `correct_genre`."
   ]
  },
  {
   "cell_type": "code",
   "execution_count": 15,
   "metadata": {
    "id": "ErNDkmns_Zct"
   },
   "outputs": [],
   "source": [
    "\n",
    "def replace_wrong_genres(wrong_genres,correct_genre):\n",
    "    for wrong_genre in wrong_genres:\n",
    "        df['genre'] = df['genre'].replace(wrong_genre,correct_genre)\n",
    "\n",
    "wrong_genres = ['hip','hop','hip-hop']\n",
    "correct_genre = 'hiphop'# Функция для замены неявных дубликатов"
   ]
  },
  {
   "cell_type": "markdown",
   "metadata": {
    "id": "aDoBJxbA_Zct"
   },
   "source": [
    "Вызовем `replace_wrong_genres()` и передадим ей такие аргументы, чтобы она устранила неявные дубликаты: вместо `hip`, `hop` и `hip-hop` в таблице должно быть значение `hiphop`:"
   ]
  },
  {
   "cell_type": "code",
   "execution_count": 16,
   "metadata": {
    "id": "YN5i2hpmSo09"
   },
   "outputs": [],
   "source": [
    "replace_wrong_genres(wrong_genres, correct_genre)# Устранение неявных дубликатов"
   ]
  },
  {
   "cell_type": "markdown",
   "metadata": {
    "id": "zQKF16_RG15m"
   },
   "source": [
    "Проверим, что заменили неправильные названия:\n",
    "\n",
    "Выведем отсортированный список уникальных значений столбца `genre`:"
   ]
  },
  {
   "cell_type": "code",
   "execution_count": 17,
   "metadata": {
    "id": "wvixALnFG15m",
    "scrolled": true
   },
   "outputs": [
    {
     "data": {
      "text/plain": [
       "array(['acid', 'acoustic', 'action', 'adult', 'africa', 'afrikaans',\n",
       "       'alternative', 'alternativepunk', 'ambient', 'americana',\n",
       "       'animated', 'anime', 'arabesk', 'arabic', 'arena',\n",
       "       'argentinetango', 'art', 'audiobook', 'author', 'avantgarde',\n",
       "       'axé', 'baile', 'balkan', 'beats', 'bigroom', 'black', 'bluegrass',\n",
       "       'blues', 'bollywood', 'bossa', 'brazilian', 'breakbeat', 'breaks',\n",
       "       'broadway', 'cantautori', 'cantopop', 'canzone', 'caribbean',\n",
       "       'caucasian', 'celtic', 'chamber', 'chanson', 'children', 'chill',\n",
       "       'chinese', 'choral', 'christian', 'christmas', 'classical',\n",
       "       'classicmetal', 'club', 'colombian', 'comedy', 'conjazz',\n",
       "       'contemporary', 'country', 'cuban', 'dance', 'dancehall',\n",
       "       'dancepop', 'dark', 'death', 'deep', 'deutschrock', 'deutschspr',\n",
       "       'dirty', 'disco', 'dnb', 'documentary', 'downbeat', 'downtempo',\n",
       "       'drum', 'dub', 'dubstep', 'eastern', 'easy', 'electronic',\n",
       "       'electropop', 'emo', 'entehno', 'epicmetal', 'estrada', 'ethnic',\n",
       "       'eurofolk', 'european', 'experimental', 'extrememetal', 'fado',\n",
       "       'fairytail', 'film', 'fitness', 'flamenco', 'folk', 'folklore',\n",
       "       'folkmetal', 'folkrock', 'folktronica', 'forró', 'frankreich',\n",
       "       'französisch', 'french', 'funk', 'future', 'gangsta', 'garage',\n",
       "       'german', 'ghazal', 'gitarre', 'glitch', 'gospel', 'gothic',\n",
       "       'grime', 'grunge', 'gypsy', 'handsup', \"hard'n'heavy\", 'hardcore',\n",
       "       'hardstyle', 'hardtechno', 'hiphop', 'historisch', 'holiday',\n",
       "       'horror', 'house', 'hymn', 'idm', 'independent', 'indian', 'indie',\n",
       "       'indipop', 'industrial', 'inspirational', 'instrumental',\n",
       "       'international', 'irish', 'jam', 'japanese', 'jazz', 'jewish',\n",
       "       'jpop', 'jungle', 'k-pop', 'karadeniz', 'karaoke', 'kayokyoku',\n",
       "       'korean', 'laiko', 'latin', 'latino', 'leftfield', 'local',\n",
       "       'lounge', 'loungeelectronic', 'lovers', 'malaysian', 'mandopop',\n",
       "       'marschmusik', 'meditative', 'mediterranean', 'melodic', 'metal',\n",
       "       'metalcore', 'mexican', 'middle', 'minimal', 'miscellaneous',\n",
       "       'modern', 'mood', 'mpb', 'muslim', 'native', 'neoklassik', 'neue',\n",
       "       'new', 'newage', 'newwave', 'nu', 'nujazz', 'numetal', 'oceania',\n",
       "       'old', 'opera', 'orchestral', 'other', 'piano', 'podcasts', 'pop',\n",
       "       'popdance', 'popelectronic', 'popeurodance', 'poprussian', 'post',\n",
       "       'posthardcore', 'postrock', 'power', 'progmetal', 'progressive',\n",
       "       'psychedelic', 'punjabi', 'punk', 'quebecois', 'ragga', 'ram',\n",
       "       'rancheras', 'rap', 'rave', 'reggae', 'reggaeton', 'regional',\n",
       "       'relax', 'religious', 'retro', 'rhythm', 'rnb', 'rnr', 'rock',\n",
       "       'rockabilly', 'rockalternative', 'rockindie', 'rockother',\n",
       "       'romance', 'roots', 'ruspop', 'rusrap', 'rusrock', 'russian',\n",
       "       'salsa', 'samba', 'scenic', 'schlager', 'self', 'sertanejo',\n",
       "       'shanson', 'shoegazing', 'showtunes', 'singer', 'ska', 'skarock',\n",
       "       'slow', 'smooth', 'soft', 'soul', 'soulful', 'sound', 'soundtrack',\n",
       "       'southern', 'specialty', 'speech', 'spiritual', 'sport',\n",
       "       'stonerrock', 'surf', 'swing', 'synthpop', 'synthrock',\n",
       "       'sängerportrait', 'tango', 'tanzorchester', 'taraftar', 'tatar',\n",
       "       'tech', 'techno', 'teen', 'thrash', 'top', 'traditional',\n",
       "       'tradjazz', 'trance', 'tribal', 'trip', 'triphop', 'tropical',\n",
       "       'türk', 'türkçe', 'ukrrock', 'unknown', 'urban', 'uzbek',\n",
       "       'variété', 'vi', 'videogame', 'vocal', 'western', 'world',\n",
       "       'worldbeat', 'ïîï', 'электроника'], dtype=object)"
      ]
     },
     "metadata": {},
     "output_type": "display_data"
    }
   ],
   "source": [
    "sorted_df = df['genre']\n",
    "sorted_df = sorted_df.sort_values()\n",
    "sorted_df = sorted_df.unique()\n",
    "display(sorted_df)# Проверка на неявные дубликаты"
   ]
  },
  {
   "cell_type": "markdown",
   "metadata": {
    "id": "jz6a9-7HQUDd"
   },
   "source": [
    "**Выводы**\n",
    "\n",
    "В процессе предобработки мы обнаружили три проблемы в данных:\n",
    "\n",
    "- нарушения в стиле заголовков,\n",
    "- пропущенные значения,\n",
    "- дубликаты — явные и неявные.\n",
    "\n",
    "Мы исправили заголовки, чтобы упростить работу с таблицей. Без дубликатов исследование стало более точным.\n",
    "\n",
    "Пропущенные значения мы заменили на `'unknown'`. Ещё предстоит увидеть, не повредят ли исследованию пропуски в колонке `genre`.\n",
    "\n",
    "Теперь можно перейти к проверке гипотез. "
   ]
  },
  {
   "cell_type": "markdown",
   "metadata": {
    "id": "WttZHXH0SqKk"
   },
   "source": [
    "## Проверка гипотез"
   ]
  },
  {
   "cell_type": "markdown",
   "metadata": {
    "id": "Im936VVi_Zcu"
   },
   "source": [
    "### Сравнение поведения пользователей двух столиц"
   ]
  },
  {
   "cell_type": "markdown",
   "metadata": {
    "id": "nwt_MuaL_Zcu"
   },
   "source": [
    "Первая гипотеза утверждает, что пользователи по-разному слушают музыку в Москве и Санкт-Петербурге. Проверим это предположение по данным о трёх днях недели — понедельнике, среде и пятнице. Для этого:\n",
    "\n",
    "* Разделим пользователей Москвы и Санкт-Петербурга\n",
    "* Сравним, сколько треков послушала каждая группа пользователей в понедельник, среду и пятницу.\n"
   ]
  },
  {
   "cell_type": "markdown",
   "metadata": {
    "id": "8Dw_YMmT_Zcu"
   },
   "source": [
    "Для тренировки сначала выполним каждый из расчётов по отдельности. \n",
    "\n",
    "Оценим активность пользователей в каждом городе. Сгруппируем данные по городу и посчитаем прослушивания в каждой группе.\n",
    "\n"
   ]
  },
  {
   "cell_type": "code",
   "execution_count": 18,
   "metadata": {
    "id": "0_Qs96oh_Zcu"
   },
   "outputs": [
    {
     "data": {
      "text/html": [
       "<div>\n",
       "<style scoped>\n",
       "    .dataframe tbody tr th:only-of-type {\n",
       "        vertical-align: middle;\n",
       "    }\n",
       "\n",
       "    .dataframe tbody tr th {\n",
       "        vertical-align: top;\n",
       "    }\n",
       "\n",
       "    .dataframe thead th {\n",
       "        text-align: right;\n",
       "    }\n",
       "</style>\n",
       "<table border=\"1\" class=\"dataframe\">\n",
       "  <thead>\n",
       "    <tr style=\"text-align: right;\">\n",
       "      <th></th>\n",
       "      <th>user_id</th>\n",
       "      <th>track</th>\n",
       "      <th>artist</th>\n",
       "      <th>genre</th>\n",
       "      <th>time</th>\n",
       "      <th>day</th>\n",
       "    </tr>\n",
       "    <tr>\n",
       "      <th>city</th>\n",
       "      <th></th>\n",
       "      <th></th>\n",
       "      <th></th>\n",
       "      <th></th>\n",
       "      <th></th>\n",
       "      <th></th>\n",
       "    </tr>\n",
       "  </thead>\n",
       "  <tbody>\n",
       "    <tr>\n",
       "      <th>Moscow</th>\n",
       "      <td>42741</td>\n",
       "      <td>42741</td>\n",
       "      <td>42741</td>\n",
       "      <td>42741</td>\n",
       "      <td>42741</td>\n",
       "      <td>42741</td>\n",
       "    </tr>\n",
       "    <tr>\n",
       "      <th>Saint-Petersburg</th>\n",
       "      <td>18512</td>\n",
       "      <td>18512</td>\n",
       "      <td>18512</td>\n",
       "      <td>18512</td>\n",
       "      <td>18512</td>\n",
       "      <td>18512</td>\n",
       "    </tr>\n",
       "  </tbody>\n",
       "</table>\n",
       "</div>"
      ],
      "text/plain": [
       "                  user_id  track  artist  genre   time    day\n",
       "city                                                         \n",
       "Moscow              42741  42741   42741  42741  42741  42741\n",
       "Saint-Petersburg    18512  18512   18512  18512  18512  18512"
      ]
     },
     "metadata": {},
     "output_type": "display_data"
    }
   ],
   "source": [
    "# Подсчёт прослушиваний в каждом городе\n",
    "df_grouped_by_city = df.groupby('city').count()\n",
    "# Выведем результат\n",
    "display(df_grouped_by_city)"
   ]
  },
  {
   "cell_type": "markdown",
   "metadata": {
    "id": "dzli3w8o_Zcu"
   },
   "source": [
    "В Москве прослушиваний больше, чем в Петербурге. Из этого не следует, что московские пользователи чаще слушают музыку. Просто самих пользователей в Москве больше.\n",
    "\n",
    "Теперь сгруппируем данные по дню недели и подсчитайте прослушивания в понедельник, среду и пятницу. Учитываем, что в данных есть информация только о прослушиваниях только за эти дни.\n"
   ]
  },
  {
   "cell_type": "code",
   "execution_count": 19,
   "metadata": {
    "id": "uZMKjiJz_Zcu"
   },
   "outputs": [
    {
     "data": {
      "text/html": [
       "<div>\n",
       "<style scoped>\n",
       "    .dataframe tbody tr th:only-of-type {\n",
       "        vertical-align: middle;\n",
       "    }\n",
       "\n",
       "    .dataframe tbody tr th {\n",
       "        vertical-align: top;\n",
       "    }\n",
       "\n",
       "    .dataframe thead th {\n",
       "        text-align: right;\n",
       "    }\n",
       "</style>\n",
       "<table border=\"1\" class=\"dataframe\">\n",
       "  <thead>\n",
       "    <tr style=\"text-align: right;\">\n",
       "      <th></th>\n",
       "      <th>user_id</th>\n",
       "      <th>track</th>\n",
       "      <th>artist</th>\n",
       "      <th>genre</th>\n",
       "      <th>city</th>\n",
       "      <th>time</th>\n",
       "    </tr>\n",
       "    <tr>\n",
       "      <th>day</th>\n",
       "      <th></th>\n",
       "      <th></th>\n",
       "      <th></th>\n",
       "      <th></th>\n",
       "      <th></th>\n",
       "      <th></th>\n",
       "    </tr>\n",
       "  </thead>\n",
       "  <tbody>\n",
       "    <tr>\n",
       "      <th>Friday</th>\n",
       "      <td>21840</td>\n",
       "      <td>21840</td>\n",
       "      <td>21840</td>\n",
       "      <td>21840</td>\n",
       "      <td>21840</td>\n",
       "      <td>21840</td>\n",
       "    </tr>\n",
       "    <tr>\n",
       "      <th>Monday</th>\n",
       "      <td>21354</td>\n",
       "      <td>21354</td>\n",
       "      <td>21354</td>\n",
       "      <td>21354</td>\n",
       "      <td>21354</td>\n",
       "      <td>21354</td>\n",
       "    </tr>\n",
       "    <tr>\n",
       "      <th>Wednesday</th>\n",
       "      <td>18059</td>\n",
       "      <td>18059</td>\n",
       "      <td>18059</td>\n",
       "      <td>18059</td>\n",
       "      <td>18059</td>\n",
       "      <td>18059</td>\n",
       "    </tr>\n",
       "  </tbody>\n",
       "</table>\n",
       "</div>"
      ],
      "text/plain": [
       "           user_id  track  artist  genre   city   time\n",
       "day                                                   \n",
       "Friday       21840  21840   21840  21840  21840  21840\n",
       "Monday       21354  21354   21354  21354  21354  21354\n",
       "Wednesday    18059  18059   18059  18059  18059  18059"
      ]
     },
     "metadata": {},
     "output_type": "display_data"
    }
   ],
   "source": [
    "# Подсчёт прослушиваний в каждый из трёх дней\n",
    "df_grouped_by_city_and_day = df.groupby('day').count()\n",
    "# Выводим результат\n",
    "display(df_grouped_by_city_and_day)"
   ]
  },
  {
   "cell_type": "markdown",
   "metadata": {
    "id": "cC2tNrlL_Zcu"
   },
   "source": [
    "В среднем пользователи из двух городов менее активны по средам. Но картина может измениться, если рассмотреть каждый город в отдельности."
   ]
  },
  {
   "cell_type": "markdown",
   "metadata": {
    "id": "POzs8bGa_Zcu"
   },
   "source": [
    "Мы видели, как работает группировка по городу и по дням недели. Теперь напишем функцию, которая объединит два эти расчёта.\n",
    "\n",
    "Создадим функцию `number_tracks()`, которая посчитает прослушивания для заданного дня и города. Ей понадобятся два параметра:\n",
    "* день недели,\n",
    "* название города.\n",
    "\n",
    "В функции сохраним в переменную строки исходной таблицы, у которых значение:\n",
    "  * в колонке `day` равно параметру `day`,\n",
    "  * в колонке `city` равно параметру `city`.\n",
    "\n",
    "Для этого применим последовательную фильтрацию с логической индексацией.\n",
    "\n",
    "Затем помчитаем значения в столбце `user_id` получившейся таблицы. Результат сохраним в новую переменную. Вернем эту переменную из функции."
   ]
  },
  {
   "cell_type": "code",
   "execution_count": 20,
   "metadata": {
    "id": "Nz3GdQB1_Zcu"
   },
   "outputs": [],
   "source": [
    "def number_tracks(day,city):\n",
    "    track_list = df[(df['day'] == day) & (df['city'] == city)]\n",
    "    track_list_count = track_list['user_id'].count()\n",
    "    return track_list_count# <создание функции number_tracks()>\n",
    "# Объявляется функция с двумя параметрами: day, city.\n",
    "# В переменной track_list сохраняются те строки таблицы df, для которых \n",
    "# значение в столбце 'day' равно параметру day и одновременно значение\n",
    "# в столбце 'city' равно параметру city (используем последовательную фильтрацию\n",
    "# с помощью логической индексации).\n",
    "# В переменной track_list_count сохраняется число значений столбца 'user_id',\n",
    "# рассчитанное методом count() для таблицы track_list.\n",
    "# Функция возвращает число - значение track_list_count.\n",
    "\n",
    "# Функция для подсчёта прослушиваний для конкретного города и дня.\n",
    "# С помощью последовательной фильтрации с логической индексацией она \n",
    "# сначала получит из исходной таблицы строки с нужным днём,\n",
    "# затем из результата отфильтрует строки с нужным городом,\n",
    "# методом count() посчитает количество значений в колонке user_id. \n",
    "# Это количество функция вернёт в качестве результата"
   ]
  },
  {
   "cell_type": "markdown",
   "metadata": {
    "id": "ytf7xFrFJQ2r"
   },
   "source": [
    "Вызовем `number_tracks()` шесть раз, меняя значение параметров — так, чтобы получить данные для каждого города в каждый из трёх дней."
   ]
  },
  {
   "cell_type": "code",
   "execution_count": 21,
   "metadata": {
    "id": "rJcRATNQ_Zcu"
   },
   "outputs": [
    {
     "data": {
      "text/plain": [
       "11056"
      ]
     },
     "execution_count": 21,
     "metadata": {},
     "output_type": "execute_result"
    }
   ],
   "source": [
    "# количество прослушиваний в Москве по понедельникам\n",
    "number_tracks('Wednesday', 'Moscow')"
   ]
  },
  {
   "cell_type": "code",
   "execution_count": 22,
   "metadata": {
    "id": "hq_ncZ5T_Zcu"
   },
   "outputs": [
    {
     "data": {
      "text/plain": [
       "15740"
      ]
     },
     "execution_count": 22,
     "metadata": {},
     "output_type": "execute_result"
    }
   ],
   "source": [
    "# количество прослушиваний в Санкт-Петербурге по понедельникам\n",
    "number_tracks('Monday', 'Moscow')"
   ]
  },
  {
   "cell_type": "code",
   "execution_count": 23,
   "metadata": {
    "id": "_NTy2VPU_Zcu"
   },
   "outputs": [
    {
     "data": {
      "text/plain": [
       "15945"
      ]
     },
     "execution_count": 23,
     "metadata": {},
     "output_type": "execute_result"
    }
   ],
   "source": [
    "# количество прослушиваний в Москве по средам\n",
    "number_tracks('Friday', 'Moscow')"
   ]
  },
  {
   "cell_type": "code",
   "execution_count": 24,
   "metadata": {
    "id": "j2y3TAwo_Zcu"
   },
   "outputs": [
    {
     "data": {
      "text/plain": [
       "7003"
      ]
     },
     "execution_count": 24,
     "metadata": {},
     "output_type": "execute_result"
    }
   ],
   "source": [
    "# количество прослушиваний в Санкт-Петербурге по средам\n",
    "number_tracks('Wednesday', 'Saint-Petersburg')"
   ]
  },
  {
   "cell_type": "code",
   "execution_count": 25,
   "metadata": {
    "id": "vYDw5u_K_Zcu"
   },
   "outputs": [
    {
     "data": {
      "text/plain": [
       "5614"
      ]
     },
     "execution_count": 25,
     "metadata": {},
     "output_type": "execute_result"
    }
   ],
   "source": [
    "# количество прослушиваний в Москве по пятницам\n",
    "number_tracks('Monday', 'Saint-Petersburg')"
   ]
  },
  {
   "cell_type": "code",
   "execution_count": 26,
   "metadata": {
    "id": "8_yzFtW3_Zcu"
   },
   "outputs": [
    {
     "data": {
      "text/plain": [
       "5895"
      ]
     },
     "execution_count": 26,
     "metadata": {},
     "output_type": "execute_result"
    }
   ],
   "source": [
    "# количество прослушиваний в Санкт-Петербурге по пятницам\n",
    "number_tracks('Friday', 'Saint-Petersburg')"
   ]
  },
  {
   "cell_type": "markdown",
   "metadata": {
    "id": "7QXffbO-_Zcu"
   },
   "source": [
    "Создадим c помощью конструктора `pd.DataFrame` таблицу, где\n",
    "* названия колонок — `['city', 'monday', 'wednesday', 'friday']`;\n",
    "* данные — результаты, которые мы получили с помощью `number_tracks`."
   ]
  },
  {
   "cell_type": "code",
   "execution_count": 27,
   "metadata": {
    "id": "APAcLpOr_Zcu"
   },
   "outputs": [
    {
     "data": {
      "text/html": [
       "<div>\n",
       "<style scoped>\n",
       "    .dataframe tbody tr th:only-of-type {\n",
       "        vertical-align: middle;\n",
       "    }\n",
       "\n",
       "    .dataframe tbody tr th {\n",
       "        vertical-align: top;\n",
       "    }\n",
       "\n",
       "    .dataframe thead th {\n",
       "        text-align: right;\n",
       "    }\n",
       "</style>\n",
       "<table border=\"1\" class=\"dataframe\">\n",
       "  <thead>\n",
       "    <tr style=\"text-align: right;\">\n",
       "      <th></th>\n",
       "      <th>city</th>\n",
       "      <th>monday</th>\n",
       "      <th>wednesday</th>\n",
       "      <th>friday</th>\n",
       "    </tr>\n",
       "  </thead>\n",
       "  <tbody>\n",
       "    <tr>\n",
       "      <th>0</th>\n",
       "      <td>Moskow</td>\n",
       "      <td>15740</td>\n",
       "      <td>11056</td>\n",
       "      <td>15945</td>\n",
       "    </tr>\n",
       "    <tr>\n",
       "      <th>1</th>\n",
       "      <td>Saint-Petersburg</td>\n",
       "      <td>5614</td>\n",
       "      <td>7003</td>\n",
       "      <td>5895</td>\n",
       "    </tr>\n",
       "  </tbody>\n",
       "</table>\n",
       "</div>"
      ],
      "text/plain": [
       "               city  monday  wednesday  friday\n",
       "0            Moskow   15740      11056   15945\n",
       "1  Saint-Petersburg    5614       7003    5895"
      ]
     },
     "metadata": {},
     "output_type": "display_data"
    }
   ],
   "source": [
    "columns = ['city', 'monday', 'wednesday', 'friday']\n",
    "data = [['Moskow', 15740, 11056, 15945],\n",
    "        ['Saint-Petersburg', 5614, 7003, 5895]\n",
    "       ]\n",
    "\n",
    "table = pd.DataFrame(columns = columns, data = data)\n",
    "display(table)# Таблица с результатами"
   ]
  },
  {
   "cell_type": "markdown",
   "metadata": {
    "id": "-EgPIHYu_Zcu"
   },
   "source": [
    "**Выводы**\n",
    "\n",
    "Данные показывают разницу поведения пользователей:\n",
    "\n",
    "- В Москве пик прослушиваний приходится на понедельник и пятницу, а в среду заметен спад.\n",
    "- В Петербурге, наоборот, больше слушают музыку по средам. Активность в понедельник и пятницу здесь почти в равной мере уступает среде.\n",
    "\n",
    "Значит, данные говорят в пользу первой гипотезы."
   ]
  },
  {
   "cell_type": "markdown",
   "metadata": {
    "id": "atZAxtq4_Zcu"
   },
   "source": [
    "### Музыка в начале и в конце недели"
   ]
  },
  {
   "cell_type": "markdown",
   "metadata": {
    "id": "eXrQqXFH_Zcu"
   },
   "source": [
    "Согласно второй гипотезе, утром в понедельник в Москве преобладают одни жанры, а в Петербурге — другие. Так же и вечером пятницы преобладают разные жанры — в зависимости от города."
   ]
  },
  {
   "cell_type": "markdown",
   "metadata": {
    "id": "S8UcW6Hw_Zcu"
   },
   "source": [
    "Сохраним таблицы с данными в две переменные:\n",
    "* по Москве — в `moscow_general`;\n",
    "* по Санкт-Петербургу — в `spb_general`."
   ]
  },
  {
   "cell_type": "code",
   "execution_count": 28,
   "metadata": {
    "id": "qeaFfM_P_Zcu"
   },
   "outputs": [
    {
     "data": {
      "text/html": [
       "<div>\n",
       "<style scoped>\n",
       "    .dataframe tbody tr th:only-of-type {\n",
       "        vertical-align: middle;\n",
       "    }\n",
       "\n",
       "    .dataframe tbody tr th {\n",
       "        vertical-align: top;\n",
       "    }\n",
       "\n",
       "    .dataframe thead th {\n",
       "        text-align: right;\n",
       "    }\n",
       "</style>\n",
       "<table border=\"1\" class=\"dataframe\">\n",
       "  <thead>\n",
       "    <tr style=\"text-align: right;\">\n",
       "      <th></th>\n",
       "      <th>user_id</th>\n",
       "      <th>track</th>\n",
       "      <th>artist</th>\n",
       "      <th>genre</th>\n",
       "      <th>city</th>\n",
       "      <th>time</th>\n",
       "      <th>day</th>\n",
       "    </tr>\n",
       "  </thead>\n",
       "  <tbody>\n",
       "    <tr>\n",
       "      <th>1</th>\n",
       "      <td>55204538</td>\n",
       "      <td>Delayed Because of Accident</td>\n",
       "      <td>Andreas Rönnberg</td>\n",
       "      <td>rock</td>\n",
       "      <td>Moscow</td>\n",
       "      <td>14:07:09</td>\n",
       "      <td>Friday</td>\n",
       "    </tr>\n",
       "    <tr>\n",
       "      <th>4</th>\n",
       "      <td>E2DC1FAE</td>\n",
       "      <td>Soul People</td>\n",
       "      <td>Space Echo</td>\n",
       "      <td>dance</td>\n",
       "      <td>Moscow</td>\n",
       "      <td>08:34:34</td>\n",
       "      <td>Monday</td>\n",
       "    </tr>\n",
       "    <tr>\n",
       "      <th>6</th>\n",
       "      <td>4CB90AA5</td>\n",
       "      <td>True</td>\n",
       "      <td>Roman Messer</td>\n",
       "      <td>dance</td>\n",
       "      <td>Moscow</td>\n",
       "      <td>13:00:07</td>\n",
       "      <td>Wednesday</td>\n",
       "    </tr>\n",
       "    <tr>\n",
       "      <th>7</th>\n",
       "      <td>F03E1C1F</td>\n",
       "      <td>Feeling This Way</td>\n",
       "      <td>Polina Griffith</td>\n",
       "      <td>dance</td>\n",
       "      <td>Moscow</td>\n",
       "      <td>20:47:49</td>\n",
       "      <td>Wednesday</td>\n",
       "    </tr>\n",
       "    <tr>\n",
       "      <th>8</th>\n",
       "      <td>8FA1D3BE</td>\n",
       "      <td>И вновь продолжается бой</td>\n",
       "      <td>unknown</td>\n",
       "      <td>ruspop</td>\n",
       "      <td>Moscow</td>\n",
       "      <td>09:17:40</td>\n",
       "      <td>Friday</td>\n",
       "    </tr>\n",
       "    <tr>\n",
       "      <th>...</th>\n",
       "      <td>...</td>\n",
       "      <td>...</td>\n",
       "      <td>...</td>\n",
       "      <td>...</td>\n",
       "      <td>...</td>\n",
       "      <td>...</td>\n",
       "      <td>...</td>\n",
       "    </tr>\n",
       "    <tr>\n",
       "      <th>61247</th>\n",
       "      <td>83A474E7</td>\n",
       "      <td>I Worship Only What You Bleed</td>\n",
       "      <td>The Black Dahlia Murder</td>\n",
       "      <td>extrememetal</td>\n",
       "      <td>Moscow</td>\n",
       "      <td>21:07:12</td>\n",
       "      <td>Monday</td>\n",
       "    </tr>\n",
       "    <tr>\n",
       "      <th>61248</th>\n",
       "      <td>729CBB09</td>\n",
       "      <td>My Name</td>\n",
       "      <td>McLean</td>\n",
       "      <td>rnb</td>\n",
       "      <td>Moscow</td>\n",
       "      <td>13:32:28</td>\n",
       "      <td>Wednesday</td>\n",
       "    </tr>\n",
       "    <tr>\n",
       "      <th>61250</th>\n",
       "      <td>C5E3A0D5</td>\n",
       "      <td>Jalopiina</td>\n",
       "      <td>unknown</td>\n",
       "      <td>industrial</td>\n",
       "      <td>Moscow</td>\n",
       "      <td>20:09:26</td>\n",
       "      <td>Friday</td>\n",
       "    </tr>\n",
       "    <tr>\n",
       "      <th>61251</th>\n",
       "      <td>321D0506</td>\n",
       "      <td>Freight Train</td>\n",
       "      <td>Chas McDevitt</td>\n",
       "      <td>rock</td>\n",
       "      <td>Moscow</td>\n",
       "      <td>21:43:59</td>\n",
       "      <td>Friday</td>\n",
       "    </tr>\n",
       "    <tr>\n",
       "      <th>61252</th>\n",
       "      <td>3A64EF84</td>\n",
       "      <td>Tell Me Sweet Little Lies</td>\n",
       "      <td>Monica Lopez</td>\n",
       "      <td>country</td>\n",
       "      <td>Moscow</td>\n",
       "      <td>21:59:46</td>\n",
       "      <td>Friday</td>\n",
       "    </tr>\n",
       "  </tbody>\n",
       "</table>\n",
       "<p>42741 rows × 7 columns</p>\n",
       "</div>"
      ],
      "text/plain": [
       "        user_id                          track                   artist  \\\n",
       "1      55204538    Delayed Because of Accident         Andreas Rönnberg   \n",
       "4      E2DC1FAE                    Soul People               Space Echo   \n",
       "6      4CB90AA5                           True             Roman Messer   \n",
       "7      F03E1C1F               Feeling This Way          Polina Griffith   \n",
       "8      8FA1D3BE       И вновь продолжается бой                  unknown   \n",
       "...         ...                            ...                      ...   \n",
       "61247  83A474E7  I Worship Only What You Bleed  The Black Dahlia Murder   \n",
       "61248  729CBB09                        My Name                   McLean   \n",
       "61250  C5E3A0D5                      Jalopiina                  unknown   \n",
       "61251  321D0506                  Freight Train            Chas McDevitt   \n",
       "61252  3A64EF84      Tell Me Sweet Little Lies             Monica Lopez   \n",
       "\n",
       "              genre    city      time        day  \n",
       "1              rock  Moscow  14:07:09     Friday  \n",
       "4             dance  Moscow  08:34:34     Monday  \n",
       "6             dance  Moscow  13:00:07  Wednesday  \n",
       "7             dance  Moscow  20:47:49  Wednesday  \n",
       "8            ruspop  Moscow  09:17:40     Friday  \n",
       "...             ...     ...       ...        ...  \n",
       "61247  extrememetal  Moscow  21:07:12     Monday  \n",
       "61248           rnb  Moscow  13:32:28  Wednesday  \n",
       "61250    industrial  Moscow  20:09:26     Friday  \n",
       "61251          rock  Moscow  21:43:59     Friday  \n",
       "61252       country  Moscow  21:59:46     Friday  \n",
       "\n",
       "[42741 rows x 7 columns]"
      ]
     },
     "metadata": {},
     "output_type": "display_data"
    }
   ],
   "source": [
    "# получение таблицы moscow_general из тех строк таблицы df, \n",
    "# для которых значение в столбце 'city' равно 'Moscow'\n",
    "moscow_general = df[df['city'] == 'Moscow']\n",
    "display(moscow_general)\n"
   ]
  },
  {
   "cell_type": "code",
   "execution_count": 29,
   "metadata": {
    "id": "ORaVRKto_Zcu"
   },
   "outputs": [
    {
     "data": {
      "text/html": [
       "<div>\n",
       "<style scoped>\n",
       "    .dataframe tbody tr th:only-of-type {\n",
       "        vertical-align: middle;\n",
       "    }\n",
       "\n",
       "    .dataframe tbody tr th {\n",
       "        vertical-align: top;\n",
       "    }\n",
       "\n",
       "    .dataframe thead th {\n",
       "        text-align: right;\n",
       "    }\n",
       "</style>\n",
       "<table border=\"1\" class=\"dataframe\">\n",
       "  <thead>\n",
       "    <tr style=\"text-align: right;\">\n",
       "      <th></th>\n",
       "      <th>user_id</th>\n",
       "      <th>track</th>\n",
       "      <th>artist</th>\n",
       "      <th>genre</th>\n",
       "      <th>city</th>\n",
       "      <th>time</th>\n",
       "      <th>day</th>\n",
       "    </tr>\n",
       "  </thead>\n",
       "  <tbody>\n",
       "    <tr>\n",
       "      <th>0</th>\n",
       "      <td>FFB692EC</td>\n",
       "      <td>Kamigata To Boots</td>\n",
       "      <td>The Mass Missile</td>\n",
       "      <td>rock</td>\n",
       "      <td>Saint-Petersburg</td>\n",
       "      <td>20:28:33</td>\n",
       "      <td>Wednesday</td>\n",
       "    </tr>\n",
       "    <tr>\n",
       "      <th>2</th>\n",
       "      <td>20EC38</td>\n",
       "      <td>Funiculì funiculà</td>\n",
       "      <td>Mario Lanza</td>\n",
       "      <td>pop</td>\n",
       "      <td>Saint-Petersburg</td>\n",
       "      <td>20:58:07</td>\n",
       "      <td>Wednesday</td>\n",
       "    </tr>\n",
       "    <tr>\n",
       "      <th>3</th>\n",
       "      <td>A3DD03C9</td>\n",
       "      <td>Dragons in the Sunset</td>\n",
       "      <td>Fire + Ice</td>\n",
       "      <td>folk</td>\n",
       "      <td>Saint-Petersburg</td>\n",
       "      <td>08:37:09</td>\n",
       "      <td>Monday</td>\n",
       "    </tr>\n",
       "    <tr>\n",
       "      <th>5</th>\n",
       "      <td>842029A1</td>\n",
       "      <td>Преданная</td>\n",
       "      <td>IMPERVTOR</td>\n",
       "      <td>rusrap</td>\n",
       "      <td>Saint-Petersburg</td>\n",
       "      <td>13:09:41</td>\n",
       "      <td>Friday</td>\n",
       "    </tr>\n",
       "    <tr>\n",
       "      <th>9</th>\n",
       "      <td>E772D5C0</td>\n",
       "      <td>Pessimist</td>\n",
       "      <td>unknown</td>\n",
       "      <td>dance</td>\n",
       "      <td>Saint-Petersburg</td>\n",
       "      <td>21:20:49</td>\n",
       "      <td>Wednesday</td>\n",
       "    </tr>\n",
       "    <tr>\n",
       "      <th>...</th>\n",
       "      <td>...</td>\n",
       "      <td>...</td>\n",
       "      <td>...</td>\n",
       "      <td>...</td>\n",
       "      <td>...</td>\n",
       "      <td>...</td>\n",
       "      <td>...</td>\n",
       "    </tr>\n",
       "    <tr>\n",
       "      <th>61239</th>\n",
       "      <td>D94F810B</td>\n",
       "      <td>Theme from the Walking Dead</td>\n",
       "      <td>Proyecto Halloween</td>\n",
       "      <td>film</td>\n",
       "      <td>Saint-Petersburg</td>\n",
       "      <td>21:14:40</td>\n",
       "      <td>Monday</td>\n",
       "    </tr>\n",
       "    <tr>\n",
       "      <th>61240</th>\n",
       "      <td>BC8EC5CF</td>\n",
       "      <td>Red Lips: Gta (Rover Rework)</td>\n",
       "      <td>Rover</td>\n",
       "      <td>electronic</td>\n",
       "      <td>Saint-Petersburg</td>\n",
       "      <td>21:06:50</td>\n",
       "      <td>Monday</td>\n",
       "    </tr>\n",
       "    <tr>\n",
       "      <th>61241</th>\n",
       "      <td>29E04611</td>\n",
       "      <td>Bre Petrunko</td>\n",
       "      <td>Perunika Trio</td>\n",
       "      <td>world</td>\n",
       "      <td>Saint-Petersburg</td>\n",
       "      <td>13:56:00</td>\n",
       "      <td>Monday</td>\n",
       "    </tr>\n",
       "    <tr>\n",
       "      <th>61242</th>\n",
       "      <td>1B91C621</td>\n",
       "      <td>(Hello) Cloud Mountain</td>\n",
       "      <td>sleepmakeswaves</td>\n",
       "      <td>postrock</td>\n",
       "      <td>Saint-Petersburg</td>\n",
       "      <td>09:22:13</td>\n",
       "      <td>Monday</td>\n",
       "    </tr>\n",
       "    <tr>\n",
       "      <th>61249</th>\n",
       "      <td>D08D4A55</td>\n",
       "      <td>Maybe One Day (feat. Black Spade)</td>\n",
       "      <td>Blu &amp; Exile</td>\n",
       "      <td>hiphop</td>\n",
       "      <td>Saint-Petersburg</td>\n",
       "      <td>10:00:00</td>\n",
       "      <td>Monday</td>\n",
       "    </tr>\n",
       "  </tbody>\n",
       "</table>\n",
       "<p>18512 rows × 7 columns</p>\n",
       "</div>"
      ],
      "text/plain": [
       "        user_id                              track              artist  \\\n",
       "0      FFB692EC                  Kamigata To Boots    The Mass Missile   \n",
       "2        20EC38                  Funiculì funiculà         Mario Lanza   \n",
       "3      A3DD03C9              Dragons in the Sunset          Fire + Ice   \n",
       "5      842029A1                          Преданная           IMPERVTOR   \n",
       "9      E772D5C0                          Pessimist             unknown   \n",
       "...         ...                                ...                 ...   \n",
       "61239  D94F810B        Theme from the Walking Dead  Proyecto Halloween   \n",
       "61240  BC8EC5CF       Red Lips: Gta (Rover Rework)               Rover   \n",
       "61241  29E04611                       Bre Petrunko       Perunika Trio   \n",
       "61242  1B91C621             (Hello) Cloud Mountain     sleepmakeswaves   \n",
       "61249  D08D4A55  Maybe One Day (feat. Black Spade)         Blu & Exile   \n",
       "\n",
       "            genre              city      time        day  \n",
       "0            rock  Saint-Petersburg  20:28:33  Wednesday  \n",
       "2             pop  Saint-Petersburg  20:58:07  Wednesday  \n",
       "3            folk  Saint-Petersburg  08:37:09     Monday  \n",
       "5          rusrap  Saint-Petersburg  13:09:41     Friday  \n",
       "9           dance  Saint-Petersburg  21:20:49  Wednesday  \n",
       "...           ...               ...       ...        ...  \n",
       "61239        film  Saint-Petersburg  21:14:40     Monday  \n",
       "61240  electronic  Saint-Petersburg  21:06:50     Monday  \n",
       "61241       world  Saint-Petersburg  13:56:00     Monday  \n",
       "61242    postrock  Saint-Petersburg  09:22:13     Monday  \n",
       "61249      hiphop  Saint-Petersburg  10:00:00     Monday  \n",
       "\n",
       "[18512 rows x 7 columns]"
      ]
     },
     "metadata": {},
     "output_type": "display_data"
    }
   ],
   "source": [
    "# получение таблицы spb_general из тех строк таблицы df,\n",
    "# для которых значение в столбце 'city' равно 'Saint-Petersburg'\n",
    "spb_general = df[df['city'] == 'Saint-Petersburg']\n",
    "display(spb_general)\n"
   ]
  },
  {
   "cell_type": "markdown",
   "metadata": {
    "id": "MEJV-CX2_Zcu"
   },
   "source": [
    "Создадим функцию `genre_weekday()` с четырьмя параметрами:\n",
    "* таблица (датафрейм) с данными,\n",
    "* день недели,\n",
    "* начальная временная метка в формате 'hh:mm', \n",
    "* последняя временная метка в формате 'hh:mm'.\n",
    "\n",
    "Функция должна вернуть информацию о топ-10 жанров тех треков, которые прослушивали в указанный день, в промежутке между двумя отметками времени."
   ]
  },
  {
   "cell_type": "code",
   "execution_count": 30,
   "metadata": {
    "id": "laJT9BYl_Zcu"
   },
   "outputs": [],
   "source": [
    "def genre_weekday(table, day, time1, time2):\n",
    "    genre_df = table[(table['day'] == day) & (table['time'] > time1) & (table['time'] < time2)]\n",
    "    genre_df_count = genre_df.groupby('genre')['time'].count()\n",
    "    genre_df_sorted = genre_df_count.sort_values(ascending=False)\n",
    "    return genre_df_sorted.head(10)# Объявление функции genre_weekday() с параметрами table, day, time1, time2,\n",
    "# которая возвращает информацию о самых популярных жанрах в указанный день в\n",
    "# заданное время:\n",
    "# 1) в переменную genre_df сохраняются те строки переданного датафрейма table, для\n",
    "#    которых одновременно:\n",
    "#    - значение в столбце day равно значению аргумента day\n",
    "#    - значение в столбце time больше значения аргумента time1\n",
    "#    - значение в столбце time меньше значения аргумента time2\n",
    "#    Используем последовательную фильтрацию с помощью логической индексации.\n",
    "# 2) сгруппировать датафрейм genre_df по столбцу genre, взять один из его\n",
    "#    столбцов и посчитать методом count() количество записей для каждого из\n",
    "#    присутствующих жанров, получившийся Series записать в переменную\n",
    "#    genre_df_count\n",
    "# 3) отсортировать genre_df_count по убыванию встречаемости и сохранить\n",
    "#    в переменную genre_df_sorted\n",
    "# 4) вернуть Series из 10 первых значений genre_df_sorted, это будут топ-10\n",
    "#    популярных жанров (в указанный день, в заданное время)"
   ]
  },
  {
   "cell_type": "markdown",
   "metadata": {
    "id": "la2s2_PF_Zcu"
   },
   "source": [
    "Сравним результаты функции `genre_weekday()` для Москвы и Санкт-Петербурга в понедельник утром (с 7:00 до 11:00) и в пятницу вечером (с 17:00 до 23:00):"
   ]
  },
  {
   "cell_type": "code",
   "execution_count": 31,
   "metadata": {
    "id": "yz7itPUQ_Zcu"
   },
   "outputs": [
    {
     "data": {
      "text/plain": [
       "genre\n",
       "pop            781\n",
       "dance          549\n",
       "electronic     480\n",
       "rock           474\n",
       "hiphop         286\n",
       "ruspop         186\n",
       "world          181\n",
       "rusrap         175\n",
       "alternative    164\n",
       "unknown        161\n",
       "Name: time, dtype: int64"
      ]
     },
     "execution_count": 31,
     "metadata": {},
     "output_type": "execute_result"
    }
   ],
   "source": [
    "genre_weekday(moscow_general,'Monday', '07:00', '11:00')\n",
    "# вызов функции для утра понедельника в Москве (вместо df — таблица moscow_general)\n",
    "# объекты, хранящие время, являются строками и сравниваются как строки\n",
    "# пример вызова: genre_weekday(moscow_general, 'Monday', '07:00', '11:00')"
   ]
  },
  {
   "cell_type": "code",
   "execution_count": 32,
   "metadata": {
    "id": "kwUcHPdy_Zcu"
   },
   "outputs": [
    {
     "data": {
      "text/plain": [
       "genre\n",
       "pop            218\n",
       "dance          182\n",
       "rock           162\n",
       "electronic     147\n",
       "hiphop          80\n",
       "ruspop          64\n",
       "alternative     58\n",
       "rusrap          55\n",
       "jazz            44\n",
       "classical       40\n",
       "Name: time, dtype: int64"
      ]
     },
     "execution_count": 32,
     "metadata": {},
     "output_type": "execute_result"
    }
   ],
   "source": [
    "# вызов функции для утра понедельника в Петербурге (вместо df — таблица spb_general)\n",
    "genre_weekday(spb_general,'Monday', '07:00', '11:00')"
   ]
  },
  {
   "cell_type": "code",
   "execution_count": 33,
   "metadata": {
    "id": "EzXVRE1o_Zcu"
   },
   "outputs": [
    {
     "data": {
      "text/plain": [
       "genre\n",
       "pop            713\n",
       "rock           517\n",
       "dance          495\n",
       "electronic     482\n",
       "hiphop         273\n",
       "world          208\n",
       "ruspop         170\n",
       "alternative    163\n",
       "classical      163\n",
       "rusrap         142\n",
       "Name: time, dtype: int64"
      ]
     },
     "execution_count": 33,
     "metadata": {},
     "output_type": "execute_result"
    }
   ],
   "source": [
    "# вызов функции для вечера пятницы в Москве\n",
    "genre_weekday(moscow_general,'Friday', '17:00', '23:00')"
   ]
  },
  {
   "cell_type": "code",
   "execution_count": 34,
   "metadata": {
    "id": "JZaEKu5v_Zcu"
   },
   "outputs": [
    {
     "data": {
      "text/plain": [
       "genre\n",
       "pop            256\n",
       "electronic     216\n",
       "rock           216\n",
       "dance          210\n",
       "hiphop          97\n",
       "alternative     63\n",
       "jazz            61\n",
       "classical       60\n",
       "rusrap          59\n",
       "world           54\n",
       "Name: time, dtype: int64"
      ]
     },
     "execution_count": 34,
     "metadata": {},
     "output_type": "execute_result"
    }
   ],
   "source": [
    "# вызов функции для вечера пятницы в Петербурге\n",
    "genre_weekday(spb_general,'Friday', '17:00', '23:00')"
   ]
  },
  {
   "cell_type": "markdown",
   "metadata": {
    "id": "wrCe4MNX_Zcu"
   },
   "source": [
    "**Выводы**\n",
    "\n",
    "Если сравнить топ-10 жанров в понедельник утром, можно сделать такие выводы:\n",
    "\n",
    "1. В Москве и Петербурге слушают похожую музыку. Единственное отличие — в московский рейтинг вошёл жанр “world”, а в петербургский — джаз и классика.\n",
    "\n",
    "2. В Москве пропущенных значений оказалось так много, что значение `'unknown'` заняло десятое место среди самых популярных жанров. Значит, пропущенные значения занимают существенную долю в данных и угрожают достоверности исследования.\n",
    "\n",
    "Вечер пятницы не меняет эту картину. Некоторые жанры поднимаются немного выше, другие спускаются, но в целом топ-10 остаётся тем же самым.\n",
    "\n",
    "Таким образом, вторая гипотеза подтвердилась лишь частично:\n",
    "* Пользователи слушают похожую музыку в начале недели и в конце.\n",
    "* Разница между Москвой и Петербургом не слишком выражена. В Москве чаще слушают русскую популярную музыку, в Петербурге — джаз.\n",
    "\n",
    "Однако пропуски в данных ставят под сомнение этот результат. В Москве их так много, что рейтинг топ-10 мог бы выглядеть иначе, если бы не утерянные  данные о жанрах."
   ]
  },
  {
   "cell_type": "markdown",
   "metadata": {
    "id": "JolODAqr_Zcu"
   },
   "source": [
    "### Жанровые предпочтения в Москве и Петербурге\n",
    "\n",
    "Гипотеза: Петербург — столица рэпа, музыку этого жанра там слушают чаще, чем в Москве.  А Москва — город контрастов, в котором, тем не менее, преобладает поп-музыка."
   ]
  },
  {
   "cell_type": "markdown",
   "metadata": {
    "id": "DlegSvaT_Zcu"
   },
   "source": [
    "Сгруппируем таблицу `moscow_general` по жанру и посчитаем прослушивания треков каждого жанра методом `count()`. Затем отсортируем результат в порядке убывания и сохраним его в таблице `moscow_genres`."
   ]
  },
  {
   "cell_type": "code",
   "execution_count": 35,
   "metadata": {
    "id": "r19lIPke_Zcu"
   },
   "outputs": [],
   "source": [
    "# одной строкой: группировка таблицы moscow_general по столбцу 'genre', \n",
    "# подсчёт числа значений 'genre' в этой группировке методом count(), \n",
    "# сортировка получившегося Series в порядке убывания и сохранение в moscow_genres\n",
    "moscow_genres = moscow_general.groupby('genre').count().sort_values(by='user_id', ascending=False)\n"
   ]
  },
  {
   "cell_type": "markdown",
   "metadata": {
    "id": "6kMuomxTiIr8"
   },
   "source": [
    "Выведем на экран первые десять строк `moscow_genres`:"
   ]
  },
  {
   "cell_type": "code",
   "execution_count": 36,
   "metadata": {
    "id": "WhCSooF8_Zcv"
   },
   "outputs": [
    {
     "data": {
      "text/html": [
       "<div>\n",
       "<style scoped>\n",
       "    .dataframe tbody tr th:only-of-type {\n",
       "        vertical-align: middle;\n",
       "    }\n",
       "\n",
       "    .dataframe tbody tr th {\n",
       "        vertical-align: top;\n",
       "    }\n",
       "\n",
       "    .dataframe thead th {\n",
       "        text-align: right;\n",
       "    }\n",
       "</style>\n",
       "<table border=\"1\" class=\"dataframe\">\n",
       "  <thead>\n",
       "    <tr style=\"text-align: right;\">\n",
       "      <th></th>\n",
       "      <th>user_id</th>\n",
       "      <th>track</th>\n",
       "      <th>artist</th>\n",
       "      <th>city</th>\n",
       "      <th>time</th>\n",
       "      <th>day</th>\n",
       "    </tr>\n",
       "    <tr>\n",
       "      <th>genre</th>\n",
       "      <th></th>\n",
       "      <th></th>\n",
       "      <th></th>\n",
       "      <th></th>\n",
       "      <th></th>\n",
       "      <th></th>\n",
       "    </tr>\n",
       "  </thead>\n",
       "  <tbody>\n",
       "    <tr>\n",
       "      <th>pop</th>\n",
       "      <td>5892</td>\n",
       "      <td>5892</td>\n",
       "      <td>5892</td>\n",
       "      <td>5892</td>\n",
       "      <td>5892</td>\n",
       "      <td>5892</td>\n",
       "    </tr>\n",
       "    <tr>\n",
       "      <th>dance</th>\n",
       "      <td>4435</td>\n",
       "      <td>4435</td>\n",
       "      <td>4435</td>\n",
       "      <td>4435</td>\n",
       "      <td>4435</td>\n",
       "      <td>4435</td>\n",
       "    </tr>\n",
       "    <tr>\n",
       "      <th>rock</th>\n",
       "      <td>3965</td>\n",
       "      <td>3965</td>\n",
       "      <td>3965</td>\n",
       "      <td>3965</td>\n",
       "      <td>3965</td>\n",
       "      <td>3965</td>\n",
       "    </tr>\n",
       "    <tr>\n",
       "      <th>electronic</th>\n",
       "      <td>3786</td>\n",
       "      <td>3786</td>\n",
       "      <td>3786</td>\n",
       "      <td>3786</td>\n",
       "      <td>3786</td>\n",
       "      <td>3786</td>\n",
       "    </tr>\n",
       "    <tr>\n",
       "      <th>hiphop</th>\n",
       "      <td>2096</td>\n",
       "      <td>2096</td>\n",
       "      <td>2096</td>\n",
       "      <td>2096</td>\n",
       "      <td>2096</td>\n",
       "      <td>2096</td>\n",
       "    </tr>\n",
       "    <tr>\n",
       "      <th>classical</th>\n",
       "      <td>1616</td>\n",
       "      <td>1616</td>\n",
       "      <td>1616</td>\n",
       "      <td>1616</td>\n",
       "      <td>1616</td>\n",
       "      <td>1616</td>\n",
       "    </tr>\n",
       "    <tr>\n",
       "      <th>world</th>\n",
       "      <td>1432</td>\n",
       "      <td>1432</td>\n",
       "      <td>1432</td>\n",
       "      <td>1432</td>\n",
       "      <td>1432</td>\n",
       "      <td>1432</td>\n",
       "    </tr>\n",
       "    <tr>\n",
       "      <th>alternative</th>\n",
       "      <td>1379</td>\n",
       "      <td>1379</td>\n",
       "      <td>1379</td>\n",
       "      <td>1379</td>\n",
       "      <td>1379</td>\n",
       "      <td>1379</td>\n",
       "    </tr>\n",
       "    <tr>\n",
       "      <th>ruspop</th>\n",
       "      <td>1372</td>\n",
       "      <td>1372</td>\n",
       "      <td>1372</td>\n",
       "      <td>1372</td>\n",
       "      <td>1372</td>\n",
       "      <td>1372</td>\n",
       "    </tr>\n",
       "    <tr>\n",
       "      <th>rusrap</th>\n",
       "      <td>1161</td>\n",
       "      <td>1161</td>\n",
       "      <td>1161</td>\n",
       "      <td>1161</td>\n",
       "      <td>1161</td>\n",
       "      <td>1161</td>\n",
       "    </tr>\n",
       "  </tbody>\n",
       "</table>\n",
       "</div>"
      ],
      "text/plain": [
       "             user_id  track  artist  city  time   day\n",
       "genre                                                \n",
       "pop             5892   5892    5892  5892  5892  5892\n",
       "dance           4435   4435    4435  4435  4435  4435\n",
       "rock            3965   3965    3965  3965  3965  3965\n",
       "electronic      3786   3786    3786  3786  3786  3786\n",
       "hiphop          2096   2096    2096  2096  2096  2096\n",
       "classical       1616   1616    1616  1616  1616  1616\n",
       "world           1432   1432    1432  1432  1432  1432\n",
       "alternative     1379   1379    1379  1379  1379  1379\n",
       "ruspop          1372   1372    1372  1372  1372  1372\n",
       "rusrap          1161   1161    1161  1161  1161  1161"
      ]
     },
     "metadata": {},
     "output_type": "display_data"
    }
   ],
   "source": [
    "# просмотр первых 10 строк moscow_genres\n",
    "display(moscow_genres.head(10)) "
   ]
  },
  {
   "cell_type": "markdown",
   "metadata": {
    "id": "cnPG2vnN_Zcv"
   },
   "source": [
    "Теперь то же и для Петербурга.\n",
    "\n",
    "Сгруппируем таблицу `spb_general` по жанру. Посчитаем прослушивания треков каждого жанра. Результат отсортируем в порядке убывания и сохраним в таблице `spb_genres`:\n"
   ]
  },
  {
   "cell_type": "code",
   "execution_count": 37,
   "metadata": {
    "id": "gluLIpE7_Zcv"
   },
   "outputs": [],
   "source": [
    "# подсчёт числа значений 'genre' в этой группировке методом count(), \n",
    "# сортировка получившегося Series в порядке убывания и сохранение в spb_genres\n",
    "spb_genres = spb_general.groupby('genre').count().sort_values(by='user_id',ascending=False)# одной строкой: группировка таблицы spb_general по столбцу 'genre', \n"
   ]
  },
  {
   "cell_type": "markdown",
   "metadata": {
    "id": "5Doha_ODgyQ8"
   },
   "source": [
    "Выведем на экран первые десять строк `spb_genres`:"
   ]
  },
  {
   "cell_type": "code",
   "execution_count": 38,
   "metadata": {
    "id": "uaGJHjVU_Zcv"
   },
   "outputs": [
    {
     "data": {
      "text/html": [
       "<div>\n",
       "<style scoped>\n",
       "    .dataframe tbody tr th:only-of-type {\n",
       "        vertical-align: middle;\n",
       "    }\n",
       "\n",
       "    .dataframe tbody tr th {\n",
       "        vertical-align: top;\n",
       "    }\n",
       "\n",
       "    .dataframe thead th {\n",
       "        text-align: right;\n",
       "    }\n",
       "</style>\n",
       "<table border=\"1\" class=\"dataframe\">\n",
       "  <thead>\n",
       "    <tr style=\"text-align: right;\">\n",
       "      <th></th>\n",
       "      <th>user_id</th>\n",
       "      <th>track</th>\n",
       "      <th>artist</th>\n",
       "      <th>city</th>\n",
       "      <th>time</th>\n",
       "      <th>day</th>\n",
       "    </tr>\n",
       "    <tr>\n",
       "      <th>genre</th>\n",
       "      <th></th>\n",
       "      <th></th>\n",
       "      <th></th>\n",
       "      <th></th>\n",
       "      <th></th>\n",
       "      <th></th>\n",
       "    </tr>\n",
       "  </thead>\n",
       "  <tbody>\n",
       "    <tr>\n",
       "      <th>pop</th>\n",
       "      <td>2431</td>\n",
       "      <td>2431</td>\n",
       "      <td>2431</td>\n",
       "      <td>2431</td>\n",
       "      <td>2431</td>\n",
       "      <td>2431</td>\n",
       "    </tr>\n",
       "    <tr>\n",
       "      <th>dance</th>\n",
       "      <td>1932</td>\n",
       "      <td>1932</td>\n",
       "      <td>1932</td>\n",
       "      <td>1932</td>\n",
       "      <td>1932</td>\n",
       "      <td>1932</td>\n",
       "    </tr>\n",
       "    <tr>\n",
       "      <th>rock</th>\n",
       "      <td>1879</td>\n",
       "      <td>1879</td>\n",
       "      <td>1879</td>\n",
       "      <td>1879</td>\n",
       "      <td>1879</td>\n",
       "      <td>1879</td>\n",
       "    </tr>\n",
       "    <tr>\n",
       "      <th>electronic</th>\n",
       "      <td>1736</td>\n",
       "      <td>1736</td>\n",
       "      <td>1736</td>\n",
       "      <td>1736</td>\n",
       "      <td>1736</td>\n",
       "      <td>1736</td>\n",
       "    </tr>\n",
       "    <tr>\n",
       "      <th>hiphop</th>\n",
       "      <td>960</td>\n",
       "      <td>960</td>\n",
       "      <td>960</td>\n",
       "      <td>960</td>\n",
       "      <td>960</td>\n",
       "      <td>960</td>\n",
       "    </tr>\n",
       "    <tr>\n",
       "      <th>alternative</th>\n",
       "      <td>649</td>\n",
       "      <td>649</td>\n",
       "      <td>649</td>\n",
       "      <td>649</td>\n",
       "      <td>649</td>\n",
       "      <td>649</td>\n",
       "    </tr>\n",
       "    <tr>\n",
       "      <th>classical</th>\n",
       "      <td>646</td>\n",
       "      <td>646</td>\n",
       "      <td>646</td>\n",
       "      <td>646</td>\n",
       "      <td>646</td>\n",
       "      <td>646</td>\n",
       "    </tr>\n",
       "    <tr>\n",
       "      <th>rusrap</th>\n",
       "      <td>564</td>\n",
       "      <td>564</td>\n",
       "      <td>564</td>\n",
       "      <td>564</td>\n",
       "      <td>564</td>\n",
       "      <td>564</td>\n",
       "    </tr>\n",
       "    <tr>\n",
       "      <th>ruspop</th>\n",
       "      <td>538</td>\n",
       "      <td>538</td>\n",
       "      <td>538</td>\n",
       "      <td>538</td>\n",
       "      <td>538</td>\n",
       "      <td>538</td>\n",
       "    </tr>\n",
       "    <tr>\n",
       "      <th>world</th>\n",
       "      <td>515</td>\n",
       "      <td>515</td>\n",
       "      <td>515</td>\n",
       "      <td>515</td>\n",
       "      <td>515</td>\n",
       "      <td>515</td>\n",
       "    </tr>\n",
       "  </tbody>\n",
       "</table>\n",
       "</div>"
      ],
      "text/plain": [
       "             user_id  track  artist  city  time   day\n",
       "genre                                                \n",
       "pop             2431   2431    2431  2431  2431  2431\n",
       "dance           1932   1932    1932  1932  1932  1932\n",
       "rock            1879   1879    1879  1879  1879  1879\n",
       "electronic      1736   1736    1736  1736  1736  1736\n",
       "hiphop           960    960     960   960   960   960\n",
       "alternative      649    649     649   649   649   649\n",
       "classical        646    646     646   646   646   646\n",
       "rusrap           564    564     564   564   564   564\n",
       "ruspop           538    538     538   538   538   538\n",
       "world            515    515     515   515   515   515"
      ]
     },
     "metadata": {},
     "output_type": "display_data"
    }
   ],
   "source": [
    "# просмотр первых 10 строк spb_genres\n",
    "display(spb_genres.head(10))"
   ]
  },
  {
   "cell_type": "markdown",
   "metadata": {
    "id": "RY51YJYu_Zcv"
   },
   "source": [
    "**Выводы**"
   ]
  },
  {
   "cell_type": "markdown",
   "metadata": {
    "id": "nVhnJEm__Zcv"
   },
   "source": [
    "Гипотеза частично подтвердилась:\n",
    "* Поп-музыка — самый популярный жанр в Москве, как и предполагала гипотеза. Более того, в топ-10 жанров встречается близкий жанр — русская популярная музыка.\n",
    "* Вопреки ожиданиям, рэп одинаково популярен в Москве и Петербурге. \n"
   ]
  },
  {
   "cell_type": "markdown",
   "metadata": {
    "id": "ykKQ0N65_Zcv"
   },
   "source": [
    "## Итоги исследования"
   ]
  },
  {
   "cell_type": "markdown",
   "metadata": {
    "id": "tjUwbHb3_Zcv"
   },
   "source": [
    "Мы проверили три гипотезы и установили:\n",
    "\n",
    "1. День недели по-разному влияет на активность пользователей в Москве и Петербурге. \n",
    "\n",
    "Первая гипотеза полностью подтвердилась.\n",
    "\n",
    "2. Музыкальные предпочтения не сильно меняются в течение недели — будь то Москва или Петербург. Небольшие различия заметны в начале недели, по понедельникам:\n",
    "* в Москве слушают музыку жанра “world”,\n",
    "* в Петербурге — джаз и классику.\n",
    "\n",
    "Таким образом, вторая гипотеза подтвердилась лишь отчасти. Этот результат мог оказаться иным, если бы не пропуски в данных.\n",
    "\n",
    "3. Во вкусах пользователей Москвы и Петербурга больше общего чем различий. Вопреки ожиданиям, предпочтения жанров в Петербурге напоминают московские.\n",
    "\n",
    "Третья гипотеза не подтвердилась. Если различия в предпочтениях и существуют, на основной массе пользователей они незаметны."
   ]
  }
 ],
 "metadata": {
  "ExecuteTimeLog": [
   {
    "duration": 433,
    "start_time": "2022-02-08T20:25:30.065Z"
   },
   {
    "duration": 256,
    "start_time": "2022-02-08T20:25:40.754Z"
   },
   {
    "duration": 258,
    "start_time": "2022-02-08T20:26:15.161Z"
   },
   {
    "duration": 272,
    "start_time": "2022-02-08T20:27:03.902Z"
   },
   {
    "duration": 99,
    "start_time": "2022-02-08T20:34:44.838Z"
   },
   {
    "duration": 366,
    "start_time": "2022-02-08T20:34:50.219Z"
   },
   {
    "duration": 270,
    "start_time": "2022-02-08T20:36:28.954Z"
   },
   {
    "duration": 614,
    "start_time": "2022-02-08T20:38:20.354Z"
   },
   {
    "duration": 152,
    "start_time": "2022-02-08T20:38:25.045Z"
   },
   {
    "duration": 2,
    "start_time": "2022-02-08T20:38:35.106Z"
   },
   {
    "duration": 152,
    "start_time": "2022-02-08T20:38:50.857Z"
   },
   {
    "duration": 18,
    "start_time": "2022-02-08T20:39:09.357Z"
   },
   {
    "duration": 28,
    "start_time": "2022-02-08T20:39:42.972Z"
   },
   {
    "duration": 310,
    "start_time": "2022-02-08T20:43:02.737Z"
   },
   {
    "duration": 5,
    "start_time": "2022-02-08T20:43:10.237Z"
   },
   {
    "duration": 78,
    "start_time": "2022-02-08T20:48:17.951Z"
   },
   {
    "duration": 21,
    "start_time": "2022-02-08T20:48:32.927Z"
   },
   {
    "duration": 3,
    "start_time": "2022-02-08T20:48:52.056Z"
   },
   {
    "duration": 4,
    "start_time": "2022-02-08T20:49:07.031Z"
   },
   {
    "duration": 4,
    "start_time": "2022-02-08T20:49:14.214Z"
   },
   {
    "duration": 36,
    "start_time": "2022-02-08T20:52:01.329Z"
   },
   {
    "duration": 3451,
    "start_time": "2022-02-08T20:58:05.505Z"
   },
   {
    "duration": -497,
    "start_time": "2022-02-08T21:01:11.788Z"
   },
   {
    "duration": 3806,
    "start_time": "2022-02-08T21:01:13.555Z"
   },
   {
    "duration": 3963,
    "start_time": "2022-02-08T21:01:47.165Z"
   },
   {
    "duration": 3481,
    "start_time": "2022-02-08T21:04:39.311Z"
   },
   {
    "duration": 3299,
    "start_time": "2022-02-08T21:10:16.414Z"
   },
   {
    "duration": 310,
    "start_time": "2022-02-08T21:10:45.851Z"
   },
   {
    "duration": 4017,
    "start_time": "2022-02-08T21:11:09.370Z"
   },
   {
    "duration": 4642,
    "start_time": "2022-02-08T21:19:37.074Z"
   },
   {
    "duration": 3548,
    "start_time": "2022-02-08T21:27:29.605Z"
   },
   {
    "duration": 3501,
    "start_time": "2022-02-08T21:27:40.989Z"
   },
   {
    "duration": 3283,
    "start_time": "2022-02-08T21:28:56.606Z"
   },
   {
    "duration": 14,
    "start_time": "2022-02-08T21:29:15.452Z"
   },
   {
    "duration": 7,
    "start_time": "2022-02-08T21:29:42.336Z"
   },
   {
    "duration": 3280,
    "start_time": "2022-02-08T21:29:53.002Z"
   },
   {
    "duration": 3,
    "start_time": "2022-02-08T21:31:21.541Z"
   },
   {
    "duration": 158,
    "start_time": "2022-02-08T21:31:23.905Z"
   },
   {
    "duration": 162,
    "start_time": "2022-02-08T21:31:26.548Z"
   },
   {
    "duration": 147,
    "start_time": "2022-02-08T21:31:27.431Z"
   },
   {
    "duration": 152,
    "start_time": "2022-02-08T21:31:28.557Z"
   },
   {
    "duration": 12,
    "start_time": "2022-02-08T21:31:33.663Z"
   },
   {
    "duration": 2118,
    "start_time": "2022-02-08T21:40:53.275Z"
   },
   {
    "duration": 858,
    "start_time": "2022-02-08T21:42:34.566Z"
   },
   {
    "duration": 2,
    "start_time": "2022-02-08T21:49:37.847Z"
   },
   {
    "duration": 41,
    "start_time": "2022-02-08T22:00:33.792Z"
   },
   {
    "duration": 3,
    "start_time": "2022-02-08T22:02:58.292Z"
   },
   {
    "duration": 2,
    "start_time": "2022-02-08T22:03:06.670Z"
   },
   {
    "duration": 2,
    "start_time": "2022-02-08T22:03:10.105Z"
   },
   {
    "duration": 306,
    "start_time": "2022-02-08T22:05:24.370Z"
   },
   {
    "duration": 243,
    "start_time": "2022-02-08T22:06:25.761Z"
   },
   {
    "duration": 251,
    "start_time": "2022-02-08T22:06:39.508Z"
   },
   {
    "duration": 651,
    "start_time": "2022-02-08T22:07:01.961Z"
   },
   {
    "duration": 166,
    "start_time": "2022-02-08T22:07:06.841Z"
   },
   {
    "duration": 19,
    "start_time": "2022-02-08T22:07:08.888Z"
   },
   {
    "duration": 25,
    "start_time": "2022-02-08T22:07:16.360Z"
   },
   {
    "duration": 4,
    "start_time": "2022-02-08T22:07:29.822Z"
   },
   {
    "duration": 22,
    "start_time": "2022-02-08T22:07:33.613Z"
   },
   {
    "duration": 4,
    "start_time": "2022-02-08T22:07:36.395Z"
   },
   {
    "duration": 25,
    "start_time": "2022-02-08T22:07:41.259Z"
   },
   {
    "duration": 337,
    "start_time": "2022-02-08T22:07:51.042Z"
   },
   {
    "duration": 19,
    "start_time": "2022-02-08T22:08:21.158Z"
   },
   {
    "duration": 23,
    "start_time": "2022-02-08T22:08:33.197Z"
   },
   {
    "duration": 256,
    "start_time": "2022-02-08T22:09:02.041Z"
   },
   {
    "duration": 261,
    "start_time": "2022-02-08T22:09:19.043Z"
   },
   {
    "duration": 64,
    "start_time": "2022-02-08T22:09:50.486Z"
   },
   {
    "duration": 65,
    "start_time": "2022-02-08T22:10:04.054Z"
   },
   {
    "duration": 231,
    "start_time": "2022-02-09T09:02:57.099Z"
   },
   {
    "duration": 159,
    "start_time": "2022-02-09T09:03:27.465Z"
   },
   {
    "duration": 171,
    "start_time": "2022-02-09T09:03:53.805Z"
   },
   {
    "duration": 187,
    "start_time": "2022-02-09T09:04:51.627Z"
   },
   {
    "duration": 275,
    "start_time": "2022-02-09T09:29:00.043Z"
   },
   {
    "duration": 173,
    "start_time": "2022-02-09T09:31:44.533Z"
   },
   {
    "duration": 190,
    "start_time": "2022-02-09T09:32:58.942Z"
   },
   {
    "duration": 184,
    "start_time": "2022-02-09T09:33:24.515Z"
   },
   {
    "duration": 674,
    "start_time": "2022-02-09T09:35:05.440Z"
   },
   {
    "duration": 180,
    "start_time": "2022-02-09T09:35:32.524Z"
   },
   {
    "duration": 228,
    "start_time": "2022-02-09T09:35:33.811Z"
   },
   {
    "duration": 172,
    "start_time": "2022-02-09T09:35:34.844Z"
   },
   {
    "duration": 266,
    "start_time": "2022-02-09T09:35:35.479Z"
   },
   {
    "duration": 192,
    "start_time": "2022-02-09T09:35:36.077Z"
   },
   {
    "duration": 232,
    "start_time": "2022-02-09T09:35:36.731Z"
   },
   {
    "duration": 1289,
    "start_time": "2022-02-09T09:35:41.059Z"
   },
   {
    "duration": 177,
    "start_time": "2022-02-09T09:36:49.560Z"
   },
   {
    "duration": 198,
    "start_time": "2022-02-09T09:36:51.169Z"
   },
   {
    "duration": 186,
    "start_time": "2022-02-09T09:36:55.651Z"
   },
   {
    "duration": 559,
    "start_time": "2022-02-09T09:37:01.601Z"
   },
   {
    "duration": 152,
    "start_time": "2022-02-09T09:37:09.012Z"
   },
   {
    "duration": 24,
    "start_time": "2022-02-09T09:37:14.552Z"
   },
   {
    "duration": 24,
    "start_time": "2022-02-09T09:39:42.700Z"
   },
   {
    "duration": 65,
    "start_time": "2022-02-09T09:39:46.587Z"
   },
   {
    "duration": 65,
    "start_time": "2022-02-09T09:40:10.379Z"
   },
   {
    "duration": 69,
    "start_time": "2022-02-09T09:40:25.032Z"
   },
   {
    "duration": 62,
    "start_time": "2022-02-09T09:40:42.795Z"
   },
   {
    "duration": 74,
    "start_time": "2022-02-09T09:40:45.339Z"
   },
   {
    "duration": 57,
    "start_time": "2022-02-09T09:40:48.059Z"
   },
   {
    "duration": 60,
    "start_time": "2022-02-09T09:40:54.852Z"
   },
   {
    "duration": 3,
    "start_time": "2022-02-09T10:02:18.720Z"
   },
   {
    "duration": 142,
    "start_time": "2022-02-09T10:02:18.724Z"
   },
   {
    "duration": 10,
    "start_time": "2022-02-09T10:02:18.868Z"
   },
   {
    "duration": 26,
    "start_time": "2022-02-09T10:02:18.880Z"
   },
   {
    "duration": 4,
    "start_time": "2022-02-09T10:02:18.909Z"
   },
   {
    "duration": 44,
    "start_time": "2022-02-09T10:02:18.915Z"
   },
   {
    "duration": 7,
    "start_time": "2022-02-09T10:02:18.961Z"
   },
   {
    "duration": 24,
    "start_time": "2022-02-09T10:02:18.970Z"
   },
   {
    "duration": 17,
    "start_time": "2022-02-09T10:02:18.998Z"
   },
   {
    "duration": 45,
    "start_time": "2022-02-09T10:02:19.018Z"
   },
   {
    "duration": 57,
    "start_time": "2022-02-09T10:02:19.065Z"
   },
   {
    "duration": 75,
    "start_time": "2022-02-09T10:02:19.124Z"
   },
   {
    "duration": 49,
    "start_time": "2022-02-09T10:02:19.201Z"
   },
   {
    "duration": 8,
    "start_time": "2022-02-09T10:02:19.251Z"
   },
   {
    "duration": 7,
    "start_time": "2022-02-09T10:02:19.260Z"
   },
   {
    "duration": 5,
    "start_time": "2022-02-09T10:02:19.269Z"
   },
   {
    "duration": 6,
    "start_time": "2022-02-09T10:02:19.276Z"
   },
   {
    "duration": 7,
    "start_time": "2022-02-09T10:02:19.283Z"
   },
   {
    "duration": 5,
    "start_time": "2022-02-09T10:02:19.291Z"
   },
   {
    "duration": 4,
    "start_time": "2022-02-09T10:02:19.297Z"
   },
   {
    "duration": 7,
    "start_time": "2022-02-09T10:02:19.303Z"
   },
   {
    "duration": 5,
    "start_time": "2022-02-09T10:02:19.311Z"
   },
   {
    "duration": 6,
    "start_time": "2022-02-09T10:02:19.318Z"
   },
   {
    "duration": 8,
    "start_time": "2022-02-09T10:02:19.326Z"
   },
   {
    "duration": 6,
    "start_time": "2022-02-09T10:02:19.336Z"
   },
   {
    "duration": 8,
    "start_time": "2022-02-09T10:02:19.343Z"
   },
   {
    "duration": 2,
    "start_time": "2022-02-09T10:02:19.360Z"
   },
   {
    "duration": 6,
    "start_time": "2022-02-09T10:02:19.364Z"
   },
   {
    "duration": 7,
    "start_time": "2022-02-09T10:02:19.372Z"
   },
   {
    "duration": 4,
    "start_time": "2022-02-09T10:02:19.380Z"
   },
   {
    "duration": 6,
    "start_time": "2022-02-09T10:02:19.386Z"
   },
   {
    "duration": 5,
    "start_time": "2022-02-09T10:02:19.393Z"
   },
   {
    "duration": 11,
    "start_time": "2022-02-09T10:02:19.400Z"
   },
   {
    "duration": 4,
    "start_time": "2022-02-09T10:02:19.413Z"
   },
   {
    "duration": 6,
    "start_time": "2022-02-09T10:02:19.419Z"
   },
   {
    "duration": 5,
    "start_time": "2022-02-09T10:02:19.426Z"
   },
   {
    "duration": 5,
    "start_time": "2022-02-09T10:02:19.432Z"
   },
   {
    "duration": 6,
    "start_time": "2022-02-09T10:02:19.438Z"
   },
   {
    "duration": 7,
    "start_time": "2022-02-09T11:30:49.110Z"
   },
   {
    "duration": 108,
    "start_time": "2022-02-09T12:59:15.590Z"
   },
   {
    "duration": 205,
    "start_time": "2022-02-09T13:06:11.178Z"
   },
   {
    "duration": 2,
    "start_time": "2022-02-09T13:06:19.815Z"
   },
   {
    "duration": 171,
    "start_time": "2022-02-09T13:06:19.819Z"
   },
   {
    "duration": 10,
    "start_time": "2022-02-09T13:06:19.992Z"
   },
   {
    "duration": 32,
    "start_time": "2022-02-09T13:06:20.004Z"
   },
   {
    "duration": 21,
    "start_time": "2022-02-09T13:06:20.037Z"
   },
   {
    "duration": 29,
    "start_time": "2022-02-09T13:06:20.060Z"
   },
   {
    "duration": 7,
    "start_time": "2022-02-09T13:06:20.090Z"
   },
   {
    "duration": 28,
    "start_time": "2022-02-09T13:06:20.099Z"
   },
   {
    "duration": 18,
    "start_time": "2022-02-09T13:06:20.130Z"
   },
   {
    "duration": 25,
    "start_time": "2022-02-09T13:06:20.150Z"
   },
   {
    "duration": 61,
    "start_time": "2022-02-09T13:06:20.177Z"
   },
   {
    "duration": 71,
    "start_time": "2022-02-09T13:06:20.240Z"
   },
   {
    "duration": 58,
    "start_time": "2022-02-09T13:06:20.313Z"
   },
   {
    "duration": 6,
    "start_time": "2022-02-09T13:06:20.373Z"
   },
   {
    "duration": 67,
    "start_time": "2022-02-09T13:06:20.380Z"
   },
   {
    "duration": 96,
    "start_time": "2022-02-09T13:06:20.354Z"
   },
   {
    "duration": 94,
    "start_time": "2022-02-09T13:06:20.356Z"
   },
   {
    "duration": 92,
    "start_time": "2022-02-09T13:06:20.360Z"
   },
   {
    "duration": 91,
    "start_time": "2022-02-09T13:06:20.362Z"
   },
   {
    "duration": 92,
    "start_time": "2022-02-09T13:06:20.363Z"
   },
   {
    "duration": 92,
    "start_time": "2022-02-09T13:06:20.364Z"
   },
   {
    "duration": 92,
    "start_time": "2022-02-09T13:06:20.365Z"
   },
   {
    "duration": 86,
    "start_time": "2022-02-09T13:06:20.372Z"
   },
   {
    "duration": 85,
    "start_time": "2022-02-09T13:06:20.374Z"
   },
   {
    "duration": 85,
    "start_time": "2022-02-09T13:06:20.375Z"
   },
   {
    "duration": 86,
    "start_time": "2022-02-09T13:06:20.376Z"
   },
   {
    "duration": 85,
    "start_time": "2022-02-09T13:06:20.377Z"
   },
   {
    "duration": 85,
    "start_time": "2022-02-09T13:06:20.378Z"
   },
   {
    "duration": 85,
    "start_time": "2022-02-09T13:06:20.379Z"
   },
   {
    "duration": 84,
    "start_time": "2022-02-09T13:06:20.380Z"
   },
   {
    "duration": 84,
    "start_time": "2022-02-09T13:06:20.381Z"
   },
   {
    "duration": 84,
    "start_time": "2022-02-09T13:06:20.382Z"
   },
   {
    "duration": 84,
    "start_time": "2022-02-09T13:06:20.383Z"
   },
   {
    "duration": 84,
    "start_time": "2022-02-09T13:06:20.383Z"
   },
   {
    "duration": 84,
    "start_time": "2022-02-09T13:06:20.384Z"
   },
   {
    "duration": 84,
    "start_time": "2022-02-09T13:06:20.385Z"
   },
   {
    "duration": 84,
    "start_time": "2022-02-09T13:06:20.386Z"
   },
   {
    "duration": 81,
    "start_time": "2022-02-09T13:06:20.390Z"
   },
   {
    "duration": 3,
    "start_time": "2022-02-09T13:07:18.173Z"
   },
   {
    "duration": 10,
    "start_time": "2022-02-09T13:07:21.326Z"
   },
   {
    "duration": 168,
    "start_time": "2022-02-09T13:09:48.097Z"
   },
   {
    "duration": 190,
    "start_time": "2022-02-09T13:12:37.753Z"
   },
   {
    "duration": 184,
    "start_time": "2022-02-09T13:14:41.233Z"
   },
   {
    "duration": 38,
    "start_time": "2022-02-09T13:16:49.914Z"
   },
   {
    "duration": 52,
    "start_time": "2022-02-09T13:16:52.003Z"
   },
   {
    "duration": 172,
    "start_time": "2022-02-09T13:17:56.851Z"
   },
   {
    "duration": 2,
    "start_time": "2022-02-09T13:23:56.643Z"
   },
   {
    "duration": 162,
    "start_time": "2022-02-09T13:23:56.648Z"
   },
   {
    "duration": 11,
    "start_time": "2022-02-09T13:23:56.812Z"
   },
   {
    "duration": 49,
    "start_time": "2022-02-09T13:23:56.824Z"
   },
   {
    "duration": 26,
    "start_time": "2022-02-09T13:23:56.875Z"
   },
   {
    "duration": 47,
    "start_time": "2022-02-09T13:23:56.903Z"
   },
   {
    "duration": 18,
    "start_time": "2022-02-09T13:23:56.952Z"
   },
   {
    "duration": 42,
    "start_time": "2022-02-09T13:23:56.971Z"
   },
   {
    "duration": 33,
    "start_time": "2022-02-09T13:23:57.015Z"
   },
   {
    "duration": 35,
    "start_time": "2022-02-09T13:23:57.050Z"
   },
   {
    "duration": 69,
    "start_time": "2022-02-09T13:23:57.086Z"
   },
   {
    "duration": 66,
    "start_time": "2022-02-09T13:23:57.156Z"
   },
   {
    "duration": 77,
    "start_time": "2022-02-09T13:23:57.224Z"
   },
   {
    "duration": 8,
    "start_time": "2022-02-09T13:23:57.302Z"
   },
   {
    "duration": 49,
    "start_time": "2022-02-09T13:23:57.311Z"
   },
   {
    "duration": 37,
    "start_time": "2022-02-09T13:23:57.362Z"
   },
   {
    "duration": 207,
    "start_time": "2022-02-09T13:23:57.401Z"
   },
   {
    "duration": -728,
    "start_time": "2022-02-09T13:23:58.338Z"
   },
   {
    "duration": -728,
    "start_time": "2022-02-09T13:23:58.339Z"
   },
   {
    "duration": -728,
    "start_time": "2022-02-09T13:23:58.340Z"
   },
   {
    "duration": -728,
    "start_time": "2022-02-09T13:23:58.341Z"
   },
   {
    "duration": -728,
    "start_time": "2022-02-09T13:23:58.342Z"
   },
   {
    "duration": -727,
    "start_time": "2022-02-09T13:23:58.342Z"
   },
   {
    "duration": -727,
    "start_time": "2022-02-09T13:23:58.343Z"
   },
   {
    "duration": -739,
    "start_time": "2022-02-09T13:23:58.356Z"
   },
   {
    "duration": -739,
    "start_time": "2022-02-09T13:23:58.357Z"
   },
   {
    "duration": -739,
    "start_time": "2022-02-09T13:23:58.358Z"
   },
   {
    "duration": -743,
    "start_time": "2022-02-09T13:23:58.363Z"
   },
   {
    "duration": -744,
    "start_time": "2022-02-09T13:23:58.364Z"
   },
   {
    "duration": -744,
    "start_time": "2022-02-09T13:23:58.365Z"
   },
   {
    "duration": -743,
    "start_time": "2022-02-09T13:23:58.365Z"
   },
   {
    "duration": -743,
    "start_time": "2022-02-09T13:23:58.366Z"
   },
   {
    "duration": -766,
    "start_time": "2022-02-09T13:23:58.390Z"
   },
   {
    "duration": -766,
    "start_time": "2022-02-09T13:23:58.391Z"
   },
   {
    "duration": -766,
    "start_time": "2022-02-09T13:23:58.392Z"
   },
   {
    "duration": -766,
    "start_time": "2022-02-09T13:23:58.393Z"
   },
   {
    "duration": -766,
    "start_time": "2022-02-09T13:23:58.394Z"
   },
   {
    "duration": -766,
    "start_time": "2022-02-09T13:23:58.395Z"
   },
   {
    "duration": 219,
    "start_time": "2022-02-09T13:25:58.487Z"
   },
   {
    "duration": 195,
    "start_time": "2022-02-09T13:40:15.664Z"
   },
   {
    "duration": 199,
    "start_time": "2022-02-09T13:40:18.482Z"
   },
   {
    "duration": 466,
    "start_time": "2022-02-09T13:40:19.847Z"
   },
   {
    "duration": 2,
    "start_time": "2022-02-09T13:40:41.018Z"
   },
   {
    "duration": 171,
    "start_time": "2022-02-09T13:40:41.022Z"
   },
   {
    "duration": 12,
    "start_time": "2022-02-09T13:40:41.195Z"
   },
   {
    "duration": 48,
    "start_time": "2022-02-09T13:40:41.209Z"
   },
   {
    "duration": 14,
    "start_time": "2022-02-09T13:40:41.259Z"
   },
   {
    "duration": 29,
    "start_time": "2022-02-09T13:40:41.275Z"
   },
   {
    "duration": 11,
    "start_time": "2022-02-09T13:40:41.306Z"
   },
   {
    "duration": 45,
    "start_time": "2022-02-09T13:40:41.319Z"
   },
   {
    "duration": 24,
    "start_time": "2022-02-09T13:40:41.368Z"
   },
   {
    "duration": 36,
    "start_time": "2022-02-09T13:40:41.395Z"
   },
   {
    "duration": 69,
    "start_time": "2022-02-09T13:40:41.433Z"
   },
   {
    "duration": 74,
    "start_time": "2022-02-09T13:40:41.504Z"
   },
   {
    "duration": 50,
    "start_time": "2022-02-09T13:40:41.580Z"
   },
   {
    "duration": 7,
    "start_time": "2022-02-09T13:40:41.631Z"
   },
   {
    "duration": 20,
    "start_time": "2022-02-09T13:40:41.640Z"
   },
   {
    "duration": 24,
    "start_time": "2022-02-09T13:40:41.662Z"
   },
   {
    "duration": 898,
    "start_time": "2022-02-09T13:40:41.688Z"
   },
   {
    "duration": 101,
    "start_time": "2022-02-09T13:40:42.488Z"
   },
   {
    "duration": 95,
    "start_time": "2022-02-09T13:40:42.495Z"
   },
   {
    "duration": 95,
    "start_time": "2022-02-09T13:40:42.497Z"
   },
   {
    "duration": 94,
    "start_time": "2022-02-09T13:40:42.499Z"
   },
   {
    "duration": 94,
    "start_time": "2022-02-09T13:40:42.500Z"
   },
   {
    "duration": 93,
    "start_time": "2022-02-09T13:40:42.502Z"
   },
   {
    "duration": 92,
    "start_time": "2022-02-09T13:40:42.504Z"
   },
   {
    "duration": 92,
    "start_time": "2022-02-09T13:40:42.505Z"
   },
   {
    "duration": 91,
    "start_time": "2022-02-09T13:40:42.507Z"
   },
   {
    "duration": 91,
    "start_time": "2022-02-09T13:40:42.508Z"
   },
   {
    "duration": 90,
    "start_time": "2022-02-09T13:40:42.510Z"
   },
   {
    "duration": 90,
    "start_time": "2022-02-09T13:40:42.511Z"
   },
   {
    "duration": 85,
    "start_time": "2022-02-09T13:40:42.517Z"
   },
   {
    "duration": 84,
    "start_time": "2022-02-09T13:40:42.519Z"
   },
   {
    "duration": 84,
    "start_time": "2022-02-09T13:40:42.520Z"
   },
   {
    "duration": 84,
    "start_time": "2022-02-09T13:40:42.521Z"
   },
   {
    "duration": 84,
    "start_time": "2022-02-09T13:40:42.522Z"
   },
   {
    "duration": 83,
    "start_time": "2022-02-09T13:40:42.524Z"
   },
   {
    "duration": 83,
    "start_time": "2022-02-09T13:40:42.525Z"
   },
   {
    "duration": 83,
    "start_time": "2022-02-09T13:40:42.526Z"
   },
   {
    "duration": 82,
    "start_time": "2022-02-09T13:40:42.527Z"
   },
   {
    "duration": 3,
    "start_time": "2022-02-09T13:45:03.835Z"
   },
   {
    "duration": 176,
    "start_time": "2022-02-09T13:45:22.320Z"
   },
   {
    "duration": 7,
    "start_time": "2022-02-09T13:47:01.981Z"
   },
   {
    "duration": 206,
    "start_time": "2022-02-09T13:47:46.043Z"
   },
   {
    "duration": 180,
    "start_time": "2022-02-09T13:54:03.890Z"
   },
   {
    "duration": 218,
    "start_time": "2022-02-09T15:27:06.670Z"
   },
   {
    "duration": 6,
    "start_time": "2022-02-09T15:27:15.012Z"
   },
   {
    "duration": 8,
    "start_time": "2022-02-09T15:27:31.190Z"
   },
   {
    "duration": 65,
    "start_time": "2022-02-09T15:29:09.357Z"
   },
   {
    "duration": 206,
    "start_time": "2022-02-09T15:29:20.244Z"
   },
   {
    "duration": 191,
    "start_time": "2022-02-09T15:29:30.644Z"
   },
   {
    "duration": 6,
    "start_time": "2022-02-09T15:30:41.163Z"
   },
   {
    "duration": 210,
    "start_time": "2022-02-09T16:06:57.546Z"
   },
   {
    "duration": 38,
    "start_time": "2022-02-09T16:07:09.151Z"
   },
   {
    "duration": 37,
    "start_time": "2022-02-09T16:07:20.899Z"
   },
   {
    "duration": 235,
    "start_time": "2022-02-09T16:07:51.152Z"
   },
   {
    "duration": 321,
    "start_time": "2022-02-09T16:08:21.460Z"
   },
   {
    "duration": 37,
    "start_time": "2022-02-09T16:08:33.161Z"
   },
   {
    "duration": 4,
    "start_time": "2022-02-09T16:09:40.245Z"
   },
   {
    "duration": 176,
    "start_time": "2022-02-09T16:10:09.445Z"
   },
   {
    "duration": 315,
    "start_time": "2022-02-09T16:10:55.172Z"
   },
   {
    "duration": 3,
    "start_time": "2022-02-09T16:11:18.469Z"
   },
   {
    "duration": 129,
    "start_time": "2022-02-09T16:11:18.473Z"
   },
   {
    "duration": 9,
    "start_time": "2022-02-09T16:11:18.604Z"
   },
   {
    "duration": 28,
    "start_time": "2022-02-09T16:11:18.614Z"
   },
   {
    "duration": 17,
    "start_time": "2022-02-09T16:11:18.643Z"
   },
   {
    "duration": 30,
    "start_time": "2022-02-09T16:11:18.661Z"
   },
   {
    "duration": 8,
    "start_time": "2022-02-09T16:11:18.692Z"
   },
   {
    "duration": 36,
    "start_time": "2022-02-09T16:11:18.701Z"
   },
   {
    "duration": 17,
    "start_time": "2022-02-09T16:11:18.740Z"
   },
   {
    "duration": 21,
    "start_time": "2022-02-09T16:11:18.759Z"
   },
   {
    "duration": 59,
    "start_time": "2022-02-09T16:11:18.782Z"
   },
   {
    "duration": 71,
    "start_time": "2022-02-09T16:11:18.843Z"
   },
   {
    "duration": 62,
    "start_time": "2022-02-09T16:11:18.916Z"
   },
   {
    "duration": 4,
    "start_time": "2022-02-09T16:11:18.980Z"
   },
   {
    "duration": 6,
    "start_time": "2022-02-09T16:11:18.986Z"
   },
   {
    "duration": 348,
    "start_time": "2022-02-09T16:11:18.994Z"
   },
   {
    "duration": -13,
    "start_time": "2022-02-09T16:11:19.357Z"
   },
   {
    "duration": -14,
    "start_time": "2022-02-09T16:11:19.359Z"
   },
   {
    "duration": -19,
    "start_time": "2022-02-09T16:11:19.365Z"
   },
   {
    "duration": -20,
    "start_time": "2022-02-09T16:11:19.367Z"
   },
   {
    "duration": -21,
    "start_time": "2022-02-09T16:11:19.369Z"
   },
   {
    "duration": -22,
    "start_time": "2022-02-09T16:11:19.371Z"
   },
   {
    "duration": -22,
    "start_time": "2022-02-09T16:11:19.372Z"
   },
   {
    "duration": -23,
    "start_time": "2022-02-09T16:11:19.374Z"
   },
   {
    "duration": -24,
    "start_time": "2022-02-09T16:11:19.376Z"
   },
   {
    "duration": -25,
    "start_time": "2022-02-09T16:11:19.377Z"
   },
   {
    "duration": -25,
    "start_time": "2022-02-09T16:11:19.378Z"
   },
   {
    "duration": -26,
    "start_time": "2022-02-09T16:11:19.380Z"
   },
   {
    "duration": -26,
    "start_time": "2022-02-09T16:11:19.381Z"
   },
   {
    "duration": -26,
    "start_time": "2022-02-09T16:11:19.382Z"
   },
   {
    "duration": -26,
    "start_time": "2022-02-09T16:11:19.383Z"
   },
   {
    "duration": -27,
    "start_time": "2022-02-09T16:11:19.385Z"
   },
   {
    "duration": -27,
    "start_time": "2022-02-09T16:11:19.386Z"
   },
   {
    "duration": -28,
    "start_time": "2022-02-09T16:11:19.387Z"
   },
   {
    "duration": -29,
    "start_time": "2022-02-09T16:11:19.389Z"
   },
   {
    "duration": -29,
    "start_time": "2022-02-09T16:11:19.390Z"
   },
   {
    "duration": -29,
    "start_time": "2022-02-09T16:11:19.391Z"
   },
   {
    "duration": -29,
    "start_time": "2022-02-09T16:11:19.392Z"
   },
   {
    "duration": 6,
    "start_time": "2022-02-09T16:12:31.385Z"
   },
   {
    "duration": 365,
    "start_time": "2022-02-09T16:14:19.386Z"
   },
   {
    "duration": 3,
    "start_time": "2022-02-09T16:14:31.464Z"
   },
   {
    "duration": 9,
    "start_time": "2022-02-09T16:14:33.486Z"
   },
   {
    "duration": 282,
    "start_time": "2022-02-09T16:14:40.240Z"
   },
   {
    "duration": 237,
    "start_time": "2022-02-09T16:15:25.530Z"
   },
   {
    "duration": 0,
    "start_time": "2022-02-09T16:15:25.769Z"
   },
   {
    "duration": -2,
    "start_time": "2022-02-09T16:15:25.772Z"
   },
   {
    "duration": -7,
    "start_time": "2022-02-09T16:15:25.778Z"
   },
   {
    "duration": -8,
    "start_time": "2022-02-09T16:15:25.780Z"
   },
   {
    "duration": -9,
    "start_time": "2022-02-09T16:15:25.782Z"
   },
   {
    "duration": -9,
    "start_time": "2022-02-09T16:15:25.783Z"
   },
   {
    "duration": -10,
    "start_time": "2022-02-09T16:15:25.785Z"
   },
   {
    "duration": -11,
    "start_time": "2022-02-09T16:15:25.786Z"
   },
   {
    "duration": -12,
    "start_time": "2022-02-09T16:15:25.788Z"
   },
   {
    "duration": -12,
    "start_time": "2022-02-09T16:15:25.789Z"
   },
   {
    "duration": -17,
    "start_time": "2022-02-09T16:15:25.795Z"
   },
   {
    "duration": -18,
    "start_time": "2022-02-09T16:15:25.797Z"
   },
   {
    "duration": -18,
    "start_time": "2022-02-09T16:15:25.798Z"
   },
   {
    "duration": -19,
    "start_time": "2022-02-09T16:15:25.800Z"
   },
   {
    "duration": -19,
    "start_time": "2022-02-09T16:15:25.801Z"
   },
   {
    "duration": -19,
    "start_time": "2022-02-09T16:15:25.802Z"
   },
   {
    "duration": -19,
    "start_time": "2022-02-09T16:15:25.803Z"
   },
   {
    "duration": -21,
    "start_time": "2022-02-09T16:15:25.805Z"
   },
   {
    "duration": -21,
    "start_time": "2022-02-09T16:15:25.806Z"
   },
   {
    "duration": -21,
    "start_time": "2022-02-09T16:15:25.807Z"
   },
   {
    "duration": -21,
    "start_time": "2022-02-09T16:15:25.808Z"
   },
   {
    "duration": 5,
    "start_time": "2022-02-09T16:16:03.210Z"
   },
   {
    "duration": 3,
    "start_time": "2022-02-09T16:16:11.317Z"
   },
   {
    "duration": 10,
    "start_time": "2022-02-09T16:16:15.178Z"
   },
   {
    "duration": 183,
    "start_time": "2022-02-09T16:16:19.616Z"
   },
   {
    "duration": 41,
    "start_time": "2022-02-09T16:18:50.874Z"
   },
   {
    "duration": 40,
    "start_time": "2022-02-09T16:20:46.091Z"
   },
   {
    "duration": 39,
    "start_time": "2022-02-09T16:23:05.884Z"
   },
   {
    "duration": 36,
    "start_time": "2022-02-09T16:24:17.780Z"
   },
   {
    "duration": 38,
    "start_time": "2022-02-09T16:24:20.783Z"
   },
   {
    "duration": 44,
    "start_time": "2022-02-09T16:24:40.399Z"
   },
   {
    "duration": 44,
    "start_time": "2022-02-09T16:24:43.271Z"
   },
   {
    "duration": 53,
    "start_time": "2022-02-09T16:25:18.195Z"
   },
   {
    "duration": 176,
    "start_time": "2022-02-09T16:26:56.763Z"
   },
   {
    "duration": 186,
    "start_time": "2022-02-09T16:35:05.588Z"
   },
   {
    "duration": 9,
    "start_time": "2022-02-09T16:36:38.148Z"
   },
   {
    "duration": 38,
    "start_time": "2022-02-09T16:40:32.296Z"
   },
   {
    "duration": 43,
    "start_time": "2022-02-09T16:42:01.422Z"
   },
   {
    "duration": 181,
    "start_time": "2022-02-09T16:43:46.369Z"
   },
   {
    "duration": 185,
    "start_time": "2022-02-09T16:44:51.729Z"
   },
   {
    "duration": 3,
    "start_time": "2022-02-09T16:45:24.391Z"
   },
   {
    "duration": 422,
    "start_time": "2022-02-09T16:45:26.543Z"
   },
   {
    "duration": 3,
    "start_time": "2022-02-09T16:51:17.327Z"
   },
   {
    "duration": 11,
    "start_time": "2022-02-09T16:51:31.241Z"
   },
   {
    "duration": 38,
    "start_time": "2022-02-09T16:51:47.819Z"
   },
   {
    "duration": 37,
    "start_time": "2022-02-09T16:53:43.811Z"
   },
   {
    "duration": 40,
    "start_time": "2022-02-09T16:54:15.772Z"
   },
   {
    "duration": 38,
    "start_time": "2022-02-09T16:55:18.567Z"
   },
   {
    "duration": 3,
    "start_time": "2022-02-09T16:56:50.892Z"
   },
   {
    "duration": 151,
    "start_time": "2022-02-09T16:56:50.896Z"
   },
   {
    "duration": 15,
    "start_time": "2022-02-09T16:56:51.049Z"
   },
   {
    "duration": 38,
    "start_time": "2022-02-09T16:56:51.066Z"
   },
   {
    "duration": 13,
    "start_time": "2022-02-09T16:56:51.105Z"
   },
   {
    "duration": 18,
    "start_time": "2022-02-09T16:56:51.119Z"
   },
   {
    "duration": 5,
    "start_time": "2022-02-09T16:56:51.139Z"
   },
   {
    "duration": 39,
    "start_time": "2022-02-09T16:56:51.147Z"
   },
   {
    "duration": 35,
    "start_time": "2022-02-09T16:56:51.188Z"
   },
   {
    "duration": 42,
    "start_time": "2022-02-09T16:56:51.225Z"
   },
   {
    "duration": 72,
    "start_time": "2022-02-09T16:56:51.268Z"
   },
   {
    "duration": 63,
    "start_time": "2022-02-09T16:56:51.341Z"
   },
   {
    "duration": 54,
    "start_time": "2022-02-09T16:56:51.406Z"
   },
   {
    "duration": 38,
    "start_time": "2022-02-09T16:56:51.461Z"
   },
   {
    "duration": 19,
    "start_time": "2022-02-09T16:56:51.500Z"
   },
   {
    "duration": 34,
    "start_time": "2022-02-09T16:56:51.520Z"
   },
   {
    "duration": 42,
    "start_time": "2022-02-09T16:56:51.555Z"
   },
   {
    "duration": 6,
    "start_time": "2022-02-09T16:56:51.599Z"
   },
   {
    "duration": 19,
    "start_time": "2022-02-09T16:56:51.607Z"
   },
   {
    "duration": 10,
    "start_time": "2022-02-09T16:56:51.628Z"
   },
   {
    "duration": 25,
    "start_time": "2022-02-09T16:56:51.639Z"
   },
   {
    "duration": 22,
    "start_time": "2022-02-09T16:56:51.665Z"
   },
   {
    "duration": 19,
    "start_time": "2022-02-09T16:56:51.688Z"
   },
   {
    "duration": 18,
    "start_time": "2022-02-09T16:56:51.709Z"
   },
   {
    "duration": 14,
    "start_time": "2022-02-09T16:56:51.729Z"
   },
   {
    "duration": 21,
    "start_time": "2022-02-09T16:56:51.744Z"
   },
   {
    "duration": 22,
    "start_time": "2022-02-09T16:56:51.767Z"
   },
   {
    "duration": 15,
    "start_time": "2022-02-09T16:56:51.790Z"
   },
   {
    "duration": 13,
    "start_time": "2022-02-09T16:56:51.807Z"
   },
   {
    "duration": 15,
    "start_time": "2022-02-09T16:56:51.822Z"
   },
   {
    "duration": 25,
    "start_time": "2022-02-09T16:56:51.839Z"
   },
   {
    "duration": 9,
    "start_time": "2022-02-09T16:56:51.865Z"
   },
   {
    "duration": 31,
    "start_time": "2022-02-09T16:56:51.876Z"
   },
   {
    "duration": 23,
    "start_time": "2022-02-09T16:56:51.908Z"
   },
   {
    "duration": 5,
    "start_time": "2022-02-09T16:56:51.932Z"
   },
   {
    "duration": 12,
    "start_time": "2022-02-09T16:56:51.938Z"
   },
   {
    "duration": 21,
    "start_time": "2022-02-09T16:56:51.951Z"
   },
   {
    "duration": 8,
    "start_time": "2022-02-09T16:56:51.974Z"
   },
   {
    "duration": 28,
    "start_time": "2022-02-09T16:59:51.046Z"
   },
   {
    "duration": 32,
    "start_time": "2022-02-09T17:00:24.265Z"
   },
   {
    "duration": 12,
    "start_time": "2022-02-09T17:04:00.147Z"
   },
   {
    "duration": 5,
    "start_time": "2022-02-09T17:05:47.967Z"
   },
   {
    "duration": 4,
    "start_time": "2022-02-09T17:06:26.262Z"
   },
   {
    "duration": 4,
    "start_time": "2022-02-09T17:07:59.429Z"
   },
   {
    "duration": 32,
    "start_time": "2022-02-09T17:08:16.628Z"
   },
   {
    "duration": 182,
    "start_time": "2022-02-09T17:42:04.768Z"
   },
   {
    "duration": 4,
    "start_time": "2022-02-09T17:42:18.665Z"
   },
   {
    "duration": 14,
    "start_time": "2022-02-09T17:42:22.580Z"
   },
   {
    "duration": 15,
    "start_time": "2022-02-09T17:44:24.928Z"
   },
   {
    "duration": 34,
    "start_time": "2022-02-09T17:44:24.945Z"
   },
   {
    "duration": 49,
    "start_time": "2022-02-09T17:44:24.981Z"
   },
   {
    "duration": 28,
    "start_time": "2022-02-09T17:44:25.032Z"
   },
   {
    "duration": 46,
    "start_time": "2022-02-09T17:44:25.062Z"
   },
   {
    "duration": 23,
    "start_time": "2022-02-09T17:44:25.110Z"
   },
   {
    "duration": 10,
    "start_time": "2022-02-09T17:44:25.135Z"
   },
   {
    "duration": 9,
    "start_time": "2022-02-09T17:44:25.146Z"
   },
   {
    "duration": 11,
    "start_time": "2022-02-09T17:44:25.157Z"
   },
   {
    "duration": 19,
    "start_time": "2022-02-09T17:44:25.170Z"
   },
   {
    "duration": 22,
    "start_time": "2022-02-09T17:44:25.190Z"
   },
   {
    "duration": 17,
    "start_time": "2022-02-09T17:44:25.214Z"
   },
   {
    "duration": 28,
    "start_time": "2022-02-09T17:44:25.232Z"
   },
   {
    "duration": 27,
    "start_time": "2022-02-09T17:44:25.262Z"
   },
   {
    "duration": 14,
    "start_time": "2022-02-09T17:44:25.291Z"
   },
   {
    "duration": 13,
    "start_time": "2022-02-09T17:44:25.307Z"
   },
   {
    "duration": 15,
    "start_time": "2022-02-09T17:44:25.322Z"
   },
   {
    "duration": 28,
    "start_time": "2022-02-09T17:44:25.339Z"
   },
   {
    "duration": 8,
    "start_time": "2022-02-09T18:09:47.065Z"
   },
   {
    "duration": 6,
    "start_time": "2022-02-09T18:22:35.694Z"
   },
   {
    "duration": 8,
    "start_time": "2022-02-09T18:22:37.174Z"
   },
   {
    "duration": 6,
    "start_time": "2022-02-09T18:22:39.449Z"
   },
   {
    "duration": 7,
    "start_time": "2022-02-09T18:25:01.272Z"
   },
   {
    "duration": 10,
    "start_time": "2022-02-09T18:25:03.984Z"
   },
   {
    "duration": 183,
    "start_time": "2022-02-09T18:44:41.567Z"
   },
   {
    "duration": 4,
    "start_time": "2022-02-09T18:44:53.825Z"
   },
   {
    "duration": 359,
    "start_time": "2022-02-09T18:44:57.359Z"
   },
   {
    "duration": 4,
    "start_time": "2022-02-09T18:45:30.717Z"
   },
   {
    "duration": 362,
    "start_time": "2022-02-09T18:45:34.335Z"
   },
   {
    "duration": 4,
    "start_time": "2022-02-09T18:47:53.677Z"
   },
   {
    "duration": 8,
    "start_time": "2022-02-09T18:47:56.455Z"
   },
   {
    "duration": 7,
    "start_time": "2022-02-09T18:48:41.603Z"
   },
   {
    "duration": 7,
    "start_time": "2022-02-09T18:50:05.995Z"
   },
   {
    "duration": 4,
    "start_time": "2022-02-09T18:50:49.672Z"
   },
   {
    "duration": 7,
    "start_time": "2022-02-09T18:50:52.290Z"
   },
   {
    "duration": 8,
    "start_time": "2022-02-09T18:51:23.109Z"
   },
   {
    "duration": 14,
    "start_time": "2022-02-09T18:51:54.649Z"
   },
   {
    "duration": 8,
    "start_time": "2022-02-09T18:52:51.508Z"
   },
   {
    "duration": 10,
    "start_time": "2022-02-09T18:53:32.934Z"
   },
   {
    "duration": 11,
    "start_time": "2022-02-09T18:55:01.924Z"
   },
   {
    "duration": 10,
    "start_time": "2022-02-09T18:55:02.793Z"
   },
   {
    "duration": 19,
    "start_time": "2022-02-09T18:55:19.816Z"
   },
   {
    "duration": 37,
    "start_time": "2022-02-09T18:59:25.459Z"
   },
   {
    "duration": 21,
    "start_time": "2022-02-09T18:59:36.487Z"
   },
   {
    "duration": 4,
    "start_time": "2022-02-09T19:00:02.674Z"
   },
   {
    "duration": 22,
    "start_time": "2022-02-09T19:00:08.934Z"
   },
   {
    "duration": 17,
    "start_time": "2022-02-09T19:00:42.759Z"
   },
   {
    "duration": 20,
    "start_time": "2022-02-09T19:01:16.032Z"
   },
   {
    "duration": 13,
    "start_time": "2022-02-09T19:01:45.084Z"
   },
   {
    "duration": 166,
    "start_time": "2022-02-09T19:23:22.449Z"
   },
   {
    "duration": 182,
    "start_time": "2022-02-09T19:29:11.440Z"
   },
   {
    "duration": 22,
    "start_time": "2022-02-09T19:35:24.733Z"
   },
   {
    "duration": 169,
    "start_time": "2022-02-09T19:35:34.255Z"
   },
   {
    "duration": 199,
    "start_time": "2022-02-09T19:36:38.083Z"
   },
   {
    "duration": 209,
    "start_time": "2022-02-09T19:37:13.703Z"
   },
   {
    "duration": 26,
    "start_time": "2022-02-09T19:37:43.793Z"
   },
   {
    "duration": 521,
    "start_time": "2022-02-10T08:26:53.364Z"
   },
   {
    "duration": 126,
    "start_time": "2022-02-10T08:26:53.887Z"
   },
   {
    "duration": 19,
    "start_time": "2022-02-10T08:26:54.015Z"
   },
   {
    "duration": 27,
    "start_time": "2022-02-10T08:26:54.036Z"
   },
   {
    "duration": 3,
    "start_time": "2022-02-10T08:26:54.065Z"
   },
   {
    "duration": 46,
    "start_time": "2022-02-10T08:26:54.070Z"
   },
   {
    "duration": 3,
    "start_time": "2022-02-10T08:26:54.118Z"
   },
   {
    "duration": 24,
    "start_time": "2022-02-10T08:26:54.123Z"
   },
   {
    "duration": 21,
    "start_time": "2022-02-10T08:26:54.150Z"
   },
   {
    "duration": 39,
    "start_time": "2022-02-10T08:26:54.173Z"
   },
   {
    "duration": 54,
    "start_time": "2022-02-10T08:26:54.214Z"
   },
   {
    "duration": 75,
    "start_time": "2022-02-10T08:26:54.269Z"
   },
   {
    "duration": 47,
    "start_time": "2022-02-10T08:26:54.346Z"
   },
   {
    "duration": 50,
    "start_time": "2022-02-10T08:26:54.394Z"
   },
   {
    "duration": 2,
    "start_time": "2022-02-10T08:26:54.446Z"
   },
   {
    "duration": 11,
    "start_time": "2022-02-10T08:26:54.450Z"
   },
   {
    "duration": 60,
    "start_time": "2022-02-10T08:26:54.463Z"
   },
   {
    "duration": 29,
    "start_time": "2022-02-10T08:26:54.524Z"
   },
   {
    "duration": 29,
    "start_time": "2022-02-10T08:26:54.554Z"
   },
   {
    "duration": 3,
    "start_time": "2022-02-10T08:26:54.584Z"
   },
   {
    "duration": 14,
    "start_time": "2022-02-10T08:26:54.612Z"
   },
   {
    "duration": 15,
    "start_time": "2022-02-10T08:26:54.628Z"
   },
   {
    "duration": 16,
    "start_time": "2022-02-10T08:26:54.644Z"
   },
   {
    "duration": 14,
    "start_time": "2022-02-10T08:26:54.661Z"
   },
   {
    "duration": 41,
    "start_time": "2022-02-10T08:26:54.676Z"
   },
   {
    "duration": 14,
    "start_time": "2022-02-10T08:26:54.719Z"
   },
   {
    "duration": 7,
    "start_time": "2022-02-10T08:26:54.736Z"
   },
   {
    "duration": 19,
    "start_time": "2022-02-10T08:26:54.745Z"
   },
   {
    "duration": 48,
    "start_time": "2022-02-10T08:26:54.765Z"
   },
   {
    "duration": 3,
    "start_time": "2022-02-10T08:26:54.815Z"
   },
   {
    "duration": 22,
    "start_time": "2022-02-10T08:26:54.820Z"
   },
   {
    "duration": 12,
    "start_time": "2022-02-10T08:26:54.843Z"
   },
   {
    "duration": 17,
    "start_time": "2022-02-10T08:26:54.857Z"
   },
   {
    "duration": 41,
    "start_time": "2022-02-10T08:26:54.875Z"
   },
   {
    "duration": 22,
    "start_time": "2022-02-10T08:26:54.917Z"
   },
   {
    "duration": 2,
    "start_time": "2022-02-10T08:26:54.941Z"
   },
   {
    "duration": 5,
    "start_time": "2022-02-10T08:26:54.944Z"
   },
   {
    "duration": 4,
    "start_time": "2022-02-10T08:26:54.951Z"
   },
   {
    "duration": 253,
    "start_time": "2022-02-10T08:28:07.729Z"
   },
   {
    "duration": 21,
    "start_time": "2022-02-10T08:28:40.404Z"
   },
   {
    "duration": 10,
    "start_time": "2022-02-10T08:28:42.996Z"
   },
   {
    "duration": 8,
    "start_time": "2022-02-10T08:30:48.784Z"
   },
   {
    "duration": 23,
    "start_time": "2022-02-10T08:45:43.606Z"
   },
   {
    "duration": 8,
    "start_time": "2022-02-10T08:45:47.313Z"
   },
   {
    "duration": 234,
    "start_time": "2022-02-10T08:53:55.014Z"
   },
   {
    "duration": 15,
    "start_time": "2022-02-10T08:54:14.070Z"
   },
   {
    "duration": 8,
    "start_time": "2022-02-10T08:54:16.729Z"
   },
   {
    "duration": 2,
    "start_time": "2022-02-10T08:58:15.424Z"
   },
   {
    "duration": 130,
    "start_time": "2022-02-10T08:58:15.428Z"
   },
   {
    "duration": 11,
    "start_time": "2022-02-10T08:58:15.560Z"
   },
   {
    "duration": 39,
    "start_time": "2022-02-10T08:58:15.573Z"
   },
   {
    "duration": 5,
    "start_time": "2022-02-10T08:58:15.614Z"
   },
   {
    "duration": 16,
    "start_time": "2022-02-10T08:58:15.621Z"
   },
   {
    "duration": 4,
    "start_time": "2022-02-10T08:58:15.638Z"
   },
   {
    "duration": 23,
    "start_time": "2022-02-10T08:58:15.644Z"
   },
   {
    "duration": 49,
    "start_time": "2022-02-10T08:58:15.669Z"
   },
   {
    "duration": 23,
    "start_time": "2022-02-10T08:58:15.720Z"
   },
   {
    "duration": 68,
    "start_time": "2022-02-10T08:58:15.745Z"
   },
   {
    "duration": 58,
    "start_time": "2022-02-10T08:58:15.815Z"
   },
   {
    "duration": 57,
    "start_time": "2022-02-10T08:58:15.875Z"
   },
   {
    "duration": 40,
    "start_time": "2022-02-10T08:58:15.933Z"
   },
   {
    "duration": 3,
    "start_time": "2022-02-10T08:58:15.974Z"
   },
   {
    "duration": 12,
    "start_time": "2022-02-10T08:58:15.978Z"
   },
   {
    "duration": 57,
    "start_time": "2022-02-10T08:58:15.991Z"
   },
   {
    "duration": 29,
    "start_time": "2022-02-10T08:58:16.049Z"
   },
   {
    "duration": 48,
    "start_time": "2022-02-10T08:58:16.080Z"
   },
   {
    "duration": 3,
    "start_time": "2022-02-10T08:58:16.129Z"
   },
   {
    "duration": 25,
    "start_time": "2022-02-10T08:58:16.134Z"
   },
   {
    "duration": 14,
    "start_time": "2022-02-10T08:58:16.161Z"
   },
   {
    "duration": 20,
    "start_time": "2022-02-10T08:58:16.177Z"
   },
   {
    "duration": 23,
    "start_time": "2022-02-10T08:58:16.199Z"
   },
   {
    "duration": 15,
    "start_time": "2022-02-10T08:58:16.224Z"
   },
   {
    "duration": 14,
    "start_time": "2022-02-10T08:58:16.241Z"
   },
   {
    "duration": 9,
    "start_time": "2022-02-10T08:58:16.258Z"
   },
   {
    "duration": 55,
    "start_time": "2022-02-10T08:58:16.269Z"
   },
   {
    "duration": 19,
    "start_time": "2022-02-10T08:58:16.326Z"
   },
   {
    "duration": 4,
    "start_time": "2022-02-10T08:58:16.347Z"
   },
   {
    "duration": 26,
    "start_time": "2022-02-10T08:58:16.353Z"
   },
   {
    "duration": 32,
    "start_time": "2022-02-10T08:58:16.381Z"
   },
   {
    "duration": 26,
    "start_time": "2022-02-10T08:58:16.415Z"
   },
   {
    "duration": 23,
    "start_time": "2022-02-10T08:58:16.443Z"
   },
   {
    "duration": 19,
    "start_time": "2022-02-10T08:58:16.468Z"
   },
   {
    "duration": 24,
    "start_time": "2022-02-10T08:58:16.489Z"
   },
   {
    "duration": 15,
    "start_time": "2022-02-10T08:58:16.515Z"
   },
   {
    "duration": 7,
    "start_time": "2022-02-10T08:58:16.531Z"
   }
  ],
  "colab": {
   "collapsed_sections": [
    "E0vqbgi9ay0H",
    "VUC88oWjTJw2"
   ],
   "name": "yandex_music_project_2021.2.ipynb",
   "provenance": []
  },
  "kernelspec": {
   "display_name": "Python 3 (ipykernel)",
   "language": "python",
   "name": "python3"
  },
  "language_info": {
   "codemirror_mode": {
    "name": "ipython",
    "version": 3
   },
   "file_extension": ".py",
   "mimetype": "text/x-python",
   "name": "python",
   "nbconvert_exporter": "python",
   "pygments_lexer": "ipython3",
   "version": "3.9.7"
  },
  "toc": {
   "base_numbering": 1,
   "nav_menu": {},
   "number_sections": true,
   "sideBar": true,
   "skip_h1_title": true,
   "title_cell": "Table of Contents",
   "title_sidebar": "Contents",
   "toc_cell": false,
   "toc_position": {},
   "toc_section_display": true,
   "toc_window_display": true
  }
 },
 "nbformat": 4,
 "nbformat_minor": 1
}
