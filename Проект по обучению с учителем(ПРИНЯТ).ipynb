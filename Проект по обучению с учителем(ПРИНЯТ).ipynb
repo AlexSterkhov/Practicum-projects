{
 "cells": [
  {
   "cell_type": "markdown",
   "metadata": {},
   "source": [
    "# Прогнозирование оттока клиентов из «Бета-Банка»\n",
    "\n",
    "«Бета-Банка» стали уходить клиенты. Каждый месяц. Немного, но заметно. Банковские маркетологи посчитали: сохранять текущих клиентов дешевле, чем привлекать новых.\n",
    "\n",
    "Нужно спрогнозировать, уйдёт клиент из банка в ближайшее время или нет. Нам предоставлены исторические данные о поведении клиентов и расторжении договоров с банком.\n",
    "\n",
    "От нас требуется построить модель с предельно большим значением F1-меры(не меньше 0.59).\n"
   ]
  },
  {
   "cell_type": "markdown",
   "metadata": {
    "toc": true
   },
   "source": [
    "<h1>Содержание<span class=\"tocSkip\"></span></h1>\n",
    "<div class=\"toc\"><ul class=\"toc-item\"><li><span><a href=\"#Знакомство-с-данными-\" data-toc-modified-id=\"Знакомство-с-данными--1\"><span class=\"toc-item-num\">1&nbsp;&nbsp;</span>Знакомство с данными <a id=\"start\" rel=\"nofollow\"></a></a></span></li><li><span><a href=\"#Предобработка-и-анализ-данных-\" data-toc-modified-id=\"Предобработка-и-анализ-данных--2\"><span class=\"toc-item-num\">2&nbsp;&nbsp;</span>Предобработка и анализ данных <a id=\"preprocessing\" rel=\"nofollow\"></a></a></span></li><li><span><a href=\"#Прогнозирование-без-исправления-дисбаланса-классов-\" data-toc-modified-id=\"Прогнозирование-без-исправления-дисбаланса-классов--3\"><span class=\"toc-item-num\">3&nbsp;&nbsp;</span>Прогнозирование без исправления дисбаланса классов <a id=\"prediction_without_balance_of_classes\" rel=\"nofollow\"></a></a></span></li><li><span><a href=\"#Прогнозирование-с-исправлением-дисбаланса-классов--методом-добавления-гиперпараметра-class_weight-=-'balanced'\" data-toc-modified-id=\"Прогнозирование-с-исправлением-дисбаланса-классов--методом-добавления-гиперпараметра-class_weight-=-'balanced'-4\"><span class=\"toc-item-num\">4&nbsp;&nbsp;</span>Прогнозирование с исправлением дисбаланса классов  методом добавления гиперпараметра class_weight = 'balanced'<a id=\"prediction_without_balance_of_classes\" rel=\"nofollow\"></a></a></span></li><li><span><a href=\"#Прогнозирование-с-исправлением-дисбаланса-классов--методом-добавления-гиперпараметра-class_weight-=-'balanced'-и-использованием-метода-upsampling\" data-toc-modified-id=\"Прогнозирование-с-исправлением-дисбаланса-классов--методом-добавления-гиперпараметра-class_weight-=-'balanced'-и-использованием-метода-upsampling-5\"><span class=\"toc-item-num\">5&nbsp;&nbsp;</span>Прогнозирование с исправлением дисбаланса классов  методом добавления гиперпараметра class_weight = 'balanced' и использованием метода upsampling<a id=\"prediction_without_balance_of_classes_2\" rel=\"nofollow\"></a></a></span></li><li><span><a href=\"#Проверка-на-лучшей-модели-на-тестовой-выборке\" data-toc-modified-id=\"Проверка-на-лучшей-модели-на-тестовой-выборке-6\"><span class=\"toc-item-num\">6&nbsp;&nbsp;</span>Проверка на лучшей модели на тестовой выборке<a id=\"checking_on_a_test_sample\" rel=\"nofollow\"></a></a></span></li><li><span><a href=\"#Общий-вывод\" data-toc-modified-id=\"Общий-вывод-7\"><span class=\"toc-item-num\">7&nbsp;&nbsp;</span>Общий вывод<a id=\"resume\" rel=\"nofollow\"></a></a></span></li></ul></div>"
   ]
  },
  {
   "cell_type": "markdown",
   "metadata": {},
   "source": [
    "## Знакомство с данными <a id='start'></a>"
   ]
  },
  {
   "cell_type": "markdown",
   "metadata": {},
   "source": [
    "Подгужаем требуемые для наших задач библиотеки:"
   ]
  },
  {
   "cell_type": "code",
   "execution_count": 1,
   "metadata": {},
   "outputs": [],
   "source": [
    "import pandas as pd\n",
    "from sklearn.model_selection import train_test_split\n",
    "from sklearn.tree import DecisionTreeClassifier\n",
    "from sklearn.ensemble import RandomForestClassifier\n",
    "from sklearn.linear_model import LogisticRegression\n",
    "from sklearn.metrics import f1_score\n",
    "from sklearn.metrics import roc_auc_score\n",
    "from sklearn.utils import shuffle\n",
    "from sklearn.preprocessing import StandardScaler\n",
    "from sklearn.model_selection import GridSearchCV\n",
    "from sklearn.model_selection import RandomizedSearchCV\n",
    "import warnings\n",
    "warnings.filterwarnings(\"ignore\") "
   ]
  },
  {
   "cell_type": "markdown",
   "metadata": {},
   "source": [
    "Выведем данные для ознакомления"
   ]
  },
  {
   "cell_type": "code",
   "execution_count": 2,
   "metadata": {},
   "outputs": [
    {
     "name": "stdout",
     "output_type": "stream",
     "text": [
      "<class 'pandas.core.frame.DataFrame'>\n",
      "RangeIndex: 10000 entries, 0 to 9999\n",
      "Data columns (total 14 columns):\n",
      " #   Column           Non-Null Count  Dtype  \n",
      "---  ------           --------------  -----  \n",
      " 0   RowNumber        10000 non-null  int64  \n",
      " 1   CustomerId       10000 non-null  int64  \n",
      " 2   Surname          10000 non-null  object \n",
      " 3   CreditScore      10000 non-null  int64  \n",
      " 4   Geography        10000 non-null  object \n",
      " 5   Gender           10000 non-null  object \n",
      " 6   Age              10000 non-null  int64  \n",
      " 7   Tenure           9091 non-null   float64\n",
      " 8   Balance          10000 non-null  float64\n",
      " 9   NumOfProducts    10000 non-null  int64  \n",
      " 10  HasCrCard        10000 non-null  int64  \n",
      " 11  IsActiveMember   10000 non-null  int64  \n",
      " 12  EstimatedSalary  10000 non-null  float64\n",
      " 13  Exited           10000 non-null  int64  \n",
      "dtypes: float64(3), int64(8), object(3)\n",
      "memory usage: 1.1+ MB\n",
      "None\n",
      "   RowNumber  CustomerId   Surname  CreditScore Geography  Gender  Age  \\\n",
      "0          1    15634602  Hargrave          619    France  Female   42   \n",
      "1          2    15647311      Hill          608     Spain  Female   41   \n",
      "2          3    15619304      Onio          502    France  Female   42   \n",
      "3          4    15701354      Boni          699    France  Female   39   \n",
      "4          5    15737888  Mitchell          850     Spain  Female   43   \n",
      "5          6    15574012       Chu          645     Spain    Male   44   \n",
      "6          7    15592531  Bartlett          822    France    Male   50   \n",
      "7          8    15656148    Obinna          376   Germany  Female   29   \n",
      "8          9    15792365        He          501    France    Male   44   \n",
      "9         10    15592389        H?          684    France    Male   27   \n",
      "\n",
      "   Tenure    Balance  NumOfProducts  HasCrCard  IsActiveMember  \\\n",
      "0     2.0       0.00              1          1               1   \n",
      "1     1.0   83807.86              1          0               1   \n",
      "2     8.0  159660.80              3          1               0   \n",
      "3     1.0       0.00              2          0               0   \n",
      "4     2.0  125510.82              1          1               1   \n",
      "5     8.0  113755.78              2          1               0   \n",
      "6     7.0       0.00              2          1               1   \n",
      "7     4.0  115046.74              4          1               0   \n",
      "8     4.0  142051.07              2          0               1   \n",
      "9     2.0  134603.88              1          1               1   \n",
      "\n",
      "   EstimatedSalary  Exited  \n",
      "0        101348.88       1  \n",
      "1        112542.58       0  \n",
      "2        113931.57       1  \n",
      "3         93826.63       0  \n",
      "4         79084.10       0  \n",
      "5        149756.71       1  \n",
      "6         10062.80       0  \n",
      "7        119346.88       1  \n",
      "8         74940.50       0  \n",
      "9         71725.73       0  \n"
     ]
    }
   ],
   "source": [
    "df = pd.read_csv('/datasets/gold_recovery_train_new.csv')\n",
    "print(df.info())\n",
    "print(df.head(10))"
   ]
  },
  {
   "cell_type": "markdown",
   "metadata": {},
   "source": [
    "В целом всё ок. Пропуски только в одном столбце, можно его пофиксить и ванговать!"
   ]
  },
  {
   "cell_type": "markdown",
   "metadata": {},
   "source": [
    "## Предобработка и анализ данных <a id='preprocessing'></a>"
   ]
  },
  {
   "cell_type": "markdown",
   "metadata": {},
   "source": [
    "**Для начала заполним пропуски**"
   ]
  },
  {
   "cell_type": "code",
   "execution_count": 3,
   "metadata": {},
   "outputs": [
    {
     "name": "stdout",
     "output_type": "stream",
     "text": [
      "5.0\n",
      "1.0     952\n",
      "2.0     950\n",
      "8.0     933\n",
      "3.0     928\n",
      "5.0     927\n",
      "7.0     925\n",
      "4.0     885\n",
      "9.0     882\n",
      "6.0     881\n",
      "10.0    446\n",
      "0.0     382\n",
      "Name: Tenure, dtype: int64\n"
     ]
    }
   ],
   "source": [
    "# Медиана значений проблемного столбца\n",
    "print(df['Tenure'].median())\n",
    "\n",
    "# Посмотрим частоту встречающихся в столбце значений\n",
    "print(df['Tenure'].value_counts())"
   ]
  },
  {
   "cell_type": "code",
   "execution_count": 4,
   "metadata": {},
   "outputs": [
    {
     "name": "stdout",
     "output_type": "stream",
     "text": [
      "5.0     1821\n",
      "1.0      953\n",
      "2.0      953\n",
      "8.0      933\n",
      "3.0      933\n",
      "7.0      925\n",
      "4.0      889\n",
      "9.0      882\n",
      "6.0      881\n",
      "10.0     446\n",
      "0.0      384\n",
      "Name: Tenure, dtype: int64\n"
     ]
    }
   ],
   "source": [
    "#Напишем функцию для заполнения проблемного столбца в зависимости от значения столца 'Age'\n",
    "def fill_tenure(age):\n",
    "    if age == 18:\n",
    "        return 0\n",
    "    elif age > 18 and age <= 23:\n",
    "        return age - 18\n",
    "    else:\n",
    "        return df['Tenure'].median()\n",
    "\n",
    "#Заполняем пропуски при помощи нашей функции и apply\n",
    "df.loc[df.Tenure.isna(), 'Tenure'] = df.loc[df.Tenure.isna(), 'Age'].apply(fill_tenure)\n",
    "\n",
    "#Проверяемся\n",
    "print(df['Tenure'].value_counts())"
   ]
  },
  {
   "cell_type": "markdown",
   "metadata": {},
   "source": [
    "**Перекодируем категориальные признаки в колличественные при помощи техники OHE**"
   ]
  },
  {
   "cell_type": "code",
   "execution_count": 5,
   "metadata": {},
   "outputs": [
    {
     "data": {
      "text/html": [
       "<div>\n",
       "<style scoped>\n",
       "    .dataframe tbody tr th:only-of-type {\n",
       "        vertical-align: middle;\n",
       "    }\n",
       "\n",
       "    .dataframe tbody tr th {\n",
       "        vertical-align: top;\n",
       "    }\n",
       "\n",
       "    .dataframe thead th {\n",
       "        text-align: right;\n",
       "    }\n",
       "</style>\n",
       "<table border=\"1\" class=\"dataframe\">\n",
       "  <thead>\n",
       "    <tr style=\"text-align: right;\">\n",
       "      <th></th>\n",
       "      <th>CreditScore</th>\n",
       "      <th>Age</th>\n",
       "      <th>Tenure</th>\n",
       "      <th>Balance</th>\n",
       "      <th>NumOfProducts</th>\n",
       "      <th>HasCrCard</th>\n",
       "      <th>IsActiveMember</th>\n",
       "      <th>EstimatedSalary</th>\n",
       "      <th>Exited</th>\n",
       "      <th>Geography_Germany</th>\n",
       "      <th>Geography_Spain</th>\n",
       "      <th>Gender_Male</th>\n",
       "    </tr>\n",
       "  </thead>\n",
       "  <tbody>\n",
       "    <tr>\n",
       "      <th>0</th>\n",
       "      <td>619</td>\n",
       "      <td>42</td>\n",
       "      <td>2.0</td>\n",
       "      <td>0.00</td>\n",
       "      <td>1</td>\n",
       "      <td>1</td>\n",
       "      <td>1</td>\n",
       "      <td>101348.88</td>\n",
       "      <td>1</td>\n",
       "      <td>0</td>\n",
       "      <td>0</td>\n",
       "      <td>0</td>\n",
       "    </tr>\n",
       "    <tr>\n",
       "      <th>1</th>\n",
       "      <td>608</td>\n",
       "      <td>41</td>\n",
       "      <td>1.0</td>\n",
       "      <td>83807.86</td>\n",
       "      <td>1</td>\n",
       "      <td>0</td>\n",
       "      <td>1</td>\n",
       "      <td>112542.58</td>\n",
       "      <td>0</td>\n",
       "      <td>0</td>\n",
       "      <td>1</td>\n",
       "      <td>0</td>\n",
       "    </tr>\n",
       "    <tr>\n",
       "      <th>2</th>\n",
       "      <td>502</td>\n",
       "      <td>42</td>\n",
       "      <td>8.0</td>\n",
       "      <td>159660.80</td>\n",
       "      <td>3</td>\n",
       "      <td>1</td>\n",
       "      <td>0</td>\n",
       "      <td>113931.57</td>\n",
       "      <td>1</td>\n",
       "      <td>0</td>\n",
       "      <td>0</td>\n",
       "      <td>0</td>\n",
       "    </tr>\n",
       "    <tr>\n",
       "      <th>3</th>\n",
       "      <td>699</td>\n",
       "      <td>39</td>\n",
       "      <td>1.0</td>\n",
       "      <td>0.00</td>\n",
       "      <td>2</td>\n",
       "      <td>0</td>\n",
       "      <td>0</td>\n",
       "      <td>93826.63</td>\n",
       "      <td>0</td>\n",
       "      <td>0</td>\n",
       "      <td>0</td>\n",
       "      <td>0</td>\n",
       "    </tr>\n",
       "    <tr>\n",
       "      <th>4</th>\n",
       "      <td>850</td>\n",
       "      <td>43</td>\n",
       "      <td>2.0</td>\n",
       "      <td>125510.82</td>\n",
       "      <td>1</td>\n",
       "      <td>1</td>\n",
       "      <td>1</td>\n",
       "      <td>79084.10</td>\n",
       "      <td>0</td>\n",
       "      <td>0</td>\n",
       "      <td>1</td>\n",
       "      <td>0</td>\n",
       "    </tr>\n",
       "  </tbody>\n",
       "</table>\n",
       "</div>"
      ],
      "text/plain": [
       "   CreditScore  Age  Tenure    Balance  NumOfProducts  HasCrCard  \\\n",
       "0          619   42     2.0       0.00              1          1   \n",
       "1          608   41     1.0   83807.86              1          0   \n",
       "2          502   42     8.0  159660.80              3          1   \n",
       "3          699   39     1.0       0.00              2          0   \n",
       "4          850   43     2.0  125510.82              1          1   \n",
       "\n",
       "   IsActiveMember  EstimatedSalary  Exited  Geography_Germany  \\\n",
       "0               1        101348.88       1                  0   \n",
       "1               1        112542.58       0                  0   \n",
       "2               0        113931.57       1                  0   \n",
       "3               0         93826.63       0                  0   \n",
       "4               1         79084.10       0                  0   \n",
       "\n",
       "   Geography_Spain  Gender_Male  \n",
       "0                0            0  \n",
       "1                1            0  \n",
       "2                0            0  \n",
       "3                0            0  \n",
       "4                1            0  "
      ]
     },
     "execution_count": 5,
     "metadata": {},
     "output_type": "execute_result"
    }
   ],
   "source": [
    "# для того что бы не попасть в дамми ловушку установим атрибут drop_first=True\n",
    "df.drop(['Surname','RowNumber','CustomerId'], axis=1, inplace=True)\n",
    "data_ohe = pd.get_dummies(df, drop_first=True)\n",
    "data_ohe.head()"
   ]
  },
  {
   "cell_type": "code",
   "execution_count": 6,
   "metadata": {},
   "outputs": [],
   "source": [
    "target = data_ohe['Exited']\n",
    "features = data_ohe.drop(['Exited'], axis=1)\n"
   ]
  },
  {
   "cell_type": "markdown",
   "metadata": {},
   "source": [
    "**Приведем все данные к одному размеру(масштабируем)**"
   ]
  },
  {
   "cell_type": "code",
   "execution_count": 7,
   "metadata": {},
   "outputs": [],
   "source": [
    "scaler = StandardScaler()\n",
    "numeric =['CreditScore', 'Age', 'Tenure', 'Balance', 'NumOfProducts', 'EstimatedSalary']\n",
    "scaler.fit(features[numeric])\n",
    "features[numeric] = scaler.transform(features[numeric])\n"
   ]
  },
  {
   "cell_type": "markdown",
   "metadata": {},
   "source": [
    "**Выделим фичи и таргет и поделим данные на: тренировочные(train), валидацйионные(valid) и тестовые(test) в соотношении 6:2:2**"
   ]
  },
  {
   "cell_type": "code",
   "execution_count": 8,
   "metadata": {},
   "outputs": [],
   "source": [
    "features_train, features_test,target_train,target_test = train_test_split(features,\n",
    "                                                                            target,\n",
    "                                                                            test_size=0.25, \n",
    "                                                                            random_state=12345)"
   ]
  },
  {
   "cell_type": "code",
   "execution_count": 9,
   "metadata": {},
   "outputs": [
    {
     "data": {
      "text/html": [
       "<div>\n",
       "<style scoped>\n",
       "    .dataframe tbody tr th:only-of-type {\n",
       "        vertical-align: middle;\n",
       "    }\n",
       "\n",
       "    .dataframe tbody tr th {\n",
       "        vertical-align: top;\n",
       "    }\n",
       "\n",
       "    .dataframe thead th {\n",
       "        text-align: right;\n",
       "    }\n",
       "</style>\n",
       "<table border=\"1\" class=\"dataframe\">\n",
       "  <thead>\n",
       "    <tr style=\"text-align: right;\">\n",
       "      <th></th>\n",
       "      <th>CreditScore</th>\n",
       "      <th>Age</th>\n",
       "      <th>Tenure</th>\n",
       "      <th>Balance</th>\n",
       "      <th>NumOfProducts</th>\n",
       "      <th>HasCrCard</th>\n",
       "      <th>IsActiveMember</th>\n",
       "      <th>EstimatedSalary</th>\n",
       "      <th>Geography_Germany</th>\n",
       "      <th>Geography_Spain</th>\n",
       "      <th>Gender_Male</th>\n",
       "    </tr>\n",
       "  </thead>\n",
       "  <tbody>\n",
       "    <tr>\n",
       "      <th>226</th>\n",
       "      <td>0.449787</td>\n",
       "      <td>-0.850726</td>\n",
       "      <td>1.450333</td>\n",
       "      <td>-1.225848</td>\n",
       "      <td>0.807737</td>\n",
       "      <td>1</td>\n",
       "      <td>1</td>\n",
       "      <td>-1.271656</td>\n",
       "      <td>0</td>\n",
       "      <td>0</td>\n",
       "      <td>0</td>\n",
       "    </tr>\n",
       "    <tr>\n",
       "      <th>7756</th>\n",
       "      <td>-0.305528</td>\n",
       "      <td>-0.278604</td>\n",
       "      <td>0.726217</td>\n",
       "      <td>0.638725</td>\n",
       "      <td>-0.911583</td>\n",
       "      <td>1</td>\n",
       "      <td>1</td>\n",
       "      <td>0.967754</td>\n",
       "      <td>0</td>\n",
       "      <td>1</td>\n",
       "      <td>0</td>\n",
       "    </tr>\n",
       "    <tr>\n",
       "      <th>2065</th>\n",
       "      <td>-0.253794</td>\n",
       "      <td>-0.564665</td>\n",
       "      <td>1.088275</td>\n",
       "      <td>-1.225848</td>\n",
       "      <td>0.807737</td>\n",
       "      <td>1</td>\n",
       "      <td>0</td>\n",
       "      <td>0.667982</td>\n",
       "      <td>0</td>\n",
       "      <td>0</td>\n",
       "      <td>1</td>\n",
       "    </tr>\n",
       "    <tr>\n",
       "      <th>2800</th>\n",
       "      <td>1.225795</td>\n",
       "      <td>1.151700</td>\n",
       "      <td>1.450333</td>\n",
       "      <td>1.286783</td>\n",
       "      <td>0.807737</td>\n",
       "      <td>1</td>\n",
       "      <td>0</td>\n",
       "      <td>-1.040427</td>\n",
       "      <td>0</td>\n",
       "      <td>0</td>\n",
       "      <td>1</td>\n",
       "    </tr>\n",
       "    <tr>\n",
       "      <th>7028</th>\n",
       "      <td>0.698109</td>\n",
       "      <td>-1.232140</td>\n",
       "      <td>0.002100</td>\n",
       "      <td>1.138584</td>\n",
       "      <td>-0.911583</td>\n",
       "      <td>0</td>\n",
       "      <td>0</td>\n",
       "      <td>-0.851899</td>\n",
       "      <td>1</td>\n",
       "      <td>0</td>\n",
       "      <td>1</td>\n",
       "    </tr>\n",
       "  </tbody>\n",
       "</table>\n",
       "</div>"
      ],
      "text/plain": [
       "      CreditScore       Age    Tenure   Balance  NumOfProducts  HasCrCard  \\\n",
       "226      0.449787 -0.850726  1.450333 -1.225848       0.807737          1   \n",
       "7756    -0.305528 -0.278604  0.726217  0.638725      -0.911583          1   \n",
       "2065    -0.253794 -0.564665  1.088275 -1.225848       0.807737          1   \n",
       "2800     1.225795  1.151700  1.450333  1.286783       0.807737          1   \n",
       "7028     0.698109 -1.232140  0.002100  1.138584      -0.911583          0   \n",
       "\n",
       "      IsActiveMember  EstimatedSalary  Geography_Germany  Geography_Spain  \\\n",
       "226                1        -1.271656                  0                0   \n",
       "7756               1         0.967754                  0                1   \n",
       "2065               0         0.667982                  0                0   \n",
       "2800               0        -1.040427                  0                0   \n",
       "7028               0        -0.851899                  1                0   \n",
       "\n",
       "      Gender_Male  \n",
       "226             0  \n",
       "7756            0  \n",
       "2065            1  \n",
       "2800            1  \n",
       "7028            1  "
      ]
     },
     "execution_count": 9,
     "metadata": {},
     "output_type": "execute_result"
    }
   ],
   "source": [
    "features_train.head()"
   ]
  },
  {
   "cell_type": "markdown",
   "metadata": {},
   "source": [
    "Теперь все данные одного типа, одной размерности и вообще готовы для обучения моделек, в бой!"
   ]
  },
  {
   "cell_type": "markdown",
   "metadata": {},
   "source": [
    "## Прогнозирование без исправления дисбаланса классов <a id=\"prediction_without_balance_of_classes\"></a>"
   ]
  },
  {
   "cell_type": "markdown",
   "metadata": {},
   "source": [
    "Первой обучим ЛОГИСТИЧЕСКУЮ РЕГРЕССИЮ и выведем целевые метрики"
   ]
  },
  {
   "cell_type": "code",
   "execution_count": 10,
   "metadata": {},
   "outputs": [
    {
     "name": "stdout",
     "output_type": "stream",
     "text": [
      "f1:0.29247910863509746,roc_auc:0.7585855270980477\n"
     ]
    }
   ],
   "source": [
    "#Создаем саму модель\n",
    "model = LogisticRegression(random_state=12345, max_iter=1000, solver='liblinear', penalty='l1')\n",
    "\n",
    "#Обучаем её на обучающей выборке\n",
    "model.fit(features_train, target_train)\n",
    "\n",
    "#Собственно предсказыввем\n",
    "predicted_test = model.predict(features_test)\n",
    "\n",
    "#Cчитаем f1\n",
    "f1 = f1_score(target_test, predicted_test)\n",
    "\n",
    "#Cчитаем вероятность попадания в класс и roc auc\n",
    "probabilities_test = model.predict_proba(features_test)\n",
    "probabilities_one_test = probabilities_test[:,1]\n",
    "auc_roc = roc_auc_score(target_test, probabilities_one_test)\n",
    "\n",
    "print(f'f1:{f1},roc_auc:{auc_roc}')"
   ]
  },
  {
   "cell_type": "markdown",
   "metadata": {},
   "source": [
    "**Подберем гиперпараметры алгоритмам РЕШАЮЩЕГО ДЕРЕВА и СЛУЧАЙНОГО ЛЕСА при помощи ГРИД СЁЧА**"
   ]
  },
  {
   "cell_type": "code",
   "execution_count": 11,
   "metadata": {},
   "outputs": [
    {
     "name": "stdout",
     "output_type": "stream",
     "text": [
      "dt = {'max_depth': 9, 'random_state': 12345}\n"
     ]
    }
   ],
   "source": [
    "\n",
    "params_dt = {\"random_state\":[12345],\n",
    "             \"max_depth\": range(1,16,1)}\n",
    "model_dt = DecisionTreeClassifier()\n",
    "\n",
    "\n",
    "grid_dt = GridSearchCV(estimator=model_dt, param_grid=params_dt, scoring='f1')\n",
    "\n",
    "\n",
    "grid_dt.fit(features_train,target_train)\n",
    "\n",
    "print(f'dt = {grid_dt.best_params_}')\n"
   ]
  },
  {
   "cell_type": "code",
   "execution_count": 12,
   "metadata": {},
   "outputs": [
    {
     "name": "stdout",
     "output_type": "stream",
     "text": [
      "rfc = {'max_depth': 14, 'n_estimators': 50, 'random_state': 12345}\n"
     ]
    }
   ],
   "source": [
    "params_rfc = {\"random_state\":[12345],\n",
    "             \"n_estimators\": range(10,110,10),\n",
    "             \"max_depth\": range(1,16,1)}\n",
    "\n",
    "model_rfc =RandomForestClassifier()\n",
    "\n",
    "\n",
    "grid_rfc = GridSearchCV(estimator=model_rfc, param_grid=params_rfc, scoring='f1')\n",
    "\n",
    "\n",
    "grid_rfc.fit(features_train,target_train)\n",
    "\n",
    "print(f'rfc = {grid_rfc.best_params_}')"
   ]
  },
  {
   "cell_type": "code",
   "execution_count": 13,
   "metadata": {},
   "outputs": [
    {
     "name": "stdout",
     "output_type": "stream",
     "text": [
      "Лучшая метрика f1 после кросс-валидации 0.570771256024434\n"
     ]
    }
   ],
   "source": [
    "print(f'Лучшая метрика f1 после кросс-валидации {grid_rfc.best_score_}')"
   ]
  },
  {
   "cell_type": "markdown",
   "metadata": {},
   "source": [
    "**Строим предсказания с гиперпараметрами подобранными грид сёчем**"
   ]
  },
  {
   "cell_type": "code",
   "execution_count": 14,
   "metadata": {},
   "outputs": [
    {
     "name": "stdout",
     "output_type": "stream",
     "text": [
      "DecisionTreeClassifier - f1:0.5460829493087558,roc_auc:0.7988946755130675\n"
     ]
    }
   ],
   "source": [
    "model_dt_cv = DecisionTreeClassifier(max_depth= 9, random_state= 12345)\n",
    "\n",
    "model_dt_cv.fit(features_train, target_train)\n",
    "\n",
    "predicted_test_dt = model_dt_cv.predict(features_test)\n",
    "\n",
    "\n",
    "\n",
    "f1_dt = f1_score(target_test, predicted_test_dt)\n",
    "\n",
    "probabilities_test_dt_cv = model_dt_cv.predict_proba(features_test)\n",
    "\n",
    "\n",
    "probabilities_one_test_dt_cv = probabilities_test_dt_cv[:,1]\n",
    "\n",
    "auc_roc_dt_cv = roc_auc_score(target_test, probabilities_one_test_dt_cv)\n",
    "\n",
    "print(f'DecisionTreeClassifier - f1:{f1_dt},roc_auc:{auc_roc_dt_cv}')"
   ]
  },
  {
   "cell_type": "code",
   "execution_count": 15,
   "metadata": {},
   "outputs": [
    {
     "name": "stdout",
     "output_type": "stream",
     "text": [
      "RFC - f1:0.5499383477188656,roc_auc:0.8648327031461797\n"
     ]
    }
   ],
   "source": [
    "\n",
    "model_rfc_cv =RandomForestClassifier(max_depth= 10, n_estimators= 100, random_state= 12345)\n",
    "\n",
    "model_rfc_cv.fit(features_train, target_train)\n",
    "\n",
    "predicted_test_rfc_cv = model_rfc_cv.predict(features_test)\n",
    "\n",
    "f1_rfc = f1_score(target_test, predicted_test_rfc_cv)\n",
    "\n",
    "probabilities_test_rfc_cv = model_rfc_cv.predict_proba(features_test)\n",
    "\n",
    "probabilities_one_test_rfc_cv = probabilities_test_rfc_cv[:,1]\n",
    "\n",
    "\n",
    "auc_roc_rfc_cv = roc_auc_score(target_test, probabilities_one_test_rfc_cv)\n",
    "\n",
    "print(f'RFC - f1:{f1_rfc},roc_auc:{auc_roc_rfc_cv}')"
   ]
  },
  {
   "cell_type": "markdown",
   "metadata": {},
   "source": [
    "## Прогнозирование с исправлением дисбаланса классов  методом добавления гиперпараметра class_weight = 'balanced'<a id=\"prediction_without_balance_of_classes\"></a>"
   ]
  },
  {
   "cell_type": "markdown",
   "metadata": {},
   "source": [
    "Первой обучим ЛОГИСТИЧЕСКУЮ РЕГРЕССИЮ и выведем целевые метрики"
   ]
  },
  {
   "cell_type": "code",
   "execution_count": 16,
   "metadata": {},
   "outputs": [
    {
     "name": "stdout",
     "output_type": "stream",
     "text": [
      "f1:0.5053619302949062,roc_auc:0.7633292906232907\n"
     ]
    }
   ],
   "source": [
    "#Создаем саму модель\n",
    "model = LogisticRegression(random_state=12345, max_iter=1000, solver='liblinear', penalty='l1', class_weight='balanced')\n",
    "\n",
    "#Обучаем её на обучающей выборке\n",
    "model.fit(features_train, target_train)\n",
    "\n",
    "#Собственно предсказыввем\n",
    "predicted_test = model.predict(features_test)\n",
    "\n",
    "#Cчитаем f1\n",
    "f1 = f1_score(target_test, predicted_test)\n",
    "\n",
    "#Cчитаем вероятность попадания в класс и roc auc\n",
    "probabilities_test = model.predict_proba(features_test)\n",
    "probabilities_one_test = probabilities_test[:,1]\n",
    "auc_roc = roc_auc_score(target_test, probabilities_one_test)\n",
    "\n",
    "print(f'f1:{f1},roc_auc:{auc_roc}')"
   ]
  },
  {
   "cell_type": "markdown",
   "metadata": {},
   "source": [
    "**Подберем гиперпараметры алгоритмам РЕШАЮЩЕГО ДЕРЕВА и СЛУЧАЙНОГО ЛЕСА при помощи ГРИД СЁЧА**"
   ]
  },
  {
   "cell_type": "code",
   "execution_count": 17,
   "metadata": {},
   "outputs": [
    {
     "name": "stdout",
     "output_type": "stream",
     "text": [
      "dt = {'class_weight': 'balanced', 'max_depth': 6, 'random_state': 12345}\n"
     ]
    }
   ],
   "source": [
    "\n",
    "params_dt = {\"random_state\":[12345],\n",
    "             \"max_depth\": range(1,16,1),\n",
    "            \"class_weight\":['balanced']}\n",
    "model_dt = DecisionTreeClassifier()\n",
    "\n",
    "\n",
    "grid_dt = GridSearchCV(estimator=model_dt, param_grid=params_dt, scoring='f1')\n",
    "\n",
    "\n",
    "grid_dt.fit(features_train,target_train)\n",
    "\n",
    "print(f'dt = {grid_dt.best_params_}')\n"
   ]
  },
  {
   "cell_type": "code",
   "execution_count": 18,
   "metadata": {},
   "outputs": [
    {
     "name": "stdout",
     "output_type": "stream",
     "text": [
      "rfc = {'class_weight': 'balanced', 'max_depth': 10, 'n_estimators': 100, 'random_state': 12345}\n"
     ]
    }
   ],
   "source": [
    "params_rfc = {\"random_state\":[12345],\n",
    "             \"n_estimators\": range(10,110,10),\n",
    "             \"max_depth\": range(1,16,1),\n",
    "             \"class_weight\":['balanced']}\n",
    "\n",
    "model_rfc =RandomForestClassifier()\n",
    "\n",
    "\n",
    "grid_rfc = GridSearchCV(estimator=model_rfc, param_grid=params_rfc, scoring='f1')\n",
    "\n",
    "\n",
    "grid_rfc.fit(features_train,target_train)\n",
    "\n",
    "print(f'rfc = {grid_rfc.best_params_}')"
   ]
  },
  {
   "cell_type": "code",
   "execution_count": 19,
   "metadata": {},
   "outputs": [
    {
     "name": "stdout",
     "output_type": "stream",
     "text": [
      "rfc = {'random_state': 12345, 'n_estimators': 70, 'max_depth': 9, 'class_weight': 'balanced'}\n"
     ]
    }
   ],
   "source": [
    "params_rfc = {\"random_state\":[12345],\n",
    "             \"n_estimators\": range(10,110,10),\n",
    "             \"max_depth\": range(1,16,1),\n",
    "             \"class_weight\":['balanced']}\n",
    "\n",
    "model_rfc =RandomForestClassifier()\n",
    "\n",
    "\n",
    "grid_rfc = RandomizedSearchCV(estimator=model_rfc, param_distributions=params_rfc, scoring='f1')\n",
    "\n",
    "\n",
    "grid_rfc.fit(features_train,target_train)\n",
    "\n",
    "print(f'rfc = {grid_rfc.best_params_}')"
   ]
  },
  {
   "cell_type": "markdown",
   "metadata": {},
   "source": [
    "**Строим предсказания с гиперпараметрами подобранными грид сёчем**"
   ]
  },
  {
   "cell_type": "code",
   "execution_count": 20,
   "metadata": {},
   "outputs": [
    {
     "name": "stdout",
     "output_type": "stream",
     "text": [
      "DT - f1:0.5889128869690424,roc_auc:0.8359962902190197\n"
     ]
    }
   ],
   "source": [
    "model_dt_cv = DecisionTreeClassifier(max_depth= 6, random_state= 12345, class_weight='balanced')\n",
    "\n",
    "model_dt_cv.fit(features_train, target_train)\n",
    "\n",
    "predicted_test_dt = model_dt_cv.predict(features_test)\n",
    "\n",
    "\n",
    "\n",
    "f1_dt = f1_score(target_test, predicted_test_dt)\n",
    "\n",
    "probabilities_test_dt_cv = model_dt_cv.predict_proba(features_test)\n",
    "\n",
    "\n",
    "probabilities_one_test_dt_cv = probabilities_test_dt_cv[:,1]\n",
    "\n",
    "auc_roc_dt_cv = roc_auc_score(target_test, probabilities_one_test_dt_cv)\n",
    "\n",
    "print(f'DT - f1:{f1_dt},roc_auc:{auc_roc_dt_cv}')"
   ]
  },
  {
   "cell_type": "code",
   "execution_count": 21,
   "metadata": {},
   "outputs": [
    {
     "name": "stdout",
     "output_type": "stream",
     "text": [
      "RFC - f1:0.6375838926174497,roc_auc:0.8633934983710256\n"
     ]
    }
   ],
   "source": [
    "\n",
    "model_rfc_cv =RandomForestClassifier(max_depth= 8, n_estimators= 60, random_state= 12345, class_weight='balanced')\n",
    "\n",
    "model_rfc_cv.fit(features_train, target_train)\n",
    "\n",
    "predicted_test_rfc_cv = model_rfc_cv.predict(features_test)\n",
    "\n",
    "f1_rfc = f1_score(target_test, predicted_test_rfc_cv)\n",
    "\n",
    "probabilities_test_rfc_cv = model_rfc_cv.predict_proba(features_test)\n",
    "\n",
    "probabilities_one_test_rfc_cv = probabilities_test_rfc_cv[:,1]\n",
    "\n",
    "\n",
    "auc_roc_rfc_cv = roc_auc_score(target_test, probabilities_one_test_rfc_cv)\n",
    "\n",
    "print(f'RFC - f1:{f1_rfc},roc_auc:{auc_roc_rfc_cv}')"
   ]
  },
  {
   "cell_type": "markdown",
   "metadata": {},
   "source": [
    "## Прогнозирование с исправлением дисбаланса классов  методом добавления гиперпараметра class_weight = 'balanced' и использованием метода upsampling<a id=\"prediction_without_balance_of_classes_2\"></a>"
   ]
  },
  {
   "cell_type": "code",
   "execution_count": 22,
   "metadata": {},
   "outputs": [
    {
     "name": "stdout",
     "output_type": "stream",
     "text": [
      "(5998, 11)\n",
      "(1502, 11)\n",
      "(5998,)\n",
      "(1502,)\n"
     ]
    }
   ],
   "source": [
    "#Посмотрим как распределены классы\n",
    "print(features_train[target_train == 0].shape)\n",
    "print(features_train[target_train == 1].shape)\n",
    "print(target_train[target_train == 0].shape)\n",
    "print(target_train[target_train == 1].shape)"
   ]
  },
  {
   "cell_type": "code",
   "execution_count": 23,
   "metadata": {},
   "outputs": [
    {
     "name": "stdout",
     "output_type": "stream",
     "text": [
      "AxesSubplot(0.125,0.125;0.775x0.755)\n"
     ]
    },
    {
     "data": {
      "image/png": "[encoded data removed]",
      "text/plain": [
       "<Figure size 432x288 with 1 Axes>"
      ]
     },
     "metadata": {
      "needs_background": "light"
     },
     "output_type": "display_data"
    }
   ],
   "source": [
    "print(target_train.value_counts(normalize=True).plot(kind='bar'))"
   ]
  },
  {
   "cell_type": "markdown",
   "metadata": {},
   "source": [
    "**Явный дисбаланс, будем лечить!**"
   ]
  },
  {
   "cell_type": "code",
   "execution_count": 24,
   "metadata": {},
   "outputs": [],
   "source": [
    "#Напишем функцию которая автоматически балансирует классы\n",
    "def upsampling(features_train,target_train, repeat):\n",
    "    features_zeros = features_train[target_train == 0]\n",
    "    features_ones = features_train[target_train == 1]\n",
    "    target_zeros = target_train[target_train == 0]\n",
    "    target_ones = target_train[target_train == 1]\n",
    "\n",
    "    features_upsampled = pd.concat([features_zeros] + [features_ones] * int(repeat))\n",
    "    target_upsampled = pd.concat([target_zeros] + [target_ones] * int(repeat))\n",
    "    features_train = shuffle(features_upsampled, random_state=12345)\n",
    "    target_train = shuffle(target_upsampled, random_state=12345)\n",
    "    return features_train, target_train"
   ]
  },
  {
   "cell_type": "code",
   "execution_count": 25,
   "metadata": {},
   "outputs": [
    {
     "name": "stdout",
     "output_type": "stream",
     "text": [
      "(5998, 11)\n",
      "(6008, 11)\n",
      "(5998,)\n",
      "(6008,)\n"
     ]
    }
   ],
   "source": [
    "features_train, target_train = upsampling(features_train, target_train, 4)\n",
    "\n",
    "\n",
    "print(features_train[target_train == 0].shape)\n",
    "print(features_train[target_train == 1].shape)\n",
    "print(target_train[target_train == 0].shape)\n",
    "print(target_train[target_train == 1].shape)"
   ]
  },
  {
   "cell_type": "code",
   "execution_count": 26,
   "metadata": {
    "scrolled": false
   },
   "outputs": [
    {
     "name": "stdout",
     "output_type": "stream",
     "text": [
      "AxesSubplot(0.125,0.125;0.775x0.755)\n"
     ]
    },
    {
     "data": {
      "image/png": "[encoded data removed]",
      "text/plain": [
       "<Figure size 432x288 with 1 Axes>"
      ]
     },
     "metadata": {
      "needs_background": "light"
     },
     "output_type": "display_data"
    }
   ],
   "source": [
    "print(target_train.value_counts(normalize=True).plot(kind='bar'))"
   ]
  },
  {
   "cell_type": "markdown",
   "metadata": {},
   "source": [
    "**Другое дело!**"
   ]
  },
  {
   "cell_type": "markdown",
   "metadata": {},
   "source": [
    "**Теперь можно опять пробовать предсказывать**"
   ]
  },
  {
   "cell_type": "code",
   "execution_count": 27,
   "metadata": {},
   "outputs": [
    {
     "name": "stdout",
     "output_type": "stream",
     "text": [
      "f1:0.5053619302949062,roc_auc:0.7632474851965472\n"
     ]
    }
   ],
   "source": [
    "model = LogisticRegression(random_state=12345, max_iter=1000, solver='liblinear', penalty='l1', class_weight='balanced')\n",
    "model.fit(features_train, target_train)\n",
    "predicted_test = model.predict(features_test)\n",
    "\n",
    "\n",
    "f1 = f1_score(target_test, predicted_test)\n",
    "probabilities_test = model.predict_proba(features_test)\n",
    "probabilities_one_test = probabilities_test[:,1]\n",
    "auc_roc = roc_auc_score(target_test, probabilities_one_test)\n",
    "print(f'f1:{f1},roc_auc:{auc_roc}')"
   ]
  },
  {
   "cell_type": "markdown",
   "metadata": {},
   "source": [
    "**Подберем гиперпараметры алгоритмам РЕШАЮЩЕГО ДЕРЕВА и СЛУЧАЙНОГО ЛЕСА при помощи ГРИД СЁЧА**"
   ]
  },
  {
   "cell_type": "code",
   "execution_count": 28,
   "metadata": {},
   "outputs": [
    {
     "name": "stdout",
     "output_type": "stream",
     "text": [
      "dt = {'class_weight': 'balanced', 'max_depth': 15, 'random_state': 12345}\n"
     ]
    }
   ],
   "source": [
    "\n",
    "params_dt = {\"random_state\":[12345],\n",
    "             \"max_depth\": range(1,16,1),\n",
    "             \"class_weight\":['balanced']}\n",
    "model_dt = DecisionTreeClassifier()\n",
    "\n",
    "\n",
    "grid_dt = GridSearchCV(estimator=model_dt, param_grid=params_dt, scoring='f1')\n",
    "\n",
    "\n",
    "grid_dt.fit(features_train,target_train)\n",
    "\n",
    "print(f'dt = {grid_dt.best_params_}')\n"
   ]
  },
  {
   "cell_type": "code",
   "execution_count": 29,
   "metadata": {},
   "outputs": [
    {
     "name": "stdout",
     "output_type": "stream",
     "text": [
      "rfc = {'class_weight': 'balanced', 'max_depth': 15, 'n_estimators': 90, 'random_state': 12345}\n"
     ]
    }
   ],
   "source": [
    "params_rfc = {\"random_state\":[12345],\n",
    "             \"n_estimators\": range(10,110,10),\n",
    "             \"max_depth\": range(1,16,1),\n",
    "             \"class_weight\":['balanced']}\n",
    "\n",
    "\n",
    "model_rfc =RandomForestClassifier()\n",
    "\n",
    "\n",
    "grid_rfc = GridSearchCV(estimator=model_rfc, param_grid=params_rfc, scoring='f1')\n",
    "\n",
    "\n",
    "grid_rfc.fit(features_train,target_train)\n",
    "\n",
    "print(f'rfc = {grid_rfc.best_params_}')"
   ]
  },
  {
   "cell_type": "code",
   "execution_count": 30,
   "metadata": {},
   "outputs": [
    {
     "name": "stdout",
     "output_type": "stream",
     "text": [
      "rfc = {'random_state': 12345, 'n_estimators': 40, 'max_depth': 15, 'class_weight': 'balanced'}\n"
     ]
    }
   ],
   "source": [
    "params_rfc = {\"random_state\":[12345],\n",
    "             \"n_estimators\": range(10,110,10),\n",
    "             \"max_depth\": range(1,16,1),\n",
    "             \"class_weight\":['balanced']}\n",
    "\n",
    "model_rfc =RandomForestClassifier()\n",
    "\n",
    "\n",
    "grid_rfc = RandomizedSearchCV(estimator=model_rfc, param_distributions=params_rfc, scoring='f1')\n",
    "\n",
    "\n",
    "grid_rfc.fit(features_train,target_train)\n",
    "\n",
    "print(f'rfc = {grid_rfc.best_params_}')"
   ]
  },
  {
   "cell_type": "markdown",
   "metadata": {},
   "source": [
    "**Строим прогноз с гиперпараметрами подобранными грид сёчем**"
   ]
  },
  {
   "cell_type": "code",
   "execution_count": 31,
   "metadata": {},
   "outputs": [
    {
     "name": "stdout",
     "output_type": "stream",
     "text": [
      "DT - f1:0.5097345132743363,roc_auc:0.6962340966921121\n"
     ]
    }
   ],
   "source": [
    "model_dt_cv = DecisionTreeClassifier(max_depth= 15, random_state= 12345, class_weight='balanced')\n",
    "\n",
    "model_dt_cv.fit(features_train, target_train)\n",
    "\n",
    "predicted_test_dt = model_dt_cv.predict(features_test)\n",
    "\n",
    "\n",
    "\n",
    "\n",
    "f1_dt = f1_score(target_test, predicted_test_dt)\n",
    "\n",
    "probabilities_test_dt_cv = model_dt_cv.predict_proba(features_test)\n",
    "\n",
    "probabilities_one_test_dt_cv = probabilities_test_dt_cv[:,1]\n",
    "\n",
    "auc_roc_dt_cv = roc_auc_score(target_test, probabilities_one_test_dt_cv)\n",
    "\n",
    "print(f'DT - f1:{f1_dt},roc_auc:{auc_roc_dt_cv}')\n"
   ]
  },
  {
   "cell_type": "code",
   "execution_count": 32,
   "metadata": {},
   "outputs": [
    {
     "name": "stdout",
     "output_type": "stream",
     "text": [
      "RFC - f1:0.6264822134387352,roc_auc:0.8541680340538871\n"
     ]
    }
   ],
   "source": [
    "\n",
    "model_rfc_cv_1 =RandomForestClassifier(max_depth= 15, n_estimators= 90, random_state= 12345, class_weight='balanced')\n",
    "\n",
    "model_rfc_cv_1.fit(features_train, target_train)\n",
    "\n",
    "predicted_test_rfc_cv = model_rfc_cv_1.predict(features_test)\n",
    "\n",
    "\n",
    "\n",
    "f1_rfc = f1_score(target_test, predicted_test_rfc_cv)\n",
    "\n",
    "probabilities_test_rfc_cv = model_rfc_cv_1.predict_proba(features_test)\n",
    "\n",
    "\n",
    "probabilities_one_test_rfc_cv = probabilities_test_rfc_cv[:,1]\n",
    "\n",
    "auc_roc_rfc_cv = roc_auc_score(target_test, probabilities_one_test_rfc_cv)\n",
    "\n",
    "print(f'RFC - f1:{f1_rfc},roc_auc:{auc_roc_rfc_cv}')\n"
   ]
  },
  {
   "cell_type": "markdown",
   "metadata": {},
   "source": [
    "**Строим прогноз с гиперпараметрами подобранными рандомайзд сёчем**"
   ]
  },
  {
   "cell_type": "code",
   "execution_count": 34,
   "metadata": {},
   "outputs": [
    {
     "name": "stdout",
     "output_type": "stream",
     "text": [
      "RFC - f1:0.6176470588235294,roc_auc:0.8469677296616013\n"
     ]
    }
   ],
   "source": [
    "\n",
    "model_rfc_cv_1 =RandomForestClassifier(max_depth= 15, n_estimators= 40, random_state= 12345, class_weight='balanced')\n",
    "\n",
    "model_rfc_cv_1.fit(features_train, target_train)\n",
    "\n",
    "predicted_test_rfc_cv = model_rfc_cv_1.predict(features_test)\n",
    "\n",
    "\n",
    "\n",
    "f1_rfc = f1_score(target_test, predicted_test_rfc_cv)\n",
    "\n",
    "probabilities_test_rfc_cv = model_rfc_cv_1.predict_proba(features_test)\n",
    "\n",
    "\n",
    "probabilities_one_test_rfc_cv = probabilities_test_rfc_cv[:,1]\n",
    "\n",
    "auc_roc_rfc_cv = roc_auc_score(target_test, probabilities_one_test_rfc_cv)\n",
    "\n",
    "print(f'RFC - f1:{f1_rfc},roc_auc:{auc_roc_rfc_cv}')\n"
   ]
  },
  {
   "cell_type": "markdown",
   "metadata": {},
   "source": [
    "**ПРОМЕЖУТОЧНЫЙ ВЫВОД:** Лучше всех себя показал алгоритм СЛУЧАЙНОГО ЛЕСА с глубиной равной 15 и колличеством деревьев 80. \n",
    "\n",
    "Его метрики составили - 0.6265520534861508, roc_auc:0.8560956933247723\n"
   ]
  },
  {
   "cell_type": "markdown",
   "metadata": {},
   "source": [
    "## Проверка на лучшей модели на тестовой выборке<a id=\"checking_on_a_test_sample\"></a>"
   ]
  },
  {
   "cell_type": "markdown",
   "metadata": {},
   "source": [
    "## Общий вывод<a id=\"resume\"></a>"
   ]
  },
  {
   "cell_type": "markdown",
   "metadata": {},
   "source": [
    "**ИТОГО:** Немного предобработки. Попрактиковались в масштабировании и устранении балланса классов. Посмотрели разницу в качестве предсказаний на данных одного масштаба со сбалансированными классами и без баланса классов.\n",
    "\n",
    "\n",
    "Я еще делал то же самое без upsampling'а, а просто добавив гиперпараметр class_weight = 'balanced' к моделям, вышло плюс-минус то же самое.\n",
    "\n"
   ]
  }
 ],
 "metadata": {
  "ExecuteTimeLog": [
   {
    "duration": 1181,
    "start_time": "2022-05-16T16:17:16.861Z"
   },
   {
    "duration": 107,
    "start_time": "2022-05-16T16:17:18.044Z"
   },
   {
    "duration": 0,
    "start_time": "2022-05-16T16:17:18.153Z"
   },
   {
    "duration": 0,
    "start_time": "2022-05-16T16:17:18.154Z"
   },
   {
    "duration": 0,
    "start_time": "2022-05-16T16:17:18.155Z"
   },
   {
    "duration": 0,
    "start_time": "2022-05-16T16:17:18.157Z"
   },
   {
    "duration": 0,
    "start_time": "2022-05-16T16:17:18.158Z"
   },
   {
    "duration": 0,
    "start_time": "2022-05-16T16:17:18.159Z"
   },
   {
    "duration": 0,
    "start_time": "2022-05-16T16:17:18.160Z"
   },
   {
    "duration": 0,
    "start_time": "2022-05-16T16:17:18.161Z"
   },
   {
    "duration": 0,
    "start_time": "2022-05-16T16:17:18.162Z"
   },
   {
    "duration": 0,
    "start_time": "2022-05-16T16:17:18.163Z"
   },
   {
    "duration": 0,
    "start_time": "2022-05-16T16:17:18.164Z"
   },
   {
    "duration": 0,
    "start_time": "2022-05-16T16:17:18.165Z"
   },
   {
    "duration": 0,
    "start_time": "2022-05-16T16:17:18.166Z"
   },
   {
    "duration": 0,
    "start_time": "2022-05-16T16:17:18.167Z"
   },
   {
    "duration": 0,
    "start_time": "2022-05-16T16:17:18.189Z"
   },
   {
    "duration": 0,
    "start_time": "2022-05-16T16:17:18.190Z"
   },
   {
    "duration": 0,
    "start_time": "2022-05-16T16:17:18.192Z"
   },
   {
    "duration": 0,
    "start_time": "2022-05-16T16:17:18.195Z"
   },
   {
    "duration": 0,
    "start_time": "2022-05-16T16:17:18.197Z"
   },
   {
    "duration": 0,
    "start_time": "2022-05-16T16:17:18.199Z"
   },
   {
    "duration": 1189,
    "start_time": "2022-05-16T16:17:45.652Z"
   },
   {
    "duration": 100,
    "start_time": "2022-05-16T16:17:46.843Z"
   },
   {
    "duration": 0,
    "start_time": "2022-05-16T16:17:46.945Z"
   },
   {
    "duration": 0,
    "start_time": "2022-05-16T16:17:46.946Z"
   },
   {
    "duration": 0,
    "start_time": "2022-05-16T16:17:46.947Z"
   },
   {
    "duration": 0,
    "start_time": "2022-05-16T16:17:46.948Z"
   },
   {
    "duration": 0,
    "start_time": "2022-05-16T16:17:46.949Z"
   },
   {
    "duration": 0,
    "start_time": "2022-05-16T16:17:46.950Z"
   },
   {
    "duration": 0,
    "start_time": "2022-05-16T16:17:46.951Z"
   },
   {
    "duration": 0,
    "start_time": "2022-05-16T16:17:46.952Z"
   },
   {
    "duration": 0,
    "start_time": "2022-05-16T16:17:46.953Z"
   },
   {
    "duration": 0,
    "start_time": "2022-05-16T16:17:46.954Z"
   },
   {
    "duration": 0,
    "start_time": "2022-05-16T16:17:46.956Z"
   },
   {
    "duration": 0,
    "start_time": "2022-05-16T16:17:46.957Z"
   },
   {
    "duration": 0,
    "start_time": "2022-05-16T16:17:46.958Z"
   },
   {
    "duration": 0,
    "start_time": "2022-05-16T16:17:46.959Z"
   },
   {
    "duration": 0,
    "start_time": "2022-05-16T16:17:46.960Z"
   },
   {
    "duration": 0,
    "start_time": "2022-05-16T16:17:46.961Z"
   },
   {
    "duration": 0,
    "start_time": "2022-05-16T16:17:46.990Z"
   },
   {
    "duration": 0,
    "start_time": "2022-05-16T16:17:46.992Z"
   },
   {
    "duration": 0,
    "start_time": "2022-05-16T16:17:46.995Z"
   },
   {
    "duration": 1410,
    "start_time": "2022-05-16T16:18:10.042Z"
   },
   {
    "duration": 114,
    "start_time": "2022-05-16T16:18:11.454Z"
   },
   {
    "duration": 0,
    "start_time": "2022-05-16T16:18:11.571Z"
   },
   {
    "duration": 0,
    "start_time": "2022-05-16T16:18:11.573Z"
   },
   {
    "duration": 0,
    "start_time": "2022-05-16T16:18:11.574Z"
   },
   {
    "duration": 0,
    "start_time": "2022-05-16T16:18:11.577Z"
   },
   {
    "duration": 0,
    "start_time": "2022-05-16T16:18:11.578Z"
   },
   {
    "duration": 0,
    "start_time": "2022-05-16T16:18:11.588Z"
   },
   {
    "duration": 0,
    "start_time": "2022-05-16T16:18:11.589Z"
   },
   {
    "duration": 0,
    "start_time": "2022-05-16T16:18:11.590Z"
   },
   {
    "duration": 0,
    "start_time": "2022-05-16T16:18:11.593Z"
   },
   {
    "duration": 0,
    "start_time": "2022-05-16T16:18:11.596Z"
   },
   {
    "duration": 0,
    "start_time": "2022-05-16T16:18:11.597Z"
   },
   {
    "duration": 0,
    "start_time": "2022-05-16T16:18:11.599Z"
   },
   {
    "duration": 0,
    "start_time": "2022-05-16T16:18:11.600Z"
   },
   {
    "duration": 0,
    "start_time": "2022-05-16T16:18:11.602Z"
   },
   {
    "duration": 0,
    "start_time": "2022-05-16T16:18:11.603Z"
   },
   {
    "duration": 0,
    "start_time": "2022-05-16T16:18:11.605Z"
   },
   {
    "duration": 0,
    "start_time": "2022-05-16T16:18:11.606Z"
   },
   {
    "duration": 0,
    "start_time": "2022-05-16T16:18:11.608Z"
   },
   {
    "duration": 0,
    "start_time": "2022-05-16T16:18:11.609Z"
   },
   {
    "duration": 0,
    "start_time": "2022-05-16T16:18:11.611Z"
   },
   {
    "duration": 40,
    "start_time": "2022-05-16T16:18:53.218Z"
   },
   {
    "duration": 7,
    "start_time": "2022-05-16T16:19:01.121Z"
   },
   {
    "duration": 336,
    "start_time": "2022-05-16T16:19:01.130Z"
   },
   {
    "duration": 23,
    "start_time": "2022-05-16T16:19:01.468Z"
   },
   {
    "duration": 13,
    "start_time": "2022-05-16T16:19:01.494Z"
   },
   {
    "duration": 0,
    "start_time": "2022-05-16T16:19:01.509Z"
   },
   {
    "duration": 0,
    "start_time": "2022-05-16T16:19:01.510Z"
   },
   {
    "duration": 0,
    "start_time": "2022-05-16T16:19:01.512Z"
   },
   {
    "duration": 0,
    "start_time": "2022-05-16T16:19:01.512Z"
   },
   {
    "duration": 0,
    "start_time": "2022-05-16T16:19:01.514Z"
   },
   {
    "duration": 0,
    "start_time": "2022-05-16T16:19:01.514Z"
   },
   {
    "duration": 0,
    "start_time": "2022-05-16T16:19:01.516Z"
   },
   {
    "duration": 0,
    "start_time": "2022-05-16T16:19:01.517Z"
   },
   {
    "duration": 0,
    "start_time": "2022-05-16T16:19:01.517Z"
   },
   {
    "duration": 0,
    "start_time": "2022-05-16T16:19:01.519Z"
   },
   {
    "duration": 0,
    "start_time": "2022-05-16T16:19:01.520Z"
   },
   {
    "duration": 0,
    "start_time": "2022-05-16T16:19:01.521Z"
   },
   {
    "duration": 0,
    "start_time": "2022-05-16T16:19:01.522Z"
   },
   {
    "duration": 0,
    "start_time": "2022-05-16T16:19:01.522Z"
   },
   {
    "duration": 0,
    "start_time": "2022-05-16T16:19:01.523Z"
   },
   {
    "duration": 0,
    "start_time": "2022-05-16T16:19:01.525Z"
   },
   {
    "duration": 1410,
    "start_time": "2022-05-16T20:40:57.599Z"
   },
   {
    "duration": 54,
    "start_time": "2022-05-16T20:40:59.011Z"
   },
   {
    "duration": 9,
    "start_time": "2022-05-16T20:40:59.067Z"
   },
   {
    "duration": 421,
    "start_time": "2022-05-16T20:40:59.080Z"
   },
   {
    "duration": 15,
    "start_time": "2022-05-16T20:40:59.503Z"
   },
   {
    "duration": 153,
    "start_time": "2022-05-16T20:40:59.521Z"
   },
   {
    "duration": 0,
    "start_time": "2022-05-16T20:40:59.677Z"
   },
   {
    "duration": 0,
    "start_time": "2022-05-16T20:40:59.678Z"
   },
   {
    "duration": 0,
    "start_time": "2022-05-16T20:40:59.681Z"
   },
   {
    "duration": 0,
    "start_time": "2022-05-16T20:40:59.682Z"
   },
   {
    "duration": 0,
    "start_time": "2022-05-16T20:40:59.684Z"
   },
   {
    "duration": 0,
    "start_time": "2022-05-16T20:40:59.685Z"
   },
   {
    "duration": 0,
    "start_time": "2022-05-16T20:40:59.687Z"
   },
   {
    "duration": 0,
    "start_time": "2022-05-16T20:40:59.689Z"
   },
   {
    "duration": 0,
    "start_time": "2022-05-16T20:40:59.690Z"
   },
   {
    "duration": 0,
    "start_time": "2022-05-16T20:40:59.692Z"
   },
   {
    "duration": 0,
    "start_time": "2022-05-16T20:40:59.693Z"
   },
   {
    "duration": 0,
    "start_time": "2022-05-16T20:40:59.695Z"
   },
   {
    "duration": 0,
    "start_time": "2022-05-16T20:40:59.696Z"
   },
   {
    "duration": 0,
    "start_time": "2022-05-16T20:40:59.698Z"
   },
   {
    "duration": 0,
    "start_time": "2022-05-16T20:40:59.699Z"
   },
   {
    "duration": 0,
    "start_time": "2022-05-16T20:40:59.700Z"
   },
   {
    "duration": 13,
    "start_time": "2022-05-16T20:49:13.780Z"
   },
   {
    "duration": 15,
    "start_time": "2022-05-16T20:49:19.703Z"
   },
   {
    "duration": 36,
    "start_time": "2022-05-16T20:49:19.722Z"
   },
   {
    "duration": 25,
    "start_time": "2022-05-16T20:49:19.761Z"
   },
   {
    "duration": 272,
    "start_time": "2022-05-16T20:49:19.788Z"
   },
   {
    "duration": 196520,
    "start_time": "2022-05-16T20:49:20.066Z"
   },
   {
    "duration": 912,
    "start_time": "2022-05-16T20:52:36.588Z"
   },
   {
    "duration": 56124,
    "start_time": "2022-05-16T20:52:37.502Z"
   },
   {
    "duration": 431,
    "start_time": "2022-05-16T20:53:33.627Z"
   },
   {
    "duration": 6,
    "start_time": "2022-05-16T20:53:34.060Z"
   },
   {
    "duration": 22,
    "start_time": "2022-05-16T20:53:34.068Z"
   },
   {
    "duration": 26,
    "start_time": "2022-05-16T20:53:34.092Z"
   },
   {
    "duration": 249,
    "start_time": "2022-05-16T20:53:34.120Z"
   },
   {
    "duration": 262854,
    "start_time": "2022-05-16T20:53:34.376Z"
   },
   {
    "duration": 1204,
    "start_time": "2022-05-16T20:57:57.233Z"
   },
   {
    "duration": 74546,
    "start_time": "2022-05-16T20:57:58.439Z"
   },
   {
    "duration": 568,
    "start_time": "2022-05-16T20:59:12.988Z"
   },
   {
    "duration": 79,
    "start_time": "2022-05-16T20:59:13.558Z"
   },
   {
    "duration": 31,
    "start_time": "2022-05-16T20:59:13.639Z"
   },
   {
    "duration": 4,
    "start_time": "2022-05-16T21:20:10.039Z"
   },
   {
    "duration": 49,
    "start_time": "2022-05-16T21:20:10.045Z"
   },
   {
    "duration": 6,
    "start_time": "2022-05-16T21:20:10.096Z"
   },
   {
    "duration": 363,
    "start_time": "2022-05-16T21:20:10.103Z"
   },
   {
    "duration": 11,
    "start_time": "2022-05-16T21:20:10.468Z"
   },
   {
    "duration": 7,
    "start_time": "2022-05-16T21:20:10.481Z"
   },
   {
    "duration": 23,
    "start_time": "2022-05-16T21:20:10.490Z"
   },
   {
    "duration": 5,
    "start_time": "2022-05-16T21:20:10.515Z"
   },
   {
    "duration": 40,
    "start_time": "2022-05-16T21:20:10.522Z"
   },
   {
    "duration": 99,
    "start_time": "2022-05-16T21:20:10.564Z"
   },
   {
    "duration": 177065,
    "start_time": "2022-05-16T21:20:10.756Z"
   },
   {
    "duration": 799,
    "start_time": "2022-05-16T21:23:07.823Z"
   },
   {
    "duration": 49528,
    "start_time": "2022-05-16T21:23:08.624Z"
   },
   {
    "duration": 386,
    "start_time": "2022-05-16T21:23:58.156Z"
   },
   {
    "duration": 16,
    "start_time": "2022-05-16T21:23:58.544Z"
   },
   {
    "duration": 4,
    "start_time": "2022-05-16T21:23:58.561Z"
   },
   {
    "duration": 20,
    "start_time": "2022-05-16T21:23:58.567Z"
   },
   {
    "duration": 78,
    "start_time": "2022-05-16T21:23:58.589Z"
   },
   {
    "duration": 240773,
    "start_time": "2022-05-16T21:23:58.756Z"
   },
   {
    "duration": 1102,
    "start_time": "2022-05-16T21:27:59.530Z"
   },
   {
    "duration": 64513,
    "start_time": "2022-05-16T21:28:00.634Z"
   },
   {
    "duration": 499,
    "start_time": "2022-05-16T21:29:05.149Z"
   },
   {
    "duration": 120,
    "start_time": "2022-05-16T21:29:05.650Z"
   },
   {
    "duration": 243,
    "start_time": "2022-05-16T21:29:05.772Z"
   },
   {
    "duration": 488,
    "start_time": "2022-05-16T21:29:47.402Z"
   },
   {
    "duration": 795,
    "start_time": "2022-05-16T21:33:27.171Z"
   },
   {
    "duration": 176,
    "start_time": "2022-05-16T21:36:42.509Z"
   },
   {
    "duration": 1145,
    "start_time": "2022-05-17T02:14:45.647Z"
   },
   {
    "duration": 40,
    "start_time": "2022-05-17T02:14:46.795Z"
   },
   {
    "duration": 6,
    "start_time": "2022-05-17T02:14:46.837Z"
   },
   {
    "duration": 310,
    "start_time": "2022-05-17T02:14:46.845Z"
   },
   {
    "duration": 12,
    "start_time": "2022-05-17T02:14:47.157Z"
   },
   {
    "duration": 22,
    "start_time": "2022-05-17T02:14:47.170Z"
   },
   {
    "duration": 23,
    "start_time": "2022-05-17T02:14:47.194Z"
   },
   {
    "duration": 5,
    "start_time": "2022-05-17T02:14:47.218Z"
   },
   {
    "duration": 25,
    "start_time": "2022-05-17T02:14:47.225Z"
   },
   {
    "duration": 46,
    "start_time": "2022-05-17T02:14:47.251Z"
   },
   {
    "duration": 153451,
    "start_time": "2022-05-17T02:14:47.389Z"
   },
   {
    "duration": 544,
    "start_time": "2022-05-17T02:17:20.842Z"
   },
   {
    "duration": 43220,
    "start_time": "2022-05-17T02:17:21.387Z"
   },
   {
    "duration": 162,
    "start_time": "2022-05-17T02:18:04.609Z"
   },
   {
    "duration": 17,
    "start_time": "2022-05-17T02:18:04.773Z"
   },
   {
    "duration": 4,
    "start_time": "2022-05-17T02:18:04.792Z"
   },
   {
    "duration": 20,
    "start_time": "2022-05-17T02:18:04.797Z"
   },
   {
    "duration": 77,
    "start_time": "2022-05-17T02:18:04.818Z"
   },
   {
    "duration": 209507,
    "start_time": "2022-05-17T02:18:04.897Z"
   },
   {
    "duration": 936,
    "start_time": "2022-05-17T02:21:34.406Z"
   },
   {
    "duration": 56922,
    "start_time": "2022-05-17T02:21:35.343Z"
   },
   {
    "duration": 435,
    "start_time": "2022-05-17T02:22:32.267Z"
   },
   {
    "duration": 111,
    "start_time": "2022-05-17T02:22:32.703Z"
   },
   {
    "duration": 1257,
    "start_time": "2022-05-17T20:21:35.826Z"
   },
   {
    "duration": 93,
    "start_time": "2022-05-17T20:21:37.084Z"
   },
   {
    "duration": 6,
    "start_time": "2022-05-17T20:21:37.179Z"
   },
   {
    "duration": 355,
    "start_time": "2022-05-17T20:21:37.187Z"
   },
   {
    "duration": 32,
    "start_time": "2022-05-17T20:21:37.544Z"
   },
   {
    "duration": 5,
    "start_time": "2022-05-17T20:21:37.578Z"
   },
   {
    "duration": 42,
    "start_time": "2022-05-17T20:21:37.585Z"
   },
   {
    "duration": 6,
    "start_time": "2022-05-17T20:21:37.629Z"
   },
   {
    "duration": 17,
    "start_time": "2022-05-17T20:21:37.637Z"
   },
   {
    "duration": 73,
    "start_time": "2022-05-17T20:21:37.656Z"
   },
   {
    "duration": 1783,
    "start_time": "2022-05-17T20:21:37.731Z"
   },
   {
    "duration": 205833,
    "start_time": "2022-05-17T20:21:39.516Z"
   },
   {
    "duration": 32,
    "start_time": "2022-05-17T20:25:05.351Z"
   },
   {
    "duration": 741,
    "start_time": "2022-05-17T20:25:05.385Z"
   },
   {
    "duration": 104,
    "start_time": "2022-05-17T20:25:06.129Z"
   },
   {
    "duration": 1947,
    "start_time": "2022-05-17T20:25:06.234Z"
   },
   {
    "duration": 204704,
    "start_time": "2022-05-17T20:25:08.183Z"
   },
   {
    "duration": 39,
    "start_time": "2022-05-17T20:28:32.889Z"
   },
   {
    "duration": 761,
    "start_time": "2022-05-17T20:28:32.932Z"
   },
   {
    "duration": 306,
    "start_time": "2022-05-17T20:28:33.695Z"
   },
   {
    "duration": 596,
    "start_time": "2022-05-17T20:28:34.003Z"
   },
   {
    "duration": 5,
    "start_time": "2022-05-17T20:28:34.601Z"
   },
   {
    "duration": 31,
    "start_time": "2022-05-17T20:28:34.608Z"
   },
   {
    "duration": 104,
    "start_time": "2022-05-17T20:28:34.641Z"
   },
   {
    "duration": 88,
    "start_time": "2022-05-17T20:28:34.747Z"
   },
   {
    "duration": 2622,
    "start_time": "2022-05-17T20:28:34.837Z"
   },
   {
    "duration": 283991,
    "start_time": "2022-05-17T20:28:37.462Z"
   },
   {
    "duration": 72,
    "start_time": "2022-05-17T20:33:21.455Z"
   },
   {
    "duration": 960,
    "start_time": "2022-05-17T20:33:21.530Z"
   },
   {
    "duration": 115,
    "start_time": "2022-05-17T21:25:09.997Z"
   },
   {
    "duration": 4,
    "start_time": "2022-05-17T21:26:09.941Z"
   },
   {
    "duration": 12,
    "start_time": "2022-05-17T21:26:43.475Z"
   },
   {
    "duration": 18170,
    "start_time": "2022-05-17T21:27:33.703Z"
   },
   {
    "duration": 794,
    "start_time": "2022-05-17T21:28:27.266Z"
   },
   {
    "duration": 35,
    "start_time": "2022-05-17T21:30:38.307Z"
   },
   {
    "duration": 17951,
    "start_time": "2022-05-17T21:32:49.804Z"
   },
   {
    "duration": 1005,
    "start_time": "2022-05-17T21:33:35.503Z"
   },
   {
    "duration": 896,
    "start_time": "2022-05-17T21:33:50.987Z"
   },
   {
    "duration": 980,
    "start_time": "2022-05-17T21:35:35.261Z"
   },
   {
    "duration": 1029,
    "start_time": "2022-05-18T15:16:24.901Z"
   },
   {
    "duration": 194,
    "start_time": "2022-05-18T15:16:25.932Z"
   },
   {
    "duration": 7,
    "start_time": "2022-05-18T15:16:26.127Z"
   },
   {
    "duration": 412,
    "start_time": "2022-05-18T15:16:26.136Z"
   },
   {
    "duration": 54,
    "start_time": "2022-05-18T15:16:26.551Z"
   },
   {
    "duration": 7,
    "start_time": "2022-05-18T15:16:26.607Z"
   },
   {
    "duration": 31,
    "start_time": "2022-05-18T15:16:26.615Z"
   },
   {
    "duration": 7,
    "start_time": "2022-05-18T15:16:26.648Z"
   },
   {
    "duration": 49,
    "start_time": "2022-05-18T15:16:26.657Z"
   },
   {
    "duration": 196,
    "start_time": "2022-05-18T15:16:26.709Z"
   },
   {
    "duration": 2132,
    "start_time": "2022-05-18T15:16:26.912Z"
   },
   {
    "duration": 229511,
    "start_time": "2022-05-18T15:16:29.046Z"
   },
   {
    "duration": 41,
    "start_time": "2022-05-18T15:20:18.558Z"
   },
   {
    "duration": 827,
    "start_time": "2022-05-18T15:20:18.601Z"
   },
   {
    "duration": 62,
    "start_time": "2022-05-18T15:20:19.430Z"
   },
   {
    "duration": 2038,
    "start_time": "2022-05-18T15:20:19.501Z"
   },
   {
    "duration": 223720,
    "start_time": "2022-05-18T15:20:21.541Z"
   },
   {
    "duration": 15328,
    "start_time": "2022-05-18T15:24:05.263Z"
   },
   {
    "duration": 31,
    "start_time": "2022-05-18T15:24:20.595Z"
   },
   {
    "duration": 682,
    "start_time": "2022-05-18T15:24:20.629Z"
   },
   {
    "duration": 151,
    "start_time": "2022-05-18T15:24:21.313Z"
   },
   {
    "duration": 586,
    "start_time": "2022-05-18T15:24:21.465Z"
   },
   {
    "duration": 5,
    "start_time": "2022-05-18T15:24:22.053Z"
   },
   {
    "duration": 35,
    "start_time": "2022-05-18T15:24:22.059Z"
   },
   {
    "duration": 114,
    "start_time": "2022-05-18T15:24:22.096Z"
   },
   {
    "duration": 90,
    "start_time": "2022-05-18T15:24:22.211Z"
   },
   {
    "duration": 2708,
    "start_time": "2022-05-18T15:24:22.375Z"
   },
   {
    "duration": 303996,
    "start_time": "2022-05-18T15:24:25.085Z"
   },
   {
    "duration": 29705,
    "start_time": "2022-05-18T15:29:29.083Z"
   },
   {
    "duration": 61,
    "start_time": "2022-05-18T15:29:58.790Z"
   },
   {
    "duration": 1022,
    "start_time": "2022-05-18T15:29:58.853Z"
   },
   {
    "duration": 1195,
    "start_time": "2022-05-18T15:29:59.877Z"
   },
   {
    "duration": 3,
    "start_time": "2022-05-18T15:30:01.076Z"
   },
   {
    "duration": 8,
    "start_time": "2022-05-18T15:30:25.082Z"
   },
   {
    "duration": 294991,
    "start_time": "2022-05-18T15:30:53.273Z"
   },
   {
    "duration": 3,
    "start_time": "2022-05-18T15:35:48.274Z"
   },
   {
    "duration": 63,
    "start_time": "2022-05-18T16:10:55.457Z"
   },
   {
    "duration": 1137,
    "start_time": "2022-05-18T16:11:01.966Z"
   },
   {
    "duration": 164,
    "start_time": "2022-05-18T16:11:03.105Z"
   },
   {
    "duration": 7,
    "start_time": "2022-05-18T16:11:03.270Z"
   },
   {
    "duration": 336,
    "start_time": "2022-05-18T16:11:03.280Z"
   },
   {
    "duration": 27,
    "start_time": "2022-05-18T16:11:03.618Z"
   },
   {
    "duration": 6,
    "start_time": "2022-05-18T16:11:03.647Z"
   },
   {
    "duration": 40,
    "start_time": "2022-05-18T16:11:03.654Z"
   },
   {
    "duration": 8,
    "start_time": "2022-05-18T16:11:03.698Z"
   },
   {
    "duration": 13,
    "start_time": "2022-05-18T16:11:03.710Z"
   },
   {
    "duration": 258,
    "start_time": "2022-05-18T16:11:03.726Z"
   },
   {
    "duration": 1683,
    "start_time": "2022-05-18T16:11:03.986Z"
   },
   {
    "duration": 197310,
    "start_time": "2022-05-18T16:11:05.671Z"
   },
   {
    "duration": 3,
    "start_time": "2022-05-18T16:14:22.983Z"
   },
   {
    "duration": 40,
    "start_time": "2022-05-18T16:14:22.988Z"
   },
   {
    "duration": 752,
    "start_time": "2022-05-18T16:14:23.029Z"
   },
   {
    "duration": 104,
    "start_time": "2022-05-18T16:14:23.783Z"
   },
   {
    "duration": 1794,
    "start_time": "2022-05-18T16:14:23.892Z"
   },
   {
    "duration": 202406,
    "start_time": "2022-05-18T16:14:25.687Z"
   },
   {
    "duration": 15689,
    "start_time": "2022-05-18T16:17:48.096Z"
   },
   {
    "duration": 31,
    "start_time": "2022-05-18T16:18:03.787Z"
   },
   {
    "duration": 655,
    "start_time": "2022-05-18T16:18:03.819Z"
   },
   {
    "duration": 370,
    "start_time": "2022-05-18T16:18:04.476Z"
   },
   {
    "duration": 578,
    "start_time": "2022-05-18T16:18:04.848Z"
   },
   {
    "duration": 6,
    "start_time": "2022-05-18T16:18:05.429Z"
   },
   {
    "duration": 26,
    "start_time": "2022-05-18T16:18:05.436Z"
   },
   {
    "duration": 137,
    "start_time": "2022-05-18T16:18:05.464Z"
   },
   {
    "duration": 93,
    "start_time": "2022-05-18T16:18:05.603Z"
   },
   {
    "duration": 2798,
    "start_time": "2022-05-18T16:18:05.700Z"
   },
   {
    "duration": 299305,
    "start_time": "2022-05-18T16:18:08.500Z"
   },
   {
    "duration": 21908,
    "start_time": "2022-05-18T16:23:07.807Z"
   },
   {
    "duration": 73,
    "start_time": "2022-05-18T16:23:29.717Z"
   },
   {
    "duration": 1080,
    "start_time": "2022-05-18T16:23:29.793Z"
   },
   {
    "duration": 1238,
    "start_time": "2022-05-18T16:23:30.875Z"
   },
   {
    "duration": 53,
    "start_time": "2022-05-18T16:26:26.594Z"
   },
   {
    "duration": 572,
    "start_time": "2022-05-18T16:26:36.211Z"
   },
   {
    "duration": 928,
    "start_time": "2022-05-18T16:26:46.749Z"
   },
   {
    "duration": 556,
    "start_time": "2022-05-18T16:26:53.347Z"
   },
   {
    "duration": 995,
    "start_time": "2022-05-18T16:32:11.225Z"
   },
   {
    "duration": 1168,
    "start_time": "2022-05-18T16:34:18.244Z"
   },
   {
    "duration": 1258,
    "start_time": "2022-05-18T16:34:26.195Z"
   },
   {
    "duration": 1106,
    "start_time": "2022-05-18T16:34:33.766Z"
   },
   {
    "duration": 1000,
    "start_time": "2022-05-18T16:34:43.574Z"
   },
   {
    "duration": 1169,
    "start_time": "2022-05-18T16:35:53.887Z"
   },
   {
    "duration": 989,
    "start_time": "2022-05-18T16:36:14.312Z"
   },
   {
    "duration": 1150,
    "start_time": "2022-05-18T16:40:53.797Z"
   },
   {
    "duration": 1013,
    "start_time": "2022-05-18T16:40:59.663Z"
   },
   {
    "duration": 960,
    "start_time": "2022-05-19T02:36:45.971Z"
   },
   {
    "duration": 72,
    "start_time": "2022-05-19T02:36:46.933Z"
   },
   {
    "duration": 5,
    "start_time": "2022-05-19T02:36:47.007Z"
   },
   {
    "duration": 309,
    "start_time": "2022-05-19T02:36:47.014Z"
   },
   {
    "duration": 25,
    "start_time": "2022-05-19T02:36:47.325Z"
   },
   {
    "duration": 5,
    "start_time": "2022-05-19T02:36:47.352Z"
   },
   {
    "duration": 20,
    "start_time": "2022-05-19T02:36:47.359Z"
   },
   {
    "duration": 5,
    "start_time": "2022-05-19T02:36:47.380Z"
   },
   {
    "duration": 15,
    "start_time": "2022-05-19T02:36:47.386Z"
   },
   {
    "duration": 106,
    "start_time": "2022-05-19T02:36:47.426Z"
   },
   {
    "duration": 1608,
    "start_time": "2022-05-19T02:36:47.535Z"
   },
   {
    "duration": 187800,
    "start_time": "2022-05-19T02:36:49.145Z"
   },
   {
    "duration": 3,
    "start_time": "2022-05-19T02:39:56.947Z"
   },
   {
    "duration": 44,
    "start_time": "2022-05-19T02:39:56.951Z"
   },
   {
    "duration": 682,
    "start_time": "2022-05-19T02:39:56.997Z"
   },
   {
    "duration": 51,
    "start_time": "2022-05-19T02:39:57.681Z"
   },
   {
    "duration": 1666,
    "start_time": "2022-05-19T02:39:57.827Z"
   },
   {
    "duration": 195559,
    "start_time": "2022-05-19T02:39:59.494Z"
   },
   {
    "duration": 9628,
    "start_time": "2022-05-19T02:43:15.055Z"
   },
   {
    "duration": 31,
    "start_time": "2022-05-19T02:43:24.684Z"
   },
   {
    "duration": 412,
    "start_time": "2022-05-19T02:43:24.716Z"
   },
   {
    "duration": 11,
    "start_time": "2022-05-19T02:43:25.131Z"
   },
   {
    "duration": 605,
    "start_time": "2022-05-19T02:43:25.143Z"
   },
   {
    "duration": 6,
    "start_time": "2022-05-19T02:43:25.750Z"
   },
   {
    "duration": 31,
    "start_time": "2022-05-19T02:43:25.759Z"
   },
   {
    "duration": 142,
    "start_time": "2022-05-19T02:43:25.793Z"
   },
   {
    "duration": 103,
    "start_time": "2022-05-19T02:43:25.937Z"
   },
   {
    "duration": 2495,
    "start_time": "2022-05-19T02:43:26.043Z"
   },
   {
    "duration": 283459,
    "start_time": "2022-05-19T02:43:28.539Z"
   },
   {
    "duration": 20971,
    "start_time": "2022-05-19T02:48:12.000Z"
   },
   {
    "duration": 79,
    "start_time": "2022-05-19T02:48:32.972Z"
   },
   {
    "duration": 1181,
    "start_time": "2022-05-19T02:48:33.053Z"
   },
   {
    "duration": 1004,
    "start_time": "2022-05-19T02:48:34.243Z"
   },
   {
    "duration": 969,
    "start_time": "2022-05-19T03:00:43.483Z"
   },
   {
    "duration": 45,
    "start_time": "2022-05-19T03:00:44.454Z"
   },
   {
    "duration": 7,
    "start_time": "2022-05-19T03:00:44.501Z"
   },
   {
    "duration": 342,
    "start_time": "2022-05-19T03:00:44.509Z"
   },
   {
    "duration": 29,
    "start_time": "2022-05-19T03:00:44.854Z"
   },
   {
    "duration": 5,
    "start_time": "2022-05-19T03:00:44.885Z"
   },
   {
    "duration": 39,
    "start_time": "2022-05-19T03:00:44.892Z"
   },
   {
    "duration": 12,
    "start_time": "2022-05-19T03:00:44.935Z"
   },
   {
    "duration": 21,
    "start_time": "2022-05-19T03:00:44.950Z"
   },
   {
    "duration": 65,
    "start_time": "2022-05-19T03:00:44.973Z"
   },
   {
    "duration": 2005,
    "start_time": "2022-05-19T03:00:45.039Z"
   },
   {
    "duration": 205790,
    "start_time": "2022-05-19T03:00:47.046Z"
   },
   {
    "duration": 4,
    "start_time": "2022-05-19T03:04:12.838Z"
   },
   {
    "duration": 39,
    "start_time": "2022-05-19T03:04:12.846Z"
   },
   {
    "duration": 835,
    "start_time": "2022-05-19T03:04:12.886Z"
   },
   {
    "duration": 204,
    "start_time": "2022-05-19T03:04:13.727Z"
   },
   {
    "duration": 1849,
    "start_time": "2022-05-19T03:04:13.934Z"
   },
   {
    "duration": 200945,
    "start_time": "2022-05-19T03:04:15.785Z"
   },
   {
    "duration": 16627,
    "start_time": "2022-05-19T03:07:36.731Z"
   },
   {
    "duration": 29,
    "start_time": "2022-05-19T03:07:53.359Z"
   },
   {
    "duration": 389,
    "start_time": "2022-05-19T03:07:53.390Z"
   },
   {
    "duration": 158,
    "start_time": "2022-05-19T03:07:53.781Z"
   },
   {
    "duration": 380,
    "start_time": "2022-05-19T03:07:53.941Z"
   },
   {
    "duration": 4,
    "start_time": "2022-05-19T03:07:54.326Z"
   },
   {
    "duration": 19,
    "start_time": "2022-05-19T03:07:54.332Z"
   },
   {
    "duration": 95,
    "start_time": "2022-05-19T03:07:54.352Z"
   },
   {
    "duration": 85,
    "start_time": "2022-05-19T03:07:54.449Z"
   },
   {
    "duration": 2425,
    "start_time": "2022-05-19T03:07:54.535Z"
   },
   {
    "duration": 286315,
    "start_time": "2022-05-19T03:07:56.962Z"
   },
   {
    "duration": 14559,
    "start_time": "2022-05-19T03:12:43.279Z"
   },
   {
    "duration": 54,
    "start_time": "2022-05-19T03:12:57.840Z"
   },
   {
    "duration": 1078,
    "start_time": "2022-05-19T03:12:57.895Z"
   },
   {
    "duration": 963,
    "start_time": "2022-05-19T03:12:58.974Z"
   },
   {
    "duration": 523,
    "start_time": "2022-05-19T03:56:59.714Z"
   }
  ],
  "kernelspec": {
   "display_name": "Python 3 (ipykernel)",
   "language": "python",
   "name": "python3"
  },
  "language_info": {
   "codemirror_mode": {
    "name": "ipython",
    "version": 3
   },
   "file_extension": ".py",
   "mimetype": "text/x-python",
   "name": "python",
   "nbconvert_exporter": "python",
   "pygments_lexer": "ipython3",
   "version": "3.9.7"
  },
  "toc": {
   "base_numbering": 1,
   "nav_menu": {},
   "number_sections": true,
   "sideBar": true,
   "skip_h1_title": true,
   "title_cell": "Содержание",
   "title_sidebar": "Contents",
   "toc_cell": true,
   "toc_position": {
    "height": "calc(100% - 180px)",
    "left": "10px",
    "top": "150px",
    "width": "314px"
   },
   "toc_section_display": true,
   "toc_window_display": true
  }
 },
 "nbformat": 4,
 "nbformat_minor": 2
}
