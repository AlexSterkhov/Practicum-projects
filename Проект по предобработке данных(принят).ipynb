{
 "cells": [
  {
   "cell_type": "markdown",
   "id": "72be5bbc",
   "metadata": {},
   "source": [
    "# Исследование надежности заемщиков."
   ]
  },
  {
   "cell_type": "markdown",
   "id": "45e540c7",
   "metadata": {},
   "source": [
    "**Заказчик** — кредитный отдел банка. Нужно разобраться, влияет ли семейное положение и количество детей клиента на факт погашения кредита в срок. Входные данные от банка — статистика о платёжеспособности клиентов.\n",
    "Результаты исследования будут учтены при построении модели кредитного скоринга — специальной системы, которая оценивает способность потенциального заёмщика вернуть кредит банку."
   ]
  },
  {
   "cell_type": "markdown",
   "id": "54acd6a0",
   "metadata": {},
   "source": [
    "### Шаг 1. Обзор данных"
   ]
  },
  {
   "cell_type": "code",
   "execution_count": 1,
   "id": "02a9ad81",
   "metadata": {
    "scrolled": false
   },
   "outputs": [
    {
     "name": "stdout",
     "output_type": "stream",
     "text": [
      "<class 'pandas.core.frame.DataFrame'>\n",
      "RangeIndex: 21525 entries, 0 to 21524\n",
      "Data columns (total 12 columns):\n",
      "children            21525 non-null int64\n",
      "days_employed       19351 non-null float64\n",
      "dob_years           21525 non-null int64\n",
      "education           21525 non-null object\n",
      "education_id        21525 non-null int64\n",
      "family_status       21525 non-null object\n",
      "family_status_id    21525 non-null int64\n",
      "gender              21525 non-null object\n",
      "income_type         21525 non-null object\n",
      "debt                21525 non-null int64\n",
      "total_income        19351 non-null float64\n",
      "purpose             21525 non-null object\n",
      "dtypes: float64(2), int64(5), object(5)\n",
      "memory usage: 2.0+ MB\n"
     ]
    },
    {
     "data": {
      "text/plain": [
       "None"
      ]
     },
     "metadata": {},
     "output_type": "display_data"
    }
   ],
   "source": [
    "import pandas as pd\n",
    "try:\n",
    "    df = pd.read_csv('/Users/alex/Desktop/питон/data/data_2.csv')\n",
    "except:\n",
    "    df = pd.read_csv('/datasets/data.csv')\n",
    "display(df.info())"
   ]
  },
  {
   "cell_type": "markdown",
   "id": "0b652ee3",
   "metadata": {},
   "source": [
    "#В столбцах 'days_employed' и 'total_income ' присутствуют пропуски, тип данных обоих столбцов float64\n",
    "\n",
    "#Названия столбцов написаны по-змеинному верно"
   ]
  },
  {
   "cell_type": "markdown",
   "id": "84d01091",
   "metadata": {},
   "source": [
    "### Шаг 2.1 Заполнение пропусков"
   ]
  },
  {
   "cell_type": "code",
   "execution_count": 2,
   "id": "b17bfd66",
   "metadata": {},
   "outputs": [
    {
     "data": {
      "text/html": [
       "<div>\n",
       "<style scoped>\n",
       "    .dataframe tbody tr th:only-of-type {\n",
       "        vertical-align: middle;\n",
       "    }\n",
       "\n",
       "    .dataframe tbody tr th {\n",
       "        vertical-align: top;\n",
       "    }\n",
       "\n",
       "    .dataframe thead th {\n",
       "        text-align: right;\n",
       "    }\n",
       "</style>\n",
       "<table border=\"1\" class=\"dataframe\">\n",
       "  <thead>\n",
       "    <tr style=\"text-align: right;\">\n",
       "      <th></th>\n",
       "      <th>days_employed</th>\n",
       "      <th>total_income</th>\n",
       "    </tr>\n",
       "  </thead>\n",
       "  <tbody>\n",
       "    <tr>\n",
       "      <td>0</td>\n",
       "      <td>-8437.673028</td>\n",
       "      <td>253875.639453</td>\n",
       "    </tr>\n",
       "    <tr>\n",
       "      <td>1</td>\n",
       "      <td>-4024.803754</td>\n",
       "      <td>112080.014102</td>\n",
       "    </tr>\n",
       "    <tr>\n",
       "      <td>2</td>\n",
       "      <td>-5623.422610</td>\n",
       "      <td>145885.952297</td>\n",
       "    </tr>\n",
       "    <tr>\n",
       "      <td>3</td>\n",
       "      <td>-4124.747207</td>\n",
       "      <td>267628.550329</td>\n",
       "    </tr>\n",
       "    <tr>\n",
       "      <td>4</td>\n",
       "      <td>340266.072047</td>\n",
       "      <td>158616.077870</td>\n",
       "    </tr>\n",
       "    <tr>\n",
       "      <td>...</td>\n",
       "      <td>...</td>\n",
       "      <td>...</td>\n",
       "    </tr>\n",
       "    <tr>\n",
       "      <td>21520</td>\n",
       "      <td>-4529.316663</td>\n",
       "      <td>224791.862382</td>\n",
       "    </tr>\n",
       "    <tr>\n",
       "      <td>21521</td>\n",
       "      <td>343937.404131</td>\n",
       "      <td>155999.806512</td>\n",
       "    </tr>\n",
       "    <tr>\n",
       "      <td>21522</td>\n",
       "      <td>-2113.346888</td>\n",
       "      <td>89672.561153</td>\n",
       "    </tr>\n",
       "    <tr>\n",
       "      <td>21523</td>\n",
       "      <td>-3112.481705</td>\n",
       "      <td>244093.050500</td>\n",
       "    </tr>\n",
       "    <tr>\n",
       "      <td>21524</td>\n",
       "      <td>-1984.507589</td>\n",
       "      <td>82047.418899</td>\n",
       "    </tr>\n",
       "  </tbody>\n",
       "</table>\n",
       "<p>21525 rows × 2 columns</p>\n",
       "</div>"
      ],
      "text/plain": [
       "       days_employed   total_income\n",
       "0       -8437.673028  253875.639453\n",
       "1       -4024.803754  112080.014102\n",
       "2       -5623.422610  145885.952297\n",
       "3       -4124.747207  267628.550329\n",
       "4      340266.072047  158616.077870\n",
       "...              ...            ...\n",
       "21520   -4529.316663  224791.862382\n",
       "21521  343937.404131  155999.806512\n",
       "21522   -2113.346888   89672.561153\n",
       "21523   -3112.481705  244093.050500\n",
       "21524   -1984.507589   82047.418899\n",
       "\n",
       "[21525 rows x 2 columns]"
      ]
     },
     "metadata": {},
     "output_type": "display_data"
    },
    {
     "data": {
      "text/plain": [
       "'Пропусков в солбце \"days_employed\": 11%'"
      ]
     },
     "metadata": {},
     "output_type": "display_data"
    },
    {
     "data": {
      "text/plain": [
       "'Пропусков в солбце \"total_income\": 11%'"
      ]
     },
     "metadata": {},
     "output_type": "display_data"
    }
   ],
   "source": [
    "display(df[['days_employed','total_income']]) # Вывод столбцов с пропусками\n",
    "days_employed_na = (df['days_employed'].isna().sum())/(df['days_employed'].count())# Расчет доли пропусков в солбце \"days_employed\"\n",
    "total_income_na = (df['total_income'].isna().sum())/(df['total_income'].count())# Расчет доли пропусков в солбце \"total_income\"\n",
    "display(f'Пропусков в солбце \"days_employed\": {days_employed_na:.0%}')# Вывод количества пропусков в солбце \"days_employed\" в процентах\n",
    "display(f'Пропусков в солбце \"total_income\": {total_income_na:.0%}')# Вывод количества пропусков в солбце \"total_income\" в процентах "
   ]
  },
  {
   "cell_type": "code",
   "execution_count": 3,
   "id": "402bae46",
   "metadata": {
    "scrolled": true
   },
   "outputs": [
    {
     "name": "stdout",
     "output_type": "stream",
     "text": [
      "2174\n",
      "401755.40047533\n",
      "-18388.949900568383\n",
      "-1203.369528770489\n"
     ]
    },
    {
     "data": {
      "image/png": "[encoded data removed]",
      "text/plain": [
       "<Figure size 432x288 with 1 Axes>"
      ]
     },
     "metadata": {
      "needs_background": "light"
     },
     "output_type": "display_data"
    }
   ],
   "source": [
    "print(df['days_employed'].isna().sum())#Количество пропусков в столбце \"days_employed\"\n",
    "print(df['days_employed'].max())#Максимальное значение в столбце \"days_employed\"\n",
    "print(df['days_employed'].min())#Минимальное значение в столбце \"days_employed\"\n",
    "print(df['days_employed'].median())#Медианное значение столбца \"days_employed\"\n",
    "hist_plot1 = df['days_employed'].hist()#Гистограмма\n",
    "fig1 = hist_plot1.get_figure()"
   ]
  },
  {
   "cell_type": "code",
   "execution_count": 4,
   "id": "fbc221d6",
   "metadata": {},
   "outputs": [
    {
     "name": "stdout",
     "output_type": "stream",
     "text": [
      "2174\n",
      "2265604.028722744\n",
      "20667.26379327158\n",
      "145017.93753253992\n"
     ]
    },
    {
     "data": {
      "text/plain": [
       "<matplotlib.axes._subplots.AxesSubplot at 0x7fdf9388ca50>"
      ]
     },
     "metadata": {},
     "output_type": "display_data"
    },
    {
     "data": {
      "image/png": "[encoded data removed]",
      "text/plain": [
       "<Figure size 432x288 with 1 Axes>"
      ]
     },
     "metadata": {
      "needs_background": "light"
     },
     "output_type": "display_data"
    }
   ],
   "source": [
    "print(df['total_income'].isna().sum())#Количество пропусков в столбце \"total_income\"\n",
    "print(df['total_income'].max())#Максимальное значение в столбце \"total_income\"\n",
    "print(df['total_income'].min())#Минимальное значение в столбце \"total_income\"\n",
    "print(df['total_income'].median())#Медианное значение столбца \"total_income\"\n",
    "hist_plot2 = df['total_income'].hist()#Гистограмма\n",
    "display(hist_plot2)\n",
    "\n"
   ]
  },
  {
   "cell_type": "markdown",
   "id": "2ccb9936",
   "metadata": {},
   "source": [
    "В столбце 'days_employed' (трудовой стаж) мы видим большое количество отрицательных значений, что явно является ошибкой, так как трудовой стаж отрицательным быть не может. Из-за того, что количество отрицательных значений составляет 5/6 от всех значений человеческий фактор можно исключить. Соответственно, ошибка скорей всего техническая."
   ]
  },
  {
   "cell_type": "markdown",
   "id": "66a5bbb3",
   "metadata": {},
   "source": [
    "Заполнять медианным значением количественные переменные лучше всеге из-за того, что при наличии в датасете значений сильно превышающих по размеру значения чем основная масса среднее арифметическое будет недостоверным, а медиана будет той же потому что на выбросы на ней не отражаются."
   ]
  },
  {
   "cell_type": "markdown",
   "id": "1ec47222",
   "metadata": {},
   "source": [
    "### Шаг 2.2 Проверка данных на аномалии и исправления."
   ]
  },
  {
   "cell_type": "code",
   "execution_count": 5,
   "id": "a6a59e33",
   "metadata": {},
   "outputs": [
    {
     "name": "stdout",
     "output_type": "stream",
     "text": [
      "['F' 'M' 'XNA']\n",
      "           children  days_employed     dob_years  education_id  \\\n",
      "count  21525.000000   19351.000000  21525.000000  21525.000000   \n",
      "mean       0.538908   63046.497661     43.293380      0.817236   \n",
      "std        1.381587  140827.311974     12.574584      0.548138   \n",
      "min       -1.000000  -18388.949901      0.000000      0.000000   \n",
      "25%        0.000000   -2747.423625     33.000000      1.000000   \n",
      "50%        0.000000   -1203.369529     42.000000      1.000000   \n",
      "75%        1.000000    -291.095954     53.000000      1.000000   \n",
      "max       20.000000  401755.400475     75.000000      4.000000   \n",
      "\n",
      "       family_status_id          debt  total_income  \n",
      "count      21525.000000  21525.000000  1.935100e+04  \n",
      "mean           0.972544      0.080883  1.674223e+05  \n",
      "std            1.420324      0.272661  1.029716e+05  \n",
      "min            0.000000      0.000000  2.066726e+04  \n",
      "25%            0.000000      0.000000  1.030532e+05  \n",
      "50%            0.000000      0.000000  1.450179e+05  \n",
      "75%            1.000000      0.000000  2.034351e+05  \n",
      "max            4.000000      1.000000  2.265604e+06  \n",
      "children            3445\n",
      "days_employed       3445\n",
      "dob_years           3445\n",
      "education           3445\n",
      "education_id        3445\n",
      "family_status       3445\n",
      "family_status_id    3445\n",
      "gender              3445\n",
      "income_type         3445\n",
      "debt                3445\n",
      "total_income        3445\n",
      "purpose             3445\n",
      "dtype: int64\n",
      "    days_employed   total_income\n",
      "0     8437.673028  253875.639453\n",
      "1     4024.803754  112080.014102\n",
      "2     5623.422610  145885.952297\n",
      "3     4124.747207  267628.550329\n",
      "4   340266.072047  158616.077870\n",
      "5      926.185831  255763.565419\n",
      "6     2879.202052  240525.971920\n",
      "7      152.779569  135823.934197\n",
      "8     6929.865299   95856.832424\n",
      "9     2188.756445  144425.938277\n",
      "10    4171.483647  113943.491460\n",
      "11     792.701887   77069.234271\n",
      "12    2194.220567  145017.937533\n",
      "13    1846.641941  130458.228857\n",
      "14    1844.956182  165127.911772\n",
      "15     972.364419  116820.904450\n",
      "16    1719.934226  289202.704229\n",
      "17    2369.999720   90410.586745\n",
      "18  400281.136913   56823.777243\n",
      "19   10038.818549  242831.107982\n"
     ]
    }
   ],
   "source": [
    "print(df['gender'].unique())\n",
    "print(df.describe())\n",
    "print(df[df['days_employed'] > 100000].count())#Глядя на гистаграмму видно, что основная часть значени находится в диапазоне от -15000 до +15000, выведем количество выбросов \n",
    "df['days_employed'] = df['days_employed'].apply(abs)\n",
    "df['children'] = df['children'].apply(abs)#устраняем отрицательные значения\n",
    "df['days_employed'] = df['days_employed'].fillna(df['days_employed'].median())#Заполняем медианным значением пропуски в столбце 'days_employed' \n",
    "df['total_income'] = df['total_income'].fillna(df['total_income'].median())#Заполняем медианным значением пропуски в столбце 'total_income'\n",
    "\n",
    "print(df[['days_employed','total_income']].head(20)) #Выводим первые 20 значений обоих столбцов"
   ]
  },
  {
   "cell_type": "code",
   "execution_count": 6,
   "id": "f5ca6183",
   "metadata": {},
   "outputs": [
    {
     "name": "stdout",
     "output_type": "stream",
     "text": [
      "[ 1  0  3  2  4 20  5]\n",
      "[1 0 3 2 4 5]\n"
     ]
    }
   ],
   "source": [
    "print(df['children'].unique())\n",
    "df['children'] = df['children'].where(df['children'] < 10, 2)\n",
    "print(df['children'].unique())"
   ]
  },
  {
   "cell_type": "markdown",
   "id": "b1c6d96e",
   "metadata": {},
   "source": [
    "3445 значений сильно превышающие по размеру основную массу, причиной их появления мог стать человеческий фактор, например неправильные  единицы измерения."
   ]
  },
  {
   "cell_type": "markdown",
   "id": "818f9e4b",
   "metadata": {},
   "source": [
    "### Шаг 2.3. Изменение типов данных."
   ]
  },
  {
   "cell_type": "code",
   "execution_count": 7,
   "id": "6e63c4a6",
   "metadata": {},
   "outputs": [
    {
     "name": "stdout",
     "output_type": "stream",
     "text": [
      "<class 'pandas.core.frame.DataFrame'>\n",
      "RangeIndex: 21525 entries, 0 to 21524\n",
      "Data columns (total 12 columns):\n",
      "children            21525 non-null int64\n",
      "days_employed       21525 non-null float64\n",
      "dob_years           21525 non-null int64\n",
      "education           21525 non-null object\n",
      "education_id        21525 non-null int64\n",
      "family_status       21525 non-null object\n",
      "family_status_id    21525 non-null int64\n",
      "gender              21525 non-null object\n",
      "income_type         21525 non-null object\n",
      "debt                21525 non-null int64\n",
      "total_income        21525 non-null float64\n",
      "purpose             21525 non-null object\n",
      "dtypes: float64(2), int64(5), object(5)\n",
      "memory usage: 2.0+ MB\n"
     ]
    }
   ],
   "source": [
    "df['total_income'].astype('int')\n",
    "df.info()"
   ]
  },
  {
   "cell_type": "markdown",
   "id": "2578ec8e",
   "metadata": {},
   "source": [
    "### Шаг 2.4. Удаление дубликатов."
   ]
  },
  {
   "cell_type": "code",
   "execution_count": 8,
   "id": "d4d95ecd",
   "metadata": {},
   "outputs": [
    {
     "data": {
      "text/plain": [
       "54"
      ]
     },
     "metadata": {},
     "output_type": "display_data"
    }
   ],
   "source": [
    "display(df.duplicated().sum())# Выводим количество явных дубликатов"
   ]
  },
  {
   "cell_type": "code",
   "execution_count": 9,
   "id": "cc2ca17d",
   "metadata": {},
   "outputs": [
    {
     "data": {
      "text/plain": [
       "0"
      ]
     },
     "metadata": {},
     "output_type": "display_data"
    }
   ],
   "source": [
    "df = df.drop_duplicates()#Удаляем дубликаты\n",
    "display(df.duplicated().sum())#Проверяем удалились ли дубликаты"
   ]
  },
  {
   "cell_type": "code",
   "execution_count": 10,
   "id": "89092ce6",
   "metadata": {},
   "outputs": [
    {
     "data": {
      "text/plain": [
       "17"
      ]
     },
     "metadata": {},
     "output_type": "display_data"
    },
    {
     "data": {
      "text/plain": [
       "0"
      ]
     },
     "metadata": {},
     "output_type": "display_data"
    }
   ],
   "source": [
    "df['education'] = df['education'].str.lower()#Переводим значения столбца 'education' в нижний регистр\n",
    "display(df.duplicated().sum())#Проверяем дубликаты после изменения регистра\n",
    "df = df.drop_duplicates().reset_index(drop=True)#Удаляем дубликаты и сбрасываем индексы\n",
    "display(df.duplicated().sum())#Выводим для проверки количество дубликатов"
   ]
  },
  {
   "cell_type": "markdown",
   "id": "2346f14e",
   "metadata": {},
   "source": [
    "### Шаг 2.5. Формирование дополнительных датафреймов словарей, декомпозиция исходного датафрейма."
   ]
  },
  {
   "cell_type": "code",
   "execution_count": 11,
   "id": "457188c7",
   "metadata": {},
   "outputs": [
    {
     "data": {
      "text/html": [
       "<div>\n",
       "<style scoped>\n",
       "    .dataframe tbody tr th:only-of-type {\n",
       "        vertical-align: middle;\n",
       "    }\n",
       "\n",
       "    .dataframe tbody tr th {\n",
       "        vertical-align: top;\n",
       "    }\n",
       "\n",
       "    .dataframe thead th {\n",
       "        text-align: right;\n",
       "    }\n",
       "</style>\n",
       "<table border=\"1\" class=\"dataframe\">\n",
       "  <thead>\n",
       "    <tr style=\"text-align: right;\">\n",
       "      <th></th>\n",
       "      <th>children</th>\n",
       "      <th>days_employed</th>\n",
       "      <th>dob_years</th>\n",
       "      <th>education_id</th>\n",
       "      <th>family_status_id</th>\n",
       "      <th>gender</th>\n",
       "      <th>income_type</th>\n",
       "      <th>debt</th>\n",
       "      <th>total_income</th>\n",
       "      <th>purpose</th>\n",
       "      <th>education</th>\n",
       "    </tr>\n",
       "  </thead>\n",
       "  <tbody>\n",
       "    <tr>\n",
       "      <td>0</td>\n",
       "      <td>1</td>\n",
       "      <td>8437.673028</td>\n",
       "      <td>42</td>\n",
       "      <td>0</td>\n",
       "      <td>0</td>\n",
       "      <td>F</td>\n",
       "      <td>сотрудник</td>\n",
       "      <td>0</td>\n",
       "      <td>253875.639453</td>\n",
       "      <td>покупка жилья</td>\n",
       "      <td>высшее</td>\n",
       "    </tr>\n",
       "    <tr>\n",
       "      <td>1</td>\n",
       "      <td>1</td>\n",
       "      <td>4024.803754</td>\n",
       "      <td>36</td>\n",
       "      <td>1</td>\n",
       "      <td>0</td>\n",
       "      <td>F</td>\n",
       "      <td>сотрудник</td>\n",
       "      <td>0</td>\n",
       "      <td>112080.014102</td>\n",
       "      <td>приобретение автомобиля</td>\n",
       "      <td>среднее</td>\n",
       "    </tr>\n",
       "    <tr>\n",
       "      <td>2</td>\n",
       "      <td>0</td>\n",
       "      <td>5623.422610</td>\n",
       "      <td>33</td>\n",
       "      <td>1</td>\n",
       "      <td>0</td>\n",
       "      <td>M</td>\n",
       "      <td>сотрудник</td>\n",
       "      <td>0</td>\n",
       "      <td>145885.952297</td>\n",
       "      <td>покупка жилья</td>\n",
       "      <td>среднее</td>\n",
       "    </tr>\n",
       "    <tr>\n",
       "      <td>3</td>\n",
       "      <td>3</td>\n",
       "      <td>4124.747207</td>\n",
       "      <td>32</td>\n",
       "      <td>1</td>\n",
       "      <td>0</td>\n",
       "      <td>M</td>\n",
       "      <td>сотрудник</td>\n",
       "      <td>0</td>\n",
       "      <td>267628.550329</td>\n",
       "      <td>дополнительное образование</td>\n",
       "      <td>среднее</td>\n",
       "    </tr>\n",
       "    <tr>\n",
       "      <td>4</td>\n",
       "      <td>0</td>\n",
       "      <td>340266.072047</td>\n",
       "      <td>53</td>\n",
       "      <td>1</td>\n",
       "      <td>1</td>\n",
       "      <td>F</td>\n",
       "      <td>пенсионер</td>\n",
       "      <td>0</td>\n",
       "      <td>158616.077870</td>\n",
       "      <td>сыграть свадьбу</td>\n",
       "      <td>среднее</td>\n",
       "    </tr>\n",
       "    <tr>\n",
       "      <td>...</td>\n",
       "      <td>...</td>\n",
       "      <td>...</td>\n",
       "      <td>...</td>\n",
       "      <td>...</td>\n",
       "      <td>...</td>\n",
       "      <td>...</td>\n",
       "      <td>...</td>\n",
       "      <td>...</td>\n",
       "      <td>...</td>\n",
       "      <td>...</td>\n",
       "      <td>...</td>\n",
       "    </tr>\n",
       "    <tr>\n",
       "      <td>21449</td>\n",
       "      <td>1</td>\n",
       "      <td>4529.316663</td>\n",
       "      <td>43</td>\n",
       "      <td>1</td>\n",
       "      <td>1</td>\n",
       "      <td>F</td>\n",
       "      <td>компаньон</td>\n",
       "      <td>0</td>\n",
       "      <td>224791.862382</td>\n",
       "      <td>операции с жильем</td>\n",
       "      <td>среднее</td>\n",
       "    </tr>\n",
       "    <tr>\n",
       "      <td>21450</td>\n",
       "      <td>0</td>\n",
       "      <td>343937.404131</td>\n",
       "      <td>67</td>\n",
       "      <td>1</td>\n",
       "      <td>0</td>\n",
       "      <td>F</td>\n",
       "      <td>пенсионер</td>\n",
       "      <td>0</td>\n",
       "      <td>155999.806512</td>\n",
       "      <td>сделка с автомобилем</td>\n",
       "      <td>среднее</td>\n",
       "    </tr>\n",
       "    <tr>\n",
       "      <td>21451</td>\n",
       "      <td>1</td>\n",
       "      <td>2113.346888</td>\n",
       "      <td>38</td>\n",
       "      <td>1</td>\n",
       "      <td>1</td>\n",
       "      <td>M</td>\n",
       "      <td>сотрудник</td>\n",
       "      <td>1</td>\n",
       "      <td>89672.561153</td>\n",
       "      <td>недвижимость</td>\n",
       "      <td>среднее</td>\n",
       "    </tr>\n",
       "    <tr>\n",
       "      <td>21452</td>\n",
       "      <td>3</td>\n",
       "      <td>3112.481705</td>\n",
       "      <td>38</td>\n",
       "      <td>1</td>\n",
       "      <td>0</td>\n",
       "      <td>M</td>\n",
       "      <td>сотрудник</td>\n",
       "      <td>1</td>\n",
       "      <td>244093.050500</td>\n",
       "      <td>на покупку своего автомобиля</td>\n",
       "      <td>среднее</td>\n",
       "    </tr>\n",
       "    <tr>\n",
       "      <td>21453</td>\n",
       "      <td>2</td>\n",
       "      <td>1984.507589</td>\n",
       "      <td>40</td>\n",
       "      <td>1</td>\n",
       "      <td>0</td>\n",
       "      <td>F</td>\n",
       "      <td>сотрудник</td>\n",
       "      <td>0</td>\n",
       "      <td>82047.418899</td>\n",
       "      <td>на покупку автомобиля</td>\n",
       "      <td>среднее</td>\n",
       "    </tr>\n",
       "  </tbody>\n",
       "</table>\n",
       "<p>21454 rows × 11 columns</p>\n",
       "</div>"
      ],
      "text/plain": [
       "       children  days_employed  dob_years  education_id  family_status_id  \\\n",
       "0             1    8437.673028         42             0                 0   \n",
       "1             1    4024.803754         36             1                 0   \n",
       "2             0    5623.422610         33             1                 0   \n",
       "3             3    4124.747207         32             1                 0   \n",
       "4             0  340266.072047         53             1                 1   \n",
       "...         ...            ...        ...           ...               ...   \n",
       "21449         1    4529.316663         43             1                 1   \n",
       "21450         0  343937.404131         67             1                 0   \n",
       "21451         1    2113.346888         38             1                 1   \n",
       "21452         3    3112.481705         38             1                 0   \n",
       "21453         2    1984.507589         40             1                 0   \n",
       "\n",
       "      gender income_type  debt   total_income                       purpose  \\\n",
       "0          F   сотрудник     0  253875.639453                 покупка жилья   \n",
       "1          F   сотрудник     0  112080.014102       приобретение автомобиля   \n",
       "2          M   сотрудник     0  145885.952297                 покупка жилья   \n",
       "3          M   сотрудник     0  267628.550329    дополнительное образование   \n",
       "4          F   пенсионер     0  158616.077870               сыграть свадьбу   \n",
       "...      ...         ...   ...            ...                           ...   \n",
       "21449      F   компаньон     0  224791.862382             операции с жильем   \n",
       "21450      F   пенсионер     0  155999.806512          сделка с автомобилем   \n",
       "21451      M   сотрудник     1   89672.561153                  недвижимость   \n",
       "21452      M   сотрудник     1  244093.050500  на покупку своего автомобиля   \n",
       "21453      F   сотрудник     0   82047.418899         на покупку автомобиля   \n",
       "\n",
       "      education  \n",
       "0        высшее  \n",
       "1       среднее  \n",
       "2       среднее  \n",
       "3       среднее  \n",
       "4       среднее  \n",
       "...         ...  \n",
       "21449   среднее  \n",
       "21450   среднее  \n",
       "21451   среднее  \n",
       "21452   среднее  \n",
       "21453   среднее  \n",
       "\n",
       "[21454 rows x 11 columns]"
      ]
     },
     "metadata": {},
     "output_type": "display_data"
    },
    {
     "data": {
      "text/html": [
       "<div>\n",
       "<style scoped>\n",
       "    .dataframe tbody tr th:only-of-type {\n",
       "        vertical-align: middle;\n",
       "    }\n",
       "\n",
       "    .dataframe tbody tr th {\n",
       "        vertical-align: top;\n",
       "    }\n",
       "\n",
       "    .dataframe thead th {\n",
       "        text-align: right;\n",
       "    }\n",
       "</style>\n",
       "<table border=\"1\" class=\"dataframe\">\n",
       "  <thead>\n",
       "    <tr style=\"text-align: right;\">\n",
       "      <th></th>\n",
       "      <th>children</th>\n",
       "      <th>days_employed</th>\n",
       "      <th>dob_years</th>\n",
       "      <th>education_id</th>\n",
       "      <th>family_status_id</th>\n",
       "      <th>gender</th>\n",
       "      <th>income_type</th>\n",
       "      <th>debt</th>\n",
       "      <th>total_income</th>\n",
       "      <th>purpose</th>\n",
       "      <th>family_status</th>\n",
       "    </tr>\n",
       "  </thead>\n",
       "  <tbody>\n",
       "    <tr>\n",
       "      <td>0</td>\n",
       "      <td>1</td>\n",
       "      <td>8437.673028</td>\n",
       "      <td>42</td>\n",
       "      <td>0</td>\n",
       "      <td>0</td>\n",
       "      <td>F</td>\n",
       "      <td>сотрудник</td>\n",
       "      <td>0</td>\n",
       "      <td>253875.639453</td>\n",
       "      <td>покупка жилья</td>\n",
       "      <td>женат / замужем</td>\n",
       "    </tr>\n",
       "    <tr>\n",
       "      <td>1</td>\n",
       "      <td>1</td>\n",
       "      <td>4024.803754</td>\n",
       "      <td>36</td>\n",
       "      <td>1</td>\n",
       "      <td>0</td>\n",
       "      <td>F</td>\n",
       "      <td>сотрудник</td>\n",
       "      <td>0</td>\n",
       "      <td>112080.014102</td>\n",
       "      <td>приобретение автомобиля</td>\n",
       "      <td>женат / замужем</td>\n",
       "    </tr>\n",
       "    <tr>\n",
       "      <td>2</td>\n",
       "      <td>0</td>\n",
       "      <td>5623.422610</td>\n",
       "      <td>33</td>\n",
       "      <td>1</td>\n",
       "      <td>0</td>\n",
       "      <td>M</td>\n",
       "      <td>сотрудник</td>\n",
       "      <td>0</td>\n",
       "      <td>145885.952297</td>\n",
       "      <td>покупка жилья</td>\n",
       "      <td>женат / замужем</td>\n",
       "    </tr>\n",
       "    <tr>\n",
       "      <td>3</td>\n",
       "      <td>3</td>\n",
       "      <td>4124.747207</td>\n",
       "      <td>32</td>\n",
       "      <td>1</td>\n",
       "      <td>0</td>\n",
       "      <td>M</td>\n",
       "      <td>сотрудник</td>\n",
       "      <td>0</td>\n",
       "      <td>267628.550329</td>\n",
       "      <td>дополнительное образование</td>\n",
       "      <td>женат / замужем</td>\n",
       "    </tr>\n",
       "    <tr>\n",
       "      <td>4</td>\n",
       "      <td>0</td>\n",
       "      <td>340266.072047</td>\n",
       "      <td>53</td>\n",
       "      <td>1</td>\n",
       "      <td>1</td>\n",
       "      <td>F</td>\n",
       "      <td>пенсионер</td>\n",
       "      <td>0</td>\n",
       "      <td>158616.077870</td>\n",
       "      <td>сыграть свадьбу</td>\n",
       "      <td>гражданский брак</td>\n",
       "    </tr>\n",
       "    <tr>\n",
       "      <td>...</td>\n",
       "      <td>...</td>\n",
       "      <td>...</td>\n",
       "      <td>...</td>\n",
       "      <td>...</td>\n",
       "      <td>...</td>\n",
       "      <td>...</td>\n",
       "      <td>...</td>\n",
       "      <td>...</td>\n",
       "      <td>...</td>\n",
       "      <td>...</td>\n",
       "      <td>...</td>\n",
       "    </tr>\n",
       "    <tr>\n",
       "      <td>21449</td>\n",
       "      <td>1</td>\n",
       "      <td>4529.316663</td>\n",
       "      <td>43</td>\n",
       "      <td>1</td>\n",
       "      <td>1</td>\n",
       "      <td>F</td>\n",
       "      <td>компаньон</td>\n",
       "      <td>0</td>\n",
       "      <td>224791.862382</td>\n",
       "      <td>операции с жильем</td>\n",
       "      <td>гражданский брак</td>\n",
       "    </tr>\n",
       "    <tr>\n",
       "      <td>21450</td>\n",
       "      <td>0</td>\n",
       "      <td>343937.404131</td>\n",
       "      <td>67</td>\n",
       "      <td>1</td>\n",
       "      <td>0</td>\n",
       "      <td>F</td>\n",
       "      <td>пенсионер</td>\n",
       "      <td>0</td>\n",
       "      <td>155999.806512</td>\n",
       "      <td>сделка с автомобилем</td>\n",
       "      <td>женат / замужем</td>\n",
       "    </tr>\n",
       "    <tr>\n",
       "      <td>21451</td>\n",
       "      <td>1</td>\n",
       "      <td>2113.346888</td>\n",
       "      <td>38</td>\n",
       "      <td>1</td>\n",
       "      <td>1</td>\n",
       "      <td>M</td>\n",
       "      <td>сотрудник</td>\n",
       "      <td>1</td>\n",
       "      <td>89672.561153</td>\n",
       "      <td>недвижимость</td>\n",
       "      <td>гражданский брак</td>\n",
       "    </tr>\n",
       "    <tr>\n",
       "      <td>21452</td>\n",
       "      <td>3</td>\n",
       "      <td>3112.481705</td>\n",
       "      <td>38</td>\n",
       "      <td>1</td>\n",
       "      <td>0</td>\n",
       "      <td>M</td>\n",
       "      <td>сотрудник</td>\n",
       "      <td>1</td>\n",
       "      <td>244093.050500</td>\n",
       "      <td>на покупку своего автомобиля</td>\n",
       "      <td>женат / замужем</td>\n",
       "    </tr>\n",
       "    <tr>\n",
       "      <td>21453</td>\n",
       "      <td>2</td>\n",
       "      <td>1984.507589</td>\n",
       "      <td>40</td>\n",
       "      <td>1</td>\n",
       "      <td>0</td>\n",
       "      <td>F</td>\n",
       "      <td>сотрудник</td>\n",
       "      <td>0</td>\n",
       "      <td>82047.418899</td>\n",
       "      <td>на покупку автомобиля</td>\n",
       "      <td>женат / замужем</td>\n",
       "    </tr>\n",
       "  </tbody>\n",
       "</table>\n",
       "<p>21454 rows × 11 columns</p>\n",
       "</div>"
      ],
      "text/plain": [
       "       children  days_employed  dob_years  education_id  family_status_id  \\\n",
       "0             1    8437.673028         42             0                 0   \n",
       "1             1    4024.803754         36             1                 0   \n",
       "2             0    5623.422610         33             1                 0   \n",
       "3             3    4124.747207         32             1                 0   \n",
       "4             0  340266.072047         53             1                 1   \n",
       "...         ...            ...        ...           ...               ...   \n",
       "21449         1    4529.316663         43             1                 1   \n",
       "21450         0  343937.404131         67             1                 0   \n",
       "21451         1    2113.346888         38             1                 1   \n",
       "21452         3    3112.481705         38             1                 0   \n",
       "21453         2    1984.507589         40             1                 0   \n",
       "\n",
       "      gender income_type  debt   total_income                       purpose  \\\n",
       "0          F   сотрудник     0  253875.639453                 покупка жилья   \n",
       "1          F   сотрудник     0  112080.014102       приобретение автомобиля   \n",
       "2          M   сотрудник     0  145885.952297                 покупка жилья   \n",
       "3          M   сотрудник     0  267628.550329    дополнительное образование   \n",
       "4          F   пенсионер     0  158616.077870               сыграть свадьбу   \n",
       "...      ...         ...   ...            ...                           ...   \n",
       "21449      F   компаньон     0  224791.862382             операции с жильем   \n",
       "21450      F   пенсионер     0  155999.806512          сделка с автомобилем   \n",
       "21451      M   сотрудник     1   89672.561153                  недвижимость   \n",
       "21452      M   сотрудник     1  244093.050500  на покупку своего автомобиля   \n",
       "21453      F   сотрудник     0   82047.418899         на покупку автомобиля   \n",
       "\n",
       "          family_status  \n",
       "0       женат / замужем  \n",
       "1       женат / замужем  \n",
       "2       женат / замужем  \n",
       "3       женат / замужем  \n",
       "4      гражданский брак  \n",
       "...                 ...  \n",
       "21449  гражданский брак  \n",
       "21450   женат / замужем  \n",
       "21451  гражданский брак  \n",
       "21452   женат / замужем  \n",
       "21453   женат / замужем  \n",
       "\n",
       "[21454 rows x 11 columns]"
      ]
     },
     "metadata": {},
     "output_type": "display_data"
    },
    {
     "data": {
      "text/html": [
       "<div>\n",
       "<style scoped>\n",
       "    .dataframe tbody tr th:only-of-type {\n",
       "        vertical-align: middle;\n",
       "    }\n",
       "\n",
       "    .dataframe tbody tr th {\n",
       "        vertical-align: top;\n",
       "    }\n",
       "\n",
       "    .dataframe thead th {\n",
       "        text-align: right;\n",
       "    }\n",
       "</style>\n",
       "<table border=\"1\" class=\"dataframe\">\n",
       "  <thead>\n",
       "    <tr style=\"text-align: right;\">\n",
       "      <th></th>\n",
       "      <th>education_id</th>\n",
       "      <th>education</th>\n",
       "    </tr>\n",
       "  </thead>\n",
       "  <tbody>\n",
       "    <tr>\n",
       "      <td>0</td>\n",
       "      <td>0</td>\n",
       "      <td>высшее</td>\n",
       "    </tr>\n",
       "    <tr>\n",
       "      <td>1</td>\n",
       "      <td>1</td>\n",
       "      <td>среднее</td>\n",
       "    </tr>\n",
       "    <tr>\n",
       "      <td>2</td>\n",
       "      <td>2</td>\n",
       "      <td>неоконченное высшее</td>\n",
       "    </tr>\n",
       "    <tr>\n",
       "      <td>3</td>\n",
       "      <td>3</td>\n",
       "      <td>начальное</td>\n",
       "    </tr>\n",
       "    <tr>\n",
       "      <td>4</td>\n",
       "      <td>4</td>\n",
       "      <td>ученая степень</td>\n",
       "    </tr>\n",
       "  </tbody>\n",
       "</table>\n",
       "</div>"
      ],
      "text/plain": [
       "   education_id            education\n",
       "0             0               высшее\n",
       "1             1              среднее\n",
       "2             2  неоконченное высшее\n",
       "3             3            начальное\n",
       "4             4       ученая степень"
      ]
     },
     "metadata": {},
     "output_type": "display_data"
    },
    {
     "data": {
      "text/html": [
       "<div>\n",
       "<style scoped>\n",
       "    .dataframe tbody tr th:only-of-type {\n",
       "        vertical-align: middle;\n",
       "    }\n",
       "\n",
       "    .dataframe tbody tr th {\n",
       "        vertical-align: top;\n",
       "    }\n",
       "\n",
       "    .dataframe thead th {\n",
       "        text-align: right;\n",
       "    }\n",
       "</style>\n",
       "<table border=\"1\" class=\"dataframe\">\n",
       "  <thead>\n",
       "    <tr style=\"text-align: right;\">\n",
       "      <th></th>\n",
       "      <th>family_status_id</th>\n",
       "      <th>family_status</th>\n",
       "    </tr>\n",
       "  </thead>\n",
       "  <tbody>\n",
       "    <tr>\n",
       "      <td>0</td>\n",
       "      <td>0</td>\n",
       "      <td>женат / замужем</td>\n",
       "    </tr>\n",
       "    <tr>\n",
       "      <td>1</td>\n",
       "      <td>1</td>\n",
       "      <td>гражданский брак</td>\n",
       "    </tr>\n",
       "    <tr>\n",
       "      <td>2</td>\n",
       "      <td>2</td>\n",
       "      <td>вдовец / вдова</td>\n",
       "    </tr>\n",
       "    <tr>\n",
       "      <td>3</td>\n",
       "      <td>3</td>\n",
       "      <td>в разводе</td>\n",
       "    </tr>\n",
       "    <tr>\n",
       "      <td>4</td>\n",
       "      <td>4</td>\n",
       "      <td>Не женат / не замужем</td>\n",
       "    </tr>\n",
       "  </tbody>\n",
       "</table>\n",
       "</div>"
      ],
      "text/plain": [
       "   family_status_id          family_status\n",
       "0                 0        женат / замужем\n",
       "1                 1       гражданский брак\n",
       "2                 2         вдовец / вдова\n",
       "3                 3              в разводе\n",
       "4                 4  Не женат / не замужем"
      ]
     },
     "metadata": {},
     "output_type": "display_data"
    }
   ],
   "source": [
    "education = df[['education_id','education']].drop_duplicates().reset_index(drop=True)#Создаем новый DataFrame со столбцами 'education_id' и 'education',убираем дубликаты и сбрасываем индексы\n",
    "family_status = df[['family_status_id','family_status']].drop_duplicates().reset_index(drop=True)#Создаем новый DataFrame со столбцами 'family_status_id' и 'family_status',убираем дубликаты и сбрасываем индексы\n",
    "df = df.drop(['education','family_status'],axis=1)#Удаляем из исходного датасета столбцы 'education','family_status'\n",
    "df_education_merged = df.merge(education, on='education_id', how='left')# В задании ничего не сказано про перемещение обратно в исходный датафрейм, но в слаке наставник говорил об этом, на всякий случай не стал менять исходный датафрейм, а сделал в новом\n",
    "df_family_status_merged = df.merge(family_status, on='family_status_id', how='left')# В задании ничего не сказано про перемещение обратно в исходный датафрейм, но в слаке наставник говорил об этом, на всякий случай не стал менять исходный датафрейм, а сделал в новом\n",
    "display(df_education_merged,df_family_status_merged)#вывожу обьединенную таблицу для проверки\n",
    "display(education,family_status)#вывожу словари для проверки"
   ]
  },
  {
   "cell_type": "markdown",
   "id": "40619201",
   "metadata": {},
   "source": [
    "### Шаг 2.6. Категоризация дохода."
   ]
  },
  {
   "cell_type": "code",
   "execution_count": 12,
   "id": "e996a337",
   "metadata": {},
   "outputs": [
    {
     "data": {
      "text/html": [
       "<div>\n",
       "<style scoped>\n",
       "    .dataframe tbody tr th:only-of-type {\n",
       "        vertical-align: middle;\n",
       "    }\n",
       "\n",
       "    .dataframe tbody tr th {\n",
       "        vertical-align: top;\n",
       "    }\n",
       "\n",
       "    .dataframe thead th {\n",
       "        text-align: right;\n",
       "    }\n",
       "</style>\n",
       "<table border=\"1\" class=\"dataframe\">\n",
       "  <thead>\n",
       "    <tr style=\"text-align: right;\">\n",
       "      <th></th>\n",
       "      <th>children</th>\n",
       "      <th>days_employed</th>\n",
       "      <th>dob_years</th>\n",
       "      <th>education_id</th>\n",
       "      <th>family_status_id</th>\n",
       "      <th>gender</th>\n",
       "      <th>income_type</th>\n",
       "      <th>debt</th>\n",
       "      <th>total_income</th>\n",
       "      <th>purpose</th>\n",
       "      <th>total_income_category</th>\n",
       "    </tr>\n",
       "  </thead>\n",
       "  <tbody>\n",
       "    <tr>\n",
       "      <td>0</td>\n",
       "      <td>1</td>\n",
       "      <td>8437.673028</td>\n",
       "      <td>42</td>\n",
       "      <td>0</td>\n",
       "      <td>0</td>\n",
       "      <td>F</td>\n",
       "      <td>сотрудник</td>\n",
       "      <td>0</td>\n",
       "      <td>253875.639453</td>\n",
       "      <td>покупка жилья</td>\n",
       "      <td>B</td>\n",
       "    </tr>\n",
       "    <tr>\n",
       "      <td>1</td>\n",
       "      <td>1</td>\n",
       "      <td>4024.803754</td>\n",
       "      <td>36</td>\n",
       "      <td>1</td>\n",
       "      <td>0</td>\n",
       "      <td>F</td>\n",
       "      <td>сотрудник</td>\n",
       "      <td>0</td>\n",
       "      <td>112080.014102</td>\n",
       "      <td>приобретение автомобиля</td>\n",
       "      <td>С</td>\n",
       "    </tr>\n",
       "    <tr>\n",
       "      <td>2</td>\n",
       "      <td>0</td>\n",
       "      <td>5623.422610</td>\n",
       "      <td>33</td>\n",
       "      <td>1</td>\n",
       "      <td>0</td>\n",
       "      <td>M</td>\n",
       "      <td>сотрудник</td>\n",
       "      <td>0</td>\n",
       "      <td>145885.952297</td>\n",
       "      <td>покупка жилья</td>\n",
       "      <td>С</td>\n",
       "    </tr>\n",
       "    <tr>\n",
       "      <td>3</td>\n",
       "      <td>3</td>\n",
       "      <td>4124.747207</td>\n",
       "      <td>32</td>\n",
       "      <td>1</td>\n",
       "      <td>0</td>\n",
       "      <td>M</td>\n",
       "      <td>сотрудник</td>\n",
       "      <td>0</td>\n",
       "      <td>267628.550329</td>\n",
       "      <td>дополнительное образование</td>\n",
       "      <td>B</td>\n",
       "    </tr>\n",
       "    <tr>\n",
       "      <td>4</td>\n",
       "      <td>0</td>\n",
       "      <td>340266.072047</td>\n",
       "      <td>53</td>\n",
       "      <td>1</td>\n",
       "      <td>1</td>\n",
       "      <td>F</td>\n",
       "      <td>пенсионер</td>\n",
       "      <td>0</td>\n",
       "      <td>158616.077870</td>\n",
       "      <td>сыграть свадьбу</td>\n",
       "      <td>С</td>\n",
       "    </tr>\n",
       "    <tr>\n",
       "      <td>...</td>\n",
       "      <td>...</td>\n",
       "      <td>...</td>\n",
       "      <td>...</td>\n",
       "      <td>...</td>\n",
       "      <td>...</td>\n",
       "      <td>...</td>\n",
       "      <td>...</td>\n",
       "      <td>...</td>\n",
       "      <td>...</td>\n",
       "      <td>...</td>\n",
       "      <td>...</td>\n",
       "    </tr>\n",
       "    <tr>\n",
       "      <td>21449</td>\n",
       "      <td>1</td>\n",
       "      <td>4529.316663</td>\n",
       "      <td>43</td>\n",
       "      <td>1</td>\n",
       "      <td>1</td>\n",
       "      <td>F</td>\n",
       "      <td>компаньон</td>\n",
       "      <td>0</td>\n",
       "      <td>224791.862382</td>\n",
       "      <td>операции с жильем</td>\n",
       "      <td>B</td>\n",
       "    </tr>\n",
       "    <tr>\n",
       "      <td>21450</td>\n",
       "      <td>0</td>\n",
       "      <td>343937.404131</td>\n",
       "      <td>67</td>\n",
       "      <td>1</td>\n",
       "      <td>0</td>\n",
       "      <td>F</td>\n",
       "      <td>пенсионер</td>\n",
       "      <td>0</td>\n",
       "      <td>155999.806512</td>\n",
       "      <td>сделка с автомобилем</td>\n",
       "      <td>С</td>\n",
       "    </tr>\n",
       "    <tr>\n",
       "      <td>21451</td>\n",
       "      <td>1</td>\n",
       "      <td>2113.346888</td>\n",
       "      <td>38</td>\n",
       "      <td>1</td>\n",
       "      <td>1</td>\n",
       "      <td>M</td>\n",
       "      <td>сотрудник</td>\n",
       "      <td>1</td>\n",
       "      <td>89672.561153</td>\n",
       "      <td>недвижимость</td>\n",
       "      <td>С</td>\n",
       "    </tr>\n",
       "    <tr>\n",
       "      <td>21452</td>\n",
       "      <td>3</td>\n",
       "      <td>3112.481705</td>\n",
       "      <td>38</td>\n",
       "      <td>1</td>\n",
       "      <td>0</td>\n",
       "      <td>M</td>\n",
       "      <td>сотрудник</td>\n",
       "      <td>1</td>\n",
       "      <td>244093.050500</td>\n",
       "      <td>на покупку своего автомобиля</td>\n",
       "      <td>B</td>\n",
       "    </tr>\n",
       "    <tr>\n",
       "      <td>21453</td>\n",
       "      <td>2</td>\n",
       "      <td>1984.507589</td>\n",
       "      <td>40</td>\n",
       "      <td>1</td>\n",
       "      <td>0</td>\n",
       "      <td>F</td>\n",
       "      <td>сотрудник</td>\n",
       "      <td>0</td>\n",
       "      <td>82047.418899</td>\n",
       "      <td>на покупку автомобиля</td>\n",
       "      <td>С</td>\n",
       "    </tr>\n",
       "  </tbody>\n",
       "</table>\n",
       "<p>21454 rows × 11 columns</p>\n",
       "</div>"
      ],
      "text/plain": [
       "       children  days_employed  dob_years  education_id  family_status_id  \\\n",
       "0             1    8437.673028         42             0                 0   \n",
       "1             1    4024.803754         36             1                 0   \n",
       "2             0    5623.422610         33             1                 0   \n",
       "3             3    4124.747207         32             1                 0   \n",
       "4             0  340266.072047         53             1                 1   \n",
       "...         ...            ...        ...           ...               ...   \n",
       "21449         1    4529.316663         43             1                 1   \n",
       "21450         0  343937.404131         67             1                 0   \n",
       "21451         1    2113.346888         38             1                 1   \n",
       "21452         3    3112.481705         38             1                 0   \n",
       "21453         2    1984.507589         40             1                 0   \n",
       "\n",
       "      gender income_type  debt   total_income                       purpose  \\\n",
       "0          F   сотрудник     0  253875.639453                 покупка жилья   \n",
       "1          F   сотрудник     0  112080.014102       приобретение автомобиля   \n",
       "2          M   сотрудник     0  145885.952297                 покупка жилья   \n",
       "3          M   сотрудник     0  267628.550329    дополнительное образование   \n",
       "4          F   пенсионер     0  158616.077870               сыграть свадьбу   \n",
       "...      ...         ...   ...            ...                           ...   \n",
       "21449      F   компаньон     0  224791.862382             операции с жильем   \n",
       "21450      F   пенсионер     0  155999.806512          сделка с автомобилем   \n",
       "21451      M   сотрудник     1   89672.561153                  недвижимость   \n",
       "21452      M   сотрудник     1  244093.050500  на покупку своего автомобиля   \n",
       "21453      F   сотрудник     0   82047.418899         на покупку автомобиля   \n",
       "\n",
       "      total_income_category  \n",
       "0                         B  \n",
       "1                         С  \n",
       "2                         С  \n",
       "3                         B  \n",
       "4                         С  \n",
       "...                     ...  \n",
       "21449                     B  \n",
       "21450                     С  \n",
       "21451                     С  \n",
       "21452                     B  \n",
       "21453                     С  \n",
       "\n",
       "[21454 rows x 11 columns]"
      ]
     },
     "metadata": {},
     "output_type": "display_data"
    }
   ],
   "source": [
    "def total_income_func(row):#Пишем функцию классификации и оборачиваем её в try/except для стабильной работы \n",
    "    try:\n",
    "        if 0 < row <= 30000:\n",
    "            return 'E'\n",
    "        elif 30001 <= row <= 50000:\n",
    "            return 'D'\n",
    "        elif 50001 <= row <= 200000:\n",
    "            return 'С'\n",
    "        elif 200001 <= row <= 1000000:\n",
    "            return 'B'\n",
    "        elif row >= 1000001:\n",
    "            return 'A'\n",
    "    except:\n",
    "        print('Доход меньше или равен 0')\n",
    "    \n",
    "    \n",
    "df['total_income_category'] = df['total_income'].apply(total_income_func)#Создаем новый столбец в датафрейме при помощи вышенаписанной функции и метода apply()\n",
    "display(df)"
   ]
  },
  {
   "cell_type": "code",
   "execution_count": 13,
   "id": "740de0c5",
   "metadata": {},
   "outputs": [
    {
     "data": {
      "text/plain": [
       "array(['покупка жилья', 'приобретение автомобиля',\n",
       "       'дополнительное образование', 'сыграть свадьбу',\n",
       "       'операции с жильем', 'образование', 'на проведение свадьбы',\n",
       "       'покупка жилья для семьи', 'покупка недвижимости',\n",
       "       'покупка коммерческой недвижимости', 'покупка жилой недвижимости',\n",
       "       'строительство собственной недвижимости', 'недвижимость',\n",
       "       'строительство недвижимости', 'на покупку подержанного автомобиля',\n",
       "       'на покупку своего автомобиля',\n",
       "       'операции с коммерческой недвижимостью',\n",
       "       'строительство жилой недвижимости', 'жилье',\n",
       "       'операции со своей недвижимостью', 'автомобили',\n",
       "       'заняться образованием', 'сделка с подержанным автомобилем',\n",
       "       'получение образования', 'автомобиль', 'свадьба',\n",
       "       'получение дополнительного образования', 'покупка своего жилья',\n",
       "       'операции с недвижимостью', 'получение высшего образования',\n",
       "       'свой автомобиль', 'сделка с автомобилем',\n",
       "       'профильное образование', 'высшее образование',\n",
       "       'покупка жилья для сдачи', 'на покупку автомобиля', 'ремонт жилью',\n",
       "       'заняться высшим образованием'], dtype=object)"
      ]
     },
     "metadata": {},
     "output_type": "display_data"
    }
   ],
   "source": [
    "display(df['purpose'].unique())"
   ]
  },
  {
   "cell_type": "markdown",
   "id": "e6bbeb80",
   "metadata": {},
   "source": [
    "### Шаг 2.7. Категоризация целей кредита."
   ]
  },
  {
   "cell_type": "code",
   "execution_count": 14,
   "id": "6237c1f3",
   "metadata": {},
   "outputs": [
    {
     "data": {
      "text/html": [
       "<div>\n",
       "<style scoped>\n",
       "    .dataframe tbody tr th:only-of-type {\n",
       "        vertical-align: middle;\n",
       "    }\n",
       "\n",
       "    .dataframe tbody tr th {\n",
       "        vertical-align: top;\n",
       "    }\n",
       "\n",
       "    .dataframe thead th {\n",
       "        text-align: right;\n",
       "    }\n",
       "</style>\n",
       "<table border=\"1\" class=\"dataframe\">\n",
       "  <thead>\n",
       "    <tr style=\"text-align: right;\">\n",
       "      <th></th>\n",
       "      <th>children</th>\n",
       "      <th>days_employed</th>\n",
       "      <th>dob_years</th>\n",
       "      <th>education_id</th>\n",
       "      <th>family_status_id</th>\n",
       "      <th>gender</th>\n",
       "      <th>income_type</th>\n",
       "      <th>debt</th>\n",
       "      <th>total_income</th>\n",
       "      <th>purpose</th>\n",
       "      <th>total_income_category</th>\n",
       "      <th>purpose_category</th>\n",
       "    </tr>\n",
       "  </thead>\n",
       "  <tbody>\n",
       "    <tr>\n",
       "      <td>0</td>\n",
       "      <td>1</td>\n",
       "      <td>8437.673028</td>\n",
       "      <td>42</td>\n",
       "      <td>0</td>\n",
       "      <td>0</td>\n",
       "      <td>F</td>\n",
       "      <td>сотрудник</td>\n",
       "      <td>0</td>\n",
       "      <td>253875.639453</td>\n",
       "      <td>покупка жилья</td>\n",
       "      <td>B</td>\n",
       "      <td>(операции с недвижимостью,)</td>\n",
       "    </tr>\n",
       "    <tr>\n",
       "      <td>1</td>\n",
       "      <td>1</td>\n",
       "      <td>4024.803754</td>\n",
       "      <td>36</td>\n",
       "      <td>1</td>\n",
       "      <td>0</td>\n",
       "      <td>F</td>\n",
       "      <td>сотрудник</td>\n",
       "      <td>0</td>\n",
       "      <td>112080.014102</td>\n",
       "      <td>приобретение автомобиля</td>\n",
       "      <td>С</td>\n",
       "      <td>(операции с автомобилем,)</td>\n",
       "    </tr>\n",
       "    <tr>\n",
       "      <td>2</td>\n",
       "      <td>0</td>\n",
       "      <td>5623.422610</td>\n",
       "      <td>33</td>\n",
       "      <td>1</td>\n",
       "      <td>0</td>\n",
       "      <td>M</td>\n",
       "      <td>сотрудник</td>\n",
       "      <td>0</td>\n",
       "      <td>145885.952297</td>\n",
       "      <td>покупка жилья</td>\n",
       "      <td>С</td>\n",
       "      <td>(операции с недвижимостью,)</td>\n",
       "    </tr>\n",
       "    <tr>\n",
       "      <td>3</td>\n",
       "      <td>3</td>\n",
       "      <td>4124.747207</td>\n",
       "      <td>32</td>\n",
       "      <td>1</td>\n",
       "      <td>0</td>\n",
       "      <td>M</td>\n",
       "      <td>сотрудник</td>\n",
       "      <td>0</td>\n",
       "      <td>267628.550329</td>\n",
       "      <td>дополнительное образование</td>\n",
       "      <td>B</td>\n",
       "      <td>получение образования</td>\n",
       "    </tr>\n",
       "    <tr>\n",
       "      <td>4</td>\n",
       "      <td>0</td>\n",
       "      <td>340266.072047</td>\n",
       "      <td>53</td>\n",
       "      <td>1</td>\n",
       "      <td>1</td>\n",
       "      <td>F</td>\n",
       "      <td>пенсионер</td>\n",
       "      <td>0</td>\n",
       "      <td>158616.077870</td>\n",
       "      <td>сыграть свадьбу</td>\n",
       "      <td>С</td>\n",
       "      <td>(проведение свадьбы,)</td>\n",
       "    </tr>\n",
       "    <tr>\n",
       "      <td>5</td>\n",
       "      <td>0</td>\n",
       "      <td>926.185831</td>\n",
       "      <td>27</td>\n",
       "      <td>0</td>\n",
       "      <td>1</td>\n",
       "      <td>M</td>\n",
       "      <td>компаньон</td>\n",
       "      <td>0</td>\n",
       "      <td>255763.565419</td>\n",
       "      <td>покупка жилья</td>\n",
       "      <td>B</td>\n",
       "      <td>(операции с недвижимостью,)</td>\n",
       "    </tr>\n",
       "    <tr>\n",
       "      <td>6</td>\n",
       "      <td>0</td>\n",
       "      <td>2879.202052</td>\n",
       "      <td>43</td>\n",
       "      <td>0</td>\n",
       "      <td>0</td>\n",
       "      <td>F</td>\n",
       "      <td>компаньон</td>\n",
       "      <td>0</td>\n",
       "      <td>240525.971920</td>\n",
       "      <td>операции с жильем</td>\n",
       "      <td>B</td>\n",
       "      <td>(операции с недвижимостью,)</td>\n",
       "    </tr>\n",
       "    <tr>\n",
       "      <td>7</td>\n",
       "      <td>0</td>\n",
       "      <td>152.779569</td>\n",
       "      <td>50</td>\n",
       "      <td>1</td>\n",
       "      <td>0</td>\n",
       "      <td>M</td>\n",
       "      <td>сотрудник</td>\n",
       "      <td>0</td>\n",
       "      <td>135823.934197</td>\n",
       "      <td>образование</td>\n",
       "      <td>С</td>\n",
       "      <td>получение образования</td>\n",
       "    </tr>\n",
       "    <tr>\n",
       "      <td>8</td>\n",
       "      <td>2</td>\n",
       "      <td>6929.865299</td>\n",
       "      <td>35</td>\n",
       "      <td>0</td>\n",
       "      <td>1</td>\n",
       "      <td>F</td>\n",
       "      <td>сотрудник</td>\n",
       "      <td>0</td>\n",
       "      <td>95856.832424</td>\n",
       "      <td>на проведение свадьбы</td>\n",
       "      <td>С</td>\n",
       "      <td>(проведение свадьбы,)</td>\n",
       "    </tr>\n",
       "    <tr>\n",
       "      <td>9</td>\n",
       "      <td>0</td>\n",
       "      <td>2188.756445</td>\n",
       "      <td>41</td>\n",
       "      <td>1</td>\n",
       "      <td>0</td>\n",
       "      <td>M</td>\n",
       "      <td>сотрудник</td>\n",
       "      <td>0</td>\n",
       "      <td>144425.938277</td>\n",
       "      <td>покупка жилья для семьи</td>\n",
       "      <td>С</td>\n",
       "      <td>(операции с недвижимостью,)</td>\n",
       "    </tr>\n",
       "  </tbody>\n",
       "</table>\n",
       "</div>"
      ],
      "text/plain": [
       "   children  days_employed  dob_years  education_id  family_status_id gender  \\\n",
       "0         1    8437.673028         42             0                 0      F   \n",
       "1         1    4024.803754         36             1                 0      F   \n",
       "2         0    5623.422610         33             1                 0      M   \n",
       "3         3    4124.747207         32             1                 0      M   \n",
       "4         0  340266.072047         53             1                 1      F   \n",
       "5         0     926.185831         27             0                 1      M   \n",
       "6         0    2879.202052         43             0                 0      F   \n",
       "7         0     152.779569         50             1                 0      M   \n",
       "8         2    6929.865299         35             0                 1      F   \n",
       "9         0    2188.756445         41             1                 0      M   \n",
       "\n",
       "  income_type  debt   total_income                     purpose  \\\n",
       "0   сотрудник     0  253875.639453               покупка жилья   \n",
       "1   сотрудник     0  112080.014102     приобретение автомобиля   \n",
       "2   сотрудник     0  145885.952297               покупка жилья   \n",
       "3   сотрудник     0  267628.550329  дополнительное образование   \n",
       "4   пенсионер     0  158616.077870             сыграть свадьбу   \n",
       "5   компаньон     0  255763.565419               покупка жилья   \n",
       "6   компаньон     0  240525.971920           операции с жильем   \n",
       "7   сотрудник     0  135823.934197                 образование   \n",
       "8   сотрудник     0   95856.832424       на проведение свадьбы   \n",
       "9   сотрудник     0  144425.938277     покупка жилья для семьи   \n",
       "\n",
       "  total_income_category             purpose_category  \n",
       "0                     B  (операции с недвижимостью,)  \n",
       "1                     С    (операции с автомобилем,)  \n",
       "2                     С  (операции с недвижимостью,)  \n",
       "3                     B        получение образования  \n",
       "4                     С        (проведение свадьбы,)  \n",
       "5                     B  (операции с недвижимостью,)  \n",
       "6                     B  (операции с недвижимостью,)  \n",
       "7                     С        получение образования  \n",
       "8                     С        (проведение свадьбы,)  \n",
       "9                     С  (операции с недвижимостью,)  "
      ]
     },
     "metadata": {},
     "output_type": "display_data"
    }
   ],
   "source": [
    "def purpose_def(row):\n",
    "    \n",
    "    try:\n",
    "        purpose = row['purpose']\n",
    "        if 'автомобил' in purpose: \n",
    "            return 'операции с автомобилем',\n",
    "        elif 'жиль' in purpose or 'недвижим' in purpose:\n",
    "            return'операции с недвижимостью',\n",
    "        elif 'свадьб' in purpose:\n",
    "            return'проведение свадьбы',\n",
    "        elif 'образов' in purpose:\n",
    "            return'получение образования'\n",
    "    except:\n",
    "        return('Внимание! Некорректный доход!')\n",
    "\n",
    "df['purpose_category'] = df.apply(purpose_def, axis=1)\n",
    "display(df.head(10))"
   ]
  },
  {
   "cell_type": "markdown",
   "id": "a741750f",
   "metadata": {},
   "source": [
    "### Ответы на вопросы."
   ]
  },
  {
   "cell_type": "markdown",
   "id": "46c14010",
   "metadata": {},
   "source": [
    "### Вопросы:"
   ]
  },
  {
   "cell_type": "markdown",
   "id": "74b790c6",
   "metadata": {},
   "source": [
    "1.Есть ли зависимость между количеством детей и возвратом кредита в срок?\n",
    "\n",
    "2.Есть ли зависимость между семейным положением и возвратом кредита в срок?\n",
    "\n",
    "3.Есть ли зависимость между уровнем дохода и возвратом кредита в срок?\n",
    "\n",
    "4.Как разные цели кредита влияют на его возврат в срок?"
   ]
  },
  {
   "cell_type": "markdown",
   "id": "a58096ee",
   "metadata": {},
   "source": [
    "### Ответы:"
   ]
  },
  {
   "cell_type": "code",
   "execution_count": 15,
   "id": "ae929ea0",
   "metadata": {},
   "outputs": [
    {
     "data": {
      "text/plain": [
       "children\n",
       "0    0.075438\n",
       "1    0.091658\n",
       "2    0.094925\n",
       "3    0.081818\n",
       "4    0.097561\n",
       "5    0.000000\n",
       "Name: debt, dtype: float64"
      ]
     },
     "metadata": {},
     "output_type": "display_data"
    }
   ],
   "source": [
    "display(df.groupby('children')['debt'].mean())#группируем данные для ответа на 1 вопрос, выводы в следующей ячейке\n"
   ]
  },
  {
   "cell_type": "markdown",
   "id": "ac28667c",
   "metadata": {},
   "source": [
    "1.Как видно из данных, чем больше детей, тем чаще люди не отдавали кредит в срок.\n"
   ]
  },
  {
   "cell_type": "code",
   "execution_count": 16,
   "id": "491de267",
   "metadata": {},
   "outputs": [
    {
     "data": {
      "text/plain": [
       "family_status_id\n",
       "0    0.075452\n",
       "1    0.093471\n",
       "2    0.065693\n",
       "3    0.071130\n",
       "4    0.097509\n",
       "Name: debt, dtype: float64"
      ]
     },
     "metadata": {},
     "output_type": "display_data"
    }
   ],
   "source": [
    "display(df.groupby('family_status_id')['debt'].mean())#группируем данные для ответа на 2 вопрос, выводы в следующей ячейке\n"
   ]
  },
  {
   "cell_type": "markdown",
   "id": "b2e0cf3a",
   "metadata": {},
   "source": [
    "2.Холостяки, холостячки и проживающие в гражданском браке чаще всех прочих не отдают кредиты в срок, затем идут окольцованные, разведёныши на втором месте, видимо сказывается опыт дележки..., ну и на вершине нашего хит парада прилежных крепостных сегодня располагаются вдовцы."
   ]
  },
  {
   "cell_type": "code",
   "execution_count": 17,
   "id": "9e5b318d",
   "metadata": {},
   "outputs": [
    {
     "data": {
      "text/plain": [
       "debt\n",
       "0    165569.783087\n",
       "1    161335.185907\n",
       "Name: total_income, dtype: float64"
      ]
     },
     "metadata": {},
     "output_type": "display_data"
    }
   ],
   "source": [
    "display(df.groupby('debt')['total_income'].mean())#группируем данные для ответа на 3 вопрос, выводы в следующей ячейке\n"
   ]
  },
  {
   "cell_type": "markdown",
   "id": "af1d9fb8",
   "metadata": {},
   "source": [
    "3.Есть деньги, нет проблем! Большая зарплаты, реже всё идёт не по плану.\n"
   ]
  },
  {
   "cell_type": "code",
   "execution_count": 18,
   "id": "071e07e6",
   "metadata": {},
   "outputs": [
    {
     "data": {
      "text/plain": [
       "purpose_category\n",
       "(операции с автомобилем,)      0.093590\n",
       "(операции с недвижимостью,)    0.072334\n",
       "(проведение свадьбы,)          0.080034\n",
       "получение образования          0.092200\n",
       "Name: debt, dtype: float64"
      ]
     },
     "metadata": {},
     "output_type": "display_data"
    },
    {
     "data": {
      "text/html": [
       "<div>\n",
       "<style scoped>\n",
       "    .dataframe tbody tr th:only-of-type {\n",
       "        vertical-align: middle;\n",
       "    }\n",
       "\n",
       "    .dataframe tbody tr th {\n",
       "        vertical-align: top;\n",
       "    }\n",
       "\n",
       "    .dataframe thead th {\n",
       "        text-align: right;\n",
       "    }\n",
       "</style>\n",
       "<table border=\"1\" class=\"dataframe\">\n",
       "  <thead>\n",
       "    <tr style=\"text-align: right;\">\n",
       "      <th></th>\n",
       "      <th>family_status_id</th>\n",
       "      <th>family_status</th>\n",
       "    </tr>\n",
       "  </thead>\n",
       "  <tbody>\n",
       "    <tr>\n",
       "      <td>0</td>\n",
       "      <td>0</td>\n",
       "      <td>женат / замужем</td>\n",
       "    </tr>\n",
       "    <tr>\n",
       "      <td>1</td>\n",
       "      <td>1</td>\n",
       "      <td>гражданский брак</td>\n",
       "    </tr>\n",
       "    <tr>\n",
       "      <td>2</td>\n",
       "      <td>2</td>\n",
       "      <td>вдовец / вдова</td>\n",
       "    </tr>\n",
       "    <tr>\n",
       "      <td>3</td>\n",
       "      <td>3</td>\n",
       "      <td>в разводе</td>\n",
       "    </tr>\n",
       "    <tr>\n",
       "      <td>4</td>\n",
       "      <td>4</td>\n",
       "      <td>Не женат / не замужем</td>\n",
       "    </tr>\n",
       "  </tbody>\n",
       "</table>\n",
       "</div>"
      ],
      "text/plain": [
       "   family_status_id          family_status\n",
       "0                 0        женат / замужем\n",
       "1                 1       гражданский брак\n",
       "2                 2         вдовец / вдова\n",
       "3                 3              в разводе\n",
       "4                 4  Не женат / не замужем"
      ]
     },
     "metadata": {},
     "output_type": "display_data"
    }
   ],
   "source": [
    "display(df.groupby('purpose_category')['debt'].mean())#группируем данные для ответа на 4 вопрос, выводы в следующей ячейке\n",
    "display(family_status)#вывел для наглядности, а то неудобно сопоставлять как-то по адишникам\n",
    "\n"
   ]
  },
  {
   "cell_type": "markdown",
   "id": "2116fbe9",
   "metadata": {},
   "source": [
    "4.Ну и в последнем сравнении мы видим, что легче всех расстаются с некогда им не принадлежавшими деньгами ипотечники(звучит как недуг, типа сердечники), на втором месте брачуны, ну и плюс-минус парритет в неотдаваемости денег в срок у фанатов автокредитов и грызущих гранит науки."
   ]
  },
  {
   "cell_type": "markdown",
   "id": "174ef105",
   "metadata": {},
   "source": [
    "### Выводы:"
   ]
  },
  {
   "cell_type": "markdown",
   "id": "71a99592",
   "metadata": {},
   "source": [
    "1.Как видно из данных, чем больше детей, тем чаще люди не отдавали кредит в срок.\n",
    "\n",
    "2.Холостяки, холостячки и проживающие в гражданском браке чаще всех прочих не отдают кредиты в срок, затем идут окольцованные, разведёныши на втором месте, видимо сказывается опыт дележки..., ну и на вершине нашего хит парада прилежных крепостных сегодня располагаются вдовцы.\n",
    "\n",
    "3.Есть деньги, нет проблем! Большая зарплаты, реже всё идёт не по плану.\n",
    "\n",
    "4.Ну и в последнем сравнении мы видим, что легче всех расстаются с некогда им не принадлежавшими деньгами ипотечники(звучит как недуг, типа сердечники), на втором месте брачуны, ну и плюс-минус парритет в неотдаваемости денег в срок у фанатов автокредитов и грызущих гранит науки."
   ]
  },
  {
   "cell_type": "markdown",
   "id": "a7b8c50a",
   "metadata": {},
   "source": [
    "## Общий вывод:"
   ]
  },
  {
   "cell_type": "markdown",
   "id": "29fba312",
   "metadata": {},
   "source": [
    "1.Бездетные вдовцы и вдовы получающие много денег и инвестирующие их в недвижимость - наши(банкиров) лучшие друзья, милости просим за новым кредитом!\n",
    "\n",
    "2.Похоже кредита мне не видать... По крайней мере пока не закончу Яндекс:D\n"
   ]
  }
 ],
 "metadata": {
  "ExecuteTimeLog": [
   {
    "duration": 125,
    "start_time": "2022-02-23T14:24:49.008Z"
   },
   {
    "duration": 642,
    "start_time": "2022-02-23T14:25:18.718Z"
   },
   {
    "duration": 52,
    "start_time": "2022-02-23T14:37:03.369Z"
   },
   {
    "duration": 13,
    "start_time": "2022-02-23T14:37:36.265Z"
   },
   {
    "duration": 10,
    "start_time": "2022-02-23T14:37:50.818Z"
   },
   {
    "duration": 13,
    "start_time": "2022-02-23T14:38:29.944Z"
   },
   {
    "duration": 327,
    "start_time": "2022-02-23T18:59:45.439Z"
   },
   {
    "duration": 842,
    "start_time": "2022-02-23T19:00:01.198Z"
   },
   {
    "duration": 11,
    "start_time": "2022-02-23T19:00:02.043Z"
   },
   {
    "duration": 10,
    "start_time": "2022-02-23T19:23:06.234Z"
   },
   {
    "duration": 9,
    "start_time": "2022-02-23T19:23:48.691Z"
   },
   {
    "duration": 11,
    "start_time": "2022-02-23T20:17:30.164Z"
   },
   {
    "duration": 20,
    "start_time": "2022-02-23T21:11:21.611Z"
   },
   {
    "duration": 29,
    "start_time": "2022-02-23T21:12:31.589Z"
   },
   {
    "duration": 26,
    "start_time": "2022-02-23T21:22:52.337Z"
   },
   {
    "duration": 24,
    "start_time": "2022-02-23T21:24:18.727Z"
   },
   {
    "duration": 28,
    "start_time": "2022-02-23T21:25:43.599Z"
   },
   {
    "duration": 6,
    "start_time": "2022-02-23T21:47:44.427Z"
   },
   {
    "duration": 25,
    "start_time": "2022-02-23T21:48:12.818Z"
   },
   {
    "duration": 24,
    "start_time": "2022-02-23T21:49:02.636Z"
   },
   {
    "duration": 212,
    "start_time": "2022-02-26T16:32:29.682Z"
   },
   {
    "duration": 575,
    "start_time": "2022-02-26T16:32:42.114Z"
   },
   {
    "duration": 11,
    "start_time": "2022-02-26T16:32:42.691Z"
   },
   {
    "duration": 16,
    "start_time": "2022-02-26T16:32:42.704Z"
   },
   {
    "duration": 8,
    "start_time": "2022-02-26T16:33:09.015Z"
   },
   {
    "duration": 13,
    "start_time": "2022-02-26T16:33:22.567Z"
   },
   {
    "duration": 8,
    "start_time": "2022-02-26T16:33:38.667Z"
   },
   {
    "duration": 11,
    "start_time": "2022-02-26T16:34:32.174Z"
   },
   {
    "duration": 12,
    "start_time": "2022-02-26T16:34:45.574Z"
   },
   {
    "duration": 991,
    "start_time": "2022-02-26T16:38:03.264Z"
   },
   {
    "duration": 264,
    "start_time": "2022-02-26T16:44:07.190Z"
   },
   {
    "duration": -335,
    "start_time": "2022-02-26T17:03:44.951Z"
   },
   {
    "duration": 256,
    "start_time": "2022-02-26T17:21:45.907Z"
   },
   {
    "duration": 556,
    "start_time": "2022-02-26T17:21:46.165Z"
   },
   {
    "duration": 18,
    "start_time": "2022-02-26T17:21:46.724Z"
   },
   {
    "duration": 564,
    "start_time": "2022-02-26T17:22:17.460Z"
   },
   {
    "duration": 605,
    "start_time": "2022-02-26T17:24:00.690Z"
   },
   {
    "duration": 635,
    "start_time": "2022-02-26T18:23:11.530Z"
   },
   {
    "duration": 1054,
    "start_time": "2022-02-26T18:23:12.167Z"
   },
   {
    "duration": 18,
    "start_time": "2022-02-26T18:23:13.223Z"
   },
   {
    "duration": 301,
    "start_time": "2022-02-26T18:26:15.843Z"
   },
   {
    "duration": 962,
    "start_time": "2022-02-26T18:27:18.760Z"
   },
   {
    "duration": 195,
    "start_time": "2022-02-26T18:28:27.174Z"
   },
   {
    "duration": 979,
    "start_time": "2022-02-26T19:05:13.223Z"
   },
   {
    "duration": 11,
    "start_time": "2022-02-26T19:06:15.555Z"
   },
   {
    "duration": 239,
    "start_time": "2022-02-26T19:06:37.771Z"
   },
   {
    "duration": 20,
    "start_time": "2022-02-26T19:07:51.899Z"
   },
   {
    "duration": 258,
    "start_time": "2022-02-26T19:08:12.645Z"
   },
   {
    "duration": 668,
    "start_time": "2022-02-26T19:10:52.537Z"
   },
   {
    "duration": 206,
    "start_time": "2022-02-26T19:14:41.897Z"
   },
   {
    "duration": 246,
    "start_time": "2022-02-26T19:14:53.784Z"
   },
   {
    "duration": 198,
    "start_time": "2022-02-26T19:33:00.708Z"
   },
   {
    "duration": 207,
    "start_time": "2022-02-26T19:34:58.250Z"
   },
   {
    "duration": 238,
    "start_time": "2022-02-26T19:36:04.441Z"
   },
   {
    "duration": 192,
    "start_time": "2022-02-26T19:36:42.862Z"
   },
   {
    "duration": 441,
    "start_time": "2022-02-26T19:37:26.620Z"
   },
   {
    "duration": 367,
    "start_time": "2022-02-26T19:39:09.489Z"
   },
   {
    "duration": 224,
    "start_time": "2022-02-26T20:00:34.107Z"
   },
   {
    "duration": 292,
    "start_time": "2022-02-26T20:00:56.346Z"
   },
   {
    "duration": 287,
    "start_time": "2022-02-26T20:01:33.172Z"
   },
   {
    "duration": 293,
    "start_time": "2022-02-26T20:03:22.155Z"
   },
   {
    "duration": 494,
    "start_time": "2022-02-26T20:05:23.316Z"
   },
   {
    "duration": 14,
    "start_time": "2022-02-26T20:07:12.933Z"
   },
   {
    "duration": 15,
    "start_time": "2022-02-26T20:07:44.365Z"
   },
   {
    "duration": 33,
    "start_time": "2022-02-26T20:08:14.843Z"
   },
   {
    "duration": 2271,
    "start_time": "2022-02-26T20:08:32.752Z"
   },
   {
    "duration": 570,
    "start_time": "2022-02-26T20:09:05.761Z"
   },
   {
    "duration": 356,
    "start_time": "2022-02-26T20:11:29.033Z"
   },
   {
    "duration": 495,
    "start_time": "2022-02-26T20:11:54.853Z"
   },
   {
    "duration": 486,
    "start_time": "2022-02-26T20:14:34.537Z"
   },
   {
    "duration": 51,
    "start_time": "2022-02-26T20:14:47.478Z"
   },
   {
    "duration": 465,
    "start_time": "2022-02-26T20:14:47.530Z"
   },
   {
    "duration": 2,
    "start_time": "2022-02-26T20:14:47.997Z"
   },
   {
    "duration": 458,
    "start_time": "2022-02-26T20:17:15.864Z"
   },
   {
    "duration": 249,
    "start_time": "2022-02-26T20:50:33.870Z"
   },
   {
    "duration": 489,
    "start_time": "2022-02-26T20:50:51.402Z"
   },
   {
    "duration": 589,
    "start_time": "2022-02-26T20:58:35.426Z"
   },
   {
    "duration": 611,
    "start_time": "2022-02-27T12:18:35.443Z"
   },
   {
    "duration": 3,
    "start_time": "2022-02-27T12:39:44.269Z"
   },
   {
    "duration": 2213,
    "start_time": "2022-03-11T10:22:15.438Z"
   },
   {
    "duration": -24,
    "start_time": "2022-03-11T10:22:17.678Z"
   },
   {
    "duration": -27,
    "start_time": "2022-03-11T10:22:17.681Z"
   },
   {
    "duration": -28,
    "start_time": "2022-03-11T10:22:17.683Z"
   },
   {
    "duration": -29,
    "start_time": "2022-03-11T10:22:17.685Z"
   },
   {
    "duration": -30,
    "start_time": "2022-03-11T10:22:17.687Z"
   },
   {
    "duration": -31,
    "start_time": "2022-03-11T10:22:17.689Z"
   },
   {
    "duration": -31,
    "start_time": "2022-03-11T10:22:17.690Z"
   },
   {
    "duration": -32,
    "start_time": "2022-03-11T10:22:17.692Z"
   },
   {
    "duration": -33,
    "start_time": "2022-03-11T10:22:17.693Z"
   },
   {
    "duration": -34,
    "start_time": "2022-03-11T10:22:17.695Z"
   },
   {
    "duration": -35,
    "start_time": "2022-03-11T10:22:17.697Z"
   },
   {
    "duration": -35,
    "start_time": "2022-03-11T10:22:17.698Z"
   },
   {
    "duration": -36,
    "start_time": "2022-03-11T10:22:17.700Z"
   },
   {
    "duration": -36,
    "start_time": "2022-03-11T10:22:17.701Z"
   },
   {
    "duration": 1920,
    "start_time": "2022-03-11T10:33:32.331Z"
   },
   {
    "duration": 9,
    "start_time": "2022-03-11T10:33:34.245Z"
   },
   {
    "duration": 8,
    "start_time": "2022-03-11T10:33:34.247Z"
   },
   {
    "duration": 7,
    "start_time": "2022-03-11T10:33:34.249Z"
   },
   {
    "duration": 6,
    "start_time": "2022-03-11T10:33:34.251Z"
   },
   {
    "duration": 5,
    "start_time": "2022-03-11T10:33:34.253Z"
   },
   {
    "duration": 5,
    "start_time": "2022-03-11T10:33:34.254Z"
   },
   {
    "duration": 4,
    "start_time": "2022-03-11T10:33:34.256Z"
   },
   {
    "duration": 4,
    "start_time": "2022-03-11T10:33:34.257Z"
   },
   {
    "duration": 3,
    "start_time": "2022-03-11T10:33:34.259Z"
   },
   {
    "duration": 3,
    "start_time": "2022-03-11T10:33:34.260Z"
   },
   {
    "duration": 2,
    "start_time": "2022-03-11T10:33:34.262Z"
   },
   {
    "duration": 1,
    "start_time": "2022-03-11T10:33:34.264Z"
   },
   {
    "duration": 0,
    "start_time": "2022-03-11T10:33:34.266Z"
   },
   {
    "duration": 1,
    "start_time": "2022-03-11T10:33:34.267Z"
   },
   {
    "duration": 894,
    "start_time": "2022-03-11T17:05:42.673Z"
   },
   {
    "duration": 133,
    "start_time": "2022-03-11T17:15:42.840Z"
   },
   {
    "duration": 132,
    "start_time": "2022-03-11T17:15:51.237Z"
   },
   {
    "duration": 101,
    "start_time": "2022-03-11T17:16:02.799Z"
   },
   {
    "duration": 105,
    "start_time": "2022-03-11T17:16:27.603Z"
   },
   {
    "duration": 89,
    "start_time": "2022-03-11T17:22:34.260Z"
   },
   {
    "duration": 92,
    "start_time": "2022-03-11T17:23:23.092Z"
   },
   {
    "duration": 96,
    "start_time": "2022-03-11T17:23:39.305Z"
   },
   {
    "duration": 70,
    "start_time": "2022-03-11T17:25:18.729Z"
   },
   {
    "duration": 25,
    "start_time": "2022-03-11T17:25:18.803Z"
   },
   {
    "duration": 455,
    "start_time": "2022-03-11T17:25:18.833Z"
   },
   {
    "duration": 315,
    "start_time": "2022-03-11T17:25:19.291Z"
   },
   {
    "duration": 20,
    "start_time": "2022-03-11T17:25:19.608Z"
   },
   {
    "duration": 11,
    "start_time": "2022-03-11T17:25:19.630Z"
   },
   {
    "duration": 39,
    "start_time": "2022-03-11T17:25:19.644Z"
   },
   {
    "duration": 24,
    "start_time": "2022-03-11T17:25:19.685Z"
   },
   {
    "duration": 38,
    "start_time": "2022-03-11T17:25:19.713Z"
   },
   {
    "duration": 99,
    "start_time": "2022-03-11T17:25:19.754Z"
   },
   {
    "duration": 128,
    "start_time": "2022-03-11T17:25:19.856Z"
   },
   {
    "duration": 44,
    "start_time": "2022-03-11T17:25:19.987Z"
   },
   {
    "duration": 20,
    "start_time": "2022-03-11T17:25:20.033Z"
   },
   {
    "duration": 429,
    "start_time": "2022-03-11T17:25:20.055Z"
   },
   {
    "duration": 38,
    "start_time": "2022-03-11T17:25:20.486Z"
   },
   {
    "duration": 91,
    "start_time": "2022-03-11T17:29:32.896Z"
   },
   {
    "duration": 94,
    "start_time": "2022-03-11T17:33:08.517Z"
   },
   {
    "duration": 16,
    "start_time": "2022-03-11T17:36:05.627Z"
   },
   {
    "duration": 294,
    "start_time": "2022-03-11T17:38:29.110Z"
   },
   {
    "duration": 350,
    "start_time": "2022-03-11T17:39:07.127Z"
   },
   {
    "duration": 327,
    "start_time": "2022-03-11T17:39:22.098Z"
   },
   {
    "duration": 375,
    "start_time": "2022-03-11T17:40:34.315Z"
   },
   {
    "duration": 350,
    "start_time": "2022-03-11T17:40:45.540Z"
   },
   {
    "duration": 379,
    "start_time": "2022-03-11T17:41:18.361Z"
   },
   {
    "duration": 423,
    "start_time": "2022-03-11T17:41:39.504Z"
   },
   {
    "duration": 348,
    "start_time": "2022-03-11T17:49:16.182Z"
   },
   {
    "duration": 314,
    "start_time": "2022-03-11T17:49:58.101Z"
   },
   {
    "duration": 309,
    "start_time": "2022-03-11T17:51:45.826Z"
   },
   {
    "duration": 16,
    "start_time": "2022-03-11T17:53:41.257Z"
   },
   {
    "duration": 49,
    "start_time": "2022-03-11T17:53:53.105Z"
   },
   {
    "duration": 66,
    "start_time": "2022-03-11T17:54:27.038Z"
   },
   {
    "duration": 66,
    "start_time": "2022-03-11T17:58:14.155Z"
   },
   {
    "duration": 362,
    "start_time": "2022-03-11T17:59:30.569Z"
   },
   {
    "duration": 7242,
    "start_time": "2022-03-11T18:00:28.667Z"
   },
   {
    "duration": 7626,
    "start_time": "2022-03-11T18:01:04.294Z"
   },
   {
    "duration": 275,
    "start_time": "2022-03-11T18:02:15.908Z"
   },
   {
    "duration": 296,
    "start_time": "2022-03-11T18:02:31.551Z"
   },
   {
    "duration": 298,
    "start_time": "2022-03-11T18:02:41.199Z"
   },
   {
    "duration": 385,
    "start_time": "2022-03-11T18:02:50.172Z"
   },
   {
    "duration": 66,
    "start_time": "2022-03-11T19:48:33.452Z"
   },
   {
    "duration": 68,
    "start_time": "2022-03-11T19:49:23.069Z"
   },
   {
    "duration": 66,
    "start_time": "2022-03-11T19:49:25.514Z"
   },
   {
    "duration": 61,
    "start_time": "2022-03-11T19:50:45.433Z"
   },
   {
    "duration": 378,
    "start_time": "2022-03-11T19:51:27.071Z"
   },
   {
    "duration": 68,
    "start_time": "2022-03-11T19:52:31.164Z"
   },
   {
    "duration": 65,
    "start_time": "2022-03-11T19:54:09.751Z"
   },
   {
    "duration": 105,
    "start_time": "2022-03-11T19:54:56.519Z"
   },
   {
    "duration": 60,
    "start_time": "2022-03-11T19:55:31.928Z"
   },
   {
    "duration": 46,
    "start_time": "2022-03-11T19:58:51.439Z"
   },
   {
    "duration": 92,
    "start_time": "2022-03-11T19:59:32.727Z"
   },
   {
    "duration": 668,
    "start_time": "2022-03-13T08:18:57.992Z"
   },
   {
    "duration": 13,
    "start_time": "2022-03-13T08:18:58.661Z"
   },
   {
    "duration": 227,
    "start_time": "2022-03-13T08:18:58.676Z"
   },
   {
    "duration": 166,
    "start_time": "2022-03-13T08:18:58.904Z"
   },
   {
    "duration": 48,
    "start_time": "2022-03-13T08:18:59.071Z"
   },
   {
    "duration": 9,
    "start_time": "2022-03-13T08:18:59.120Z"
   },
   {
    "duration": 13,
    "start_time": "2022-03-13T08:18:59.131Z"
   },
   {
    "duration": 25,
    "start_time": "2022-03-13T08:18:59.146Z"
   },
   {
    "duration": 72,
    "start_time": "2022-03-13T08:18:59.173Z"
   },
   {
    "duration": 68,
    "start_time": "2022-03-13T08:18:59.246Z"
   },
   {
    "duration": 24,
    "start_time": "2022-03-13T08:18:59.316Z"
   },
   {
    "duration": 8,
    "start_time": "2022-03-13T08:18:59.342Z"
   },
   {
    "duration": 250,
    "start_time": "2022-03-13T08:18:59.352Z"
   },
   {
    "duration": 20,
    "start_time": "2022-03-13T08:18:59.603Z"
   },
   {
    "duration": 706,
    "start_time": "2022-03-13T08:26:59.013Z"
   },
   {
    "duration": 13,
    "start_time": "2022-03-13T08:26:59.721Z"
   },
   {
    "duration": 242,
    "start_time": "2022-03-13T08:26:59.737Z"
   },
   {
    "duration": 211,
    "start_time": "2022-03-13T08:26:59.981Z"
   },
   {
    "duration": 52,
    "start_time": "2022-03-13T08:27:00.194Z"
   },
   {
    "duration": 11,
    "start_time": "2022-03-13T08:27:00.248Z"
   },
   {
    "duration": 15,
    "start_time": "2022-03-13T08:27:00.260Z"
   },
   {
    "duration": 49,
    "start_time": "2022-03-13T08:27:00.278Z"
   },
   {
    "duration": 48,
    "start_time": "2022-03-13T08:27:00.329Z"
   },
   {
    "duration": 80,
    "start_time": "2022-03-13T08:27:00.379Z"
   },
   {
    "duration": 48,
    "start_time": "2022-03-13T08:27:00.461Z"
   },
   {
    "duration": 6,
    "start_time": "2022-03-13T08:27:00.511Z"
   },
   {
    "duration": 235,
    "start_time": "2022-03-13T08:27:00.519Z"
   },
   {
    "duration": 23,
    "start_time": "2022-03-13T08:27:00.756Z"
   },
   {
    "duration": 202,
    "start_time": "2022-03-13T11:32:21.945Z"
   },
   {
    "duration": 602,
    "start_time": "2022-03-13T11:32:32.559Z"
   },
   {
    "duration": 15,
    "start_time": "2022-03-13T11:32:33.162Z"
   },
   {
    "duration": 262,
    "start_time": "2022-03-13T11:32:33.179Z"
   },
   {
    "duration": 181,
    "start_time": "2022-03-13T11:32:33.443Z"
   },
   {
    "duration": 52,
    "start_time": "2022-03-13T11:32:33.625Z"
   },
   {
    "duration": 10,
    "start_time": "2022-03-13T11:32:33.678Z"
   },
   {
    "duration": 17,
    "start_time": "2022-03-13T11:32:33.690Z"
   },
   {
    "duration": 59,
    "start_time": "2022-03-13T11:32:33.709Z"
   },
   {
    "duration": 69,
    "start_time": "2022-03-13T11:32:33.770Z"
   },
   {
    "duration": 62,
    "start_time": "2022-03-13T11:32:33.841Z"
   },
   {
    "duration": 47,
    "start_time": "2022-03-13T11:32:33.904Z"
   },
   {
    "duration": 5,
    "start_time": "2022-03-13T11:32:33.952Z"
   },
   {
    "duration": 253,
    "start_time": "2022-03-13T11:32:33.958Z"
   },
   {
    "duration": 32,
    "start_time": "2022-03-13T11:32:34.212Z"
   },
   {
    "duration": 4,
    "start_time": "2022-03-13T11:40:41.991Z"
   },
   {
    "duration": 9,
    "start_time": "2022-03-13T11:40:50.023Z"
   },
   {
    "duration": 9,
    "start_time": "2022-03-13T11:41:58.620Z"
   },
   {
    "duration": 73,
    "start_time": "2022-03-13T11:42:13.002Z"
   },
   {
    "duration": 18,
    "start_time": "2022-03-13T11:42:13.077Z"
   },
   {
    "duration": 306,
    "start_time": "2022-03-13T11:42:13.097Z"
   },
   {
    "duration": 341,
    "start_time": "2022-03-13T11:42:13.406Z"
   },
   {
    "duration": 51,
    "start_time": "2022-03-13T11:42:13.749Z"
   },
   {
    "duration": 6,
    "start_time": "2022-03-13T11:42:13.802Z"
   },
   {
    "duration": 32,
    "start_time": "2022-03-13T11:42:13.810Z"
   },
   {
    "duration": 14,
    "start_time": "2022-03-13T11:42:13.844Z"
   },
   {
    "duration": 26,
    "start_time": "2022-03-13T11:42:13.860Z"
   },
   {
    "duration": 74,
    "start_time": "2022-03-13T11:42:13.888Z"
   },
   {
    "duration": 73,
    "start_time": "2022-03-13T11:42:13.964Z"
   },
   {
    "duration": 26,
    "start_time": "2022-03-13T11:42:14.038Z"
   },
   {
    "duration": 6,
    "start_time": "2022-03-13T11:42:14.066Z"
   },
   {
    "duration": 258,
    "start_time": "2022-03-13T11:42:14.074Z"
   },
   {
    "duration": 24,
    "start_time": "2022-03-13T11:42:14.334Z"
   },
   {
    "duration": 6,
    "start_time": "2022-03-13T11:43:04.463Z"
   },
   {
    "duration": 51,
    "start_time": "2022-03-13T11:43:12.939Z"
   },
   {
    "duration": 14,
    "start_time": "2022-03-13T11:43:12.991Z"
   },
   {
    "duration": 181,
    "start_time": "2022-03-13T11:43:13.007Z"
   },
   {
    "duration": 179,
    "start_time": "2022-03-13T11:43:13.190Z"
   },
   {
    "duration": 46,
    "start_time": "2022-03-13T11:43:13.371Z"
   },
   {
    "duration": 5,
    "start_time": "2022-03-13T11:43:13.432Z"
   },
   {
    "duration": 15,
    "start_time": "2022-03-13T11:43:13.439Z"
   },
   {
    "duration": 15,
    "start_time": "2022-03-13T11:43:13.455Z"
   },
   {
    "duration": 26,
    "start_time": "2022-03-13T11:43:13.472Z"
   },
   {
    "duration": 71,
    "start_time": "2022-03-13T11:43:13.500Z"
   },
   {
    "duration": 79,
    "start_time": "2022-03-13T11:43:13.573Z"
   },
   {
    "duration": 31,
    "start_time": "2022-03-13T11:43:13.654Z"
   },
   {
    "duration": 5,
    "start_time": "2022-03-13T11:43:13.687Z"
   },
   {
    "duration": 256,
    "start_time": "2022-03-13T11:43:13.694Z"
   },
   {
    "duration": 25,
    "start_time": "2022-03-13T11:43:13.952Z"
   },
   {
    "duration": 11,
    "start_time": "2022-03-13T11:44:19.492Z"
   },
   {
    "duration": 50,
    "start_time": "2022-03-13T11:44:43.772Z"
   },
   {
    "duration": 14,
    "start_time": "2022-03-13T11:44:43.825Z"
   },
   {
    "duration": 177,
    "start_time": "2022-03-13T11:44:43.842Z"
   },
   {
    "duration": 194,
    "start_time": "2022-03-13T11:44:44.021Z"
   },
   {
    "duration": 55,
    "start_time": "2022-03-13T11:44:44.217Z"
   },
   {
    "duration": 18,
    "start_time": "2022-03-13T11:44:44.274Z"
   },
   {
    "duration": 41,
    "start_time": "2022-03-13T11:44:44.294Z"
   },
   {
    "duration": 17,
    "start_time": "2022-03-13T11:44:44.337Z"
   },
   {
    "duration": 27,
    "start_time": "2022-03-13T11:44:44.357Z"
   },
   {
    "duration": 76,
    "start_time": "2022-03-13T11:44:44.386Z"
   },
   {
    "duration": 77,
    "start_time": "2022-03-13T11:44:44.464Z"
   },
   {
    "duration": 30,
    "start_time": "2022-03-13T11:44:44.543Z"
   },
   {
    "duration": 6,
    "start_time": "2022-03-13T11:44:44.575Z"
   },
   {
    "duration": 261,
    "start_time": "2022-03-13T11:44:44.583Z"
   },
   {
    "duration": 25,
    "start_time": "2022-03-13T11:44:44.846Z"
   },
   {
    "duration": 56,
    "start_time": "2022-03-13T11:47:17.833Z"
   },
   {
    "duration": 12,
    "start_time": "2022-03-13T11:47:17.891Z"
   },
   {
    "duration": 197,
    "start_time": "2022-03-13T11:47:17.905Z"
   },
   {
    "duration": 190,
    "start_time": "2022-03-13T11:47:18.104Z"
   },
   {
    "duration": 59,
    "start_time": "2022-03-13T11:47:18.295Z"
   },
   {
    "duration": 16,
    "start_time": "2022-03-13T11:47:18.356Z"
   },
   {
    "duration": 9,
    "start_time": "2022-03-13T11:47:18.374Z"
   },
   {
    "duration": 14,
    "start_time": "2022-03-13T11:47:18.385Z"
   },
   {
    "duration": 56,
    "start_time": "2022-03-13T11:47:18.401Z"
   },
   {
    "duration": 49,
    "start_time": "2022-03-13T11:47:18.459Z"
   },
   {
    "duration": 82,
    "start_time": "2022-03-13T11:47:18.510Z"
   },
   {
    "duration": 44,
    "start_time": "2022-03-13T11:47:18.594Z"
   },
   {
    "duration": 5,
    "start_time": "2022-03-13T11:47:18.640Z"
   },
   {
    "duration": 260,
    "start_time": "2022-03-13T11:47:18.647Z"
   },
   {
    "duration": 36,
    "start_time": "2022-03-13T11:47:18.909Z"
   },
   {
    "duration": 53,
    "start_time": "2022-03-13T11:48:01.140Z"
   },
   {
    "duration": 16,
    "start_time": "2022-03-13T11:48:01.195Z"
   },
   {
    "duration": 287,
    "start_time": "2022-03-13T11:48:01.214Z"
   },
   {
    "duration": 273,
    "start_time": "2022-03-13T11:48:01.503Z"
   },
   {
    "duration": 79,
    "start_time": "2022-03-13T11:48:01.778Z"
   },
   {
    "duration": 7,
    "start_time": "2022-03-13T11:48:01.859Z"
   },
   {
    "duration": 22,
    "start_time": "2022-03-13T11:48:01.868Z"
   },
   {
    "duration": 20,
    "start_time": "2022-03-13T11:48:01.893Z"
   },
   {
    "duration": 40,
    "start_time": "2022-03-13T11:48:01.934Z"
   },
   {
    "duration": 93,
    "start_time": "2022-03-13T11:48:01.976Z"
   },
   {
    "duration": 78,
    "start_time": "2022-03-13T11:48:02.070Z"
   },
   {
    "duration": 30,
    "start_time": "2022-03-13T11:48:02.150Z"
   },
   {
    "duration": 16,
    "start_time": "2022-03-13T11:48:02.181Z"
   },
   {
    "duration": 253,
    "start_time": "2022-03-13T11:48:02.199Z"
   },
   {
    "duration": 25,
    "start_time": "2022-03-13T11:48:02.454Z"
   },
   {
    "duration": 6,
    "start_time": "2022-03-13T11:57:04.658Z"
   },
   {
    "duration": 65,
    "start_time": "2022-03-13T11:58:40.012Z"
   },
   {
    "duration": 101,
    "start_time": "2022-03-13T12:01:04.337Z"
   },
   {
    "duration": 53,
    "start_time": "2022-03-13T12:02:08.210Z"
   },
   {
    "duration": 13,
    "start_time": "2022-03-13T12:02:08.265Z"
   },
   {
    "duration": 182,
    "start_time": "2022-03-13T12:02:08.280Z"
   },
   {
    "duration": 176,
    "start_time": "2022-03-13T12:02:08.464Z"
   },
   {
    "duration": 119,
    "start_time": "2022-03-13T12:02:08.642Z"
   },
   {
    "duration": 6,
    "start_time": "2022-03-13T12:02:08.762Z"
   },
   {
    "duration": 11,
    "start_time": "2022-03-13T12:02:08.770Z"
   },
   {
    "duration": 14,
    "start_time": "2022-03-13T12:02:08.783Z"
   },
   {
    "duration": 52,
    "start_time": "2022-03-13T12:02:08.799Z"
   },
   {
    "duration": 51,
    "start_time": "2022-03-13T12:02:08.853Z"
   },
   {
    "duration": 80,
    "start_time": "2022-03-13T12:02:08.906Z"
   },
   {
    "duration": 47,
    "start_time": "2022-03-13T12:02:08.988Z"
   },
   {
    "duration": 7,
    "start_time": "2022-03-13T12:02:09.037Z"
   },
   {
    "duration": 246,
    "start_time": "2022-03-13T12:02:09.045Z"
   },
   {
    "duration": 8,
    "start_time": "2022-03-13T12:02:09.293Z"
   },
   {
    "duration": 6,
    "start_time": "2022-03-13T12:02:09.303Z"
   },
   {
    "duration": 23,
    "start_time": "2022-03-13T12:02:09.311Z"
   },
   {
    "duration": 11,
    "start_time": "2022-03-13T12:02:09.336Z"
   },
   {
    "duration": 839,
    "start_time": "2022-03-14T06:02:22.076Z"
   },
   {
    "duration": 21,
    "start_time": "2022-03-14T06:02:22.918Z"
   },
   {
    "duration": 439,
    "start_time": "2022-03-14T06:02:22.942Z"
   },
   {
    "duration": 323,
    "start_time": "2022-03-14T06:02:23.387Z"
   },
   {
    "duration": 85,
    "start_time": "2022-03-14T06:02:23.713Z"
   },
   {
    "duration": 10,
    "start_time": "2022-03-14T06:02:23.801Z"
   },
   {
    "duration": 16,
    "start_time": "2022-03-14T06:02:23.813Z"
   },
   {
    "duration": 54,
    "start_time": "2022-03-14T06:02:23.834Z"
   },
   {
    "duration": 47,
    "start_time": "2022-03-14T06:02:23.891Z"
   },
   {
    "duration": 104,
    "start_time": "2022-03-14T06:02:23.940Z"
   },
   {
    "duration": 115,
    "start_time": "2022-03-14T06:02:24.047Z"
   },
   {
    "duration": 59,
    "start_time": "2022-03-14T06:02:24.164Z"
   },
   {
    "duration": 8,
    "start_time": "2022-03-14T06:02:24.226Z"
   },
   {
    "duration": 430,
    "start_time": "2022-03-14T06:02:24.236Z"
   },
   {
    "duration": 24,
    "start_time": "2022-03-14T06:02:24.669Z"
   },
   {
    "duration": 8,
    "start_time": "2022-03-14T06:02:24.696Z"
   },
   {
    "duration": 24,
    "start_time": "2022-03-14T06:02:24.706Z"
   },
   {
    "duration": 31,
    "start_time": "2022-03-14T06:02:24.732Z"
   },
   {
    "duration": 815,
    "start_time": "2022-03-14T06:05:37.985Z"
   },
   {
    "duration": 22,
    "start_time": "2022-03-14T06:05:38.803Z"
   },
   {
    "duration": 527,
    "start_time": "2022-03-14T06:05:38.831Z"
   },
   {
    "duration": 310,
    "start_time": "2022-03-14T06:05:39.360Z"
   },
   {
    "duration": 78,
    "start_time": "2022-03-14T06:05:39.672Z"
   },
   {
    "duration": 12,
    "start_time": "2022-03-14T06:05:39.752Z"
   },
   {
    "duration": 33,
    "start_time": "2022-03-14T06:05:39.766Z"
   },
   {
    "duration": 25,
    "start_time": "2022-03-14T06:05:39.804Z"
   },
   {
    "duration": 77,
    "start_time": "2022-03-14T06:05:39.833Z"
   },
   {
    "duration": 96,
    "start_time": "2022-03-14T06:05:39.913Z"
   },
   {
    "duration": 127,
    "start_time": "2022-03-14T06:05:40.012Z"
   },
   {
    "duration": 70,
    "start_time": "2022-03-14T06:05:40.142Z"
   },
   {
    "duration": 19,
    "start_time": "2022-03-14T06:05:40.215Z"
   },
   {
    "duration": 428,
    "start_time": "2022-03-14T06:05:40.237Z"
   },
   {
    "duration": 26,
    "start_time": "2022-03-14T06:05:40.669Z"
   },
   {
    "duration": 11,
    "start_time": "2022-03-14T06:05:40.697Z"
   },
   {
    "duration": 19,
    "start_time": "2022-03-14T06:05:40.711Z"
   },
   {
    "duration": 24,
    "start_time": "2022-03-14T06:05:40.733Z"
   }
  ],
  "kernelspec": {
   "display_name": "Python 3 (ipykernel)",
   "language": "python",
   "name": "python3"
  },
  "language_info": {
   "codemirror_mode": {
    "name": "ipython",
    "version": 3
   },
   "file_extension": ".py",
   "mimetype": "text/x-python",
   "name": "python",
   "nbconvert_exporter": "python",
   "pygments_lexer": "ipython3",
   "version": "3.9.7"
  },
  "toc": {
   "base_numbering": 1,
   "nav_menu": {},
   "number_sections": true,
   "sideBar": true,
   "skip_h1_title": true,
   "title_cell": "Table of Contents",
   "title_sidebar": "Contents",
   "toc_cell": false,
   "toc_position": {},
   "toc_section_display": true,
   "toc_window_display": true
  }
 },
 "nbformat": 4,
 "nbformat_minor": 5
}
